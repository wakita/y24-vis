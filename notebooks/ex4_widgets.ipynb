{
 "cells": [
  {
   "cell_type": "markdown",
   "metadata": {},
   "source": [
    "# About\n",
    "\n",
    "This notebook was created from [a tutorial on `ipywidgets`](https://blog.amedama.jp/entry/ipywidgets-jupyter-ui) written in Japanese.  日本人の学生は原文を読んだほうがいいかもしれません。"
   ]
  },
  {
   "cell_type": "markdown",
   "metadata": {},
   "source": [
    "Typical user interface for Plotly-based visualization is built using its sister technology called `Dash` but it is a bit complex system.  Therefore instead of diving into `Dash`, we use here simpler `ipywidgets` library.\n",
    "\n",
    "The `ipywidgets` offers various tools to add simple UI to Jupyter notebook.  If this tool is not found on the virtual environment, it can be installed using `pip` with `pip install ipywidgets`.\n"
   ]
  },
  {
   "cell_type": "markdown",
   "metadata": {},
   "source": [
    "# A simple example: Button"
   ]
  },
  {
   "cell_type": "markdown",
   "metadata": {},
   "source": [
    "UI stands for **user interface**.  A **UI element** is a basic component of UI.  UI elements are sometimes called **widgets**.\n",
    "\n",
    "The following example uses two widgets `widgets.Button` and `widgets.Output`.  The former is a button control and the other is a text buffer used to present the output for the use of the button.  The `description='Click me'` parameter sets the button's label.\n",
    "\n",
    "**Button Callback function**: In response to button click, the function `on_click_callback` is called. The `with output: ...` block sets the current output context to the output widget.  The output generated within this block is directed to the output widget. Functions that response to the use of UI elements are called *callback functions* or simply *callbacks*.\n",
    "\n",
    "The `on_click_callback` is bound to the button with `button.on_click(on_click_callback)`.  This statement assigns the `on_click_callback` function to serve as a click handler for the `button`.\n",
    "\n",
    "Finaly, the `button` and `output` are displayed with `display(button, output)`.  Try hitting the button to figure out how the code work."
   ]
  },
  {
   "cell_type": "code",
   "execution_count": 1,
   "metadata": {},
   "outputs": [
    {
     "data": {
      "application/vnd.jupyter.widget-view+json": {
       "model_id": "23333d4dadd142379eac4f6049cd6c19",
       "version_major": 2,
       "version_minor": 0
      },
      "text/plain": [
       "Button(description='Click me', style=ButtonStyle())"
      ]
     },
     "metadata": {},
     "output_type": "display_data"
    },
    {
     "data": {
      "application/vnd.jupyter.widget-view+json": {
       "model_id": "b294c84896f649539261fabdf3940406",
       "version_major": 2,
       "version_minor": 0
      },
      "text/plain": [
       "Output()"
      ]
     },
     "metadata": {},
     "output_type": "display_data"
    }
   ],
   "source": [
    "from datetime import datetime\n",
    "import ipywidgets as widgets\n",
    "from IPython.display import display, clear_output\n",
    "\n",
    "button = widgets.Button(description='Click me')\n",
    "output = widgets.Output(layour={'border': '1px solid black'})\n",
    "\n",
    "def on_click_callback(clicked_button):\n",
    "    with output:\n",
    "        output.clear_output()\n",
    "        print(f'Clicked at {datetime.now()}')\n",
    "\n",
    "button.on_click(on_click_callback)\n",
    "display(button, output)"
   ]
  },
  {
   "cell_type": "markdown",
   "metadata": {},
   "source": [
    "# Integrating multiple widgets\n",
    "\n",
    "The following let the user to customize the message with a selector tool named `selector`.  The user can select a fruit from three choices: `Apple`, `Banana`, and `Cherry`.  Then the action of the `button` reflects the choice made with the `selector`.\n",
    "\n",
    "The callback function is called when the `button` is hit and retrieves the current value of `selector` with `selector.value`, which is included in the output message."
   ]
  },
  {
   "cell_type": "code",
   "execution_count": 2,
   "metadata": {},
   "outputs": [
    {
     "data": {
      "application/vnd.jupyter.widget-view+json": {
       "model_id": "423c703c62b14a91a4e273d374cf9eba",
       "version_major": 2,
       "version_minor": 0
      },
      "text/plain": [
       "Select(options=('Apple', 'Banana', 'Cherry'), value='Apple')"
      ]
     },
     "metadata": {},
     "output_type": "display_data"
    },
    {
     "data": {
      "application/vnd.jupyter.widget-view+json": {
       "model_id": "b7b5283924cf48e4a75fdc041165ca0f",
       "version_major": 2,
       "version_minor": 0
      },
      "text/plain": [
       "Button(description='Click me', style=ButtonStyle())"
      ]
     },
     "metadata": {},
     "output_type": "display_data"
    },
    {
     "data": {
      "application/vnd.jupyter.widget-view+json": {
       "model_id": "8310cae24d664fc08b97602d0a8294b3",
       "version_major": 2,
       "version_minor": 0
      },
      "text/plain": [
       "Output()"
      ]
     },
     "metadata": {},
     "output_type": "display_data"
    }
   ],
   "source": [
    "button = widgets.Button(description='Click me')\n",
    "\n",
    "selector = widgets.Select(options=['Apple', 'Banana', 'Cherry'])\n",
    "output = widgets.Output(layour={'border': '1px solid black'})\n",
    "\n",
    "@output.capture()\n",
    "def on_click_callback(clicked_button):\n",
    "    print(f'Selected item: {selector.value}')\n",
    "\n",
    "button.on_click(on_click_callback)\n",
    "display(selector, button, output)"
   ]
  },
  {
   "cell_type": "markdown",
   "metadata": {},
   "source": [
    "# Packaging the UI build code in a function\n",
    "\n",
    "It is always undesireable to define global variables in Jupyter notebook.  Multiple definitions of the same variables may complicate interdepence between the code cells and sometime create an unresolvable cyclic dependencies.  The best practice is to reduce the number of global variable definitions.\n",
    "\n",
    "The following example packages all the UI code in a function named `show_widgets`.  The code has the same structure as previous examples but are placed inside a function definition."
   ]
  },
  {
   "cell_type": "code",
   "execution_count": 3,
   "metadata": {},
   "outputs": [
    {
     "data": {
      "application/vnd.jupyter.widget-view+json": {
       "model_id": "3ce0931497e34f26819225ca96b15042",
       "version_major": 2,
       "version_minor": 0
      },
      "text/plain": [
       "Select(options=('Apple', 'Banana', 'Cherry'), value='Apple')"
      ]
     },
     "metadata": {},
     "output_type": "display_data"
    },
    {
     "data": {
      "application/vnd.jupyter.widget-view+json": {
       "model_id": "edef9fb98bd14adca21d602ca32ea5f1",
       "version_major": 2,
       "version_minor": 0
      },
      "text/plain": [
       "Button(description='Click me', style=ButtonStyle())"
      ]
     },
     "metadata": {},
     "output_type": "display_data"
    },
    {
     "data": {
      "application/vnd.jupyter.widget-view+json": {
       "model_id": "c1a14f4a6c584bd2a6510660f39aae1e",
       "version_major": 2,
       "version_minor": 0
      },
      "text/plain": [
       "Output()"
      ]
     },
     "metadata": {},
     "output_type": "display_data"
    }
   ],
   "source": [
    "def show_widgets():\n",
    "    button = widgets.Button(description='Click me')\n",
    "    select = widgets.Select(options=['Apple', 'Banana', 'Cherry'])\n",
    "    output = widgets.Output(layour={'border': '1px solid black'})\n",
    "\n",
    "    @output.capture()\n",
    "    def on_click_callback(clicked_button) -> None:\n",
    "        print(f'Selected item: {select.value}')\n",
    "\n",
    "    button.on_click(on_click_callback)\n",
    "    display(select, button, output)\n",
    "\n",
    "# ウィジェットを表示する\n",
    "show_widgets()"
   ]
  },
  {
   "cell_type": "markdown",
   "metadata": {},
   "source": [
    "# Anchoring the box of UI elements in the global context\n",
    "\n",
    "Data structures created inside a function can be garbage collected if they become inaccessible from the global context.  It may be the case that `ipywidgets` implementation binds all the UI elements exposed to the notebook environment to the global context and protects them from automated memory reclamation with GC.  I am not quite sure because this is implementation dependent.  If you doubt about the implementation, you may let the UI construction function to return all the UI elements and save them in a global variable."
   ]
  },
  {
   "cell_type": "code",
   "execution_count": 4,
   "metadata": {},
   "outputs": [
    {
     "data": {
      "application/vnd.jupyter.widget-view+json": {
       "model_id": "85b0afdffb0442d19737fa87dfb7b58f",
       "version_major": 2,
       "version_minor": 0
      },
      "text/plain": [
       "VBox(children=(Button(description='Click me', style=ButtonStyle()), Select(options=('Apple', 'Banana', 'Cherry…"
      ]
     },
     "metadata": {},
     "output_type": "display_data"
    }
   ],
   "source": [
    "def show_widgets():\n",
    "    \"\"\"ウィジェットを設定する関数\"\"\"\n",
    "    button = widgets.Button(description='Click me')\n",
    "    select = widgets.Select(options=['Apple', 'Banana', 'Cherry'])\n",
    "    output = widgets.Output(layour={'border': '1px solid black'})\n",
    "\n",
    "    @output.capture()\n",
    "    def on_click_callback(clicked_button):\n",
    "        print(f'Selected item: {select.value}')\n",
    "\n",
    "    button.on_click(on_click_callback)\n",
    "    # 一連のウィジェットを VBox にまとめて返す\n",
    "    return widgets.VBox([button, select, output])\n",
    "\n",
    "# ウィジェットを表示する\n",
    "box = show_widgets()\n",
    "display(box)\n"
   ]
  },
  {
   "cell_type": "markdown",
   "metadata": {},
   "source": [
    "# Observing value changes of a UI element\n",
    "\n",
    "The `on_value_change` callback responds to operation on the selector and displays the update information.  The `on_value_change` callback is bound to the `selector` with the `observe` method of the `selector`: i.e., `selector.observe(on_value_change)`.\n",
    "\n",
    "The update information `change` is passed to the callback automatically.  Its a dictionary where its `old` and `new` fields contain the previous and the next values set to the `selector`."
   ]
  },
  {
   "cell_type": "code",
   "execution_count": 5,
   "metadata": {},
   "outputs": [
    {
     "data": {
      "application/vnd.jupyter.widget-view+json": {
       "model_id": "2b6fadca5f13476a90861e45f6c437b5",
       "version_major": 2,
       "version_minor": 0
      },
      "text/plain": [
       "Select(options=('Apple', 'Banana', 'Cherry'), value='Apple')"
      ]
     },
     "metadata": {},
     "output_type": "display_data"
    },
    {
     "data": {
      "application/vnd.jupyter.widget-view+json": {
       "model_id": "f7d5b81677c04838990c1119b792d6d2",
       "version_major": 2,
       "version_minor": 0
      },
      "text/plain": [
       "Output()"
      ]
     },
     "metadata": {},
     "output_type": "display_data"
    }
   ],
   "source": [
    "def show_widgets():\n",
    "    selector = widgets.Select(options=['Apple', 'Banana', 'Cherry'])\n",
    "    output = widgets.Output(layour={'border': '1px solid black'})\n",
    "\n",
    "    @output.capture()\n",
    "    def on_value_change(change):\n",
    "        # The callback responds to value changes only.  Other types of changes include 'options' and 'index'.\n",
    "        if change['name'] == 'value':\n",
    "            output.clear_output()\n",
    "            # print(change)  # Uncomment to see the structure of the change object\n",
    "            print(f'Value changed from {change[\"old\"]} to {change[\"new\"]}')\n",
    "\n",
    "    # Binding the callback to the selector\n",
    "    selector.observe(on_value_change)\n",
    "    display(selector, output)\n",
    "\n",
    "show_widgets()"
   ]
  },
  {
   "cell_type": "markdown",
   "metadata": {},
   "source": [
    "# Laying out the UI elements\n",
    "\n",
    "`ipywidgets` offers a few kinds of layout boxes: `Box`, `HBox` (horizontal box), `VBox` (vertical box), and `GridBox`.  A layout box is a container of multiple UI elements and it apatially arranges the UI elements according to the type of the layout box.  For example, an `HBox` arranges its UI elements horizontally, and `VBox` vertically.\n",
    "\n",
    "The following example, uses a `Box` layout that arranges its widgets (`slider`, `selector`, and `output`) horizontally.  When the `Box` is displayed, all of the UI elements it contains are also displayed.\n",
    "\n",
    "The `widgets.interactive` method binds the callback function to multiple UI elements.  In the following example, `widgets.interactive(on_value_change, select_value=selector, slider_value=slider)` sets, the `on_value_change` callback respond to operations on `selector` and `slider`.  Values of the two UI elements are passed to the callback through its two parameters, `select_value` and `slider_value`.\n"
   ]
  },
  {
   "cell_type": "code",
   "execution_count": 6,
   "metadata": {},
   "outputs": [
    {
     "data": {
      "application/vnd.jupyter.widget-view+json": {
       "model_id": "7d173daf08a143e0a3a185b9e4457e68",
       "version_major": 2,
       "version_minor": 0
      },
      "text/plain": [
       "Box(children=(IntSlider(value=50, description='slider:', min=1), Select(description='select_value', options=('…"
      ]
     },
     "metadata": {},
     "output_type": "display_data"
    },
    {
     "data": {
      "application/vnd.jupyter.widget-view+json": {
       "model_id": "db61e46479974c24bab3cee8777f8e84",
       "version_major": 2,
       "version_minor": 0
      },
      "text/plain": [
       "Output()"
      ]
     },
     "metadata": {},
     "output_type": "display_data"
    }
   ],
   "source": [
    "def show_widgets():\n",
    "    slider = widgets.IntSlider(value=50, min=1, max=100, description='slider:')\n",
    "    selector = widgets.Select(options=['Apple', 'Banana', 'Cherry'])\n",
    "    output = widgets.Output(layour={'border': '1px solid black'})\n",
    "\n",
    "    @output.capture(clear_output=True)\n",
    "    def on_value_change(select_value, slider_value):\n",
    "        print(f'value changed: {select_value=}, {slider_value=}')\n",
    "\n",
    "    widgets.interactive(on_value_change, select_value=selector, slider_value=slider)\n",
    "\n",
    "    box = widgets.Box([slider, selector])\n",
    "    display(box, output)\n",
    "    return box\n",
    "\n",
    "box = show_widgets()"
   ]
  },
  {
   "cell_type": "code",
   "execution_count": 7,
   "metadata": {},
   "outputs": [
    {
     "data": {
      "application/vnd.jupyter.widget-view+json": {
       "model_id": "a8892421026c4d51bfd35947661be8ba",
       "version_major": 2,
       "version_minor": 0
      },
      "text/plain": [
       "GridBox(children=(Button(description='0', style=ButtonStyle()), Button(description='1', style=ButtonStyle()), …"
      ]
     },
     "metadata": {},
     "output_type": "display_data"
    }
   ],
   "source": [
    "def show_widgets():\n",
    "    buttons = [widgets.Button(description=str(i)) for i in range(8)]\n",
    "    # グリッドレイアウト\n",
    "    grid_box = widgets.GridBox(buttons,\n",
    "                               layout=widgets.Layout(grid_template_columns=\"repeat(3, 100px)\"))\n",
    "    \n",
    "    def on_click_callback(button):\n",
    "        print(button.description)\n",
    "\n",
    "    for b in buttons: b.on_click(on_click_callback)\n",
    "        \n",
    "    display(grid_box)\n",
    "\n",
    "show_widgets()"
   ]
  },
  {
   "cell_type": "code",
   "execution_count": 8,
   "metadata": {},
   "outputs": [
    {
     "data": {
      "application/vnd.jupyter.widget-view+json": {
       "model_id": "9fd0c4b6d26c416baa78367cd7106d0d",
       "version_major": 2,
       "version_minor": 0
      },
      "text/plain": [
       "GridBox(children=(Button(description='0', style=ButtonStyle()), Button(description='1', style=ButtonStyle()), …"
      ]
     },
     "metadata": {},
     "output_type": "display_data"
    }
   ],
   "source": [
    "def show_widgets():\n",
    "    labels = [widgets.Button(description=str(i)) for i in range(8)]\n",
    "    # グリッドレイアウト\n",
    "    grid_box = widgets.GridBox(labels,\n",
    "                               layout=widgets.Layout(grid_template_columns=\"repeat(3, 100px)\"))\n",
    "    display(grid_box)\n",
    "\n",
    "show_widgets()"
   ]
  },
  {
   "cell_type": "code",
   "execution_count": 9,
   "metadata": {},
   "outputs": [
    {
     "data": {
      "application/vnd.jupyter.widget-view+json": {
       "model_id": "123d4c205c10423aa351ebb3b44603ab",
       "version_major": 2,
       "version_minor": 0
      },
      "text/plain": [
       "Tab(children=(Label(value='This is tab 0'), Label(value='This is tab 1'), Label(value='This is tab 2'), Label(…"
      ]
     },
     "metadata": {},
     "output_type": "display_data"
    }
   ],
   "source": [
    "def show_widgets(num_of_tabs=5):\n",
    "    # タブ毎のウィジェット\n",
    "    contents = [widgets.Label(f'This is tab {i}') for i in range(num_of_tabs)] \n",
    "    tab = widgets.Tab(children=contents)\n",
    "    # タブのタイトルを設定する\n",
    "    for i in range(num_of_tabs):\n",
    "        tab.set_title(i, f'tab {i}')\n",
    "    display(tab)\n",
    "\n",
    "show_widgets()"
   ]
  },
  {
   "cell_type": "code",
   "execution_count": 11,
   "metadata": {},
   "outputs": [
    {
     "data": {
      "application/vnd.jupyter.widget-view+json": {
       "model_id": "8ed75813652a47a6a63fcabef5b15687",
       "version_major": 2,
       "version_minor": 0
      },
      "text/plain": [
       "Text(value='')"
      ]
     },
     "metadata": {},
     "output_type": "display_data"
    },
    {
     "data": {
      "application/vnd.jupyter.widget-view+json": {
       "model_id": "836f2caf6daf4d199eb9e888bcb5d980",
       "version_major": 2,
       "version_minor": 0
      },
      "text/plain": [
       "Button(description='Add', style=ButtonStyle())"
      ]
     },
     "metadata": {},
     "output_type": "display_data"
    },
    {
     "data": {
      "application/vnd.jupyter.widget-view+json": {
       "model_id": "a4c21c78aae64e02a42afaf5b63bd5fa",
       "version_major": 2,
       "version_minor": 0
      },
      "text/plain": [
       "Select(options=(), value=None)"
      ]
     },
     "metadata": {},
     "output_type": "display_data"
    }
   ],
   "source": [
    "def show_widgets():\n",
    "    text = widgets.Text()\n",
    "    select = widgets.Select(options=[])\n",
    "    button = widgets.Button(description='Add')\n",
    "\n",
    "    def on_click_callback(b):\n",
    "        # テキストの入力を選択肢として追加する\n",
    "        select.options = list(select.options) + [text.value]\n",
    "\n",
    "    button.on_click(on_click_callback)\n",
    "    display(text, button, select)\n",
    "\n",
    "show_widgets()"
   ]
  },
  {
   "cell_type": "code",
   "execution_count": 12,
   "metadata": {},
   "outputs": [
    {
     "data": {
      "application/vnd.jupyter.widget-view+json": {
       "model_id": "999449cd1a5b455b9c366bd6df0416ca",
       "version_major": 2,
       "version_minor": 0
      },
      "text/plain": [
       "Play(value=50, description='play:', interval=500, min=1)"
      ]
     },
     "metadata": {},
     "output_type": "display_data"
    },
    {
     "data": {
      "application/vnd.jupyter.widget-view+json": {
       "model_id": "24f1ae3099954e85a832ce3af19240fb",
       "version_major": 2,
       "version_minor": 0
      },
      "text/plain": [
       "IntSlider(value=50, description='slider:', min=1)"
      ]
     },
     "metadata": {},
     "output_type": "display_data"
    },
    {
     "data": {
      "application/vnd.jupyter.widget-view+json": {
       "model_id": "b80dc8730af2463d84f34ce442ecb936",
       "version_major": 2,
       "version_minor": 0
      },
      "text/plain": [
       "Output()"
      ]
     },
     "metadata": {},
     "output_type": "display_data"
    }
   ],
   "source": [
    "def show_widgets():\n",
    "    # Animation control\n",
    "    play = widgets.Play(\n",
    "        value=50,\n",
    "        min=1,\n",
    "        max=100,\n",
    "        step=1,\n",
    "        interval=500,  # 更新間隔 (ミリ秒)\n",
    "        description=\"play:\",\n",
    "    )\n",
    "    slider = widgets.IntSlider(value=50, min=1, max=100, description='slider:')\n",
    "    output = widgets.Output(layour={'border': '1px solid black'})\n",
    "\n",
    "    # ウィジェットの値を連動させる\n",
    "    widgets.jslink((play, 'value'), (slider, 'value'))\n",
    "\n",
    "    @output.capture(clear_output=True)\n",
    "    def on_value_change(slider_value):\n",
    "        print(f'value changed: {slider_value=}')\n",
    "\n",
    "    widgets.interactive(on_value_change, slider_value=slider)\n",
    "    display(play, slider, output)\n",
    "\n",
    "show_widgets()"
   ]
  },
  {
   "cell_type": "code",
   "execution_count": null,
   "metadata": {},
   "outputs": [],
   "source": []
  }
 ],
 "metadata": {
  "kernelspec": {
   "display_name": "vis23",
   "language": "python",
   "name": "python3"
  },
  "language_info": {
   "codemirror_mode": {
    "name": "ipython",
    "version": 3
   },
   "file_extension": ".py",
   "mimetype": "text/x-python",
   "name": "python",
   "nbconvert_exporter": "python",
   "pygments_lexer": "ipython3",
   "version": "3.11.9"
  }
 },
 "nbformat": 4,
 "nbformat_minor": 2
}
