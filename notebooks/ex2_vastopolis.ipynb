{
  "cells": [
    {
      "cell_type": "code",
      "execution_count": 2,
      "metadata": {
        "id": "EQMbo0j9UI_y"
      },
      "outputs": [],
      "source": [
        "import re\n",
        "\n",
        "import pandas as pd\n",
        "pd.options.display.max_rows = 6\n",
        "pd.set_option('display.precision', 2)\n",
        "\n",
        "from IPython.display import display, Markdown\n",
        "\n",
        "import plotly.express as px\n",
        "import plotly.io as pio\n",
        "pio.templates.default = 'plotly_white'"
      ]
    },
    {
      "cell_type": "code",
      "execution_count": 3,
      "metadata": {
        "id": "r4F6WyRvOG7-"
      },
      "outputs": [
        {
          "data": {
            "text/html": [
              "<div>\n",
              "<style scoped>\n",
              "    .dataframe tbody tr th:only-of-type {\n",
              "        vertical-align: middle;\n",
              "    }\n",
              "\n",
              "    .dataframe tbody tr th {\n",
              "        vertical-align: top;\n",
              "    }\n",
              "\n",
              "    .dataframe thead th {\n",
              "        text-align: right;\n",
              "    }\n",
              "</style>\n",
              "<table border=\"1\" class=\"dataframe\">\n",
              "  <thead>\n",
              "    <tr style=\"text-align: right;\">\n",
              "      <th></th>\n",
              "      <th>ID</th>\n",
              "      <th>Created_at</th>\n",
              "      <th>text</th>\n",
              "      <th>latitude</th>\n",
              "      <th>longitude</th>\n",
              "    </tr>\n",
              "    <tr>\n",
              "      <th>Created_at</th>\n",
              "      <th></th>\n",
              "      <th></th>\n",
              "      <th></th>\n",
              "      <th></th>\n",
              "      <th></th>\n",
              "    </tr>\n",
              "  </thead>\n",
              "  <tbody>\n",
              "    <tr>\n",
              "      <th>2011-04-30 00:00:00</th>\n",
              "      <td>3779</td>\n",
              "      <td>2011-04-30 00:00:00</td>\n",
              "      <td>#dontyoujusthateitwhen people touch your hair!...</td>\n",
              "      <td>42.18</td>\n",
              "      <td>93.54</td>\n",
              "    </tr>\n",
              "    <tr>\n",
              "      <th>2011-04-30 00:00:00</th>\n",
              "      <td>4656</td>\n",
              "      <td>2011-04-30 00:00:00</td>\n",
              "      <td>Alle kleren van me ouder uit de klerenkast hal...</td>\n",
              "      <td>42.29</td>\n",
              "      <td>93.51</td>\n",
              "    </tr>\n",
              "    <tr>\n",
              "      <th>2011-04-30 00:00:00</th>\n",
              "      <td>20692</td>\n",
              "      <td>2011-04-30 00:00:00</td>\n",
              "      <td>Normally I'd be excited to go play 18 on a sat...</td>\n",
              "      <td>42.17</td>\n",
              "      <td>93.23</td>\n",
              "    </tr>\n",
              "    <tr>\n",
              "      <th>...</th>\n",
              "      <td>...</td>\n",
              "      <td>...</td>\n",
              "      <td>...</td>\n",
              "      <td>...</td>\n",
              "      <td>...</td>\n",
              "    </tr>\n",
              "    <tr>\n",
              "      <th>2011-05-20 23:59:00</th>\n",
              "      <td>168923</td>\n",
              "      <td>2011-05-20 23:59:00</td>\n",
              "      <td>Is just worn out</td>\n",
              "      <td>42.25</td>\n",
              "      <td>93.31</td>\n",
              "    </tr>\n",
              "    <tr>\n",
              "      <th>2011-05-20 23:59:00</th>\n",
              "      <td>171438</td>\n",
              "      <td>2011-05-20 23:59:00</td>\n",
              "      <td>the whole day has just been terrible I have co...</td>\n",
              "      <td>42.23</td>\n",
              "      <td>93.29</td>\n",
              "    </tr>\n",
              "    <tr>\n",
              "      <th>2011-05-20 23:59:00</th>\n",
              "      <td>172464</td>\n",
              "      <td>2011-05-20 23:59:00</td>\n",
              "      <td>this fever is making it tough to have a life a...</td>\n",
              "      <td>42.25</td>\n",
              "      <td>93.42</td>\n",
              "    </tr>\n",
              "  </tbody>\n",
              "</table>\n",
              "<p>1022886 rows × 5 columns</p>\n",
              "</div>"
            ],
            "text/plain": [
              "                         ID          Created_at  \\\n",
              "Created_at                                        \n",
              "2011-04-30 00:00:00    3779 2011-04-30 00:00:00   \n",
              "2011-04-30 00:00:00    4656 2011-04-30 00:00:00   \n",
              "2011-04-30 00:00:00   20692 2011-04-30 00:00:00   \n",
              "...                     ...                 ...   \n",
              "2011-05-20 23:59:00  168923 2011-05-20 23:59:00   \n",
              "2011-05-20 23:59:00  171438 2011-05-20 23:59:00   \n",
              "2011-05-20 23:59:00  172464 2011-05-20 23:59:00   \n",
              "\n",
              "                                                                  text  \\\n",
              "Created_at                                                               \n",
              "2011-04-30 00:00:00  #dontyoujusthateitwhen people touch your hair!...   \n",
              "2011-04-30 00:00:00  Alle kleren van me ouder uit de klerenkast hal...   \n",
              "2011-04-30 00:00:00  Normally I'd be excited to go play 18 on a sat...   \n",
              "...                                                                ...   \n",
              "2011-05-20 23:59:00                                   Is just worn out   \n",
              "2011-05-20 23:59:00  the whole day has just been terrible I have co...   \n",
              "2011-05-20 23:59:00  this fever is making it tough to have a life a...   \n",
              "\n",
              "                     latitude  longitude  \n",
              "Created_at                                \n",
              "2011-04-30 00:00:00     42.18      93.54  \n",
              "2011-04-30 00:00:00     42.29      93.51  \n",
              "2011-04-30 00:00:00     42.17      93.23  \n",
              "...                       ...        ...  \n",
              "2011-05-20 23:59:00     42.25      93.31  \n",
              "2011-05-20 23:59:00     42.23      93.29  \n",
              "2011-05-20 23:59:00     42.25      93.42  \n",
              "\n",
              "[1022886 rows x 5 columns]"
            ]
          },
          "execution_count": 3,
          "metadata": {},
          "output_type": "execute_result"
        }
      ],
      "source": [
        "try:\n",
        "    pd.read_csv('data/vast challenge 2011/Microblogs.csv')\n",
        "except FileNotFoundError:\n",
        "    VASTOPOLIS_URL = 'https://drive.google.com/file/d/1Y5xWPRKk8D_TNYmZ0ny4cQ83shGM5YqI/view?usp=sharing'\n",
        "    VASTOPOLIS_URL = 'https://drive.usercontent.google.com/download?id={}&export=download&authuser=0&confirm=t'.format(VASTOPOLIS_URL.split('/')[-2])\n",
        "\n",
        "    Messages = pd.read_csv(VASTOPOLIS_URL, encoding='latin', on_bad_lines='skip')\n",
        "\n",
        "Messages.Created_at = pd.to_datetime(Messages.Created_at, format='%m/%d/%Y %H:%M', errors='coerce')\n",
        "\n",
        "Messages.dropna(inplace=True)  # Created_at でエラーを生じるデータを捨てる\n",
        "Messages.sort_values(by=['Created_at', 'ID'], inplace=True)\n",
        "\n",
        "Messages[['latitude', 'longitude']] = Messages.Location.str.split(' ', n=1, expand=True).astype('float')\n",
        "Messages.drop('Location', axis='columns', inplace=True)\n",
        "\n",
        "# Indexing the messages by the date/time of creation\n",
        "Messages.index = Messages.Created_at\n",
        "\n",
        "Messages"
      ]
    },
    {
      "cell_type": "markdown",
      "metadata": {
        "id": "yLIuMSlXWkYe"
      },
      "source": [
        "# Histogram of reported symptoms"
      ]
    },
    {
      "cell_type": "code",
      "execution_count": 5,
      "metadata": {
        "id": "KMBJwHW1QHOM"
      },
      "outputs": [],
      "source": [
        "Symptoms = set('fever chill sweat ache pain fatigue cough breath nausea vomit diarrhoea enlarged lymph'.split(' '))\n",
        "hist = {}\n",
        "for symptom in Symptoms:\n",
        "    hist[symptom] = 0\n",
        "\n",
        "for sentence in Messages.text:\n",
        "    if pd.isna(sentence): continue\n",
        "    for symptom in Symptoms:\n",
        "        if sentence.find(symptom) > 0: hist[symptom] = hist[symptom] + 1\n",
        "\n",
        "histogram = dict(sorted(list(hist.items()), key=lambda p: p[1], reverse=True))"
      ]
    },
    {
      "cell_type": "code",
      "execution_count": 94,
      "metadata": {
        "id": "btZAd1sfUUgF"
      },
      "outputs": [
        {
          "name": "stdout",
          "output_type": "stream",
          "text": [
            "{'chill': 12237, 'ache': 10366, 'fever': 7796, 'breath': 6744, 'pain': 5667, 'sweat': 4260, 'cough': 3445, 'fatigue': 3430, 'nausea': 822, 'vomit': 648, 'lymph': 9, 'diarrhoea': 7, 'enlarged': 4}\n"
          ]
        },
        {
          "data": {
            "application/vnd.plotly.v1+json": {
              "config": {
                "plotlyServerURL": "https://plot.ly"
              },
              "data": [
                {
                  "alignmentgroup": "True",
                  "hovertemplate": "x=%{x}<br>y=%{y}<extra></extra>",
                  "legendgroup": "",
                  "marker": {
                    "color": "#636efa",
                    "pattern": {
                      "shape": ""
                    }
                  },
                  "name": "",
                  "offsetgroup": "",
                  "orientation": "v",
                  "showlegend": false,
                  "textposition": "auto",
                  "type": "bar",
                  "x": [
                    "chill",
                    "ache",
                    "fever",
                    "breath",
                    "pain",
                    "sweat",
                    "cough",
                    "fatigue",
                    "nausea",
                    "vomit",
                    "lymph",
                    "diarrhoea",
                    "enlarged"
                  ],
                  "xaxis": "x",
                  "y": [
                    12237,
                    10366,
                    7796,
                    6744,
                    5667,
                    4260,
                    3445,
                    3430,
                    822,
                    648,
                    9,
                    7,
                    4
                  ],
                  "yaxis": "y"
                }
              ],
              "layout": {
                "barmode": "relative",
                "legend": {
                  "tracegroupgap": 0
                },
                "margin": {
                  "t": 60
                },
                "template": {
                  "data": {
                    "bar": [
                      {
                        "error_x": {
                          "color": "#2a3f5f"
                        },
                        "error_y": {
                          "color": "#2a3f5f"
                        },
                        "marker": {
                          "line": {
                            "color": "#E5ECF6",
                            "width": 0.5
                          },
                          "pattern": {
                            "fillmode": "overlay",
                            "size": 10,
                            "solidity": 0.2
                          }
                        },
                        "type": "bar"
                      }
                    ],
                    "barpolar": [
                      {
                        "marker": {
                          "line": {
                            "color": "#E5ECF6",
                            "width": 0.5
                          },
                          "pattern": {
                            "fillmode": "overlay",
                            "size": 10,
                            "solidity": 0.2
                          }
                        },
                        "type": "barpolar"
                      }
                    ],
                    "carpet": [
                      {
                        "aaxis": {
                          "endlinecolor": "#2a3f5f",
                          "gridcolor": "white",
                          "linecolor": "white",
                          "minorgridcolor": "white",
                          "startlinecolor": "#2a3f5f"
                        },
                        "baxis": {
                          "endlinecolor": "#2a3f5f",
                          "gridcolor": "white",
                          "linecolor": "white",
                          "minorgridcolor": "white",
                          "startlinecolor": "#2a3f5f"
                        },
                        "type": "carpet"
                      }
                    ],
                    "choropleth": [
                      {
                        "colorbar": {
                          "outlinewidth": 0,
                          "ticks": ""
                        },
                        "type": "choropleth"
                      }
                    ],
                    "contour": [
                      {
                        "colorbar": {
                          "outlinewidth": 0,
                          "ticks": ""
                        },
                        "colorscale": [
                          [
                            0,
                            "#0d0887"
                          ],
                          [
                            0.1111111111111111,
                            "#46039f"
                          ],
                          [
                            0.2222222222222222,
                            "#7201a8"
                          ],
                          [
                            0.3333333333333333,
                            "#9c179e"
                          ],
                          [
                            0.4444444444444444,
                            "#bd3786"
                          ],
                          [
                            0.5555555555555556,
                            "#d8576b"
                          ],
                          [
                            0.6666666666666666,
                            "#ed7953"
                          ],
                          [
                            0.7777777777777778,
                            "#fb9f3a"
                          ],
                          [
                            0.8888888888888888,
                            "#fdca26"
                          ],
                          [
                            1,
                            "#f0f921"
                          ]
                        ],
                        "type": "contour"
                      }
                    ],
                    "contourcarpet": [
                      {
                        "colorbar": {
                          "outlinewidth": 0,
                          "ticks": ""
                        },
                        "type": "contourcarpet"
                      }
                    ],
                    "heatmap": [
                      {
                        "colorbar": {
                          "outlinewidth": 0,
                          "ticks": ""
                        },
                        "colorscale": [
                          [
                            0,
                            "#0d0887"
                          ],
                          [
                            0.1111111111111111,
                            "#46039f"
                          ],
                          [
                            0.2222222222222222,
                            "#7201a8"
                          ],
                          [
                            0.3333333333333333,
                            "#9c179e"
                          ],
                          [
                            0.4444444444444444,
                            "#bd3786"
                          ],
                          [
                            0.5555555555555556,
                            "#d8576b"
                          ],
                          [
                            0.6666666666666666,
                            "#ed7953"
                          ],
                          [
                            0.7777777777777778,
                            "#fb9f3a"
                          ],
                          [
                            0.8888888888888888,
                            "#fdca26"
                          ],
                          [
                            1,
                            "#f0f921"
                          ]
                        ],
                        "type": "heatmap"
                      }
                    ],
                    "heatmapgl": [
                      {
                        "colorbar": {
                          "outlinewidth": 0,
                          "ticks": ""
                        },
                        "colorscale": [
                          [
                            0,
                            "#0d0887"
                          ],
                          [
                            0.1111111111111111,
                            "#46039f"
                          ],
                          [
                            0.2222222222222222,
                            "#7201a8"
                          ],
                          [
                            0.3333333333333333,
                            "#9c179e"
                          ],
                          [
                            0.4444444444444444,
                            "#bd3786"
                          ],
                          [
                            0.5555555555555556,
                            "#d8576b"
                          ],
                          [
                            0.6666666666666666,
                            "#ed7953"
                          ],
                          [
                            0.7777777777777778,
                            "#fb9f3a"
                          ],
                          [
                            0.8888888888888888,
                            "#fdca26"
                          ],
                          [
                            1,
                            "#f0f921"
                          ]
                        ],
                        "type": "heatmapgl"
                      }
                    ],
                    "histogram": [
                      {
                        "marker": {
                          "pattern": {
                            "fillmode": "overlay",
                            "size": 10,
                            "solidity": 0.2
                          }
                        },
                        "type": "histogram"
                      }
                    ],
                    "histogram2d": [
                      {
                        "colorbar": {
                          "outlinewidth": 0,
                          "ticks": ""
                        },
                        "colorscale": [
                          [
                            0,
                            "#0d0887"
                          ],
                          [
                            0.1111111111111111,
                            "#46039f"
                          ],
                          [
                            0.2222222222222222,
                            "#7201a8"
                          ],
                          [
                            0.3333333333333333,
                            "#9c179e"
                          ],
                          [
                            0.4444444444444444,
                            "#bd3786"
                          ],
                          [
                            0.5555555555555556,
                            "#d8576b"
                          ],
                          [
                            0.6666666666666666,
                            "#ed7953"
                          ],
                          [
                            0.7777777777777778,
                            "#fb9f3a"
                          ],
                          [
                            0.8888888888888888,
                            "#fdca26"
                          ],
                          [
                            1,
                            "#f0f921"
                          ]
                        ],
                        "type": "histogram2d"
                      }
                    ],
                    "histogram2dcontour": [
                      {
                        "colorbar": {
                          "outlinewidth": 0,
                          "ticks": ""
                        },
                        "colorscale": [
                          [
                            0,
                            "#0d0887"
                          ],
                          [
                            0.1111111111111111,
                            "#46039f"
                          ],
                          [
                            0.2222222222222222,
                            "#7201a8"
                          ],
                          [
                            0.3333333333333333,
                            "#9c179e"
                          ],
                          [
                            0.4444444444444444,
                            "#bd3786"
                          ],
                          [
                            0.5555555555555556,
                            "#d8576b"
                          ],
                          [
                            0.6666666666666666,
                            "#ed7953"
                          ],
                          [
                            0.7777777777777778,
                            "#fb9f3a"
                          ],
                          [
                            0.8888888888888888,
                            "#fdca26"
                          ],
                          [
                            1,
                            "#f0f921"
                          ]
                        ],
                        "type": "histogram2dcontour"
                      }
                    ],
                    "mesh3d": [
                      {
                        "colorbar": {
                          "outlinewidth": 0,
                          "ticks": ""
                        },
                        "type": "mesh3d"
                      }
                    ],
                    "parcoords": [
                      {
                        "line": {
                          "colorbar": {
                            "outlinewidth": 0,
                            "ticks": ""
                          }
                        },
                        "type": "parcoords"
                      }
                    ],
                    "pie": [
                      {
                        "automargin": true,
                        "type": "pie"
                      }
                    ],
                    "scatter": [
                      {
                        "fillpattern": {
                          "fillmode": "overlay",
                          "size": 10,
                          "solidity": 0.2
                        },
                        "type": "scatter"
                      }
                    ],
                    "scatter3d": [
                      {
                        "line": {
                          "colorbar": {
                            "outlinewidth": 0,
                            "ticks": ""
                          }
                        },
                        "marker": {
                          "colorbar": {
                            "outlinewidth": 0,
                            "ticks": ""
                          }
                        },
                        "type": "scatter3d"
                      }
                    ],
                    "scattercarpet": [
                      {
                        "marker": {
                          "colorbar": {
                            "outlinewidth": 0,
                            "ticks": ""
                          }
                        },
                        "type": "scattercarpet"
                      }
                    ],
                    "scattergeo": [
                      {
                        "marker": {
                          "colorbar": {
                            "outlinewidth": 0,
                            "ticks": ""
                          }
                        },
                        "type": "scattergeo"
                      }
                    ],
                    "scattergl": [
                      {
                        "marker": {
                          "colorbar": {
                            "outlinewidth": 0,
                            "ticks": ""
                          }
                        },
                        "type": "scattergl"
                      }
                    ],
                    "scattermapbox": [
                      {
                        "marker": {
                          "colorbar": {
                            "outlinewidth": 0,
                            "ticks": ""
                          }
                        },
                        "type": "scattermapbox"
                      }
                    ],
                    "scatterpolar": [
                      {
                        "marker": {
                          "colorbar": {
                            "outlinewidth": 0,
                            "ticks": ""
                          }
                        },
                        "type": "scatterpolar"
                      }
                    ],
                    "scatterpolargl": [
                      {
                        "marker": {
                          "colorbar": {
                            "outlinewidth": 0,
                            "ticks": ""
                          }
                        },
                        "type": "scatterpolargl"
                      }
                    ],
                    "scatterternary": [
                      {
                        "marker": {
                          "colorbar": {
                            "outlinewidth": 0,
                            "ticks": ""
                          }
                        },
                        "type": "scatterternary"
                      }
                    ],
                    "surface": [
                      {
                        "colorbar": {
                          "outlinewidth": 0,
                          "ticks": ""
                        },
                        "colorscale": [
                          [
                            0,
                            "#0d0887"
                          ],
                          [
                            0.1111111111111111,
                            "#46039f"
                          ],
                          [
                            0.2222222222222222,
                            "#7201a8"
                          ],
                          [
                            0.3333333333333333,
                            "#9c179e"
                          ],
                          [
                            0.4444444444444444,
                            "#bd3786"
                          ],
                          [
                            0.5555555555555556,
                            "#d8576b"
                          ],
                          [
                            0.6666666666666666,
                            "#ed7953"
                          ],
                          [
                            0.7777777777777778,
                            "#fb9f3a"
                          ],
                          [
                            0.8888888888888888,
                            "#fdca26"
                          ],
                          [
                            1,
                            "#f0f921"
                          ]
                        ],
                        "type": "surface"
                      }
                    ],
                    "table": [
                      {
                        "cells": {
                          "fill": {
                            "color": "#EBF0F8"
                          },
                          "line": {
                            "color": "white"
                          }
                        },
                        "header": {
                          "fill": {
                            "color": "#C8D4E3"
                          },
                          "line": {
                            "color": "white"
                          }
                        },
                        "type": "table"
                      }
                    ]
                  },
                  "layout": {
                    "annotationdefaults": {
                      "arrowcolor": "#2a3f5f",
                      "arrowhead": 0,
                      "arrowwidth": 1
                    },
                    "autotypenumbers": "strict",
                    "coloraxis": {
                      "colorbar": {
                        "outlinewidth": 0,
                        "ticks": ""
                      }
                    },
                    "colorscale": {
                      "diverging": [
                        [
                          0,
                          "#8e0152"
                        ],
                        [
                          0.1,
                          "#c51b7d"
                        ],
                        [
                          0.2,
                          "#de77ae"
                        ],
                        [
                          0.3,
                          "#f1b6da"
                        ],
                        [
                          0.4,
                          "#fde0ef"
                        ],
                        [
                          0.5,
                          "#f7f7f7"
                        ],
                        [
                          0.6,
                          "#e6f5d0"
                        ],
                        [
                          0.7,
                          "#b8e186"
                        ],
                        [
                          0.8,
                          "#7fbc41"
                        ],
                        [
                          0.9,
                          "#4d9221"
                        ],
                        [
                          1,
                          "#276419"
                        ]
                      ],
                      "sequential": [
                        [
                          0,
                          "#0d0887"
                        ],
                        [
                          0.1111111111111111,
                          "#46039f"
                        ],
                        [
                          0.2222222222222222,
                          "#7201a8"
                        ],
                        [
                          0.3333333333333333,
                          "#9c179e"
                        ],
                        [
                          0.4444444444444444,
                          "#bd3786"
                        ],
                        [
                          0.5555555555555556,
                          "#d8576b"
                        ],
                        [
                          0.6666666666666666,
                          "#ed7953"
                        ],
                        [
                          0.7777777777777778,
                          "#fb9f3a"
                        ],
                        [
                          0.8888888888888888,
                          "#fdca26"
                        ],
                        [
                          1,
                          "#f0f921"
                        ]
                      ],
                      "sequentialminus": [
                        [
                          0,
                          "#0d0887"
                        ],
                        [
                          0.1111111111111111,
                          "#46039f"
                        ],
                        [
                          0.2222222222222222,
                          "#7201a8"
                        ],
                        [
                          0.3333333333333333,
                          "#9c179e"
                        ],
                        [
                          0.4444444444444444,
                          "#bd3786"
                        ],
                        [
                          0.5555555555555556,
                          "#d8576b"
                        ],
                        [
                          0.6666666666666666,
                          "#ed7953"
                        ],
                        [
                          0.7777777777777778,
                          "#fb9f3a"
                        ],
                        [
                          0.8888888888888888,
                          "#fdca26"
                        ],
                        [
                          1,
                          "#f0f921"
                        ]
                      ]
                    },
                    "colorway": [
                      "#636efa",
                      "#EF553B",
                      "#00cc96",
                      "#ab63fa",
                      "#FFA15A",
                      "#19d3f3",
                      "#FF6692",
                      "#B6E880",
                      "#FF97FF",
                      "#FECB52"
                    ],
                    "font": {
                      "color": "#2a3f5f"
                    },
                    "geo": {
                      "bgcolor": "white",
                      "lakecolor": "white",
                      "landcolor": "#E5ECF6",
                      "showlakes": true,
                      "showland": true,
                      "subunitcolor": "white"
                    },
                    "hoverlabel": {
                      "align": "left"
                    },
                    "hovermode": "closest",
                    "mapbox": {
                      "style": "light"
                    },
                    "paper_bgcolor": "white",
                    "plot_bgcolor": "#E5ECF6",
                    "polar": {
                      "angularaxis": {
                        "gridcolor": "white",
                        "linecolor": "white",
                        "ticks": ""
                      },
                      "bgcolor": "#E5ECF6",
                      "radialaxis": {
                        "gridcolor": "white",
                        "linecolor": "white",
                        "ticks": ""
                      }
                    },
                    "scene": {
                      "xaxis": {
                        "backgroundcolor": "#E5ECF6",
                        "gridcolor": "white",
                        "gridwidth": 2,
                        "linecolor": "white",
                        "showbackground": true,
                        "ticks": "",
                        "zerolinecolor": "white"
                      },
                      "yaxis": {
                        "backgroundcolor": "#E5ECF6",
                        "gridcolor": "white",
                        "gridwidth": 2,
                        "linecolor": "white",
                        "showbackground": true,
                        "ticks": "",
                        "zerolinecolor": "white"
                      },
                      "zaxis": {
                        "backgroundcolor": "#E5ECF6",
                        "gridcolor": "white",
                        "gridwidth": 2,
                        "linecolor": "white",
                        "showbackground": true,
                        "ticks": "",
                        "zerolinecolor": "white"
                      }
                    },
                    "shapedefaults": {
                      "line": {
                        "color": "#2a3f5f"
                      }
                    },
                    "ternary": {
                      "aaxis": {
                        "gridcolor": "white",
                        "linecolor": "white",
                        "ticks": ""
                      },
                      "baxis": {
                        "gridcolor": "white",
                        "linecolor": "white",
                        "ticks": ""
                      },
                      "bgcolor": "#E5ECF6",
                      "caxis": {
                        "gridcolor": "white",
                        "linecolor": "white",
                        "ticks": ""
                      }
                    },
                    "title": {
                      "x": 0.05
                    },
                    "xaxis": {
                      "automargin": true,
                      "gridcolor": "white",
                      "linecolor": "white",
                      "ticks": "",
                      "title": {
                        "standoff": 15
                      },
                      "zerolinecolor": "white",
                      "zerolinewidth": 2
                    },
                    "yaxis": {
                      "automargin": true,
                      "gridcolor": "white",
                      "linecolor": "white",
                      "ticks": "",
                      "title": {
                        "standoff": 15
                      },
                      "zerolinecolor": "white",
                      "zerolinewidth": 2
                    }
                  }
                },
                "xaxis": {
                  "anchor": "y",
                  "domain": [
                    0,
                    1
                  ],
                  "title": {
                    "text": "x"
                  }
                },
                "yaxis": {
                  "anchor": "x",
                  "domain": [
                    0,
                    1
                  ],
                  "title": {
                    "text": "y"
                  }
                }
              }
            }
          },
          "metadata": {},
          "output_type": "display_data"
        }
      ],
      "source": [
        "print(histogram)\n",
        "px.bar(x=histogram.keys(), y=histogram.values())"
      ]
    },
    {
      "cell_type": "code",
      "execution_count": 7,
      "metadata": {
        "id": "-xfItFNyeQ6Z"
      },
      "outputs": [
        {
          "data": {
            "application/vnd.plotly.v1+json": {
              "config": {
                "plotlyServerURL": "https://plot.ly"
              },
              "data": [
                {
                  "alignmentgroup": "True",
                  "hovertemplate": "x=%{x}<br>y=%{y}<extra></extra>",
                  "legendgroup": "",
                  "marker": {
                    "color": "#636efa",
                    "pattern": {
                      "shape": ""
                    }
                  },
                  "name": "",
                  "offsetgroup": "",
                  "orientation": "v",
                  "showlegend": false,
                  "textposition": "auto",
                  "type": "bar",
                  "x": [
                    "chill",
                    "ache",
                    "fever",
                    "breath",
                    "pain",
                    "sweat",
                    "cough",
                    "fatigue",
                    "nausea",
                    "vomit",
                    "lymph",
                    "diarrhoea",
                    "enlarged"
                  ],
                  "xaxis": "x",
                  "y": [
                    12237,
                    10366,
                    7796,
                    6744,
                    5667,
                    4260,
                    3445,
                    3430,
                    822,
                    648,
                    9,
                    7,
                    4
                  ],
                  "yaxis": "y"
                }
              ],
              "layout": {
                "barmode": "relative",
                "legend": {
                  "tracegroupgap": 0
                },
                "margin": {
                  "t": 60
                },
                "template": {
                  "data": {
                    "bar": [
                      {
                        "error_x": {
                          "color": "#2a3f5f"
                        },
                        "error_y": {
                          "color": "#2a3f5f"
                        },
                        "marker": {
                          "line": {
                            "color": "#E5ECF6",
                            "width": 0.5
                          },
                          "pattern": {
                            "fillmode": "overlay",
                            "size": 10,
                            "solidity": 0.2
                          }
                        },
                        "type": "bar"
                      }
                    ],
                    "barpolar": [
                      {
                        "marker": {
                          "line": {
                            "color": "#E5ECF6",
                            "width": 0.5
                          },
                          "pattern": {
                            "fillmode": "overlay",
                            "size": 10,
                            "solidity": 0.2
                          }
                        },
                        "type": "barpolar"
                      }
                    ],
                    "carpet": [
                      {
                        "aaxis": {
                          "endlinecolor": "#2a3f5f",
                          "gridcolor": "white",
                          "linecolor": "white",
                          "minorgridcolor": "white",
                          "startlinecolor": "#2a3f5f"
                        },
                        "baxis": {
                          "endlinecolor": "#2a3f5f",
                          "gridcolor": "white",
                          "linecolor": "white",
                          "minorgridcolor": "white",
                          "startlinecolor": "#2a3f5f"
                        },
                        "type": "carpet"
                      }
                    ],
                    "choropleth": [
                      {
                        "colorbar": {
                          "outlinewidth": 0,
                          "ticks": ""
                        },
                        "type": "choropleth"
                      }
                    ],
                    "contour": [
                      {
                        "colorbar": {
                          "outlinewidth": 0,
                          "ticks": ""
                        },
                        "colorscale": [
                          [
                            0,
                            "#0d0887"
                          ],
                          [
                            0.1111111111111111,
                            "#46039f"
                          ],
                          [
                            0.2222222222222222,
                            "#7201a8"
                          ],
                          [
                            0.3333333333333333,
                            "#9c179e"
                          ],
                          [
                            0.4444444444444444,
                            "#bd3786"
                          ],
                          [
                            0.5555555555555556,
                            "#d8576b"
                          ],
                          [
                            0.6666666666666666,
                            "#ed7953"
                          ],
                          [
                            0.7777777777777778,
                            "#fb9f3a"
                          ],
                          [
                            0.8888888888888888,
                            "#fdca26"
                          ],
                          [
                            1,
                            "#f0f921"
                          ]
                        ],
                        "type": "contour"
                      }
                    ],
                    "contourcarpet": [
                      {
                        "colorbar": {
                          "outlinewidth": 0,
                          "ticks": ""
                        },
                        "type": "contourcarpet"
                      }
                    ],
                    "heatmap": [
                      {
                        "colorbar": {
                          "outlinewidth": 0,
                          "ticks": ""
                        },
                        "colorscale": [
                          [
                            0,
                            "#0d0887"
                          ],
                          [
                            0.1111111111111111,
                            "#46039f"
                          ],
                          [
                            0.2222222222222222,
                            "#7201a8"
                          ],
                          [
                            0.3333333333333333,
                            "#9c179e"
                          ],
                          [
                            0.4444444444444444,
                            "#bd3786"
                          ],
                          [
                            0.5555555555555556,
                            "#d8576b"
                          ],
                          [
                            0.6666666666666666,
                            "#ed7953"
                          ],
                          [
                            0.7777777777777778,
                            "#fb9f3a"
                          ],
                          [
                            0.8888888888888888,
                            "#fdca26"
                          ],
                          [
                            1,
                            "#f0f921"
                          ]
                        ],
                        "type": "heatmap"
                      }
                    ],
                    "heatmapgl": [
                      {
                        "colorbar": {
                          "outlinewidth": 0,
                          "ticks": ""
                        },
                        "colorscale": [
                          [
                            0,
                            "#0d0887"
                          ],
                          [
                            0.1111111111111111,
                            "#46039f"
                          ],
                          [
                            0.2222222222222222,
                            "#7201a8"
                          ],
                          [
                            0.3333333333333333,
                            "#9c179e"
                          ],
                          [
                            0.4444444444444444,
                            "#bd3786"
                          ],
                          [
                            0.5555555555555556,
                            "#d8576b"
                          ],
                          [
                            0.6666666666666666,
                            "#ed7953"
                          ],
                          [
                            0.7777777777777778,
                            "#fb9f3a"
                          ],
                          [
                            0.8888888888888888,
                            "#fdca26"
                          ],
                          [
                            1,
                            "#f0f921"
                          ]
                        ],
                        "type": "heatmapgl"
                      }
                    ],
                    "histogram": [
                      {
                        "marker": {
                          "pattern": {
                            "fillmode": "overlay",
                            "size": 10,
                            "solidity": 0.2
                          }
                        },
                        "type": "histogram"
                      }
                    ],
                    "histogram2d": [
                      {
                        "colorbar": {
                          "outlinewidth": 0,
                          "ticks": ""
                        },
                        "colorscale": [
                          [
                            0,
                            "#0d0887"
                          ],
                          [
                            0.1111111111111111,
                            "#46039f"
                          ],
                          [
                            0.2222222222222222,
                            "#7201a8"
                          ],
                          [
                            0.3333333333333333,
                            "#9c179e"
                          ],
                          [
                            0.4444444444444444,
                            "#bd3786"
                          ],
                          [
                            0.5555555555555556,
                            "#d8576b"
                          ],
                          [
                            0.6666666666666666,
                            "#ed7953"
                          ],
                          [
                            0.7777777777777778,
                            "#fb9f3a"
                          ],
                          [
                            0.8888888888888888,
                            "#fdca26"
                          ],
                          [
                            1,
                            "#f0f921"
                          ]
                        ],
                        "type": "histogram2d"
                      }
                    ],
                    "histogram2dcontour": [
                      {
                        "colorbar": {
                          "outlinewidth": 0,
                          "ticks": ""
                        },
                        "colorscale": [
                          [
                            0,
                            "#0d0887"
                          ],
                          [
                            0.1111111111111111,
                            "#46039f"
                          ],
                          [
                            0.2222222222222222,
                            "#7201a8"
                          ],
                          [
                            0.3333333333333333,
                            "#9c179e"
                          ],
                          [
                            0.4444444444444444,
                            "#bd3786"
                          ],
                          [
                            0.5555555555555556,
                            "#d8576b"
                          ],
                          [
                            0.6666666666666666,
                            "#ed7953"
                          ],
                          [
                            0.7777777777777778,
                            "#fb9f3a"
                          ],
                          [
                            0.8888888888888888,
                            "#fdca26"
                          ],
                          [
                            1,
                            "#f0f921"
                          ]
                        ],
                        "type": "histogram2dcontour"
                      }
                    ],
                    "mesh3d": [
                      {
                        "colorbar": {
                          "outlinewidth": 0,
                          "ticks": ""
                        },
                        "type": "mesh3d"
                      }
                    ],
                    "parcoords": [
                      {
                        "line": {
                          "colorbar": {
                            "outlinewidth": 0,
                            "ticks": ""
                          }
                        },
                        "type": "parcoords"
                      }
                    ],
                    "pie": [
                      {
                        "automargin": true,
                        "type": "pie"
                      }
                    ],
                    "scatter": [
                      {
                        "fillpattern": {
                          "fillmode": "overlay",
                          "size": 10,
                          "solidity": 0.2
                        },
                        "type": "scatter"
                      }
                    ],
                    "scatter3d": [
                      {
                        "line": {
                          "colorbar": {
                            "outlinewidth": 0,
                            "ticks": ""
                          }
                        },
                        "marker": {
                          "colorbar": {
                            "outlinewidth": 0,
                            "ticks": ""
                          }
                        },
                        "type": "scatter3d"
                      }
                    ],
                    "scattercarpet": [
                      {
                        "marker": {
                          "colorbar": {
                            "outlinewidth": 0,
                            "ticks": ""
                          }
                        },
                        "type": "scattercarpet"
                      }
                    ],
                    "scattergeo": [
                      {
                        "marker": {
                          "colorbar": {
                            "outlinewidth": 0,
                            "ticks": ""
                          }
                        },
                        "type": "scattergeo"
                      }
                    ],
                    "scattergl": [
                      {
                        "marker": {
                          "colorbar": {
                            "outlinewidth": 0,
                            "ticks": ""
                          }
                        },
                        "type": "scattergl"
                      }
                    ],
                    "scattermapbox": [
                      {
                        "marker": {
                          "colorbar": {
                            "outlinewidth": 0,
                            "ticks": ""
                          }
                        },
                        "type": "scattermapbox"
                      }
                    ],
                    "scatterpolar": [
                      {
                        "marker": {
                          "colorbar": {
                            "outlinewidth": 0,
                            "ticks": ""
                          }
                        },
                        "type": "scatterpolar"
                      }
                    ],
                    "scatterpolargl": [
                      {
                        "marker": {
                          "colorbar": {
                            "outlinewidth": 0,
                            "ticks": ""
                          }
                        },
                        "type": "scatterpolargl"
                      }
                    ],
                    "scatterternary": [
                      {
                        "marker": {
                          "colorbar": {
                            "outlinewidth": 0,
                            "ticks": ""
                          }
                        },
                        "type": "scatterternary"
                      }
                    ],
                    "surface": [
                      {
                        "colorbar": {
                          "outlinewidth": 0,
                          "ticks": ""
                        },
                        "colorscale": [
                          [
                            0,
                            "#0d0887"
                          ],
                          [
                            0.1111111111111111,
                            "#46039f"
                          ],
                          [
                            0.2222222222222222,
                            "#7201a8"
                          ],
                          [
                            0.3333333333333333,
                            "#9c179e"
                          ],
                          [
                            0.4444444444444444,
                            "#bd3786"
                          ],
                          [
                            0.5555555555555556,
                            "#d8576b"
                          ],
                          [
                            0.6666666666666666,
                            "#ed7953"
                          ],
                          [
                            0.7777777777777778,
                            "#fb9f3a"
                          ],
                          [
                            0.8888888888888888,
                            "#fdca26"
                          ],
                          [
                            1,
                            "#f0f921"
                          ]
                        ],
                        "type": "surface"
                      }
                    ],
                    "table": [
                      {
                        "cells": {
                          "fill": {
                            "color": "#EBF0F8"
                          },
                          "line": {
                            "color": "white"
                          }
                        },
                        "header": {
                          "fill": {
                            "color": "#C8D4E3"
                          },
                          "line": {
                            "color": "white"
                          }
                        },
                        "type": "table"
                      }
                    ]
                  },
                  "layout": {
                    "annotationdefaults": {
                      "arrowcolor": "#2a3f5f",
                      "arrowhead": 0,
                      "arrowwidth": 1
                    },
                    "autotypenumbers": "strict",
                    "coloraxis": {
                      "colorbar": {
                        "outlinewidth": 0,
                        "ticks": ""
                      }
                    },
                    "colorscale": {
                      "diverging": [
                        [
                          0,
                          "#8e0152"
                        ],
                        [
                          0.1,
                          "#c51b7d"
                        ],
                        [
                          0.2,
                          "#de77ae"
                        ],
                        [
                          0.3,
                          "#f1b6da"
                        ],
                        [
                          0.4,
                          "#fde0ef"
                        ],
                        [
                          0.5,
                          "#f7f7f7"
                        ],
                        [
                          0.6,
                          "#e6f5d0"
                        ],
                        [
                          0.7,
                          "#b8e186"
                        ],
                        [
                          0.8,
                          "#7fbc41"
                        ],
                        [
                          0.9,
                          "#4d9221"
                        ],
                        [
                          1,
                          "#276419"
                        ]
                      ],
                      "sequential": [
                        [
                          0,
                          "#0d0887"
                        ],
                        [
                          0.1111111111111111,
                          "#46039f"
                        ],
                        [
                          0.2222222222222222,
                          "#7201a8"
                        ],
                        [
                          0.3333333333333333,
                          "#9c179e"
                        ],
                        [
                          0.4444444444444444,
                          "#bd3786"
                        ],
                        [
                          0.5555555555555556,
                          "#d8576b"
                        ],
                        [
                          0.6666666666666666,
                          "#ed7953"
                        ],
                        [
                          0.7777777777777778,
                          "#fb9f3a"
                        ],
                        [
                          0.8888888888888888,
                          "#fdca26"
                        ],
                        [
                          1,
                          "#f0f921"
                        ]
                      ],
                      "sequentialminus": [
                        [
                          0,
                          "#0d0887"
                        ],
                        [
                          0.1111111111111111,
                          "#46039f"
                        ],
                        [
                          0.2222222222222222,
                          "#7201a8"
                        ],
                        [
                          0.3333333333333333,
                          "#9c179e"
                        ],
                        [
                          0.4444444444444444,
                          "#bd3786"
                        ],
                        [
                          0.5555555555555556,
                          "#d8576b"
                        ],
                        [
                          0.6666666666666666,
                          "#ed7953"
                        ],
                        [
                          0.7777777777777778,
                          "#fb9f3a"
                        ],
                        [
                          0.8888888888888888,
                          "#fdca26"
                        ],
                        [
                          1,
                          "#f0f921"
                        ]
                      ]
                    },
                    "colorway": [
                      "#636efa",
                      "#EF553B",
                      "#00cc96",
                      "#ab63fa",
                      "#FFA15A",
                      "#19d3f3",
                      "#FF6692",
                      "#B6E880",
                      "#FF97FF",
                      "#FECB52"
                    ],
                    "font": {
                      "color": "#2a3f5f"
                    },
                    "geo": {
                      "bgcolor": "white",
                      "lakecolor": "white",
                      "landcolor": "#E5ECF6",
                      "showlakes": true,
                      "showland": true,
                      "subunitcolor": "white"
                    },
                    "hoverlabel": {
                      "align": "left"
                    },
                    "hovermode": "closest",
                    "mapbox": {
                      "style": "light"
                    },
                    "paper_bgcolor": "white",
                    "plot_bgcolor": "#E5ECF6",
                    "polar": {
                      "angularaxis": {
                        "gridcolor": "white",
                        "linecolor": "white",
                        "ticks": ""
                      },
                      "bgcolor": "#E5ECF6",
                      "radialaxis": {
                        "gridcolor": "white",
                        "linecolor": "white",
                        "ticks": ""
                      }
                    },
                    "scene": {
                      "xaxis": {
                        "backgroundcolor": "#E5ECF6",
                        "gridcolor": "white",
                        "gridwidth": 2,
                        "linecolor": "white",
                        "showbackground": true,
                        "ticks": "",
                        "zerolinecolor": "white"
                      },
                      "yaxis": {
                        "backgroundcolor": "#E5ECF6",
                        "gridcolor": "white",
                        "gridwidth": 2,
                        "linecolor": "white",
                        "showbackground": true,
                        "ticks": "",
                        "zerolinecolor": "white"
                      },
                      "zaxis": {
                        "backgroundcolor": "#E5ECF6",
                        "gridcolor": "white",
                        "gridwidth": 2,
                        "linecolor": "white",
                        "showbackground": true,
                        "ticks": "",
                        "zerolinecolor": "white"
                      }
                    },
                    "shapedefaults": {
                      "line": {
                        "color": "#2a3f5f"
                      }
                    },
                    "ternary": {
                      "aaxis": {
                        "gridcolor": "white",
                        "linecolor": "white",
                        "ticks": ""
                      },
                      "baxis": {
                        "gridcolor": "white",
                        "linecolor": "white",
                        "ticks": ""
                      },
                      "bgcolor": "#E5ECF6",
                      "caxis": {
                        "gridcolor": "white",
                        "linecolor": "white",
                        "ticks": ""
                      }
                    },
                    "title": {
                      "x": 0.05
                    },
                    "xaxis": {
                      "automargin": true,
                      "gridcolor": "white",
                      "linecolor": "white",
                      "ticks": "",
                      "title": {
                        "standoff": 15
                      },
                      "zerolinecolor": "white",
                      "zerolinewidth": 2
                    },
                    "yaxis": {
                      "automargin": true,
                      "gridcolor": "white",
                      "linecolor": "white",
                      "ticks": "",
                      "title": {
                        "standoff": 15
                      },
                      "zerolinecolor": "white",
                      "zerolinewidth": 2
                    }
                  }
                },
                "xaxis": {
                  "anchor": "y",
                  "domain": [
                    0,
                    1
                  ],
                  "title": {
                    "text": "x"
                  }
                },
                "yaxis": {
                  "anchor": "x",
                  "domain": [
                    0,
                    1
                  ],
                  "title": {
                    "text": "y"
                  }
                }
              }
            }
          },
          "metadata": {},
          "output_type": "display_data"
        }
      ],
      "source": [
        "# Inefficient but simpler solution\n",
        "# The sum() method counts the number of \"True\" values\n",
        "\n",
        "hist = [(symptom, Messages.text.str.contains(symptom).sum()) for symptom in 'fever chill sweat ache pain fatigue cough breath nausea vomit diarrhoea enlarged lymph'.split(' ')]\n",
        "histogram = dict(sorted(hist, key=lambda p: p[1], reverse=True))\n",
        "px.bar(x=histogram.keys(), y=histogram.values())"
      ]
    },
    {
      "cell_type": "code",
      "execution_count": 93,
      "metadata": {},
      "outputs": [
        {
          "name": "stdout",
          "output_type": "stream",
          "text": [
            "['fever', 'chill', 'sweat', 'ache', 'pain', 'fatigue', 'cough', 'breath', 'nausea', 'vomit']\n"
          ]
        }
      ],
      "source": [
        "Symptoms = [symptom for symptom, _ in hist if not (symptom in ['lymph', 'diarrhoea', 'enlarged'])]\n",
        "print(Symptoms)"
      ]
    },
    {
      "cell_type": "markdown",
      "metadata": {
        "id": "lGndmsgkYWc_"
      },
      "source": [
        "# Manipulation of time series data\n",
        "\n",
        "Reference: [How to handle time series data with ease](https://pandas.pydata.org/docs/getting_started/intro_tutorials/09_timeseries.html)"
      ]
    },
    {
      "cell_type": "code",
      "execution_count": 9,
      "metadata": {},
      "outputs": [
        {
          "data": {
            "text/plain": [
              "(Timestamp('2011-04-30 00:00:00'), Timestamp('2011-05-20 23:59:00'))"
            ]
          },
          "execution_count": 9,
          "metadata": {},
          "output_type": "execute_result"
        }
      ],
      "source": [
        "Messages.Created_at.min(), Messages.Created_at.max()"
      ]
    },
    {
      "cell_type": "markdown",
      "metadata": {},
      "source": [
        "## Messages sent on April 30"
      ]
    },
    {
      "cell_type": "code",
      "execution_count": 7,
      "metadata": {
        "id": "93N7KNO1Urrc"
      },
      "outputs": [
        {
          "data": {
            "text/html": [
              "<div>\n",
              "<style scoped>\n",
              "    .dataframe tbody tr th:only-of-type {\n",
              "        vertical-align: middle;\n",
              "    }\n",
              "\n",
              "    .dataframe tbody tr th {\n",
              "        vertical-align: top;\n",
              "    }\n",
              "\n",
              "    .dataframe thead th {\n",
              "        text-align: right;\n",
              "    }\n",
              "</style>\n",
              "<table border=\"1\" class=\"dataframe\">\n",
              "  <thead>\n",
              "    <tr style=\"text-align: right;\">\n",
              "      <th></th>\n",
              "      <th>ID</th>\n",
              "      <th>Created_at</th>\n",
              "      <th>text</th>\n",
              "      <th>latitude</th>\n",
              "      <th>longitude</th>\n",
              "    </tr>\n",
              "    <tr>\n",
              "      <th>Created_at</th>\n",
              "      <th></th>\n",
              "      <th></th>\n",
              "      <th></th>\n",
              "      <th></th>\n",
              "      <th></th>\n",
              "    </tr>\n",
              "  </thead>\n",
              "  <tbody>\n",
              "    <tr>\n",
              "      <th>2011-04-30 00:00:00</th>\n",
              "      <td>3779</td>\n",
              "      <td>2011-04-30 00:00:00</td>\n",
              "      <td>#dontyoujusthateitwhen people touch your hair!...</td>\n",
              "      <td>42.18</td>\n",
              "      <td>93.54</td>\n",
              "    </tr>\n",
              "    <tr>\n",
              "      <th>2011-04-30 00:00:00</th>\n",
              "      <td>4656</td>\n",
              "      <td>2011-04-30 00:00:00</td>\n",
              "      <td>Alle kleren van me ouder uit de klerenkast hal...</td>\n",
              "      <td>42.29</td>\n",
              "      <td>93.51</td>\n",
              "    </tr>\n",
              "    <tr>\n",
              "      <th>2011-04-30 00:00:00</th>\n",
              "      <td>20692</td>\n",
              "      <td>2011-04-30 00:00:00</td>\n",
              "      <td>Normally I'd be excited to go play 18 on a sat...</td>\n",
              "      <td>42.17</td>\n",
              "      <td>93.23</td>\n",
              "    </tr>\n",
              "    <tr>\n",
              "      <th>...</th>\n",
              "      <td>...</td>\n",
              "      <td>...</td>\n",
              "      <td>...</td>\n",
              "      <td>...</td>\n",
              "      <td>...</td>\n",
              "    </tr>\n",
              "    <tr>\n",
              "      <th>2011-04-30 23:59:00</th>\n",
              "      <td>171502</td>\n",
              "      <td>2011-04-30 23:59:00</td>\n",
              "      <td>yeaaa &amp;&amp; he was just PRACTICE . He aint in ya ...</td>\n",
              "      <td>42.22</td>\n",
              "      <td>93.34</td>\n",
              "    </tr>\n",
              "    <tr>\n",
              "      <th>2011-04-30 23:59:00</th>\n",
              "      <td>173651</td>\n",
              "      <td>2011-04-30 23:59:00</td>\n",
              "      <td>What a jolly nice chap Will Young is.</td>\n",
              "      <td>42.23</td>\n",
              "      <td>93.36</td>\n",
              "    </tr>\n",
              "    <tr>\n",
              "      <th>2011-04-30 23:59:00</th>\n",
              "      <td>177522</td>\n",
              "      <td>2011-04-30 23:59:00</td>\n",
              "      <td>I keep hearing fire trucks</td>\n",
              "      <td>42.17</td>\n",
              "      <td>93.55</td>\n",
              "    </tr>\n",
              "  </tbody>\n",
              "</table>\n",
              "<p>44322 rows × 5 columns</p>\n",
              "</div>"
            ],
            "text/plain": [
              "                         ID          Created_at  \\\n",
              "Created_at                                        \n",
              "2011-04-30 00:00:00    3779 2011-04-30 00:00:00   \n",
              "2011-04-30 00:00:00    4656 2011-04-30 00:00:00   \n",
              "2011-04-30 00:00:00   20692 2011-04-30 00:00:00   \n",
              "...                     ...                 ...   \n",
              "2011-04-30 23:59:00  171502 2011-04-30 23:59:00   \n",
              "2011-04-30 23:59:00  173651 2011-04-30 23:59:00   \n",
              "2011-04-30 23:59:00  177522 2011-04-30 23:59:00   \n",
              "\n",
              "                                                                  text  \\\n",
              "Created_at                                                               \n",
              "2011-04-30 00:00:00  #dontyoujusthateitwhen people touch your hair!...   \n",
              "2011-04-30 00:00:00  Alle kleren van me ouder uit de klerenkast hal...   \n",
              "2011-04-30 00:00:00  Normally I'd be excited to go play 18 on a sat...   \n",
              "...                                                                ...   \n",
              "2011-04-30 23:59:00  yeaaa && he was just PRACTICE . He aint in ya ...   \n",
              "2011-04-30 23:59:00              What a jolly nice chap Will Young is.   \n",
              "2011-04-30 23:59:00                         I keep hearing fire trucks   \n",
              "\n",
              "                     latitude  longitude  \n",
              "Created_at                                \n",
              "2011-04-30 00:00:00     42.18      93.54  \n",
              "2011-04-30 00:00:00     42.29      93.51  \n",
              "2011-04-30 00:00:00     42.17      93.23  \n",
              "...                       ...        ...  \n",
              "2011-04-30 23:59:00     42.22      93.34  \n",
              "2011-04-30 23:59:00     42.23      93.36  \n",
              "2011-04-30 23:59:00     42.17      93.55  \n",
              "\n",
              "[44322 rows x 5 columns]"
            ]
          },
          "execution_count": 7,
          "metadata": {},
          "output_type": "execute_result"
        }
      ],
      "source": [
        "Messages.loc['2011-04-30']"
      ]
    },
    {
      "cell_type": "code",
      "execution_count": 14,
      "metadata": {},
      "outputs": [
        {
          "data": {
            "text/plain": [
              "ID                                                         3779\n",
              "Created_at                                  2011-04-30 00:00:00\n",
              "text          #dontyoujusthateitwhen people touch your hair!...\n",
              "latitude                                                  42.18\n",
              "longitude                                                 93.54\n",
              "Name: 2011-04-30 00:00:00, dtype: object"
            ]
          },
          "metadata": {},
          "output_type": "display_data"
        },
        {
          "data": {
            "text/plain": [
              "(4, 30, 0)"
            ]
          },
          "execution_count": 14,
          "metadata": {},
          "output_type": "execute_result"
        }
      ],
      "source": [
        "display(Messages.iloc[0])\n",
        "Messages.iloc[0].Created_at.month, Messages.iloc[0].Created_at.day, Messages.iloc[0].Created_at.hour"
      ]
    },
    {
      "cell_type": "markdown",
      "metadata": {
        "id": "ivX9aXVJX6xj"
      },
      "source": [
        "# Messages sent in the first week of May"
      ]
    },
    {
      "cell_type": "code",
      "execution_count": 8,
      "metadata": {
        "id": "kuk2jxRCXxh3"
      },
      "outputs": [
        {
          "data": {
            "text/html": [
              "<div>\n",
              "<style scoped>\n",
              "    .dataframe tbody tr th:only-of-type {\n",
              "        vertical-align: middle;\n",
              "    }\n",
              "\n",
              "    .dataframe tbody tr th {\n",
              "        vertical-align: top;\n",
              "    }\n",
              "\n",
              "    .dataframe thead th {\n",
              "        text-align: right;\n",
              "    }\n",
              "</style>\n",
              "<table border=\"1\" class=\"dataframe\">\n",
              "  <thead>\n",
              "    <tr style=\"text-align: right;\">\n",
              "      <th></th>\n",
              "      <th>ID</th>\n",
              "      <th>Created_at</th>\n",
              "      <th>text</th>\n",
              "      <th>latitude</th>\n",
              "      <th>longitude</th>\n",
              "    </tr>\n",
              "    <tr>\n",
              "      <th>Created_at</th>\n",
              "      <th></th>\n",
              "      <th></th>\n",
              "      <th></th>\n",
              "      <th></th>\n",
              "      <th></th>\n",
              "    </tr>\n",
              "  </thead>\n",
              "  <tbody>\n",
              "    <tr>\n",
              "      <th>2011-05-01 00:00:00</th>\n",
              "      <td>4656</td>\n",
              "      <td>2011-05-01 00:00:00</td>\n",
              "      <td>I instantly felt about 10 tyms better. Sumtime...</td>\n",
              "      <td>42.23</td>\n",
              "      <td>93.35</td>\n",
              "    </tr>\n",
              "    <tr>\n",
              "      <th>2011-05-01 00:00:00</th>\n",
              "      <td>16024</td>\n",
              "      <td>2011-05-01 00:00:00</td>\n",
              "      <td>ARTS  BRIEFLY; Iran in Brooklyn</td>\n",
              "      <td>42.22</td>\n",
              "      <td>93.34</td>\n",
              "    </tr>\n",
              "    <tr>\n",
              "      <th>2011-05-01 00:00:00</th>\n",
              "      <td>29873</td>\n",
              "      <td>2011-05-01 00:00:00</td>\n",
              "      <td>No Eminem  that is not why they call it 'windo...</td>\n",
              "      <td>42.23</td>\n",
              "      <td>93.21</td>\n",
              "    </tr>\n",
              "    <tr>\n",
              "      <th>...</th>\n",
              "      <td>...</td>\n",
              "      <td>...</td>\n",
              "      <td>...</td>\n",
              "      <td>...</td>\n",
              "      <td>...</td>\n",
              "    </tr>\n",
              "    <tr>\n",
              "      <th>2011-05-07 23:59:00</th>\n",
              "      <td>154410</td>\n",
              "      <td>2011-05-07 23:59:00</td>\n",
              "      <td>I have to wake up in 5 1/2 hours. Someone is g...</td>\n",
              "      <td>42.21</td>\n",
              "      <td>93.36</td>\n",
              "    </tr>\n",
              "    <tr>\n",
              "      <th>2011-05-07 23:59:00</th>\n",
              "      <td>173651</td>\n",
              "      <td>2011-05-07 23:59:00</td>\n",
              "      <td>#WatchuWontDo is be my age and try to get with...</td>\n",
              "      <td>42.21</td>\n",
              "      <td>93.56</td>\n",
              "    </tr>\n",
              "    <tr>\n",
              "      <th>2011-05-07 23:59:00</th>\n",
              "      <td>180221</td>\n",
              "      <td>2011-05-07 23:59:00</td>\n",
              "      <td>It is 06:42 UTC now</td>\n",
              "      <td>42.21</td>\n",
              "      <td>93.36</td>\n",
              "    </tr>\n",
              "  </tbody>\n",
              "</table>\n",
              "<p>317003 rows × 5 columns</p>\n",
              "</div>"
            ],
            "text/plain": [
              "                         ID          Created_at  \\\n",
              "Created_at                                        \n",
              "2011-05-01 00:00:00    4656 2011-05-01 00:00:00   \n",
              "2011-05-01 00:00:00   16024 2011-05-01 00:00:00   \n",
              "2011-05-01 00:00:00   29873 2011-05-01 00:00:00   \n",
              "...                     ...                 ...   \n",
              "2011-05-07 23:59:00  154410 2011-05-07 23:59:00   \n",
              "2011-05-07 23:59:00  173651 2011-05-07 23:59:00   \n",
              "2011-05-07 23:59:00  180221 2011-05-07 23:59:00   \n",
              "\n",
              "                                                                  text  \\\n",
              "Created_at                                                               \n",
              "2011-05-01 00:00:00  I instantly felt about 10 tyms better. Sumtime...   \n",
              "2011-05-01 00:00:00                    ARTS  BRIEFLY; Iran in Brooklyn   \n",
              "2011-05-01 00:00:00  No Eminem  that is not why they call it 'windo...   \n",
              "...                                                                ...   \n",
              "2011-05-07 23:59:00  I have to wake up in 5 1/2 hours. Someone is g...   \n",
              "2011-05-07 23:59:00  #WatchuWontDo is be my age and try to get with...   \n",
              "2011-05-07 23:59:00                                It is 06:42 UTC now   \n",
              "\n",
              "                     latitude  longitude  \n",
              "Created_at                                \n",
              "2011-05-01 00:00:00     42.23      93.35  \n",
              "2011-05-01 00:00:00     42.22      93.34  \n",
              "2011-05-01 00:00:00     42.23      93.21  \n",
              "...                       ...        ...  \n",
              "2011-05-07 23:59:00     42.21      93.36  \n",
              "2011-05-07 23:59:00     42.21      93.56  \n",
              "2011-05-07 23:59:00     42.21      93.36  \n",
              "\n",
              "[317003 rows x 5 columns]"
            ]
          },
          "metadata": {},
          "output_type": "display_data"
        },
        {
          "data": {
            "text/plain": [
              "317003"
            ]
          },
          "execution_count": 8,
          "metadata": {},
          "output_type": "execute_result"
        }
      ],
      "source": [
        "display(Messages.loc['2011-05-01':'2011-05-07'])\n",
        "len(Messages.loc['2011-05-01':'2011-05-07'])"
      ]
    },
    {
      "cell_type": "markdown",
      "metadata": {
        "id": "sWR9EOJGbS6N"
      },
      "source": [
        "# Attributes of messages sent on the specified date"
      ]
    },
    {
      "cell_type": "code",
      "execution_count": 9,
      "metadata": {
        "id": "yCI9eX3nX5uW"
      },
      "outputs": [
        {
          "data": {
            "text/markdown": [
              "## text"
            ],
            "text/plain": [
              "<IPython.core.display.Markdown object>"
            ]
          },
          "metadata": {},
          "output_type": "display_data"
        },
        {
          "data": {
            "text/plain": [
              "Created_at\n",
              "2011-04-30 00:00:00    #dontyoujusthateitwhen people touch your hair!...\n",
              "2011-04-30 00:00:00    Alle kleren van me ouder uit de klerenkast hal...\n",
              "2011-04-30 00:00:00    Normally I'd be excited to go play 18 on a sat...\n",
              "                                             ...                        \n",
              "2011-04-30 23:59:00    yeaaa && he was just PRACTICE . He aint in ya ...\n",
              "2011-04-30 23:59:00                What a jolly nice chap Will Young is.\n",
              "2011-04-30 23:59:00                           I keep hearing fire trucks\n",
              "Name: text, Length: 44322, dtype: object"
            ]
          },
          "metadata": {},
          "output_type": "display_data"
        },
        {
          "data": {
            "text/markdown": [
              "## latitude"
            ],
            "text/plain": [
              "<IPython.core.display.Markdown object>"
            ]
          },
          "metadata": {},
          "output_type": "display_data"
        },
        {
          "data": {
            "text/plain": [
              "Created_at\n",
              "2011-04-30 00:00:00    42.18\n",
              "2011-04-30 00:00:00    42.29\n",
              "2011-04-30 00:00:00    42.17\n",
              "                       ...  \n",
              "2011-04-30 23:59:00    42.22\n",
              "2011-04-30 23:59:00    42.23\n",
              "2011-04-30 23:59:00    42.17\n",
              "Name: latitude, Length: 44322, dtype: float64"
            ]
          },
          "metadata": {},
          "output_type": "display_data"
        },
        {
          "data": {
            "text/markdown": [
              "## longitude"
            ],
            "text/plain": [
              "<IPython.core.display.Markdown object>"
            ]
          },
          "metadata": {},
          "output_type": "display_data"
        },
        {
          "data": {
            "text/plain": [
              "Created_at\n",
              "2011-04-30 00:00:00    93.54\n",
              "2011-04-30 00:00:00    93.51\n",
              "2011-04-30 00:00:00    93.23\n",
              "                       ...  \n",
              "2011-04-30 23:59:00    93.34\n",
              "2011-04-30 23:59:00    93.36\n",
              "2011-04-30 23:59:00    93.55\n",
              "Name: longitude, Length: 44322, dtype: float64"
            ]
          },
          "metadata": {},
          "output_type": "display_data"
        }
      ],
      "source": [
        "display(Markdown('## text'))\n",
        "display(Messages.at['2011-04-30', 'text'])\n",
        "\n",
        "display(Markdown('## latitude'))\n",
        "display(Messages.at['2011-04-30', 'latitude'])\n",
        "\n",
        "display(Markdown('## longitude'))\n",
        "display(Messages.at['2011-04-30', 'longitude'])"
      ]
    },
    {
      "cell_type": "markdown",
      "metadata": {
        "id": "KwVkTIgzb-Fr"
      },
      "source": [
        "# Messages sent between particular times in a day"
      ]
    },
    {
      "cell_type": "code",
      "execution_count": 10,
      "metadata": {
        "id": "JSRO-d6AYnKi"
      },
      "outputs": [
        {
          "data": {
            "text/html": [
              "<div>\n",
              "<style scoped>\n",
              "    .dataframe tbody tr th:only-of-type {\n",
              "        vertical-align: middle;\n",
              "    }\n",
              "\n",
              "    .dataframe tbody tr th {\n",
              "        vertical-align: top;\n",
              "    }\n",
              "\n",
              "    .dataframe thead th {\n",
              "        text-align: right;\n",
              "    }\n",
              "</style>\n",
              "<table border=\"1\" class=\"dataframe\">\n",
              "  <thead>\n",
              "    <tr style=\"text-align: right;\">\n",
              "      <th></th>\n",
              "      <th>ID</th>\n",
              "      <th>Created_at</th>\n",
              "      <th>text</th>\n",
              "      <th>latitude</th>\n",
              "      <th>longitude</th>\n",
              "    </tr>\n",
              "    <tr>\n",
              "      <th>Created_at</th>\n",
              "      <th></th>\n",
              "      <th></th>\n",
              "      <th></th>\n",
              "      <th></th>\n",
              "      <th></th>\n",
              "    </tr>\n",
              "  </thead>\n",
              "  <tbody>\n",
              "    <tr>\n",
              "      <th>2011-04-30 01:00:00</th>\n",
              "      <td>3116</td>\n",
              "      <td>2011-04-30 01:00:00</td>\n",
              "      <td>The Westfield Fashion Dectetor 'app' is still ...</td>\n",
              "      <td>42.21</td>\n",
              "      <td>93.40</td>\n",
              "    </tr>\n",
              "    <tr>\n",
              "      <th>2011-04-30 01:00:00</th>\n",
              "      <td>9964</td>\n",
              "      <td>2011-04-30 01:00:00</td>\n",
              "      <td>#BreakUpLines If we were to break up how would...</td>\n",
              "      <td>42.29</td>\n",
              "      <td>93.30</td>\n",
              "    </tr>\n",
              "    <tr>\n",
              "      <th>2011-04-30 01:00:00</th>\n",
              "      <td>11500</td>\n",
              "      <td>2011-04-30 01:00:00</td>\n",
              "      <td>My cast iron pan is like woah.</td>\n",
              "      <td>42.23</td>\n",
              "      <td>93.56</td>\n",
              "    </tr>\n",
              "    <tr>\n",
              "      <th>...</th>\n",
              "      <td>...</td>\n",
              "      <td>...</td>\n",
              "      <td>...</td>\n",
              "      <td>...</td>\n",
              "      <td>...</td>\n",
              "    </tr>\n",
              "    <tr>\n",
              "      <th>2011-04-30 02:00:00</th>\n",
              "      <td>155506</td>\n",
              "      <td>2011-04-30 02:00:00</td>\n",
              "      <td>Used my GPS for the first time  it ended WITH ...</td>\n",
              "      <td>42.27</td>\n",
              "      <td>93.39</td>\n",
              "    </tr>\n",
              "    <tr>\n",
              "      <th>2011-04-30 02:00:00</th>\n",
              "      <td>161198</td>\n",
              "      <td>2011-04-30 02:00:00</td>\n",
              "      <td>#DontYouJustHateItWhen guys think they have game.</td>\n",
              "      <td>42.29</td>\n",
              "      <td>93.27</td>\n",
              "    </tr>\n",
              "    <tr>\n",
              "      <th>2011-04-30 02:00:00</th>\n",
              "      <td>163360</td>\n",
              "      <td>2011-04-30 02:00:00</td>\n",
              "      <td>According to the weather channel the high for ...</td>\n",
              "      <td>42.28</td>\n",
              "      <td>93.43</td>\n",
              "    </tr>\n",
              "  </tbody>\n",
              "</table>\n",
              "<p>2069 rows × 5 columns</p>\n",
              "</div>"
            ],
            "text/plain": [
              "                         ID          Created_at  \\\n",
              "Created_at                                        \n",
              "2011-04-30 01:00:00    3116 2011-04-30 01:00:00   \n",
              "2011-04-30 01:00:00    9964 2011-04-30 01:00:00   \n",
              "2011-04-30 01:00:00   11500 2011-04-30 01:00:00   \n",
              "...                     ...                 ...   \n",
              "2011-04-30 02:00:00  155506 2011-04-30 02:00:00   \n",
              "2011-04-30 02:00:00  161198 2011-04-30 02:00:00   \n",
              "2011-04-30 02:00:00  163360 2011-04-30 02:00:00   \n",
              "\n",
              "                                                                  text  \\\n",
              "Created_at                                                               \n",
              "2011-04-30 01:00:00  The Westfield Fashion Dectetor 'app' is still ...   \n",
              "2011-04-30 01:00:00  #BreakUpLines If we were to break up how would...   \n",
              "2011-04-30 01:00:00                     My cast iron pan is like woah.   \n",
              "...                                                                ...   \n",
              "2011-04-30 02:00:00  Used my GPS for the first time  it ended WITH ...   \n",
              "2011-04-30 02:00:00  #DontYouJustHateItWhen guys think they have game.   \n",
              "2011-04-30 02:00:00  According to the weather channel the high for ...   \n",
              "\n",
              "                     latitude  longitude  \n",
              "Created_at                                \n",
              "2011-04-30 01:00:00     42.21      93.40  \n",
              "2011-04-30 01:00:00     42.29      93.30  \n",
              "2011-04-30 01:00:00     42.23      93.56  \n",
              "...                       ...        ...  \n",
              "2011-04-30 02:00:00     42.27      93.39  \n",
              "2011-04-30 02:00:00     42.29      93.27  \n",
              "2011-04-30 02:00:00     42.28      93.43  \n",
              "\n",
              "[2069 rows x 5 columns]"
            ]
          },
          "execution_count": 10,
          "metadata": {},
          "output_type": "execute_result"
        }
      ],
      "source": [
        "Messages.loc['2011-04-30'].between_time('1:00', '2:00')"
      ]
    },
    {
      "cell_type": "code",
      "execution_count": 11,
      "metadata": {
        "id": "xdrvEDVYbwSs"
      },
      "outputs": [
        {
          "data": {
            "text/plain": [
              "text\n",
              "False    1010649\n",
              "True       12237\n",
              "Name: count, dtype: int64"
            ]
          },
          "execution_count": 11,
          "metadata": {},
          "output_type": "execute_result"
        }
      ],
      "source": [
        "Messages.text.str.contains('chill').value_counts()"
      ]
    },
    {
      "cell_type": "markdown",
      "metadata": {},
      "source": [
        "# Grouping the dataset by date"
      ]
    },
    {
      "cell_type": "code",
      "execution_count": 75,
      "metadata": {},
      "outputs": [
        {
          "data": {
            "text/plain": [
              "<pandas.core.groupby.generic.DataFrameGroupBy object at 0x12dd88450>"
            ]
          },
          "execution_count": 75,
          "metadata": {},
          "output_type": "execute_result"
        }
      ],
      "source": [
        "messages_per_date = Messages.groupby(Messages.Created_at.dt.date)\n",
        "messages_per_date"
      ]
    },
    {
      "cell_type": "code",
      "execution_count": 76,
      "metadata": {
        "id": "5x_4PJifdnuI"
      },
      "outputs": [
        {
          "data": {
            "text/plain": [
              "Created_at\n",
              "2011-04-30    44322\n",
              "2011-05-01    45245\n",
              "2011-05-02    45072\n",
              "              ...  \n",
              "2011-05-18    61863\n",
              "2011-05-19    71269\n",
              "2011-05-20    69866\n",
              "Length: 21, dtype: int64"
            ]
          },
          "execution_count": 76,
          "metadata": {},
          "output_type": "execute_result"
        }
      ],
      "source": [
        "num_messages_per_date = Messages.groupby(Messages.Created_at.dt.date).size()\n",
        "num_messages_per_date"
      ]
    },
    {
      "cell_type": "code",
      "execution_count": 77,
      "metadata": {},
      "outputs": [
        {
          "data": {
            "application/vnd.plotly.v1+json": {
              "config": {
                "plotlyServerURL": "https://plot.ly"
              },
              "data": [
                {
                  "hovertemplate": "Date=%{x}<br>Number of messages=%{y}<extra></extra>",
                  "legendgroup": "",
                  "line": {
                    "color": "#636efa",
                    "dash": "solid"
                  },
                  "marker": {
                    "symbol": "circle"
                  },
                  "mode": "lines",
                  "name": "",
                  "orientation": "v",
                  "showlegend": false,
                  "type": "scatter",
                  "x": [
                    "2011-04-30",
                    "2011-05-01",
                    "2011-05-02",
                    "2011-05-03",
                    "2011-05-04",
                    "2011-05-05",
                    "2011-05-06",
                    "2011-05-07",
                    "2011-05-08",
                    "2011-05-09",
                    "2011-05-10",
                    "2011-05-11",
                    "2011-05-12",
                    "2011-05-13",
                    "2011-05-14",
                    "2011-05-15",
                    "2011-05-16",
                    "2011-05-17",
                    "2011-05-18",
                    "2011-05-19",
                    "2011-05-20"
                  ],
                  "xaxis": "x",
                  "y": [
                    44322,
                    45245,
                    45072,
                    44373,
                    46657,
                    44395,
                    44970,
                    46291,
                    44438,
                    44706,
                    44760,
                    46772,
                    45234,
                    46662,
                    45550,
                    44951,
                    48966,
                    46524,
                    61863,
                    71269,
                    69866
                  ],
                  "yaxis": "y"
                }
              ],
              "layout": {
                "legend": {
                  "tracegroupgap": 0
                },
                "margin": {
                  "t": 60
                },
                "template": {
                  "data": {
                    "bar": [
                      {
                        "error_x": {
                          "color": "#2a3f5f"
                        },
                        "error_y": {
                          "color": "#2a3f5f"
                        },
                        "marker": {
                          "line": {
                            "color": "#E5ECF6",
                            "width": 0.5
                          },
                          "pattern": {
                            "fillmode": "overlay",
                            "size": 10,
                            "solidity": 0.2
                          }
                        },
                        "type": "bar"
                      }
                    ],
                    "barpolar": [
                      {
                        "marker": {
                          "line": {
                            "color": "#E5ECF6",
                            "width": 0.5
                          },
                          "pattern": {
                            "fillmode": "overlay",
                            "size": 10,
                            "solidity": 0.2
                          }
                        },
                        "type": "barpolar"
                      }
                    ],
                    "carpet": [
                      {
                        "aaxis": {
                          "endlinecolor": "#2a3f5f",
                          "gridcolor": "white",
                          "linecolor": "white",
                          "minorgridcolor": "white",
                          "startlinecolor": "#2a3f5f"
                        },
                        "baxis": {
                          "endlinecolor": "#2a3f5f",
                          "gridcolor": "white",
                          "linecolor": "white",
                          "minorgridcolor": "white",
                          "startlinecolor": "#2a3f5f"
                        },
                        "type": "carpet"
                      }
                    ],
                    "choropleth": [
                      {
                        "colorbar": {
                          "outlinewidth": 0,
                          "ticks": ""
                        },
                        "type": "choropleth"
                      }
                    ],
                    "contour": [
                      {
                        "colorbar": {
                          "outlinewidth": 0,
                          "ticks": ""
                        },
                        "colorscale": [
                          [
                            0,
                            "#0d0887"
                          ],
                          [
                            0.1111111111111111,
                            "#46039f"
                          ],
                          [
                            0.2222222222222222,
                            "#7201a8"
                          ],
                          [
                            0.3333333333333333,
                            "#9c179e"
                          ],
                          [
                            0.4444444444444444,
                            "#bd3786"
                          ],
                          [
                            0.5555555555555556,
                            "#d8576b"
                          ],
                          [
                            0.6666666666666666,
                            "#ed7953"
                          ],
                          [
                            0.7777777777777778,
                            "#fb9f3a"
                          ],
                          [
                            0.8888888888888888,
                            "#fdca26"
                          ],
                          [
                            1,
                            "#f0f921"
                          ]
                        ],
                        "type": "contour"
                      }
                    ],
                    "contourcarpet": [
                      {
                        "colorbar": {
                          "outlinewidth": 0,
                          "ticks": ""
                        },
                        "type": "contourcarpet"
                      }
                    ],
                    "heatmap": [
                      {
                        "colorbar": {
                          "outlinewidth": 0,
                          "ticks": ""
                        },
                        "colorscale": [
                          [
                            0,
                            "#0d0887"
                          ],
                          [
                            0.1111111111111111,
                            "#46039f"
                          ],
                          [
                            0.2222222222222222,
                            "#7201a8"
                          ],
                          [
                            0.3333333333333333,
                            "#9c179e"
                          ],
                          [
                            0.4444444444444444,
                            "#bd3786"
                          ],
                          [
                            0.5555555555555556,
                            "#d8576b"
                          ],
                          [
                            0.6666666666666666,
                            "#ed7953"
                          ],
                          [
                            0.7777777777777778,
                            "#fb9f3a"
                          ],
                          [
                            0.8888888888888888,
                            "#fdca26"
                          ],
                          [
                            1,
                            "#f0f921"
                          ]
                        ],
                        "type": "heatmap"
                      }
                    ],
                    "heatmapgl": [
                      {
                        "colorbar": {
                          "outlinewidth": 0,
                          "ticks": ""
                        },
                        "colorscale": [
                          [
                            0,
                            "#0d0887"
                          ],
                          [
                            0.1111111111111111,
                            "#46039f"
                          ],
                          [
                            0.2222222222222222,
                            "#7201a8"
                          ],
                          [
                            0.3333333333333333,
                            "#9c179e"
                          ],
                          [
                            0.4444444444444444,
                            "#bd3786"
                          ],
                          [
                            0.5555555555555556,
                            "#d8576b"
                          ],
                          [
                            0.6666666666666666,
                            "#ed7953"
                          ],
                          [
                            0.7777777777777778,
                            "#fb9f3a"
                          ],
                          [
                            0.8888888888888888,
                            "#fdca26"
                          ],
                          [
                            1,
                            "#f0f921"
                          ]
                        ],
                        "type": "heatmapgl"
                      }
                    ],
                    "histogram": [
                      {
                        "marker": {
                          "pattern": {
                            "fillmode": "overlay",
                            "size": 10,
                            "solidity": 0.2
                          }
                        },
                        "type": "histogram"
                      }
                    ],
                    "histogram2d": [
                      {
                        "colorbar": {
                          "outlinewidth": 0,
                          "ticks": ""
                        },
                        "colorscale": [
                          [
                            0,
                            "#0d0887"
                          ],
                          [
                            0.1111111111111111,
                            "#46039f"
                          ],
                          [
                            0.2222222222222222,
                            "#7201a8"
                          ],
                          [
                            0.3333333333333333,
                            "#9c179e"
                          ],
                          [
                            0.4444444444444444,
                            "#bd3786"
                          ],
                          [
                            0.5555555555555556,
                            "#d8576b"
                          ],
                          [
                            0.6666666666666666,
                            "#ed7953"
                          ],
                          [
                            0.7777777777777778,
                            "#fb9f3a"
                          ],
                          [
                            0.8888888888888888,
                            "#fdca26"
                          ],
                          [
                            1,
                            "#f0f921"
                          ]
                        ],
                        "type": "histogram2d"
                      }
                    ],
                    "histogram2dcontour": [
                      {
                        "colorbar": {
                          "outlinewidth": 0,
                          "ticks": ""
                        },
                        "colorscale": [
                          [
                            0,
                            "#0d0887"
                          ],
                          [
                            0.1111111111111111,
                            "#46039f"
                          ],
                          [
                            0.2222222222222222,
                            "#7201a8"
                          ],
                          [
                            0.3333333333333333,
                            "#9c179e"
                          ],
                          [
                            0.4444444444444444,
                            "#bd3786"
                          ],
                          [
                            0.5555555555555556,
                            "#d8576b"
                          ],
                          [
                            0.6666666666666666,
                            "#ed7953"
                          ],
                          [
                            0.7777777777777778,
                            "#fb9f3a"
                          ],
                          [
                            0.8888888888888888,
                            "#fdca26"
                          ],
                          [
                            1,
                            "#f0f921"
                          ]
                        ],
                        "type": "histogram2dcontour"
                      }
                    ],
                    "mesh3d": [
                      {
                        "colorbar": {
                          "outlinewidth": 0,
                          "ticks": ""
                        },
                        "type": "mesh3d"
                      }
                    ],
                    "parcoords": [
                      {
                        "line": {
                          "colorbar": {
                            "outlinewidth": 0,
                            "ticks": ""
                          }
                        },
                        "type": "parcoords"
                      }
                    ],
                    "pie": [
                      {
                        "automargin": true,
                        "type": "pie"
                      }
                    ],
                    "scatter": [
                      {
                        "fillpattern": {
                          "fillmode": "overlay",
                          "size": 10,
                          "solidity": 0.2
                        },
                        "type": "scatter"
                      }
                    ],
                    "scatter3d": [
                      {
                        "line": {
                          "colorbar": {
                            "outlinewidth": 0,
                            "ticks": ""
                          }
                        },
                        "marker": {
                          "colorbar": {
                            "outlinewidth": 0,
                            "ticks": ""
                          }
                        },
                        "type": "scatter3d"
                      }
                    ],
                    "scattercarpet": [
                      {
                        "marker": {
                          "colorbar": {
                            "outlinewidth": 0,
                            "ticks": ""
                          }
                        },
                        "type": "scattercarpet"
                      }
                    ],
                    "scattergeo": [
                      {
                        "marker": {
                          "colorbar": {
                            "outlinewidth": 0,
                            "ticks": ""
                          }
                        },
                        "type": "scattergeo"
                      }
                    ],
                    "scattergl": [
                      {
                        "marker": {
                          "colorbar": {
                            "outlinewidth": 0,
                            "ticks": ""
                          }
                        },
                        "type": "scattergl"
                      }
                    ],
                    "scattermapbox": [
                      {
                        "marker": {
                          "colorbar": {
                            "outlinewidth": 0,
                            "ticks": ""
                          }
                        },
                        "type": "scattermapbox"
                      }
                    ],
                    "scatterpolar": [
                      {
                        "marker": {
                          "colorbar": {
                            "outlinewidth": 0,
                            "ticks": ""
                          }
                        },
                        "type": "scatterpolar"
                      }
                    ],
                    "scatterpolargl": [
                      {
                        "marker": {
                          "colorbar": {
                            "outlinewidth": 0,
                            "ticks": ""
                          }
                        },
                        "type": "scatterpolargl"
                      }
                    ],
                    "scatterternary": [
                      {
                        "marker": {
                          "colorbar": {
                            "outlinewidth": 0,
                            "ticks": ""
                          }
                        },
                        "type": "scatterternary"
                      }
                    ],
                    "surface": [
                      {
                        "colorbar": {
                          "outlinewidth": 0,
                          "ticks": ""
                        },
                        "colorscale": [
                          [
                            0,
                            "#0d0887"
                          ],
                          [
                            0.1111111111111111,
                            "#46039f"
                          ],
                          [
                            0.2222222222222222,
                            "#7201a8"
                          ],
                          [
                            0.3333333333333333,
                            "#9c179e"
                          ],
                          [
                            0.4444444444444444,
                            "#bd3786"
                          ],
                          [
                            0.5555555555555556,
                            "#d8576b"
                          ],
                          [
                            0.6666666666666666,
                            "#ed7953"
                          ],
                          [
                            0.7777777777777778,
                            "#fb9f3a"
                          ],
                          [
                            0.8888888888888888,
                            "#fdca26"
                          ],
                          [
                            1,
                            "#f0f921"
                          ]
                        ],
                        "type": "surface"
                      }
                    ],
                    "table": [
                      {
                        "cells": {
                          "fill": {
                            "color": "#EBF0F8"
                          },
                          "line": {
                            "color": "white"
                          }
                        },
                        "header": {
                          "fill": {
                            "color": "#C8D4E3"
                          },
                          "line": {
                            "color": "white"
                          }
                        },
                        "type": "table"
                      }
                    ]
                  },
                  "layout": {
                    "annotationdefaults": {
                      "arrowcolor": "#2a3f5f",
                      "arrowhead": 0,
                      "arrowwidth": 1
                    },
                    "autotypenumbers": "strict",
                    "coloraxis": {
                      "colorbar": {
                        "outlinewidth": 0,
                        "ticks": ""
                      }
                    },
                    "colorscale": {
                      "diverging": [
                        [
                          0,
                          "#8e0152"
                        ],
                        [
                          0.1,
                          "#c51b7d"
                        ],
                        [
                          0.2,
                          "#de77ae"
                        ],
                        [
                          0.3,
                          "#f1b6da"
                        ],
                        [
                          0.4,
                          "#fde0ef"
                        ],
                        [
                          0.5,
                          "#f7f7f7"
                        ],
                        [
                          0.6,
                          "#e6f5d0"
                        ],
                        [
                          0.7,
                          "#b8e186"
                        ],
                        [
                          0.8,
                          "#7fbc41"
                        ],
                        [
                          0.9,
                          "#4d9221"
                        ],
                        [
                          1,
                          "#276419"
                        ]
                      ],
                      "sequential": [
                        [
                          0,
                          "#0d0887"
                        ],
                        [
                          0.1111111111111111,
                          "#46039f"
                        ],
                        [
                          0.2222222222222222,
                          "#7201a8"
                        ],
                        [
                          0.3333333333333333,
                          "#9c179e"
                        ],
                        [
                          0.4444444444444444,
                          "#bd3786"
                        ],
                        [
                          0.5555555555555556,
                          "#d8576b"
                        ],
                        [
                          0.6666666666666666,
                          "#ed7953"
                        ],
                        [
                          0.7777777777777778,
                          "#fb9f3a"
                        ],
                        [
                          0.8888888888888888,
                          "#fdca26"
                        ],
                        [
                          1,
                          "#f0f921"
                        ]
                      ],
                      "sequentialminus": [
                        [
                          0,
                          "#0d0887"
                        ],
                        [
                          0.1111111111111111,
                          "#46039f"
                        ],
                        [
                          0.2222222222222222,
                          "#7201a8"
                        ],
                        [
                          0.3333333333333333,
                          "#9c179e"
                        ],
                        [
                          0.4444444444444444,
                          "#bd3786"
                        ],
                        [
                          0.5555555555555556,
                          "#d8576b"
                        ],
                        [
                          0.6666666666666666,
                          "#ed7953"
                        ],
                        [
                          0.7777777777777778,
                          "#fb9f3a"
                        ],
                        [
                          0.8888888888888888,
                          "#fdca26"
                        ],
                        [
                          1,
                          "#f0f921"
                        ]
                      ]
                    },
                    "colorway": [
                      "#636efa",
                      "#EF553B",
                      "#00cc96",
                      "#ab63fa",
                      "#FFA15A",
                      "#19d3f3",
                      "#FF6692",
                      "#B6E880",
                      "#FF97FF",
                      "#FECB52"
                    ],
                    "font": {
                      "color": "#2a3f5f"
                    },
                    "geo": {
                      "bgcolor": "white",
                      "lakecolor": "white",
                      "landcolor": "#E5ECF6",
                      "showlakes": true,
                      "showland": true,
                      "subunitcolor": "white"
                    },
                    "hoverlabel": {
                      "align": "left"
                    },
                    "hovermode": "closest",
                    "mapbox": {
                      "style": "light"
                    },
                    "paper_bgcolor": "white",
                    "plot_bgcolor": "#E5ECF6",
                    "polar": {
                      "angularaxis": {
                        "gridcolor": "white",
                        "linecolor": "white",
                        "ticks": ""
                      },
                      "bgcolor": "#E5ECF6",
                      "radialaxis": {
                        "gridcolor": "white",
                        "linecolor": "white",
                        "ticks": ""
                      }
                    },
                    "scene": {
                      "xaxis": {
                        "backgroundcolor": "#E5ECF6",
                        "gridcolor": "white",
                        "gridwidth": 2,
                        "linecolor": "white",
                        "showbackground": true,
                        "ticks": "",
                        "zerolinecolor": "white"
                      },
                      "yaxis": {
                        "backgroundcolor": "#E5ECF6",
                        "gridcolor": "white",
                        "gridwidth": 2,
                        "linecolor": "white",
                        "showbackground": true,
                        "ticks": "",
                        "zerolinecolor": "white"
                      },
                      "zaxis": {
                        "backgroundcolor": "#E5ECF6",
                        "gridcolor": "white",
                        "gridwidth": 2,
                        "linecolor": "white",
                        "showbackground": true,
                        "ticks": "",
                        "zerolinecolor": "white"
                      }
                    },
                    "shapedefaults": {
                      "line": {
                        "color": "#2a3f5f"
                      }
                    },
                    "ternary": {
                      "aaxis": {
                        "gridcolor": "white",
                        "linecolor": "white",
                        "ticks": ""
                      },
                      "baxis": {
                        "gridcolor": "white",
                        "linecolor": "white",
                        "ticks": ""
                      },
                      "bgcolor": "#E5ECF6",
                      "caxis": {
                        "gridcolor": "white",
                        "linecolor": "white",
                        "ticks": ""
                      }
                    },
                    "title": {
                      "x": 0.05
                    },
                    "xaxis": {
                      "automargin": true,
                      "gridcolor": "white",
                      "linecolor": "white",
                      "ticks": "",
                      "title": {
                        "standoff": 15
                      },
                      "zerolinecolor": "white",
                      "zerolinewidth": 2
                    },
                    "yaxis": {
                      "automargin": true,
                      "gridcolor": "white",
                      "linecolor": "white",
                      "ticks": "",
                      "title": {
                        "standoff": 15
                      },
                      "zerolinecolor": "white",
                      "zerolinewidth": 2
                    }
                  }
                },
                "xaxis": {
                  "anchor": "y",
                  "domain": [
                    0,
                    1
                  ],
                  "title": {
                    "text": "Date"
                  }
                },
                "yaxis": {
                  "anchor": "x",
                  "domain": [
                    0,
                    1
                  ],
                  "title": {
                    "text": "Number of messages"
                  }
                }
              }
            }
          },
          "metadata": {},
          "output_type": "display_data"
        }
      ],
      "source": [
        "px.line(x=num_messages_per_date.index, y=num_messages_per_date.values, labels={'x': 'Date', 'y': 'Number of messages'})"
      ]
    },
    {
      "cell_type": "markdown",
      "metadata": {},
      "source": [
        "Honestly, I did not expect to see this boost in the number of messages starting from May 17.  The May 19 messages counts 71.3K which is near double of earlier days.\n",
        "\n",
        "To compare the messages poster before/after May 17, the Y-range is adjusted below."
      ]
    },
    {
      "cell_type": "code",
      "execution_count": 83,
      "metadata": {},
      "outputs": [
        {
          "data": {
            "application/vnd.plotly.v1+json": {
              "config": {
                "plotlyServerURL": "https://plot.ly"
              },
              "data": [
                {
                  "hovertemplate": "Date=%{x}<br>Number of messages=%{y}<extra></extra>",
                  "legendgroup": "",
                  "line": {
                    "color": "#636efa",
                    "dash": "solid"
                  },
                  "marker": {
                    "symbol": "circle"
                  },
                  "mode": "lines",
                  "name": "",
                  "orientation": "v",
                  "showlegend": false,
                  "type": "scatter",
                  "x": [
                    "2011-04-30",
                    "2011-05-01",
                    "2011-05-02",
                    "2011-05-03",
                    "2011-05-04",
                    "2011-05-05",
                    "2011-05-06",
                    "2011-05-07",
                    "2011-05-08",
                    "2011-05-09",
                    "2011-05-10",
                    "2011-05-11",
                    "2011-05-12",
                    "2011-05-13",
                    "2011-05-14",
                    "2011-05-15",
                    "2011-05-16",
                    "2011-05-17",
                    "2011-05-18",
                    "2011-05-19",
                    "2011-05-20"
                  ],
                  "xaxis": "x",
                  "y": [
                    44322,
                    45245,
                    45072,
                    44373,
                    46657,
                    44395,
                    44970,
                    46291,
                    44438,
                    44706,
                    44760,
                    46772,
                    45234,
                    46662,
                    45550,
                    44951,
                    48966,
                    46524,
                    61863,
                    71269,
                    69866
                  ],
                  "yaxis": "y"
                }
              ],
              "layout": {
                "legend": {
                  "tracegroupgap": 0
                },
                "margin": {
                  "t": 60
                },
                "template": {
                  "data": {
                    "bar": [
                      {
                        "error_x": {
                          "color": "#2a3f5f"
                        },
                        "error_y": {
                          "color": "#2a3f5f"
                        },
                        "marker": {
                          "line": {
                            "color": "#E5ECF6",
                            "width": 0.5
                          },
                          "pattern": {
                            "fillmode": "overlay",
                            "size": 10,
                            "solidity": 0.2
                          }
                        },
                        "type": "bar"
                      }
                    ],
                    "barpolar": [
                      {
                        "marker": {
                          "line": {
                            "color": "#E5ECF6",
                            "width": 0.5
                          },
                          "pattern": {
                            "fillmode": "overlay",
                            "size": 10,
                            "solidity": 0.2
                          }
                        },
                        "type": "barpolar"
                      }
                    ],
                    "carpet": [
                      {
                        "aaxis": {
                          "endlinecolor": "#2a3f5f",
                          "gridcolor": "white",
                          "linecolor": "white",
                          "minorgridcolor": "white",
                          "startlinecolor": "#2a3f5f"
                        },
                        "baxis": {
                          "endlinecolor": "#2a3f5f",
                          "gridcolor": "white",
                          "linecolor": "white",
                          "minorgridcolor": "white",
                          "startlinecolor": "#2a3f5f"
                        },
                        "type": "carpet"
                      }
                    ],
                    "choropleth": [
                      {
                        "colorbar": {
                          "outlinewidth": 0,
                          "ticks": ""
                        },
                        "type": "choropleth"
                      }
                    ],
                    "contour": [
                      {
                        "colorbar": {
                          "outlinewidth": 0,
                          "ticks": ""
                        },
                        "colorscale": [
                          [
                            0,
                            "#0d0887"
                          ],
                          [
                            0.1111111111111111,
                            "#46039f"
                          ],
                          [
                            0.2222222222222222,
                            "#7201a8"
                          ],
                          [
                            0.3333333333333333,
                            "#9c179e"
                          ],
                          [
                            0.4444444444444444,
                            "#bd3786"
                          ],
                          [
                            0.5555555555555556,
                            "#d8576b"
                          ],
                          [
                            0.6666666666666666,
                            "#ed7953"
                          ],
                          [
                            0.7777777777777778,
                            "#fb9f3a"
                          ],
                          [
                            0.8888888888888888,
                            "#fdca26"
                          ],
                          [
                            1,
                            "#f0f921"
                          ]
                        ],
                        "type": "contour"
                      }
                    ],
                    "contourcarpet": [
                      {
                        "colorbar": {
                          "outlinewidth": 0,
                          "ticks": ""
                        },
                        "type": "contourcarpet"
                      }
                    ],
                    "heatmap": [
                      {
                        "colorbar": {
                          "outlinewidth": 0,
                          "ticks": ""
                        },
                        "colorscale": [
                          [
                            0,
                            "#0d0887"
                          ],
                          [
                            0.1111111111111111,
                            "#46039f"
                          ],
                          [
                            0.2222222222222222,
                            "#7201a8"
                          ],
                          [
                            0.3333333333333333,
                            "#9c179e"
                          ],
                          [
                            0.4444444444444444,
                            "#bd3786"
                          ],
                          [
                            0.5555555555555556,
                            "#d8576b"
                          ],
                          [
                            0.6666666666666666,
                            "#ed7953"
                          ],
                          [
                            0.7777777777777778,
                            "#fb9f3a"
                          ],
                          [
                            0.8888888888888888,
                            "#fdca26"
                          ],
                          [
                            1,
                            "#f0f921"
                          ]
                        ],
                        "type": "heatmap"
                      }
                    ],
                    "heatmapgl": [
                      {
                        "colorbar": {
                          "outlinewidth": 0,
                          "ticks": ""
                        },
                        "colorscale": [
                          [
                            0,
                            "#0d0887"
                          ],
                          [
                            0.1111111111111111,
                            "#46039f"
                          ],
                          [
                            0.2222222222222222,
                            "#7201a8"
                          ],
                          [
                            0.3333333333333333,
                            "#9c179e"
                          ],
                          [
                            0.4444444444444444,
                            "#bd3786"
                          ],
                          [
                            0.5555555555555556,
                            "#d8576b"
                          ],
                          [
                            0.6666666666666666,
                            "#ed7953"
                          ],
                          [
                            0.7777777777777778,
                            "#fb9f3a"
                          ],
                          [
                            0.8888888888888888,
                            "#fdca26"
                          ],
                          [
                            1,
                            "#f0f921"
                          ]
                        ],
                        "type": "heatmapgl"
                      }
                    ],
                    "histogram": [
                      {
                        "marker": {
                          "pattern": {
                            "fillmode": "overlay",
                            "size": 10,
                            "solidity": 0.2
                          }
                        },
                        "type": "histogram"
                      }
                    ],
                    "histogram2d": [
                      {
                        "colorbar": {
                          "outlinewidth": 0,
                          "ticks": ""
                        },
                        "colorscale": [
                          [
                            0,
                            "#0d0887"
                          ],
                          [
                            0.1111111111111111,
                            "#46039f"
                          ],
                          [
                            0.2222222222222222,
                            "#7201a8"
                          ],
                          [
                            0.3333333333333333,
                            "#9c179e"
                          ],
                          [
                            0.4444444444444444,
                            "#bd3786"
                          ],
                          [
                            0.5555555555555556,
                            "#d8576b"
                          ],
                          [
                            0.6666666666666666,
                            "#ed7953"
                          ],
                          [
                            0.7777777777777778,
                            "#fb9f3a"
                          ],
                          [
                            0.8888888888888888,
                            "#fdca26"
                          ],
                          [
                            1,
                            "#f0f921"
                          ]
                        ],
                        "type": "histogram2d"
                      }
                    ],
                    "histogram2dcontour": [
                      {
                        "colorbar": {
                          "outlinewidth": 0,
                          "ticks": ""
                        },
                        "colorscale": [
                          [
                            0,
                            "#0d0887"
                          ],
                          [
                            0.1111111111111111,
                            "#46039f"
                          ],
                          [
                            0.2222222222222222,
                            "#7201a8"
                          ],
                          [
                            0.3333333333333333,
                            "#9c179e"
                          ],
                          [
                            0.4444444444444444,
                            "#bd3786"
                          ],
                          [
                            0.5555555555555556,
                            "#d8576b"
                          ],
                          [
                            0.6666666666666666,
                            "#ed7953"
                          ],
                          [
                            0.7777777777777778,
                            "#fb9f3a"
                          ],
                          [
                            0.8888888888888888,
                            "#fdca26"
                          ],
                          [
                            1,
                            "#f0f921"
                          ]
                        ],
                        "type": "histogram2dcontour"
                      }
                    ],
                    "mesh3d": [
                      {
                        "colorbar": {
                          "outlinewidth": 0,
                          "ticks": ""
                        },
                        "type": "mesh3d"
                      }
                    ],
                    "parcoords": [
                      {
                        "line": {
                          "colorbar": {
                            "outlinewidth": 0,
                            "ticks": ""
                          }
                        },
                        "type": "parcoords"
                      }
                    ],
                    "pie": [
                      {
                        "automargin": true,
                        "type": "pie"
                      }
                    ],
                    "scatter": [
                      {
                        "fillpattern": {
                          "fillmode": "overlay",
                          "size": 10,
                          "solidity": 0.2
                        },
                        "type": "scatter"
                      }
                    ],
                    "scatter3d": [
                      {
                        "line": {
                          "colorbar": {
                            "outlinewidth": 0,
                            "ticks": ""
                          }
                        },
                        "marker": {
                          "colorbar": {
                            "outlinewidth": 0,
                            "ticks": ""
                          }
                        },
                        "type": "scatter3d"
                      }
                    ],
                    "scattercarpet": [
                      {
                        "marker": {
                          "colorbar": {
                            "outlinewidth": 0,
                            "ticks": ""
                          }
                        },
                        "type": "scattercarpet"
                      }
                    ],
                    "scattergeo": [
                      {
                        "marker": {
                          "colorbar": {
                            "outlinewidth": 0,
                            "ticks": ""
                          }
                        },
                        "type": "scattergeo"
                      }
                    ],
                    "scattergl": [
                      {
                        "marker": {
                          "colorbar": {
                            "outlinewidth": 0,
                            "ticks": ""
                          }
                        },
                        "type": "scattergl"
                      }
                    ],
                    "scattermapbox": [
                      {
                        "marker": {
                          "colorbar": {
                            "outlinewidth": 0,
                            "ticks": ""
                          }
                        },
                        "type": "scattermapbox"
                      }
                    ],
                    "scatterpolar": [
                      {
                        "marker": {
                          "colorbar": {
                            "outlinewidth": 0,
                            "ticks": ""
                          }
                        },
                        "type": "scatterpolar"
                      }
                    ],
                    "scatterpolargl": [
                      {
                        "marker": {
                          "colorbar": {
                            "outlinewidth": 0,
                            "ticks": ""
                          }
                        },
                        "type": "scatterpolargl"
                      }
                    ],
                    "scatterternary": [
                      {
                        "marker": {
                          "colorbar": {
                            "outlinewidth": 0,
                            "ticks": ""
                          }
                        },
                        "type": "scatterternary"
                      }
                    ],
                    "surface": [
                      {
                        "colorbar": {
                          "outlinewidth": 0,
                          "ticks": ""
                        },
                        "colorscale": [
                          [
                            0,
                            "#0d0887"
                          ],
                          [
                            0.1111111111111111,
                            "#46039f"
                          ],
                          [
                            0.2222222222222222,
                            "#7201a8"
                          ],
                          [
                            0.3333333333333333,
                            "#9c179e"
                          ],
                          [
                            0.4444444444444444,
                            "#bd3786"
                          ],
                          [
                            0.5555555555555556,
                            "#d8576b"
                          ],
                          [
                            0.6666666666666666,
                            "#ed7953"
                          ],
                          [
                            0.7777777777777778,
                            "#fb9f3a"
                          ],
                          [
                            0.8888888888888888,
                            "#fdca26"
                          ],
                          [
                            1,
                            "#f0f921"
                          ]
                        ],
                        "type": "surface"
                      }
                    ],
                    "table": [
                      {
                        "cells": {
                          "fill": {
                            "color": "#EBF0F8"
                          },
                          "line": {
                            "color": "white"
                          }
                        },
                        "header": {
                          "fill": {
                            "color": "#C8D4E3"
                          },
                          "line": {
                            "color": "white"
                          }
                        },
                        "type": "table"
                      }
                    ]
                  },
                  "layout": {
                    "annotationdefaults": {
                      "arrowcolor": "#2a3f5f",
                      "arrowhead": 0,
                      "arrowwidth": 1
                    },
                    "autotypenumbers": "strict",
                    "coloraxis": {
                      "colorbar": {
                        "outlinewidth": 0,
                        "ticks": ""
                      }
                    },
                    "colorscale": {
                      "diverging": [
                        [
                          0,
                          "#8e0152"
                        ],
                        [
                          0.1,
                          "#c51b7d"
                        ],
                        [
                          0.2,
                          "#de77ae"
                        ],
                        [
                          0.3,
                          "#f1b6da"
                        ],
                        [
                          0.4,
                          "#fde0ef"
                        ],
                        [
                          0.5,
                          "#f7f7f7"
                        ],
                        [
                          0.6,
                          "#e6f5d0"
                        ],
                        [
                          0.7,
                          "#b8e186"
                        ],
                        [
                          0.8,
                          "#7fbc41"
                        ],
                        [
                          0.9,
                          "#4d9221"
                        ],
                        [
                          1,
                          "#276419"
                        ]
                      ],
                      "sequential": [
                        [
                          0,
                          "#0d0887"
                        ],
                        [
                          0.1111111111111111,
                          "#46039f"
                        ],
                        [
                          0.2222222222222222,
                          "#7201a8"
                        ],
                        [
                          0.3333333333333333,
                          "#9c179e"
                        ],
                        [
                          0.4444444444444444,
                          "#bd3786"
                        ],
                        [
                          0.5555555555555556,
                          "#d8576b"
                        ],
                        [
                          0.6666666666666666,
                          "#ed7953"
                        ],
                        [
                          0.7777777777777778,
                          "#fb9f3a"
                        ],
                        [
                          0.8888888888888888,
                          "#fdca26"
                        ],
                        [
                          1,
                          "#f0f921"
                        ]
                      ],
                      "sequentialminus": [
                        [
                          0,
                          "#0d0887"
                        ],
                        [
                          0.1111111111111111,
                          "#46039f"
                        ],
                        [
                          0.2222222222222222,
                          "#7201a8"
                        ],
                        [
                          0.3333333333333333,
                          "#9c179e"
                        ],
                        [
                          0.4444444444444444,
                          "#bd3786"
                        ],
                        [
                          0.5555555555555556,
                          "#d8576b"
                        ],
                        [
                          0.6666666666666666,
                          "#ed7953"
                        ],
                        [
                          0.7777777777777778,
                          "#fb9f3a"
                        ],
                        [
                          0.8888888888888888,
                          "#fdca26"
                        ],
                        [
                          1,
                          "#f0f921"
                        ]
                      ]
                    },
                    "colorway": [
                      "#636efa",
                      "#EF553B",
                      "#00cc96",
                      "#ab63fa",
                      "#FFA15A",
                      "#19d3f3",
                      "#FF6692",
                      "#B6E880",
                      "#FF97FF",
                      "#FECB52"
                    ],
                    "font": {
                      "color": "#2a3f5f"
                    },
                    "geo": {
                      "bgcolor": "white",
                      "lakecolor": "white",
                      "landcolor": "#E5ECF6",
                      "showlakes": true,
                      "showland": true,
                      "subunitcolor": "white"
                    },
                    "hoverlabel": {
                      "align": "left"
                    },
                    "hovermode": "closest",
                    "mapbox": {
                      "style": "light"
                    },
                    "paper_bgcolor": "white",
                    "plot_bgcolor": "#E5ECF6",
                    "polar": {
                      "angularaxis": {
                        "gridcolor": "white",
                        "linecolor": "white",
                        "ticks": ""
                      },
                      "bgcolor": "#E5ECF6",
                      "radialaxis": {
                        "gridcolor": "white",
                        "linecolor": "white",
                        "ticks": ""
                      }
                    },
                    "scene": {
                      "xaxis": {
                        "backgroundcolor": "#E5ECF6",
                        "gridcolor": "white",
                        "gridwidth": 2,
                        "linecolor": "white",
                        "showbackground": true,
                        "ticks": "",
                        "zerolinecolor": "white"
                      },
                      "yaxis": {
                        "backgroundcolor": "#E5ECF6",
                        "gridcolor": "white",
                        "gridwidth": 2,
                        "linecolor": "white",
                        "showbackground": true,
                        "ticks": "",
                        "zerolinecolor": "white"
                      },
                      "zaxis": {
                        "backgroundcolor": "#E5ECF6",
                        "gridcolor": "white",
                        "gridwidth": 2,
                        "linecolor": "white",
                        "showbackground": true,
                        "ticks": "",
                        "zerolinecolor": "white"
                      }
                    },
                    "shapedefaults": {
                      "line": {
                        "color": "#2a3f5f"
                      }
                    },
                    "ternary": {
                      "aaxis": {
                        "gridcolor": "white",
                        "linecolor": "white",
                        "ticks": ""
                      },
                      "baxis": {
                        "gridcolor": "white",
                        "linecolor": "white",
                        "ticks": ""
                      },
                      "bgcolor": "#E5ECF6",
                      "caxis": {
                        "gridcolor": "white",
                        "linecolor": "white",
                        "ticks": ""
                      }
                    },
                    "title": {
                      "x": 0.05
                    },
                    "xaxis": {
                      "automargin": true,
                      "gridcolor": "white",
                      "linecolor": "white",
                      "ticks": "",
                      "title": {
                        "standoff": 15
                      },
                      "zerolinecolor": "white",
                      "zerolinewidth": 2
                    },
                    "yaxis": {
                      "automargin": true,
                      "gridcolor": "white",
                      "linecolor": "white",
                      "ticks": "",
                      "title": {
                        "standoff": 15
                      },
                      "zerolinecolor": "white",
                      "zerolinewidth": 2
                    }
                  }
                },
                "xaxis": {
                  "anchor": "y",
                  "domain": [
                    0,
                    1
                  ],
                  "title": {
                    "text": "Date"
                  }
                },
                "yaxis": {
                  "anchor": "x",
                  "domain": [
                    0,
                    1
                  ],
                  "range": [
                    0,
                    78395.90000000001
                  ],
                  "title": {
                    "text": "Number of messages"
                  }
                }
              }
            }
          },
          "metadata": {},
          "output_type": "display_data"
        }
      ],
      "source": [
        "Range_MessageCounts = [0, num_messages_per_date.values.max() * 1.1]\n",
        "\n",
        "px.line(x=num_messages_per_date.index, y=num_messages_per_date.values,\n",
        "        range_y=Range_MessageCounts,\n",
        "        labels={'x': 'Date', 'y': 'Number of messages'})"
      ]
    },
    {
      "cell_type": "markdown",
      "metadata": {},
      "source": [
        "# Looking into May 15 - May 19 in per-hour\n",
        "\n",
        "It may seem the `.groupby(...dt.hour)` technique work..."
      ]
    },
    {
      "cell_type": "code",
      "execution_count": 67,
      "metadata": {},
      "outputs": [
        {
          "data": {
            "text/plain": [
              "Created_at\n",
              "0     10052\n",
              "1     12722\n",
              "2     12720\n",
              "      ...  \n",
              "21    27260\n",
              "22    19720\n",
              "23    13637\n",
              "Length: 24, dtype: int64"
            ]
          },
          "execution_count": 67,
          "metadata": {},
          "output_type": "execute_result"
        }
      ],
      "source": [
        "MessagesAfterMay16 = Messages.loc['2011-05-15':]\n",
        "MessagesAfterMay16.loc['2011-05-15':].groupby(MessagesAfterMay16.Created_at.dt.hour).size()"
      ]
    },
    {
      "cell_type": "markdown",
      "metadata": {},
      "source": [
        "but this is not what we intended, because message are grouped by hours ignoring date.  What we want to do is "
      ]
    },
    {
      "cell_type": "code",
      "execution_count": 68,
      "metadata": {},
      "outputs": [
        {
          "data": {
            "text/plain": [
              "Created_at\n",
              "2011-05-15 00:00:00    1555\n",
              "2011-05-15 01:00:00    2092\n",
              "2011-05-15 02:00:00    1749\n",
              "                       ... \n",
              "2011-05-20 21:00:00    5020\n",
              "2011-05-20 22:00:00    3828\n",
              "2011-05-20 23:00:00    2774\n",
              "Freq: H, Length: 144, dtype: int64"
            ]
          },
          "execution_count": 68,
          "metadata": {},
          "output_type": "execute_result"
        }
      ],
      "source": [
        "Messages.loc['2011-05-15':].groupby(pd.Grouper(key='Created_at', freq='H')).size()"
      ]
    },
    {
      "cell_type": "code",
      "execution_count": 84,
      "metadata": {},
      "outputs": [
        {
          "data": {
            "application/vnd.plotly.v1+json": {
              "config": {
                "plotlyServerURL": "https://plot.ly"
              },
              "data": [
                {
                  "hovertemplate": "Date-Hour=%{x}<br>Number of messages=%{y}<extra></extra>",
                  "legendgroup": "",
                  "line": {
                    "color": "#636efa",
                    "dash": "solid"
                  },
                  "marker": {
                    "symbol": "circle"
                  },
                  "mode": "lines",
                  "name": "",
                  "orientation": "v",
                  "showlegend": false,
                  "type": "scatter",
                  "x": [
                    "2011-05-15T00:00:00",
                    "2011-05-15T01:00:00",
                    "2011-05-15T02:00:00",
                    "2011-05-15T03:00:00",
                    "2011-05-15T04:00:00",
                    "2011-05-15T05:00:00",
                    "2011-05-15T06:00:00",
                    "2011-05-15T07:00:00",
                    "2011-05-15T08:00:00",
                    "2011-05-15T09:00:00",
                    "2011-05-15T10:00:00",
                    "2011-05-15T11:00:00",
                    "2011-05-15T12:00:00",
                    "2011-05-15T13:00:00",
                    "2011-05-15T14:00:00",
                    "2011-05-15T15:00:00",
                    "2011-05-15T16:00:00",
                    "2011-05-15T17:00:00",
                    "2011-05-15T18:00:00",
                    "2011-05-15T19:00:00",
                    "2011-05-15T20:00:00",
                    "2011-05-15T21:00:00",
                    "2011-05-15T22:00:00",
                    "2011-05-15T23:00:00",
                    "2011-05-16T00:00:00",
                    "2011-05-16T01:00:00",
                    "2011-05-16T02:00:00",
                    "2011-05-16T03:00:00",
                    "2011-05-16T04:00:00",
                    "2011-05-16T05:00:00",
                    "2011-05-16T06:00:00",
                    "2011-05-16T07:00:00",
                    "2011-05-16T08:00:00",
                    "2011-05-16T09:00:00",
                    "2011-05-16T10:00:00",
                    "2011-05-16T11:00:00",
                    "2011-05-16T12:00:00",
                    "2011-05-16T13:00:00",
                    "2011-05-16T14:00:00",
                    "2011-05-16T15:00:00",
                    "2011-05-16T16:00:00",
                    "2011-05-16T17:00:00",
                    "2011-05-16T18:00:00",
                    "2011-05-16T19:00:00",
                    "2011-05-16T20:00:00",
                    "2011-05-16T21:00:00",
                    "2011-05-16T22:00:00",
                    "2011-05-16T23:00:00",
                    "2011-05-17T00:00:00",
                    "2011-05-17T01:00:00",
                    "2011-05-17T02:00:00",
                    "2011-05-17T03:00:00",
                    "2011-05-17T04:00:00",
                    "2011-05-17T05:00:00",
                    "2011-05-17T06:00:00",
                    "2011-05-17T07:00:00",
                    "2011-05-17T08:00:00",
                    "2011-05-17T09:00:00",
                    "2011-05-17T10:00:00",
                    "2011-05-17T11:00:00",
                    "2011-05-17T12:00:00",
                    "2011-05-17T13:00:00",
                    "2011-05-17T14:00:00",
                    "2011-05-17T15:00:00",
                    "2011-05-17T16:00:00",
                    "2011-05-17T17:00:00",
                    "2011-05-17T18:00:00",
                    "2011-05-17T19:00:00",
                    "2011-05-17T20:00:00",
                    "2011-05-17T21:00:00",
                    "2011-05-17T22:00:00",
                    "2011-05-17T23:00:00",
                    "2011-05-18T00:00:00",
                    "2011-05-18T01:00:00",
                    "2011-05-18T02:00:00",
                    "2011-05-18T03:00:00",
                    "2011-05-18T04:00:00",
                    "2011-05-18T05:00:00",
                    "2011-05-18T06:00:00",
                    "2011-05-18T07:00:00",
                    "2011-05-18T08:00:00",
                    "2011-05-18T09:00:00",
                    "2011-05-18T10:00:00",
                    "2011-05-18T11:00:00",
                    "2011-05-18T12:00:00",
                    "2011-05-18T13:00:00",
                    "2011-05-18T14:00:00",
                    "2011-05-18T15:00:00",
                    "2011-05-18T16:00:00",
                    "2011-05-18T17:00:00",
                    "2011-05-18T18:00:00",
                    "2011-05-18T19:00:00",
                    "2011-05-18T20:00:00",
                    "2011-05-18T21:00:00",
                    "2011-05-18T22:00:00",
                    "2011-05-18T23:00:00",
                    "2011-05-19T00:00:00",
                    "2011-05-19T01:00:00",
                    "2011-05-19T02:00:00",
                    "2011-05-19T03:00:00",
                    "2011-05-19T04:00:00",
                    "2011-05-19T05:00:00",
                    "2011-05-19T06:00:00",
                    "2011-05-19T07:00:00",
                    "2011-05-19T08:00:00",
                    "2011-05-19T09:00:00",
                    "2011-05-19T10:00:00",
                    "2011-05-19T11:00:00",
                    "2011-05-19T12:00:00",
                    "2011-05-19T13:00:00",
                    "2011-05-19T14:00:00",
                    "2011-05-19T15:00:00",
                    "2011-05-19T16:00:00",
                    "2011-05-19T17:00:00",
                    "2011-05-19T18:00:00",
                    "2011-05-19T19:00:00",
                    "2011-05-19T20:00:00",
                    "2011-05-19T21:00:00",
                    "2011-05-19T22:00:00",
                    "2011-05-19T23:00:00",
                    "2011-05-20T00:00:00",
                    "2011-05-20T01:00:00",
                    "2011-05-20T02:00:00",
                    "2011-05-20T03:00:00",
                    "2011-05-20T04:00:00",
                    "2011-05-20T05:00:00",
                    "2011-05-20T06:00:00",
                    "2011-05-20T07:00:00",
                    "2011-05-20T08:00:00",
                    "2011-05-20T09:00:00",
                    "2011-05-20T10:00:00",
                    "2011-05-20T11:00:00",
                    "2011-05-20T12:00:00",
                    "2011-05-20T13:00:00",
                    "2011-05-20T14:00:00",
                    "2011-05-20T15:00:00",
                    "2011-05-20T16:00:00",
                    "2011-05-20T17:00:00",
                    "2011-05-20T18:00:00",
                    "2011-05-20T19:00:00",
                    "2011-05-20T20:00:00",
                    "2011-05-20T21:00:00",
                    "2011-05-20T22:00:00",
                    "2011-05-20T23:00:00"
                  ],
                  "xaxis": "x",
                  "y": [
                    1555,
                    2092,
                    1749,
                    2116,
                    1589,
                    1582,
                    1488,
                    1352,
                    1118,
                    1090,
                    1250,
                    1473,
                    1530,
                    1724,
                    1838,
                    1919,
                    2086,
                    2288,
                    2007,
                    2187,
                    2436,
                    4000,
                    2733,
                    1749,
                    1572,
                    1986,
                    1759,
                    2181,
                    1609,
                    1520,
                    1450,
                    1682,
                    1421,
                    1442,
                    1588,
                    1671,
                    1827,
                    2103,
                    2158,
                    2203,
                    2557,
                    2552,
                    2249,
                    2218,
                    2499,
                    4154,
                    2780,
                    1785,
                    1621,
                    1966,
                    1741,
                    2199,
                    1582,
                    1552,
                    1496,
                    1346,
                    1076,
                    1278,
                    1418,
                    1602,
                    1692,
                    1913,
                    1983,
                    2111,
                    2225,
                    2352,
                    2106,
                    2292,
                    2644,
                    3988,
                    2666,
                    1675,
                    1402,
                    2038,
                    1886,
                    2340,
                    1790,
                    1685,
                    1623,
                    1508,
                    1992,
                    2197,
                    2338,
                    2519,
                    2497,
                    2835,
                    2734,
                    2857,
                    3114,
                    3127,
                    3846,
                    2893,
                    3197,
                    4858,
                    3855,
                    2732,
                    1795,
                    2187,
                    2622,
                    3055,
                    2516,
                    2443,
                    2438,
                    2245,
                    2630,
                    2630,
                    2735,
                    3021,
                    2964,
                    3079,
                    3180,
                    3135,
                    3436,
                    3414,
                    2970,
                    3194,
                    3560,
                    5240,
                    3858,
                    2922,
                    2107,
                    2453,
                    2963,
                    3317,
                    2790,
                    2777,
                    2670,
                    2589,
                    2386,
                    2309,
                    2475,
                    2602,
                    2686,
                    2877,
                    2864,
                    2875,
                    3099,
                    3218,
                    2864,
                    3023,
                    3300,
                    5020,
                    3828,
                    2774
                  ],
                  "yaxis": "y"
                }
              ],
              "layout": {
                "legend": {
                  "tracegroupgap": 0
                },
                "margin": {
                  "t": 60
                },
                "template": {
                  "data": {
                    "bar": [
                      {
                        "error_x": {
                          "color": "#2a3f5f"
                        },
                        "error_y": {
                          "color": "#2a3f5f"
                        },
                        "marker": {
                          "line": {
                            "color": "#E5ECF6",
                            "width": 0.5
                          },
                          "pattern": {
                            "fillmode": "overlay",
                            "size": 10,
                            "solidity": 0.2
                          }
                        },
                        "type": "bar"
                      }
                    ],
                    "barpolar": [
                      {
                        "marker": {
                          "line": {
                            "color": "#E5ECF6",
                            "width": 0.5
                          },
                          "pattern": {
                            "fillmode": "overlay",
                            "size": 10,
                            "solidity": 0.2
                          }
                        },
                        "type": "barpolar"
                      }
                    ],
                    "carpet": [
                      {
                        "aaxis": {
                          "endlinecolor": "#2a3f5f",
                          "gridcolor": "white",
                          "linecolor": "white",
                          "minorgridcolor": "white",
                          "startlinecolor": "#2a3f5f"
                        },
                        "baxis": {
                          "endlinecolor": "#2a3f5f",
                          "gridcolor": "white",
                          "linecolor": "white",
                          "minorgridcolor": "white",
                          "startlinecolor": "#2a3f5f"
                        },
                        "type": "carpet"
                      }
                    ],
                    "choropleth": [
                      {
                        "colorbar": {
                          "outlinewidth": 0,
                          "ticks": ""
                        },
                        "type": "choropleth"
                      }
                    ],
                    "contour": [
                      {
                        "colorbar": {
                          "outlinewidth": 0,
                          "ticks": ""
                        },
                        "colorscale": [
                          [
                            0,
                            "#0d0887"
                          ],
                          [
                            0.1111111111111111,
                            "#46039f"
                          ],
                          [
                            0.2222222222222222,
                            "#7201a8"
                          ],
                          [
                            0.3333333333333333,
                            "#9c179e"
                          ],
                          [
                            0.4444444444444444,
                            "#bd3786"
                          ],
                          [
                            0.5555555555555556,
                            "#d8576b"
                          ],
                          [
                            0.6666666666666666,
                            "#ed7953"
                          ],
                          [
                            0.7777777777777778,
                            "#fb9f3a"
                          ],
                          [
                            0.8888888888888888,
                            "#fdca26"
                          ],
                          [
                            1,
                            "#f0f921"
                          ]
                        ],
                        "type": "contour"
                      }
                    ],
                    "contourcarpet": [
                      {
                        "colorbar": {
                          "outlinewidth": 0,
                          "ticks": ""
                        },
                        "type": "contourcarpet"
                      }
                    ],
                    "heatmap": [
                      {
                        "colorbar": {
                          "outlinewidth": 0,
                          "ticks": ""
                        },
                        "colorscale": [
                          [
                            0,
                            "#0d0887"
                          ],
                          [
                            0.1111111111111111,
                            "#46039f"
                          ],
                          [
                            0.2222222222222222,
                            "#7201a8"
                          ],
                          [
                            0.3333333333333333,
                            "#9c179e"
                          ],
                          [
                            0.4444444444444444,
                            "#bd3786"
                          ],
                          [
                            0.5555555555555556,
                            "#d8576b"
                          ],
                          [
                            0.6666666666666666,
                            "#ed7953"
                          ],
                          [
                            0.7777777777777778,
                            "#fb9f3a"
                          ],
                          [
                            0.8888888888888888,
                            "#fdca26"
                          ],
                          [
                            1,
                            "#f0f921"
                          ]
                        ],
                        "type": "heatmap"
                      }
                    ],
                    "heatmapgl": [
                      {
                        "colorbar": {
                          "outlinewidth": 0,
                          "ticks": ""
                        },
                        "colorscale": [
                          [
                            0,
                            "#0d0887"
                          ],
                          [
                            0.1111111111111111,
                            "#46039f"
                          ],
                          [
                            0.2222222222222222,
                            "#7201a8"
                          ],
                          [
                            0.3333333333333333,
                            "#9c179e"
                          ],
                          [
                            0.4444444444444444,
                            "#bd3786"
                          ],
                          [
                            0.5555555555555556,
                            "#d8576b"
                          ],
                          [
                            0.6666666666666666,
                            "#ed7953"
                          ],
                          [
                            0.7777777777777778,
                            "#fb9f3a"
                          ],
                          [
                            0.8888888888888888,
                            "#fdca26"
                          ],
                          [
                            1,
                            "#f0f921"
                          ]
                        ],
                        "type": "heatmapgl"
                      }
                    ],
                    "histogram": [
                      {
                        "marker": {
                          "pattern": {
                            "fillmode": "overlay",
                            "size": 10,
                            "solidity": 0.2
                          }
                        },
                        "type": "histogram"
                      }
                    ],
                    "histogram2d": [
                      {
                        "colorbar": {
                          "outlinewidth": 0,
                          "ticks": ""
                        },
                        "colorscale": [
                          [
                            0,
                            "#0d0887"
                          ],
                          [
                            0.1111111111111111,
                            "#46039f"
                          ],
                          [
                            0.2222222222222222,
                            "#7201a8"
                          ],
                          [
                            0.3333333333333333,
                            "#9c179e"
                          ],
                          [
                            0.4444444444444444,
                            "#bd3786"
                          ],
                          [
                            0.5555555555555556,
                            "#d8576b"
                          ],
                          [
                            0.6666666666666666,
                            "#ed7953"
                          ],
                          [
                            0.7777777777777778,
                            "#fb9f3a"
                          ],
                          [
                            0.8888888888888888,
                            "#fdca26"
                          ],
                          [
                            1,
                            "#f0f921"
                          ]
                        ],
                        "type": "histogram2d"
                      }
                    ],
                    "histogram2dcontour": [
                      {
                        "colorbar": {
                          "outlinewidth": 0,
                          "ticks": ""
                        },
                        "colorscale": [
                          [
                            0,
                            "#0d0887"
                          ],
                          [
                            0.1111111111111111,
                            "#46039f"
                          ],
                          [
                            0.2222222222222222,
                            "#7201a8"
                          ],
                          [
                            0.3333333333333333,
                            "#9c179e"
                          ],
                          [
                            0.4444444444444444,
                            "#bd3786"
                          ],
                          [
                            0.5555555555555556,
                            "#d8576b"
                          ],
                          [
                            0.6666666666666666,
                            "#ed7953"
                          ],
                          [
                            0.7777777777777778,
                            "#fb9f3a"
                          ],
                          [
                            0.8888888888888888,
                            "#fdca26"
                          ],
                          [
                            1,
                            "#f0f921"
                          ]
                        ],
                        "type": "histogram2dcontour"
                      }
                    ],
                    "mesh3d": [
                      {
                        "colorbar": {
                          "outlinewidth": 0,
                          "ticks": ""
                        },
                        "type": "mesh3d"
                      }
                    ],
                    "parcoords": [
                      {
                        "line": {
                          "colorbar": {
                            "outlinewidth": 0,
                            "ticks": ""
                          }
                        },
                        "type": "parcoords"
                      }
                    ],
                    "pie": [
                      {
                        "automargin": true,
                        "type": "pie"
                      }
                    ],
                    "scatter": [
                      {
                        "fillpattern": {
                          "fillmode": "overlay",
                          "size": 10,
                          "solidity": 0.2
                        },
                        "type": "scatter"
                      }
                    ],
                    "scatter3d": [
                      {
                        "line": {
                          "colorbar": {
                            "outlinewidth": 0,
                            "ticks": ""
                          }
                        },
                        "marker": {
                          "colorbar": {
                            "outlinewidth": 0,
                            "ticks": ""
                          }
                        },
                        "type": "scatter3d"
                      }
                    ],
                    "scattercarpet": [
                      {
                        "marker": {
                          "colorbar": {
                            "outlinewidth": 0,
                            "ticks": ""
                          }
                        },
                        "type": "scattercarpet"
                      }
                    ],
                    "scattergeo": [
                      {
                        "marker": {
                          "colorbar": {
                            "outlinewidth": 0,
                            "ticks": ""
                          }
                        },
                        "type": "scattergeo"
                      }
                    ],
                    "scattergl": [
                      {
                        "marker": {
                          "colorbar": {
                            "outlinewidth": 0,
                            "ticks": ""
                          }
                        },
                        "type": "scattergl"
                      }
                    ],
                    "scattermapbox": [
                      {
                        "marker": {
                          "colorbar": {
                            "outlinewidth": 0,
                            "ticks": ""
                          }
                        },
                        "type": "scattermapbox"
                      }
                    ],
                    "scatterpolar": [
                      {
                        "marker": {
                          "colorbar": {
                            "outlinewidth": 0,
                            "ticks": ""
                          }
                        },
                        "type": "scatterpolar"
                      }
                    ],
                    "scatterpolargl": [
                      {
                        "marker": {
                          "colorbar": {
                            "outlinewidth": 0,
                            "ticks": ""
                          }
                        },
                        "type": "scatterpolargl"
                      }
                    ],
                    "scatterternary": [
                      {
                        "marker": {
                          "colorbar": {
                            "outlinewidth": 0,
                            "ticks": ""
                          }
                        },
                        "type": "scatterternary"
                      }
                    ],
                    "surface": [
                      {
                        "colorbar": {
                          "outlinewidth": 0,
                          "ticks": ""
                        },
                        "colorscale": [
                          [
                            0,
                            "#0d0887"
                          ],
                          [
                            0.1111111111111111,
                            "#46039f"
                          ],
                          [
                            0.2222222222222222,
                            "#7201a8"
                          ],
                          [
                            0.3333333333333333,
                            "#9c179e"
                          ],
                          [
                            0.4444444444444444,
                            "#bd3786"
                          ],
                          [
                            0.5555555555555556,
                            "#d8576b"
                          ],
                          [
                            0.6666666666666666,
                            "#ed7953"
                          ],
                          [
                            0.7777777777777778,
                            "#fb9f3a"
                          ],
                          [
                            0.8888888888888888,
                            "#fdca26"
                          ],
                          [
                            1,
                            "#f0f921"
                          ]
                        ],
                        "type": "surface"
                      }
                    ],
                    "table": [
                      {
                        "cells": {
                          "fill": {
                            "color": "#EBF0F8"
                          },
                          "line": {
                            "color": "white"
                          }
                        },
                        "header": {
                          "fill": {
                            "color": "#C8D4E3"
                          },
                          "line": {
                            "color": "white"
                          }
                        },
                        "type": "table"
                      }
                    ]
                  },
                  "layout": {
                    "annotationdefaults": {
                      "arrowcolor": "#2a3f5f",
                      "arrowhead": 0,
                      "arrowwidth": 1
                    },
                    "autotypenumbers": "strict",
                    "coloraxis": {
                      "colorbar": {
                        "outlinewidth": 0,
                        "ticks": ""
                      }
                    },
                    "colorscale": {
                      "diverging": [
                        [
                          0,
                          "#8e0152"
                        ],
                        [
                          0.1,
                          "#c51b7d"
                        ],
                        [
                          0.2,
                          "#de77ae"
                        ],
                        [
                          0.3,
                          "#f1b6da"
                        ],
                        [
                          0.4,
                          "#fde0ef"
                        ],
                        [
                          0.5,
                          "#f7f7f7"
                        ],
                        [
                          0.6,
                          "#e6f5d0"
                        ],
                        [
                          0.7,
                          "#b8e186"
                        ],
                        [
                          0.8,
                          "#7fbc41"
                        ],
                        [
                          0.9,
                          "#4d9221"
                        ],
                        [
                          1,
                          "#276419"
                        ]
                      ],
                      "sequential": [
                        [
                          0,
                          "#0d0887"
                        ],
                        [
                          0.1111111111111111,
                          "#46039f"
                        ],
                        [
                          0.2222222222222222,
                          "#7201a8"
                        ],
                        [
                          0.3333333333333333,
                          "#9c179e"
                        ],
                        [
                          0.4444444444444444,
                          "#bd3786"
                        ],
                        [
                          0.5555555555555556,
                          "#d8576b"
                        ],
                        [
                          0.6666666666666666,
                          "#ed7953"
                        ],
                        [
                          0.7777777777777778,
                          "#fb9f3a"
                        ],
                        [
                          0.8888888888888888,
                          "#fdca26"
                        ],
                        [
                          1,
                          "#f0f921"
                        ]
                      ],
                      "sequentialminus": [
                        [
                          0,
                          "#0d0887"
                        ],
                        [
                          0.1111111111111111,
                          "#46039f"
                        ],
                        [
                          0.2222222222222222,
                          "#7201a8"
                        ],
                        [
                          0.3333333333333333,
                          "#9c179e"
                        ],
                        [
                          0.4444444444444444,
                          "#bd3786"
                        ],
                        [
                          0.5555555555555556,
                          "#d8576b"
                        ],
                        [
                          0.6666666666666666,
                          "#ed7953"
                        ],
                        [
                          0.7777777777777778,
                          "#fb9f3a"
                        ],
                        [
                          0.8888888888888888,
                          "#fdca26"
                        ],
                        [
                          1,
                          "#f0f921"
                        ]
                      ]
                    },
                    "colorway": [
                      "#636efa",
                      "#EF553B",
                      "#00cc96",
                      "#ab63fa",
                      "#FFA15A",
                      "#19d3f3",
                      "#FF6692",
                      "#B6E880",
                      "#FF97FF",
                      "#FECB52"
                    ],
                    "font": {
                      "color": "#2a3f5f"
                    },
                    "geo": {
                      "bgcolor": "white",
                      "lakecolor": "white",
                      "landcolor": "#E5ECF6",
                      "showlakes": true,
                      "showland": true,
                      "subunitcolor": "white"
                    },
                    "hoverlabel": {
                      "align": "left"
                    },
                    "hovermode": "closest",
                    "mapbox": {
                      "style": "light"
                    },
                    "paper_bgcolor": "white",
                    "plot_bgcolor": "#E5ECF6",
                    "polar": {
                      "angularaxis": {
                        "gridcolor": "white",
                        "linecolor": "white",
                        "ticks": ""
                      },
                      "bgcolor": "#E5ECF6",
                      "radialaxis": {
                        "gridcolor": "white",
                        "linecolor": "white",
                        "ticks": ""
                      }
                    },
                    "scene": {
                      "xaxis": {
                        "backgroundcolor": "#E5ECF6",
                        "gridcolor": "white",
                        "gridwidth": 2,
                        "linecolor": "white",
                        "showbackground": true,
                        "ticks": "",
                        "zerolinecolor": "white"
                      },
                      "yaxis": {
                        "backgroundcolor": "#E5ECF6",
                        "gridcolor": "white",
                        "gridwidth": 2,
                        "linecolor": "white",
                        "showbackground": true,
                        "ticks": "",
                        "zerolinecolor": "white"
                      },
                      "zaxis": {
                        "backgroundcolor": "#E5ECF6",
                        "gridcolor": "white",
                        "gridwidth": 2,
                        "linecolor": "white",
                        "showbackground": true,
                        "ticks": "",
                        "zerolinecolor": "white"
                      }
                    },
                    "shapedefaults": {
                      "line": {
                        "color": "#2a3f5f"
                      }
                    },
                    "ternary": {
                      "aaxis": {
                        "gridcolor": "white",
                        "linecolor": "white",
                        "ticks": ""
                      },
                      "baxis": {
                        "gridcolor": "white",
                        "linecolor": "white",
                        "ticks": ""
                      },
                      "bgcolor": "#E5ECF6",
                      "caxis": {
                        "gridcolor": "white",
                        "linecolor": "white",
                        "ticks": ""
                      }
                    },
                    "title": {
                      "x": 0.05
                    },
                    "xaxis": {
                      "automargin": true,
                      "gridcolor": "white",
                      "linecolor": "white",
                      "ticks": "",
                      "title": {
                        "standoff": 15
                      },
                      "zerolinecolor": "white",
                      "zerolinewidth": 2
                    },
                    "yaxis": {
                      "automargin": true,
                      "gridcolor": "white",
                      "linecolor": "white",
                      "ticks": "",
                      "title": {
                        "standoff": 15
                      },
                      "zerolinecolor": "white",
                      "zerolinewidth": 2
                    }
                  }
                },
                "xaxis": {
                  "anchor": "y",
                  "domain": [
                    0,
                    1
                  ],
                  "title": {
                    "text": "Date-Hour"
                  }
                },
                "yaxis": {
                  "anchor": "x",
                  "domain": [
                    0,
                    1
                  ],
                  "range": [
                    0,
                    5764.000000000001
                  ],
                  "title": {
                    "text": "Number of messages"
                  }
                }
              }
            }
          },
          "metadata": {},
          "output_type": "display_data"
        }
      ],
      "source": [
        "def _():\n",
        "    messages = Messages.loc['2011-05-15':].groupby(pd.Grouper(key='Created_at', freq='H')).size()\n",
        "    range_y = [0, messages.values.max() * 1.1]\n",
        "    px.line(x=messages.index, y=messages.values,\n",
        "            range_y=range_y,\n",
        "            labels={'x': 'Date-Hour', 'y': 'Number of messages'}).show()\n",
        "\n",
        "_()"
      ]
    },
    {
      "cell_type": "markdown",
      "metadata": {},
      "source": [
        "This result is interesting. The data up to May 17th probably shows the normal daily patterns of the people of Vastopolis.\n",
        "The spike at 9pm is probably because people tend to use social networking sites after dinner. It seems that the people of this city go to bed at 11pm.\n",
        "From morning to evening, the level of activity on social networking sites gradually increases.\n",
        "Apart from the fact that there is a higher volume of messages in the early morning on May 17, there are no noticeable changes. On May 18, in addition to the trends from the previous day, the volume of messages during the day has increased.\n",
        "On May 19th and 20th, the volume of messages sent at night was double the usual amount. Something seems to be happening."
      ]
    },
    {
      "cell_type": "markdown",
      "metadata": {},
      "source": [
        "# "
      ]
    },
    {
      "cell_type": "markdown",
      "metadata": {},
      "source": [
        "# Symptom-related Message Counts\n",
        "\n",
        "Up to this point, we have simply observed the number of messages without looking at the content of the messages.\n",
        "Now, let's observe the number of messages that contain words related to the symptoms.\n",
        "\n",
        "Up to this point, we have simply observed the number of messages without looking at the content of the messages.\n",
        "Now, let's observe the number of messages that contain words related to the symptoms.\n",
        "\n",
        "First, we will add an attribute that expresses whether or not each message contains various symptoms as a Boolean value. For example, if the `chill` attribute value of a certain message is `True`, it means that the message contains the word \"chill\". If the attribute value is `False`, it means that the message does not contain \"chill\"."
      ]
    },
    {
      "cell_type": "markdown",
      "metadata": {},
      "source": []
    },
    {
      "cell_type": "code",
      "execution_count": 85,
      "metadata": {},
      "outputs": [
        {
          "data": {
            "text/plain": [
              "Created_at\n",
              "2011-04-30 00:00:00    False\n",
              "2011-04-30 00:00:00    False\n",
              "2011-04-30 00:00:00    False\n",
              "                       ...  \n",
              "2011-05-20 23:59:00    False\n",
              "2011-05-20 23:59:00    False\n",
              "2011-05-20 23:59:00     True\n",
              "Name: text, Length: 1022886, dtype: bool"
            ]
          },
          "execution_count": 85,
          "metadata": {},
          "output_type": "execute_result"
        }
      ],
      "source": [
        "Messages.text.str.contains('fever')"
      ]
    },
    {
      "cell_type": "code",
      "execution_count": 95,
      "metadata": {},
      "outputs": [
        {
          "data": {
            "text/plain": [
              "['fever',\n",
              " 'chill',\n",
              " 'sweat',\n",
              " 'ache',\n",
              " 'pain',\n",
              " 'fatigue',\n",
              " 'cough',\n",
              " 'breath',\n",
              " 'nausea',\n",
              " 'vomit']"
            ]
          },
          "execution_count": 95,
          "metadata": {},
          "output_type": "execute_result"
        }
      ],
      "source": [
        "Symptoms"
      ]
    },
    {
      "cell_type": "code",
      "execution_count": 103,
      "metadata": {},
      "outputs": [
        {
          "data": {
            "text/html": [
              "<div>\n",
              "<style scoped>\n",
              "    .dataframe tbody tr th:only-of-type {\n",
              "        vertical-align: middle;\n",
              "    }\n",
              "\n",
              "    .dataframe tbody tr th {\n",
              "        vertical-align: top;\n",
              "    }\n",
              "\n",
              "    .dataframe thead th {\n",
              "        text-align: right;\n",
              "    }\n",
              "</style>\n",
              "<table border=\"1\" class=\"dataframe\">\n",
              "  <thead>\n",
              "    <tr style=\"text-align: right;\">\n",
              "      <th></th>\n",
              "      <th>ID</th>\n",
              "      <th>Created_at</th>\n",
              "      <th>text</th>\n",
              "      <th>latitude</th>\n",
              "      <th>longitude</th>\n",
              "      <th>fever</th>\n",
              "      <th>chill</th>\n",
              "      <th>sweat</th>\n",
              "      <th>ache</th>\n",
              "      <th>pain</th>\n",
              "      <th>fatigue</th>\n",
              "      <th>cough</th>\n",
              "      <th>breath</th>\n",
              "      <th>nausea</th>\n",
              "      <th>vomit</th>\n",
              "      <th>symptoms</th>\n",
              "    </tr>\n",
              "    <tr>\n",
              "      <th>Created_at</th>\n",
              "      <th></th>\n",
              "      <th></th>\n",
              "      <th></th>\n",
              "      <th></th>\n",
              "      <th></th>\n",
              "      <th></th>\n",
              "      <th></th>\n",
              "      <th></th>\n",
              "      <th></th>\n",
              "      <th></th>\n",
              "      <th></th>\n",
              "      <th></th>\n",
              "      <th></th>\n",
              "      <th></th>\n",
              "      <th></th>\n",
              "      <th></th>\n",
              "    </tr>\n",
              "  </thead>\n",
              "  <tbody>\n",
              "    <tr>\n",
              "      <th>2011-04-30 00:00:00</th>\n",
              "      <td>3779</td>\n",
              "      <td>2011-04-30 00:00:00</td>\n",
              "      <td>#dontyoujusthateitwhen people touch your hair!...</td>\n",
              "      <td>42.18</td>\n",
              "      <td>93.54</td>\n",
              "      <td>False</td>\n",
              "      <td>False</td>\n",
              "      <td>False</td>\n",
              "      <td>False</td>\n",
              "      <td>False</td>\n",
              "      <td>False</td>\n",
              "      <td>False</td>\n",
              "      <td>False</td>\n",
              "      <td>False</td>\n",
              "      <td>False</td>\n",
              "      <td>False</td>\n",
              "    </tr>\n",
              "    <tr>\n",
              "      <th>2011-04-30 00:00:00</th>\n",
              "      <td>4656</td>\n",
              "      <td>2011-04-30 00:00:00</td>\n",
              "      <td>Alle kleren van me ouder uit de klerenkast hal...</td>\n",
              "      <td>42.29</td>\n",
              "      <td>93.51</td>\n",
              "      <td>False</td>\n",
              "      <td>False</td>\n",
              "      <td>False</td>\n",
              "      <td>False</td>\n",
              "      <td>False</td>\n",
              "      <td>False</td>\n",
              "      <td>False</td>\n",
              "      <td>False</td>\n",
              "      <td>False</td>\n",
              "      <td>False</td>\n",
              "      <td>False</td>\n",
              "    </tr>\n",
              "    <tr>\n",
              "      <th>2011-04-30 00:00:00</th>\n",
              "      <td>20692</td>\n",
              "      <td>2011-04-30 00:00:00</td>\n",
              "      <td>Normally I'd be excited to go play 18 on a sat...</td>\n",
              "      <td>42.17</td>\n",
              "      <td>93.23</td>\n",
              "      <td>False</td>\n",
              "      <td>False</td>\n",
              "      <td>False</td>\n",
              "      <td>False</td>\n",
              "      <td>False</td>\n",
              "      <td>False</td>\n",
              "      <td>False</td>\n",
              "      <td>False</td>\n",
              "      <td>False</td>\n",
              "      <td>False</td>\n",
              "      <td>False</td>\n",
              "    </tr>\n",
              "    <tr>\n",
              "      <th>...</th>\n",
              "      <td>...</td>\n",
              "      <td>...</td>\n",
              "      <td>...</td>\n",
              "      <td>...</td>\n",
              "      <td>...</td>\n",
              "      <td>...</td>\n",
              "      <td>...</td>\n",
              "      <td>...</td>\n",
              "      <td>...</td>\n",
              "      <td>...</td>\n",
              "      <td>...</td>\n",
              "      <td>...</td>\n",
              "      <td>...</td>\n",
              "      <td>...</td>\n",
              "      <td>...</td>\n",
              "      <td>...</td>\n",
              "    </tr>\n",
              "    <tr>\n",
              "      <th>2011-05-20 23:59:00</th>\n",
              "      <td>168923</td>\n",
              "      <td>2011-05-20 23:59:00</td>\n",
              "      <td>Is just worn out</td>\n",
              "      <td>42.25</td>\n",
              "      <td>93.31</td>\n",
              "      <td>False</td>\n",
              "      <td>False</td>\n",
              "      <td>False</td>\n",
              "      <td>False</td>\n",
              "      <td>False</td>\n",
              "      <td>False</td>\n",
              "      <td>False</td>\n",
              "      <td>False</td>\n",
              "      <td>False</td>\n",
              "      <td>False</td>\n",
              "      <td>False</td>\n",
              "    </tr>\n",
              "    <tr>\n",
              "      <th>2011-05-20 23:59:00</th>\n",
              "      <td>171438</td>\n",
              "      <td>2011-05-20 23:59:00</td>\n",
              "      <td>the whole day has just been terrible I have co...</td>\n",
              "      <td>42.23</td>\n",
              "      <td>93.29</td>\n",
              "      <td>False</td>\n",
              "      <td>True</td>\n",
              "      <td>False</td>\n",
              "      <td>False</td>\n",
              "      <td>False</td>\n",
              "      <td>False</td>\n",
              "      <td>False</td>\n",
              "      <td>False</td>\n",
              "      <td>False</td>\n",
              "      <td>False</td>\n",
              "      <td>True</td>\n",
              "    </tr>\n",
              "    <tr>\n",
              "      <th>2011-05-20 23:59:00</th>\n",
              "      <td>172464</td>\n",
              "      <td>2011-05-20 23:59:00</td>\n",
              "      <td>this fever is making it tough to have a life a...</td>\n",
              "      <td>42.25</td>\n",
              "      <td>93.42</td>\n",
              "      <td>True</td>\n",
              "      <td>False</td>\n",
              "      <td>False</td>\n",
              "      <td>False</td>\n",
              "      <td>False</td>\n",
              "      <td>False</td>\n",
              "      <td>False</td>\n",
              "      <td>False</td>\n",
              "      <td>False</td>\n",
              "      <td>False</td>\n",
              "      <td>True</td>\n",
              "    </tr>\n",
              "  </tbody>\n",
              "</table>\n",
              "<p>1022886 rows × 16 columns</p>\n",
              "</div>"
            ],
            "text/plain": [
              "                         ID          Created_at  \\\n",
              "Created_at                                        \n",
              "2011-04-30 00:00:00    3779 2011-04-30 00:00:00   \n",
              "2011-04-30 00:00:00    4656 2011-04-30 00:00:00   \n",
              "2011-04-30 00:00:00   20692 2011-04-30 00:00:00   \n",
              "...                     ...                 ...   \n",
              "2011-05-20 23:59:00  168923 2011-05-20 23:59:00   \n",
              "2011-05-20 23:59:00  171438 2011-05-20 23:59:00   \n",
              "2011-05-20 23:59:00  172464 2011-05-20 23:59:00   \n",
              "\n",
              "                                                                  text  \\\n",
              "Created_at                                                               \n",
              "2011-04-30 00:00:00  #dontyoujusthateitwhen people touch your hair!...   \n",
              "2011-04-30 00:00:00  Alle kleren van me ouder uit de klerenkast hal...   \n",
              "2011-04-30 00:00:00  Normally I'd be excited to go play 18 on a sat...   \n",
              "...                                                                ...   \n",
              "2011-05-20 23:59:00                                   Is just worn out   \n",
              "2011-05-20 23:59:00  the whole day has just been terrible I have co...   \n",
              "2011-05-20 23:59:00  this fever is making it tough to have a life a...   \n",
              "\n",
              "                     latitude  longitude  fever  chill  sweat   ache   pain  \\\n",
              "Created_at                                                                    \n",
              "2011-04-30 00:00:00     42.18      93.54  False  False  False  False  False   \n",
              "2011-04-30 00:00:00     42.29      93.51  False  False  False  False  False   \n",
              "2011-04-30 00:00:00     42.17      93.23  False  False  False  False  False   \n",
              "...                       ...        ...    ...    ...    ...    ...    ...   \n",
              "2011-05-20 23:59:00     42.25      93.31  False  False  False  False  False   \n",
              "2011-05-20 23:59:00     42.23      93.29  False   True  False  False  False   \n",
              "2011-05-20 23:59:00     42.25      93.42   True  False  False  False  False   \n",
              "\n",
              "                     fatigue  cough  breath  nausea  vomit  symptoms  \n",
              "Created_at                                                            \n",
              "2011-04-30 00:00:00    False  False   False   False  False     False  \n",
              "2011-04-30 00:00:00    False  False   False   False  False     False  \n",
              "2011-04-30 00:00:00    False  False   False   False  False     False  \n",
              "...                      ...    ...     ...     ...    ...       ...  \n",
              "2011-05-20 23:59:00    False  False   False   False  False     False  \n",
              "2011-05-20 23:59:00    False  False   False   False  False      True  \n",
              "2011-05-20 23:59:00    False  False   False   False  False      True  \n",
              "\n",
              "[1022886 rows x 16 columns]"
            ]
          },
          "execution_count": 103,
          "metadata": {},
          "output_type": "execute_result"
        }
      ],
      "source": [
        "for symptom in Symptoms:\n",
        "    Messages[symptom] = Messages.text.str.contains(symptom)\n",
        "Messages['symptoms'] = Messages[Symptoms].any(axis='columns')\n",
        "Messages"
      ]
    },
    {
      "cell_type": "markdown",
      "metadata": {},
      "source": [
        "## Counts of messages including symptoms"
      ]
    },
    {
      "cell_type": "code",
      "execution_count": 104,
      "metadata": {},
      "outputs": [
        {
          "data": {
            "application/vnd.plotly.v1+json": {
              "config": {
                "plotlyServerURL": "https://plot.ly"
              },
              "data": [
                {
                  "hovertemplate": "Date-Hour=%{x}<br>Number of messages=%{y}<extra></extra>",
                  "legendgroup": "",
                  "line": {
                    "color": "#636efa",
                    "dash": "solid"
                  },
                  "marker": {
                    "symbol": "circle"
                  },
                  "mode": "lines",
                  "name": "",
                  "orientation": "v",
                  "showlegend": false,
                  "type": "scatter",
                  "x": [
                    "2011-05-15T00:00:00",
                    "2011-05-15T01:00:00",
                    "2011-05-15T02:00:00",
                    "2011-05-15T03:00:00",
                    "2011-05-15T04:00:00",
                    "2011-05-15T05:00:00",
                    "2011-05-15T06:00:00",
                    "2011-05-15T07:00:00",
                    "2011-05-15T08:00:00",
                    "2011-05-15T09:00:00",
                    "2011-05-15T10:00:00",
                    "2011-05-15T11:00:00",
                    "2011-05-15T12:00:00",
                    "2011-05-15T13:00:00",
                    "2011-05-15T14:00:00",
                    "2011-05-15T15:00:00",
                    "2011-05-15T16:00:00",
                    "2011-05-15T17:00:00",
                    "2011-05-15T18:00:00",
                    "2011-05-15T19:00:00",
                    "2011-05-15T20:00:00",
                    "2011-05-15T21:00:00",
                    "2011-05-15T22:00:00",
                    "2011-05-15T23:00:00",
                    "2011-05-16T00:00:00",
                    "2011-05-16T01:00:00",
                    "2011-05-16T02:00:00",
                    "2011-05-16T03:00:00",
                    "2011-05-16T04:00:00",
                    "2011-05-16T05:00:00",
                    "2011-05-16T06:00:00",
                    "2011-05-16T07:00:00",
                    "2011-05-16T08:00:00",
                    "2011-05-16T09:00:00",
                    "2011-05-16T10:00:00",
                    "2011-05-16T11:00:00",
                    "2011-05-16T12:00:00",
                    "2011-05-16T13:00:00",
                    "2011-05-16T14:00:00",
                    "2011-05-16T15:00:00",
                    "2011-05-16T16:00:00",
                    "2011-05-16T17:00:00",
                    "2011-05-16T18:00:00",
                    "2011-05-16T19:00:00",
                    "2011-05-16T20:00:00",
                    "2011-05-16T21:00:00",
                    "2011-05-16T22:00:00",
                    "2011-05-16T23:00:00",
                    "2011-05-17T00:00:00",
                    "2011-05-17T01:00:00",
                    "2011-05-17T02:00:00",
                    "2011-05-17T03:00:00",
                    "2011-05-17T04:00:00",
                    "2011-05-17T05:00:00",
                    "2011-05-17T06:00:00",
                    "2011-05-17T07:00:00",
                    "2011-05-17T08:00:00",
                    "2011-05-17T09:00:00",
                    "2011-05-17T10:00:00",
                    "2011-05-17T11:00:00",
                    "2011-05-17T12:00:00",
                    "2011-05-17T13:00:00",
                    "2011-05-17T14:00:00",
                    "2011-05-17T15:00:00",
                    "2011-05-17T16:00:00",
                    "2011-05-17T17:00:00",
                    "2011-05-17T18:00:00",
                    "2011-05-17T19:00:00",
                    "2011-05-17T20:00:00",
                    "2011-05-17T21:00:00",
                    "2011-05-17T22:00:00",
                    "2011-05-17T23:00:00",
                    "2011-05-18T00:00:00",
                    "2011-05-18T01:00:00",
                    "2011-05-18T02:00:00",
                    "2011-05-18T03:00:00",
                    "2011-05-18T04:00:00",
                    "2011-05-18T05:00:00",
                    "2011-05-18T06:00:00",
                    "2011-05-18T07:00:00",
                    "2011-05-18T08:00:00",
                    "2011-05-18T09:00:00",
                    "2011-05-18T10:00:00",
                    "2011-05-18T11:00:00",
                    "2011-05-18T12:00:00",
                    "2011-05-18T13:00:00",
                    "2011-05-18T14:00:00",
                    "2011-05-18T15:00:00",
                    "2011-05-18T16:00:00",
                    "2011-05-18T17:00:00",
                    "2011-05-18T18:00:00",
                    "2011-05-18T19:00:00",
                    "2011-05-18T20:00:00",
                    "2011-05-18T21:00:00",
                    "2011-05-18T22:00:00",
                    "2011-05-18T23:00:00",
                    "2011-05-19T00:00:00",
                    "2011-05-19T01:00:00",
                    "2011-05-19T02:00:00",
                    "2011-05-19T03:00:00",
                    "2011-05-19T04:00:00",
                    "2011-05-19T05:00:00",
                    "2011-05-19T06:00:00",
                    "2011-05-19T07:00:00",
                    "2011-05-19T08:00:00",
                    "2011-05-19T09:00:00",
                    "2011-05-19T10:00:00",
                    "2011-05-19T11:00:00",
                    "2011-05-19T12:00:00",
                    "2011-05-19T13:00:00",
                    "2011-05-19T14:00:00",
                    "2011-05-19T15:00:00",
                    "2011-05-19T16:00:00",
                    "2011-05-19T17:00:00",
                    "2011-05-19T18:00:00",
                    "2011-05-19T19:00:00",
                    "2011-05-19T20:00:00",
                    "2011-05-19T21:00:00",
                    "2011-05-19T22:00:00",
                    "2011-05-19T23:00:00",
                    "2011-05-20T00:00:00",
                    "2011-05-20T01:00:00",
                    "2011-05-20T02:00:00",
                    "2011-05-20T03:00:00",
                    "2011-05-20T04:00:00",
                    "2011-05-20T05:00:00",
                    "2011-05-20T06:00:00",
                    "2011-05-20T07:00:00",
                    "2011-05-20T08:00:00",
                    "2011-05-20T09:00:00",
                    "2011-05-20T10:00:00",
                    "2011-05-20T11:00:00",
                    "2011-05-20T12:00:00",
                    "2011-05-20T13:00:00",
                    "2011-05-20T14:00:00",
                    "2011-05-20T15:00:00",
                    "2011-05-20T16:00:00",
                    "2011-05-20T17:00:00",
                    "2011-05-20T18:00:00",
                    "2011-05-20T19:00:00",
                    "2011-05-20T20:00:00",
                    "2011-05-20T21:00:00",
                    "2011-05-20T22:00:00",
                    "2011-05-20T23:00:00"
                  ],
                  "xaxis": "x",
                  "y": [
                    17,
                    35,
                    21,
                    33,
                    32,
                    25,
                    17,
                    14,
                    18,
                    16,
                    20,
                    15,
                    22,
                    25,
                    20,
                    32,
                    28,
                    25,
                    31,
                    29,
                    43,
                    55,
                    43,
                    22,
                    23,
                    27,
                    24,
                    39,
                    21,
                    21,
                    14,
                    19,
                    17,
                    18,
                    15,
                    24,
                    32,
                    30,
                    24,
                    23,
                    42,
                    28,
                    28,
                    30,
                    28,
                    66,
                    61,
                    24,
                    25,
                    44,
                    20,
                    30,
                    22,
                    34,
                    24,
                    25,
                    18,
                    17,
                    20,
                    24,
                    38,
                    33,
                    26,
                    30,
                    42,
                    37,
                    28,
                    39,
                    38,
                    68,
                    42,
                    33,
                    27,
                    108,
                    91,
                    110,
                    100,
                    108,
                    101,
                    84,
                    743,
                    730,
                    731,
                    783,
                    765,
                    698,
                    701,
                    737,
                    773,
                    744,
                    1631,
                    902,
                    838,
                    864,
                    963,
                    859,
                    365,
                    350,
                    654,
                    608,
                    645,
                    631,
                    656,
                    612,
                    775,
                    837,
                    789,
                    834,
                    814,
                    802,
                    792,
                    783,
                    790,
                    741,
                    782,
                    770,
                    781,
                    877,
                    764,
                    742,
                    353,
                    343,
                    519,
                    505,
                    509,
                    502,
                    456,
                    476,
                    463,
                    481,
                    482,
                    457,
                    485,
                    503,
                    485,
                    509,
                    447,
                    491,
                    519,
                    512,
                    493,
                    545,
                    493,
                    479
                  ],
                  "yaxis": "y"
                }
              ],
              "layout": {
                "legend": {
                  "tracegroupgap": 0
                },
                "margin": {
                  "t": 60
                },
                "template": {
                  "data": {
                    "bar": [
                      {
                        "error_x": {
                          "color": "#2a3f5f"
                        },
                        "error_y": {
                          "color": "#2a3f5f"
                        },
                        "marker": {
                          "line": {
                            "color": "#E5ECF6",
                            "width": 0.5
                          },
                          "pattern": {
                            "fillmode": "overlay",
                            "size": 10,
                            "solidity": 0.2
                          }
                        },
                        "type": "bar"
                      }
                    ],
                    "barpolar": [
                      {
                        "marker": {
                          "line": {
                            "color": "#E5ECF6",
                            "width": 0.5
                          },
                          "pattern": {
                            "fillmode": "overlay",
                            "size": 10,
                            "solidity": 0.2
                          }
                        },
                        "type": "barpolar"
                      }
                    ],
                    "carpet": [
                      {
                        "aaxis": {
                          "endlinecolor": "#2a3f5f",
                          "gridcolor": "white",
                          "linecolor": "white",
                          "minorgridcolor": "white",
                          "startlinecolor": "#2a3f5f"
                        },
                        "baxis": {
                          "endlinecolor": "#2a3f5f",
                          "gridcolor": "white",
                          "linecolor": "white",
                          "minorgridcolor": "white",
                          "startlinecolor": "#2a3f5f"
                        },
                        "type": "carpet"
                      }
                    ],
                    "choropleth": [
                      {
                        "colorbar": {
                          "outlinewidth": 0,
                          "ticks": ""
                        },
                        "type": "choropleth"
                      }
                    ],
                    "contour": [
                      {
                        "colorbar": {
                          "outlinewidth": 0,
                          "ticks": ""
                        },
                        "colorscale": [
                          [
                            0,
                            "#0d0887"
                          ],
                          [
                            0.1111111111111111,
                            "#46039f"
                          ],
                          [
                            0.2222222222222222,
                            "#7201a8"
                          ],
                          [
                            0.3333333333333333,
                            "#9c179e"
                          ],
                          [
                            0.4444444444444444,
                            "#bd3786"
                          ],
                          [
                            0.5555555555555556,
                            "#d8576b"
                          ],
                          [
                            0.6666666666666666,
                            "#ed7953"
                          ],
                          [
                            0.7777777777777778,
                            "#fb9f3a"
                          ],
                          [
                            0.8888888888888888,
                            "#fdca26"
                          ],
                          [
                            1,
                            "#f0f921"
                          ]
                        ],
                        "type": "contour"
                      }
                    ],
                    "contourcarpet": [
                      {
                        "colorbar": {
                          "outlinewidth": 0,
                          "ticks": ""
                        },
                        "type": "contourcarpet"
                      }
                    ],
                    "heatmap": [
                      {
                        "colorbar": {
                          "outlinewidth": 0,
                          "ticks": ""
                        },
                        "colorscale": [
                          [
                            0,
                            "#0d0887"
                          ],
                          [
                            0.1111111111111111,
                            "#46039f"
                          ],
                          [
                            0.2222222222222222,
                            "#7201a8"
                          ],
                          [
                            0.3333333333333333,
                            "#9c179e"
                          ],
                          [
                            0.4444444444444444,
                            "#bd3786"
                          ],
                          [
                            0.5555555555555556,
                            "#d8576b"
                          ],
                          [
                            0.6666666666666666,
                            "#ed7953"
                          ],
                          [
                            0.7777777777777778,
                            "#fb9f3a"
                          ],
                          [
                            0.8888888888888888,
                            "#fdca26"
                          ],
                          [
                            1,
                            "#f0f921"
                          ]
                        ],
                        "type": "heatmap"
                      }
                    ],
                    "heatmapgl": [
                      {
                        "colorbar": {
                          "outlinewidth": 0,
                          "ticks": ""
                        },
                        "colorscale": [
                          [
                            0,
                            "#0d0887"
                          ],
                          [
                            0.1111111111111111,
                            "#46039f"
                          ],
                          [
                            0.2222222222222222,
                            "#7201a8"
                          ],
                          [
                            0.3333333333333333,
                            "#9c179e"
                          ],
                          [
                            0.4444444444444444,
                            "#bd3786"
                          ],
                          [
                            0.5555555555555556,
                            "#d8576b"
                          ],
                          [
                            0.6666666666666666,
                            "#ed7953"
                          ],
                          [
                            0.7777777777777778,
                            "#fb9f3a"
                          ],
                          [
                            0.8888888888888888,
                            "#fdca26"
                          ],
                          [
                            1,
                            "#f0f921"
                          ]
                        ],
                        "type": "heatmapgl"
                      }
                    ],
                    "histogram": [
                      {
                        "marker": {
                          "pattern": {
                            "fillmode": "overlay",
                            "size": 10,
                            "solidity": 0.2
                          }
                        },
                        "type": "histogram"
                      }
                    ],
                    "histogram2d": [
                      {
                        "colorbar": {
                          "outlinewidth": 0,
                          "ticks": ""
                        },
                        "colorscale": [
                          [
                            0,
                            "#0d0887"
                          ],
                          [
                            0.1111111111111111,
                            "#46039f"
                          ],
                          [
                            0.2222222222222222,
                            "#7201a8"
                          ],
                          [
                            0.3333333333333333,
                            "#9c179e"
                          ],
                          [
                            0.4444444444444444,
                            "#bd3786"
                          ],
                          [
                            0.5555555555555556,
                            "#d8576b"
                          ],
                          [
                            0.6666666666666666,
                            "#ed7953"
                          ],
                          [
                            0.7777777777777778,
                            "#fb9f3a"
                          ],
                          [
                            0.8888888888888888,
                            "#fdca26"
                          ],
                          [
                            1,
                            "#f0f921"
                          ]
                        ],
                        "type": "histogram2d"
                      }
                    ],
                    "histogram2dcontour": [
                      {
                        "colorbar": {
                          "outlinewidth": 0,
                          "ticks": ""
                        },
                        "colorscale": [
                          [
                            0,
                            "#0d0887"
                          ],
                          [
                            0.1111111111111111,
                            "#46039f"
                          ],
                          [
                            0.2222222222222222,
                            "#7201a8"
                          ],
                          [
                            0.3333333333333333,
                            "#9c179e"
                          ],
                          [
                            0.4444444444444444,
                            "#bd3786"
                          ],
                          [
                            0.5555555555555556,
                            "#d8576b"
                          ],
                          [
                            0.6666666666666666,
                            "#ed7953"
                          ],
                          [
                            0.7777777777777778,
                            "#fb9f3a"
                          ],
                          [
                            0.8888888888888888,
                            "#fdca26"
                          ],
                          [
                            1,
                            "#f0f921"
                          ]
                        ],
                        "type": "histogram2dcontour"
                      }
                    ],
                    "mesh3d": [
                      {
                        "colorbar": {
                          "outlinewidth": 0,
                          "ticks": ""
                        },
                        "type": "mesh3d"
                      }
                    ],
                    "parcoords": [
                      {
                        "line": {
                          "colorbar": {
                            "outlinewidth": 0,
                            "ticks": ""
                          }
                        },
                        "type": "parcoords"
                      }
                    ],
                    "pie": [
                      {
                        "automargin": true,
                        "type": "pie"
                      }
                    ],
                    "scatter": [
                      {
                        "fillpattern": {
                          "fillmode": "overlay",
                          "size": 10,
                          "solidity": 0.2
                        },
                        "type": "scatter"
                      }
                    ],
                    "scatter3d": [
                      {
                        "line": {
                          "colorbar": {
                            "outlinewidth": 0,
                            "ticks": ""
                          }
                        },
                        "marker": {
                          "colorbar": {
                            "outlinewidth": 0,
                            "ticks": ""
                          }
                        },
                        "type": "scatter3d"
                      }
                    ],
                    "scattercarpet": [
                      {
                        "marker": {
                          "colorbar": {
                            "outlinewidth": 0,
                            "ticks": ""
                          }
                        },
                        "type": "scattercarpet"
                      }
                    ],
                    "scattergeo": [
                      {
                        "marker": {
                          "colorbar": {
                            "outlinewidth": 0,
                            "ticks": ""
                          }
                        },
                        "type": "scattergeo"
                      }
                    ],
                    "scattergl": [
                      {
                        "marker": {
                          "colorbar": {
                            "outlinewidth": 0,
                            "ticks": ""
                          }
                        },
                        "type": "scattergl"
                      }
                    ],
                    "scattermapbox": [
                      {
                        "marker": {
                          "colorbar": {
                            "outlinewidth": 0,
                            "ticks": ""
                          }
                        },
                        "type": "scattermapbox"
                      }
                    ],
                    "scatterpolar": [
                      {
                        "marker": {
                          "colorbar": {
                            "outlinewidth": 0,
                            "ticks": ""
                          }
                        },
                        "type": "scatterpolar"
                      }
                    ],
                    "scatterpolargl": [
                      {
                        "marker": {
                          "colorbar": {
                            "outlinewidth": 0,
                            "ticks": ""
                          }
                        },
                        "type": "scatterpolargl"
                      }
                    ],
                    "scatterternary": [
                      {
                        "marker": {
                          "colorbar": {
                            "outlinewidth": 0,
                            "ticks": ""
                          }
                        },
                        "type": "scatterternary"
                      }
                    ],
                    "surface": [
                      {
                        "colorbar": {
                          "outlinewidth": 0,
                          "ticks": ""
                        },
                        "colorscale": [
                          [
                            0,
                            "#0d0887"
                          ],
                          [
                            0.1111111111111111,
                            "#46039f"
                          ],
                          [
                            0.2222222222222222,
                            "#7201a8"
                          ],
                          [
                            0.3333333333333333,
                            "#9c179e"
                          ],
                          [
                            0.4444444444444444,
                            "#bd3786"
                          ],
                          [
                            0.5555555555555556,
                            "#d8576b"
                          ],
                          [
                            0.6666666666666666,
                            "#ed7953"
                          ],
                          [
                            0.7777777777777778,
                            "#fb9f3a"
                          ],
                          [
                            0.8888888888888888,
                            "#fdca26"
                          ],
                          [
                            1,
                            "#f0f921"
                          ]
                        ],
                        "type": "surface"
                      }
                    ],
                    "table": [
                      {
                        "cells": {
                          "fill": {
                            "color": "#EBF0F8"
                          },
                          "line": {
                            "color": "white"
                          }
                        },
                        "header": {
                          "fill": {
                            "color": "#C8D4E3"
                          },
                          "line": {
                            "color": "white"
                          }
                        },
                        "type": "table"
                      }
                    ]
                  },
                  "layout": {
                    "annotationdefaults": {
                      "arrowcolor": "#2a3f5f",
                      "arrowhead": 0,
                      "arrowwidth": 1
                    },
                    "autotypenumbers": "strict",
                    "coloraxis": {
                      "colorbar": {
                        "outlinewidth": 0,
                        "ticks": ""
                      }
                    },
                    "colorscale": {
                      "diverging": [
                        [
                          0,
                          "#8e0152"
                        ],
                        [
                          0.1,
                          "#c51b7d"
                        ],
                        [
                          0.2,
                          "#de77ae"
                        ],
                        [
                          0.3,
                          "#f1b6da"
                        ],
                        [
                          0.4,
                          "#fde0ef"
                        ],
                        [
                          0.5,
                          "#f7f7f7"
                        ],
                        [
                          0.6,
                          "#e6f5d0"
                        ],
                        [
                          0.7,
                          "#b8e186"
                        ],
                        [
                          0.8,
                          "#7fbc41"
                        ],
                        [
                          0.9,
                          "#4d9221"
                        ],
                        [
                          1,
                          "#276419"
                        ]
                      ],
                      "sequential": [
                        [
                          0,
                          "#0d0887"
                        ],
                        [
                          0.1111111111111111,
                          "#46039f"
                        ],
                        [
                          0.2222222222222222,
                          "#7201a8"
                        ],
                        [
                          0.3333333333333333,
                          "#9c179e"
                        ],
                        [
                          0.4444444444444444,
                          "#bd3786"
                        ],
                        [
                          0.5555555555555556,
                          "#d8576b"
                        ],
                        [
                          0.6666666666666666,
                          "#ed7953"
                        ],
                        [
                          0.7777777777777778,
                          "#fb9f3a"
                        ],
                        [
                          0.8888888888888888,
                          "#fdca26"
                        ],
                        [
                          1,
                          "#f0f921"
                        ]
                      ],
                      "sequentialminus": [
                        [
                          0,
                          "#0d0887"
                        ],
                        [
                          0.1111111111111111,
                          "#46039f"
                        ],
                        [
                          0.2222222222222222,
                          "#7201a8"
                        ],
                        [
                          0.3333333333333333,
                          "#9c179e"
                        ],
                        [
                          0.4444444444444444,
                          "#bd3786"
                        ],
                        [
                          0.5555555555555556,
                          "#d8576b"
                        ],
                        [
                          0.6666666666666666,
                          "#ed7953"
                        ],
                        [
                          0.7777777777777778,
                          "#fb9f3a"
                        ],
                        [
                          0.8888888888888888,
                          "#fdca26"
                        ],
                        [
                          1,
                          "#f0f921"
                        ]
                      ]
                    },
                    "colorway": [
                      "#636efa",
                      "#EF553B",
                      "#00cc96",
                      "#ab63fa",
                      "#FFA15A",
                      "#19d3f3",
                      "#FF6692",
                      "#B6E880",
                      "#FF97FF",
                      "#FECB52"
                    ],
                    "font": {
                      "color": "#2a3f5f"
                    },
                    "geo": {
                      "bgcolor": "white",
                      "lakecolor": "white",
                      "landcolor": "#E5ECF6",
                      "showlakes": true,
                      "showland": true,
                      "subunitcolor": "white"
                    },
                    "hoverlabel": {
                      "align": "left"
                    },
                    "hovermode": "closest",
                    "mapbox": {
                      "style": "light"
                    },
                    "paper_bgcolor": "white",
                    "plot_bgcolor": "#E5ECF6",
                    "polar": {
                      "angularaxis": {
                        "gridcolor": "white",
                        "linecolor": "white",
                        "ticks": ""
                      },
                      "bgcolor": "#E5ECF6",
                      "radialaxis": {
                        "gridcolor": "white",
                        "linecolor": "white",
                        "ticks": ""
                      }
                    },
                    "scene": {
                      "xaxis": {
                        "backgroundcolor": "#E5ECF6",
                        "gridcolor": "white",
                        "gridwidth": 2,
                        "linecolor": "white",
                        "showbackground": true,
                        "ticks": "",
                        "zerolinecolor": "white"
                      },
                      "yaxis": {
                        "backgroundcolor": "#E5ECF6",
                        "gridcolor": "white",
                        "gridwidth": 2,
                        "linecolor": "white",
                        "showbackground": true,
                        "ticks": "",
                        "zerolinecolor": "white"
                      },
                      "zaxis": {
                        "backgroundcolor": "#E5ECF6",
                        "gridcolor": "white",
                        "gridwidth": 2,
                        "linecolor": "white",
                        "showbackground": true,
                        "ticks": "",
                        "zerolinecolor": "white"
                      }
                    },
                    "shapedefaults": {
                      "line": {
                        "color": "#2a3f5f"
                      }
                    },
                    "ternary": {
                      "aaxis": {
                        "gridcolor": "white",
                        "linecolor": "white",
                        "ticks": ""
                      },
                      "baxis": {
                        "gridcolor": "white",
                        "linecolor": "white",
                        "ticks": ""
                      },
                      "bgcolor": "#E5ECF6",
                      "caxis": {
                        "gridcolor": "white",
                        "linecolor": "white",
                        "ticks": ""
                      }
                    },
                    "title": {
                      "x": 0.05
                    },
                    "xaxis": {
                      "automargin": true,
                      "gridcolor": "white",
                      "linecolor": "white",
                      "ticks": "",
                      "title": {
                        "standoff": 15
                      },
                      "zerolinecolor": "white",
                      "zerolinewidth": 2
                    },
                    "yaxis": {
                      "automargin": true,
                      "gridcolor": "white",
                      "linecolor": "white",
                      "ticks": "",
                      "title": {
                        "standoff": 15
                      },
                      "zerolinecolor": "white",
                      "zerolinewidth": 2
                    }
                  }
                },
                "xaxis": {
                  "anchor": "y",
                  "domain": [
                    0,
                    1
                  ],
                  "title": {
                    "text": "Date-Hour"
                  }
                },
                "yaxis": {
                  "anchor": "x",
                  "domain": [
                    0,
                    1
                  ],
                  "range": [
                    0,
                    1794.1000000000001
                  ],
                  "title": {
                    "text": "Number of messages"
                  }
                }
              }
            }
          },
          "metadata": {},
          "output_type": "display_data"
        }
      ],
      "source": [
        "def _():\n",
        "    messages = Messages.query('symptoms == True').loc['2011-05-15':].groupby(pd.Grouper(key='Created_at', freq='H')).size()\n",
        "    range_y = [0, messages.values.max() * 1.1]\n",
        "    px.line(x=messages.index, y=messages.values,\n",
        "            range_y=range_y,\n",
        "            labels={'x': 'Date-Hour', 'y': 'Number of messages'}).show()\n",
        "\n",
        "_()"
      ]
    },
    {
      "cell_type": "code",
      "execution_count": 155,
      "metadata": {},
      "outputs": [
        {
          "data": {
            "application/vnd.plotly.v1+json": {
              "config": {
                "plotlyServerURL": "https://plot.ly"
              },
              "data": [
                {
                  "hovertemplate": "Date-Hour=%{x}<br>Number of messages=%{y}<extra></extra>",
                  "legendgroup": "",
                  "line": {
                    "color": "#636efa",
                    "dash": "solid"
                  },
                  "marker": {
                    "symbol": "circle"
                  },
                  "mode": "lines",
                  "name": "",
                  "orientation": "v",
                  "showlegend": false,
                  "type": "scatter",
                  "x": [
                    "2011-05-15T00:00:00",
                    "2011-05-15T01:00:00",
                    "2011-05-15T02:00:00",
                    "2011-05-15T03:00:00",
                    "2011-05-15T04:00:00",
                    "2011-05-15T05:00:00",
                    "2011-05-15T06:00:00",
                    "2011-05-15T07:00:00",
                    "2011-05-15T08:00:00",
                    "2011-05-15T09:00:00",
                    "2011-05-15T10:00:00",
                    "2011-05-15T11:00:00",
                    "2011-05-15T12:00:00",
                    "2011-05-15T13:00:00",
                    "2011-05-15T14:00:00",
                    "2011-05-15T15:00:00",
                    "2011-05-15T16:00:00",
                    "2011-05-15T17:00:00",
                    "2011-05-15T18:00:00",
                    "2011-05-15T19:00:00",
                    "2011-05-15T20:00:00",
                    "2011-05-15T21:00:00",
                    "2011-05-15T22:00:00",
                    "2011-05-15T23:00:00",
                    "2011-05-16T00:00:00",
                    "2011-05-16T01:00:00",
                    "2011-05-16T02:00:00",
                    "2011-05-16T03:00:00",
                    "2011-05-16T04:00:00",
                    "2011-05-16T05:00:00",
                    "2011-05-16T06:00:00",
                    "2011-05-16T07:00:00",
                    "2011-05-16T08:00:00",
                    "2011-05-16T09:00:00",
                    "2011-05-16T10:00:00",
                    "2011-05-16T11:00:00",
                    "2011-05-16T12:00:00",
                    "2011-05-16T13:00:00",
                    "2011-05-16T14:00:00",
                    "2011-05-16T15:00:00",
                    "2011-05-16T16:00:00",
                    "2011-05-16T17:00:00",
                    "2011-05-16T18:00:00",
                    "2011-05-16T19:00:00",
                    "2011-05-16T20:00:00",
                    "2011-05-16T21:00:00",
                    "2011-05-16T22:00:00",
                    "2011-05-16T23:00:00",
                    "2011-05-17T00:00:00",
                    "2011-05-17T01:00:00",
                    "2011-05-17T02:00:00",
                    "2011-05-17T03:00:00",
                    "2011-05-17T04:00:00",
                    "2011-05-17T05:00:00",
                    "2011-05-17T06:00:00",
                    "2011-05-17T07:00:00",
                    "2011-05-17T08:00:00",
                    "2011-05-17T09:00:00",
                    "2011-05-17T10:00:00",
                    "2011-05-17T11:00:00",
                    "2011-05-17T12:00:00",
                    "2011-05-17T13:00:00",
                    "2011-05-17T14:00:00",
                    "2011-05-17T15:00:00",
                    "2011-05-17T16:00:00",
                    "2011-05-17T17:00:00",
                    "2011-05-17T18:00:00",
                    "2011-05-17T19:00:00",
                    "2011-05-17T20:00:00",
                    "2011-05-17T21:00:00",
                    "2011-05-17T22:00:00",
                    "2011-05-17T23:00:00",
                    "2011-05-18T00:00:00",
                    "2011-05-18T01:00:00",
                    "2011-05-18T02:00:00",
                    "2011-05-18T03:00:00",
                    "2011-05-18T04:00:00",
                    "2011-05-18T05:00:00",
                    "2011-05-18T06:00:00",
                    "2011-05-18T07:00:00",
                    "2011-05-18T08:00:00",
                    "2011-05-18T09:00:00",
                    "2011-05-18T10:00:00",
                    "2011-05-18T11:00:00",
                    "2011-05-18T12:00:00",
                    "2011-05-18T13:00:00",
                    "2011-05-18T14:00:00",
                    "2011-05-18T15:00:00",
                    "2011-05-18T16:00:00",
                    "2011-05-18T17:00:00",
                    "2011-05-18T18:00:00",
                    "2011-05-18T19:00:00",
                    "2011-05-18T20:00:00",
                    "2011-05-18T21:00:00",
                    "2011-05-18T22:00:00",
                    "2011-05-18T23:00:00",
                    "2011-05-19T00:00:00",
                    "2011-05-19T01:00:00",
                    "2011-05-19T02:00:00",
                    "2011-05-19T03:00:00",
                    "2011-05-19T04:00:00",
                    "2011-05-19T05:00:00",
                    "2011-05-19T06:00:00",
                    "2011-05-19T07:00:00",
                    "2011-05-19T08:00:00",
                    "2011-05-19T09:00:00",
                    "2011-05-19T10:00:00",
                    "2011-05-19T11:00:00",
                    "2011-05-19T12:00:00",
                    "2011-05-19T13:00:00",
                    "2011-05-19T14:00:00",
                    "2011-05-19T15:00:00",
                    "2011-05-19T16:00:00",
                    "2011-05-19T17:00:00",
                    "2011-05-19T18:00:00",
                    "2011-05-19T19:00:00",
                    "2011-05-19T20:00:00",
                    "2011-05-19T21:00:00",
                    "2011-05-19T22:00:00",
                    "2011-05-19T23:00:00",
                    "2011-05-20T00:00:00",
                    "2011-05-20T01:00:00",
                    "2011-05-20T02:00:00",
                    "2011-05-20T03:00:00",
                    "2011-05-20T04:00:00",
                    "2011-05-20T05:00:00",
                    "2011-05-20T06:00:00",
                    "2011-05-20T07:00:00",
                    "2011-05-20T08:00:00",
                    "2011-05-20T09:00:00",
                    "2011-05-20T10:00:00",
                    "2011-05-20T11:00:00",
                    "2011-05-20T12:00:00",
                    "2011-05-20T13:00:00",
                    "2011-05-20T14:00:00",
                    "2011-05-20T15:00:00",
                    "2011-05-20T16:00:00",
                    "2011-05-20T17:00:00",
                    "2011-05-20T18:00:00",
                    "2011-05-20T19:00:00",
                    "2011-05-20T20:00:00",
                    "2011-05-20T21:00:00",
                    "2011-05-20T22:00:00",
                    "2011-05-20T23:00:00"
                  ],
                  "xaxis": "x",
                  "y": [
                    17,
                    35,
                    21,
                    33,
                    32,
                    25,
                    17,
                    14,
                    18,
                    16,
                    20,
                    15,
                    22,
                    25,
                    20,
                    32,
                    28,
                    25,
                    31,
                    29,
                    43,
                    55,
                    43,
                    22,
                    23,
                    27,
                    24,
                    39,
                    21,
                    21,
                    14,
                    19,
                    17,
                    18,
                    15,
                    24,
                    32,
                    30,
                    24,
                    23,
                    42,
                    28,
                    28,
                    30,
                    28,
                    66,
                    61,
                    24,
                    25,
                    44,
                    20,
                    30,
                    22,
                    34,
                    24,
                    25,
                    18,
                    17,
                    20,
                    24,
                    38,
                    33,
                    26,
                    30,
                    42,
                    37,
                    28,
                    39,
                    38,
                    68,
                    42,
                    33,
                    27,
                    108,
                    91,
                    110,
                    100,
                    108,
                    101,
                    84,
                    743,
                    730,
                    731,
                    783,
                    765,
                    698,
                    701,
                    737,
                    773,
                    744,
                    1631,
                    902,
                    838,
                    864,
                    963,
                    859,
                    365,
                    350,
                    654,
                    608,
                    645,
                    631,
                    656,
                    612,
                    775,
                    837,
                    789,
                    834,
                    814,
                    802,
                    792,
                    783,
                    790,
                    741,
                    782,
                    770,
                    781,
                    877,
                    764,
                    742,
                    353,
                    343,
                    519,
                    505,
                    509,
                    502,
                    456,
                    476,
                    463,
                    481,
                    482,
                    457,
                    485,
                    503,
                    485,
                    509,
                    447,
                    491,
                    519,
                    512,
                    493,
                    545,
                    493,
                    479
                  ],
                  "yaxis": "y"
                }
              ],
              "layout": {
                "legend": {
                  "tracegroupgap": 0
                },
                "template": {
                  "data": {
                    "bar": [
                      {
                        "error_x": {
                          "color": "#2a3f5f"
                        },
                        "error_y": {
                          "color": "#2a3f5f"
                        },
                        "marker": {
                          "line": {
                            "color": "#E5ECF6",
                            "width": 0.5
                          },
                          "pattern": {
                            "fillmode": "overlay",
                            "size": 10,
                            "solidity": 0.2
                          }
                        },
                        "type": "bar"
                      }
                    ],
                    "barpolar": [
                      {
                        "marker": {
                          "line": {
                            "color": "#E5ECF6",
                            "width": 0.5
                          },
                          "pattern": {
                            "fillmode": "overlay",
                            "size": 10,
                            "solidity": 0.2
                          }
                        },
                        "type": "barpolar"
                      }
                    ],
                    "carpet": [
                      {
                        "aaxis": {
                          "endlinecolor": "#2a3f5f",
                          "gridcolor": "white",
                          "linecolor": "white",
                          "minorgridcolor": "white",
                          "startlinecolor": "#2a3f5f"
                        },
                        "baxis": {
                          "endlinecolor": "#2a3f5f",
                          "gridcolor": "white",
                          "linecolor": "white",
                          "minorgridcolor": "white",
                          "startlinecolor": "#2a3f5f"
                        },
                        "type": "carpet"
                      }
                    ],
                    "choropleth": [
                      {
                        "colorbar": {
                          "outlinewidth": 0,
                          "ticks": ""
                        },
                        "type": "choropleth"
                      }
                    ],
                    "contour": [
                      {
                        "colorbar": {
                          "outlinewidth": 0,
                          "ticks": ""
                        },
                        "colorscale": [
                          [
                            0,
                            "#0d0887"
                          ],
                          [
                            0.1111111111111111,
                            "#46039f"
                          ],
                          [
                            0.2222222222222222,
                            "#7201a8"
                          ],
                          [
                            0.3333333333333333,
                            "#9c179e"
                          ],
                          [
                            0.4444444444444444,
                            "#bd3786"
                          ],
                          [
                            0.5555555555555556,
                            "#d8576b"
                          ],
                          [
                            0.6666666666666666,
                            "#ed7953"
                          ],
                          [
                            0.7777777777777778,
                            "#fb9f3a"
                          ],
                          [
                            0.8888888888888888,
                            "#fdca26"
                          ],
                          [
                            1,
                            "#f0f921"
                          ]
                        ],
                        "type": "contour"
                      }
                    ],
                    "contourcarpet": [
                      {
                        "colorbar": {
                          "outlinewidth": 0,
                          "ticks": ""
                        },
                        "type": "contourcarpet"
                      }
                    ],
                    "heatmap": [
                      {
                        "colorbar": {
                          "outlinewidth": 0,
                          "ticks": ""
                        },
                        "colorscale": [
                          [
                            0,
                            "#0d0887"
                          ],
                          [
                            0.1111111111111111,
                            "#46039f"
                          ],
                          [
                            0.2222222222222222,
                            "#7201a8"
                          ],
                          [
                            0.3333333333333333,
                            "#9c179e"
                          ],
                          [
                            0.4444444444444444,
                            "#bd3786"
                          ],
                          [
                            0.5555555555555556,
                            "#d8576b"
                          ],
                          [
                            0.6666666666666666,
                            "#ed7953"
                          ],
                          [
                            0.7777777777777778,
                            "#fb9f3a"
                          ],
                          [
                            0.8888888888888888,
                            "#fdca26"
                          ],
                          [
                            1,
                            "#f0f921"
                          ]
                        ],
                        "type": "heatmap"
                      }
                    ],
                    "heatmapgl": [
                      {
                        "colorbar": {
                          "outlinewidth": 0,
                          "ticks": ""
                        },
                        "colorscale": [
                          [
                            0,
                            "#0d0887"
                          ],
                          [
                            0.1111111111111111,
                            "#46039f"
                          ],
                          [
                            0.2222222222222222,
                            "#7201a8"
                          ],
                          [
                            0.3333333333333333,
                            "#9c179e"
                          ],
                          [
                            0.4444444444444444,
                            "#bd3786"
                          ],
                          [
                            0.5555555555555556,
                            "#d8576b"
                          ],
                          [
                            0.6666666666666666,
                            "#ed7953"
                          ],
                          [
                            0.7777777777777778,
                            "#fb9f3a"
                          ],
                          [
                            0.8888888888888888,
                            "#fdca26"
                          ],
                          [
                            1,
                            "#f0f921"
                          ]
                        ],
                        "type": "heatmapgl"
                      }
                    ],
                    "histogram": [
                      {
                        "marker": {
                          "pattern": {
                            "fillmode": "overlay",
                            "size": 10,
                            "solidity": 0.2
                          }
                        },
                        "type": "histogram"
                      }
                    ],
                    "histogram2d": [
                      {
                        "colorbar": {
                          "outlinewidth": 0,
                          "ticks": ""
                        },
                        "colorscale": [
                          [
                            0,
                            "#0d0887"
                          ],
                          [
                            0.1111111111111111,
                            "#46039f"
                          ],
                          [
                            0.2222222222222222,
                            "#7201a8"
                          ],
                          [
                            0.3333333333333333,
                            "#9c179e"
                          ],
                          [
                            0.4444444444444444,
                            "#bd3786"
                          ],
                          [
                            0.5555555555555556,
                            "#d8576b"
                          ],
                          [
                            0.6666666666666666,
                            "#ed7953"
                          ],
                          [
                            0.7777777777777778,
                            "#fb9f3a"
                          ],
                          [
                            0.8888888888888888,
                            "#fdca26"
                          ],
                          [
                            1,
                            "#f0f921"
                          ]
                        ],
                        "type": "histogram2d"
                      }
                    ],
                    "histogram2dcontour": [
                      {
                        "colorbar": {
                          "outlinewidth": 0,
                          "ticks": ""
                        },
                        "colorscale": [
                          [
                            0,
                            "#0d0887"
                          ],
                          [
                            0.1111111111111111,
                            "#46039f"
                          ],
                          [
                            0.2222222222222222,
                            "#7201a8"
                          ],
                          [
                            0.3333333333333333,
                            "#9c179e"
                          ],
                          [
                            0.4444444444444444,
                            "#bd3786"
                          ],
                          [
                            0.5555555555555556,
                            "#d8576b"
                          ],
                          [
                            0.6666666666666666,
                            "#ed7953"
                          ],
                          [
                            0.7777777777777778,
                            "#fb9f3a"
                          ],
                          [
                            0.8888888888888888,
                            "#fdca26"
                          ],
                          [
                            1,
                            "#f0f921"
                          ]
                        ],
                        "type": "histogram2dcontour"
                      }
                    ],
                    "mesh3d": [
                      {
                        "colorbar": {
                          "outlinewidth": 0,
                          "ticks": ""
                        },
                        "type": "mesh3d"
                      }
                    ],
                    "parcoords": [
                      {
                        "line": {
                          "colorbar": {
                            "outlinewidth": 0,
                            "ticks": ""
                          }
                        },
                        "type": "parcoords"
                      }
                    ],
                    "pie": [
                      {
                        "automargin": true,
                        "type": "pie"
                      }
                    ],
                    "scatter": [
                      {
                        "fillpattern": {
                          "fillmode": "overlay",
                          "size": 10,
                          "solidity": 0.2
                        },
                        "type": "scatter"
                      }
                    ],
                    "scatter3d": [
                      {
                        "line": {
                          "colorbar": {
                            "outlinewidth": 0,
                            "ticks": ""
                          }
                        },
                        "marker": {
                          "colorbar": {
                            "outlinewidth": 0,
                            "ticks": ""
                          }
                        },
                        "type": "scatter3d"
                      }
                    ],
                    "scattercarpet": [
                      {
                        "marker": {
                          "colorbar": {
                            "outlinewidth": 0,
                            "ticks": ""
                          }
                        },
                        "type": "scattercarpet"
                      }
                    ],
                    "scattergeo": [
                      {
                        "marker": {
                          "colorbar": {
                            "outlinewidth": 0,
                            "ticks": ""
                          }
                        },
                        "type": "scattergeo"
                      }
                    ],
                    "scattergl": [
                      {
                        "marker": {
                          "colorbar": {
                            "outlinewidth": 0,
                            "ticks": ""
                          }
                        },
                        "type": "scattergl"
                      }
                    ],
                    "scattermapbox": [
                      {
                        "marker": {
                          "colorbar": {
                            "outlinewidth": 0,
                            "ticks": ""
                          }
                        },
                        "type": "scattermapbox"
                      }
                    ],
                    "scatterpolar": [
                      {
                        "marker": {
                          "colorbar": {
                            "outlinewidth": 0,
                            "ticks": ""
                          }
                        },
                        "type": "scatterpolar"
                      }
                    ],
                    "scatterpolargl": [
                      {
                        "marker": {
                          "colorbar": {
                            "outlinewidth": 0,
                            "ticks": ""
                          }
                        },
                        "type": "scatterpolargl"
                      }
                    ],
                    "scatterternary": [
                      {
                        "marker": {
                          "colorbar": {
                            "outlinewidth": 0,
                            "ticks": ""
                          }
                        },
                        "type": "scatterternary"
                      }
                    ],
                    "surface": [
                      {
                        "colorbar": {
                          "outlinewidth": 0,
                          "ticks": ""
                        },
                        "colorscale": [
                          [
                            0,
                            "#0d0887"
                          ],
                          [
                            0.1111111111111111,
                            "#46039f"
                          ],
                          [
                            0.2222222222222222,
                            "#7201a8"
                          ],
                          [
                            0.3333333333333333,
                            "#9c179e"
                          ],
                          [
                            0.4444444444444444,
                            "#bd3786"
                          ],
                          [
                            0.5555555555555556,
                            "#d8576b"
                          ],
                          [
                            0.6666666666666666,
                            "#ed7953"
                          ],
                          [
                            0.7777777777777778,
                            "#fb9f3a"
                          ],
                          [
                            0.8888888888888888,
                            "#fdca26"
                          ],
                          [
                            1,
                            "#f0f921"
                          ]
                        ],
                        "type": "surface"
                      }
                    ],
                    "table": [
                      {
                        "cells": {
                          "fill": {
                            "color": "#EBF0F8"
                          },
                          "line": {
                            "color": "white"
                          }
                        },
                        "header": {
                          "fill": {
                            "color": "#C8D4E3"
                          },
                          "line": {
                            "color": "white"
                          }
                        },
                        "type": "table"
                      }
                    ]
                  },
                  "layout": {
                    "annotationdefaults": {
                      "arrowcolor": "#2a3f5f",
                      "arrowhead": 0,
                      "arrowwidth": 1
                    },
                    "autotypenumbers": "strict",
                    "coloraxis": {
                      "colorbar": {
                        "outlinewidth": 0,
                        "ticks": ""
                      }
                    },
                    "colorscale": {
                      "diverging": [
                        [
                          0,
                          "#8e0152"
                        ],
                        [
                          0.1,
                          "#c51b7d"
                        ],
                        [
                          0.2,
                          "#de77ae"
                        ],
                        [
                          0.3,
                          "#f1b6da"
                        ],
                        [
                          0.4,
                          "#fde0ef"
                        ],
                        [
                          0.5,
                          "#f7f7f7"
                        ],
                        [
                          0.6,
                          "#e6f5d0"
                        ],
                        [
                          0.7,
                          "#b8e186"
                        ],
                        [
                          0.8,
                          "#7fbc41"
                        ],
                        [
                          0.9,
                          "#4d9221"
                        ],
                        [
                          1,
                          "#276419"
                        ]
                      ],
                      "sequential": [
                        [
                          0,
                          "#0d0887"
                        ],
                        [
                          0.1111111111111111,
                          "#46039f"
                        ],
                        [
                          0.2222222222222222,
                          "#7201a8"
                        ],
                        [
                          0.3333333333333333,
                          "#9c179e"
                        ],
                        [
                          0.4444444444444444,
                          "#bd3786"
                        ],
                        [
                          0.5555555555555556,
                          "#d8576b"
                        ],
                        [
                          0.6666666666666666,
                          "#ed7953"
                        ],
                        [
                          0.7777777777777778,
                          "#fb9f3a"
                        ],
                        [
                          0.8888888888888888,
                          "#fdca26"
                        ],
                        [
                          1,
                          "#f0f921"
                        ]
                      ],
                      "sequentialminus": [
                        [
                          0,
                          "#0d0887"
                        ],
                        [
                          0.1111111111111111,
                          "#46039f"
                        ],
                        [
                          0.2222222222222222,
                          "#7201a8"
                        ],
                        [
                          0.3333333333333333,
                          "#9c179e"
                        ],
                        [
                          0.4444444444444444,
                          "#bd3786"
                        ],
                        [
                          0.5555555555555556,
                          "#d8576b"
                        ],
                        [
                          0.6666666666666666,
                          "#ed7953"
                        ],
                        [
                          0.7777777777777778,
                          "#fb9f3a"
                        ],
                        [
                          0.8888888888888888,
                          "#fdca26"
                        ],
                        [
                          1,
                          "#f0f921"
                        ]
                      ]
                    },
                    "colorway": [
                      "#636efa",
                      "#EF553B",
                      "#00cc96",
                      "#ab63fa",
                      "#FFA15A",
                      "#19d3f3",
                      "#FF6692",
                      "#B6E880",
                      "#FF97FF",
                      "#FECB52"
                    ],
                    "font": {
                      "color": "#2a3f5f"
                    },
                    "geo": {
                      "bgcolor": "white",
                      "lakecolor": "white",
                      "landcolor": "#E5ECF6",
                      "showlakes": true,
                      "showland": true,
                      "subunitcolor": "white"
                    },
                    "hoverlabel": {
                      "align": "left"
                    },
                    "hovermode": "closest",
                    "mapbox": {
                      "style": "light"
                    },
                    "paper_bgcolor": "white",
                    "plot_bgcolor": "#E5ECF6",
                    "polar": {
                      "angularaxis": {
                        "gridcolor": "white",
                        "linecolor": "white",
                        "ticks": ""
                      },
                      "bgcolor": "#E5ECF6",
                      "radialaxis": {
                        "gridcolor": "white",
                        "linecolor": "white",
                        "ticks": ""
                      }
                    },
                    "scene": {
                      "xaxis": {
                        "backgroundcolor": "#E5ECF6",
                        "gridcolor": "white",
                        "gridwidth": 2,
                        "linecolor": "white",
                        "showbackground": true,
                        "ticks": "",
                        "zerolinecolor": "white"
                      },
                      "yaxis": {
                        "backgroundcolor": "#E5ECF6",
                        "gridcolor": "white",
                        "gridwidth": 2,
                        "linecolor": "white",
                        "showbackground": true,
                        "ticks": "",
                        "zerolinecolor": "white"
                      },
                      "zaxis": {
                        "backgroundcolor": "#E5ECF6",
                        "gridcolor": "white",
                        "gridwidth": 2,
                        "linecolor": "white",
                        "showbackground": true,
                        "ticks": "",
                        "zerolinecolor": "white"
                      }
                    },
                    "shapedefaults": {
                      "line": {
                        "color": "#2a3f5f"
                      }
                    },
                    "ternary": {
                      "aaxis": {
                        "gridcolor": "white",
                        "linecolor": "white",
                        "ticks": ""
                      },
                      "baxis": {
                        "gridcolor": "white",
                        "linecolor": "white",
                        "ticks": ""
                      },
                      "bgcolor": "#E5ECF6",
                      "caxis": {
                        "gridcolor": "white",
                        "linecolor": "white",
                        "ticks": ""
                      }
                    },
                    "title": {
                      "x": 0.05
                    },
                    "xaxis": {
                      "automargin": true,
                      "gridcolor": "white",
                      "linecolor": "white",
                      "ticks": "",
                      "title": {
                        "standoff": 15
                      },
                      "zerolinecolor": "white",
                      "zerolinewidth": 2
                    },
                    "yaxis": {
                      "automargin": true,
                      "gridcolor": "white",
                      "linecolor": "white",
                      "ticks": "",
                      "title": {
                        "standoff": 15
                      },
                      "zerolinecolor": "white",
                      "zerolinewidth": 2
                    }
                  }
                },
                "title": {
                  "text": "Trend of symptoms"
                },
                "xaxis": {
                  "anchor": "y",
                  "domain": [
                    0,
                    1
                  ],
                  "title": {
                    "text": "Date-Hour"
                  }
                },
                "yaxis": {
                  "anchor": "x",
                  "domain": [
                    0,
                    1
                  ],
                  "range": [
                    0,
                    1794.1000000000001
                  ],
                  "title": {
                    "text": "Number of messages"
                  }
                }
              }
            }
          },
          "metadata": {},
          "output_type": "display_data"
        }
      ],
      "source": [
        "def trend_of_symptom(symptom):\n",
        "    messages = Messages.query(f'{symptom} == True').loc['2011-05-15':].groupby(pd.Grouper(key='Created_at', freq='H')).size()\n",
        "    range_y = [0, messages.values.max() * 1.1]\n",
        "    px.line(x=messages.index, y=messages.values,\n",
        "            range_y=range_y,\n",
        "            title=f'Trend of {symptom}',\n",
        "            labels={'x': 'Date-Hour', 'y': 'Number of messages'}).show()\n",
        "\n",
        "trend_of_symptom('symptoms')"
      ]
    },
    {
      "cell_type": "markdown",
      "metadata": {},
      "source": [
        "# Trends of symptom types\n",
        "\n",
        "Heare are figures of the trends of symptom types.  To save the space, only trends of selected symptom types are illustrated."
      ]
    },
    {
      "cell_type": "code",
      "execution_count": 157,
      "metadata": {},
      "outputs": [
        {
          "data": {
            "application/vnd.plotly.v1+json": {
              "config": {
                "plotlyServerURL": "https://plot.ly"
              },
              "data": [
                {
                  "hovertemplate": "Date-Hour=%{x}<br>Number of messages=%{y}<extra></extra>",
                  "legendgroup": "",
                  "line": {
                    "color": "#636efa",
                    "dash": "solid"
                  },
                  "marker": {
                    "symbol": "circle"
                  },
                  "mode": "lines",
                  "name": "",
                  "orientation": "v",
                  "showlegend": false,
                  "type": "scatter",
                  "x": [
                    "2011-05-15T00:00:00",
                    "2011-05-15T01:00:00",
                    "2011-05-15T02:00:00",
                    "2011-05-15T03:00:00",
                    "2011-05-15T04:00:00",
                    "2011-05-15T05:00:00",
                    "2011-05-15T06:00:00",
                    "2011-05-15T07:00:00",
                    "2011-05-15T08:00:00",
                    "2011-05-15T09:00:00",
                    "2011-05-15T10:00:00",
                    "2011-05-15T11:00:00",
                    "2011-05-15T12:00:00",
                    "2011-05-15T13:00:00",
                    "2011-05-15T14:00:00",
                    "2011-05-15T15:00:00",
                    "2011-05-15T16:00:00",
                    "2011-05-15T17:00:00",
                    "2011-05-15T18:00:00",
                    "2011-05-15T19:00:00",
                    "2011-05-15T20:00:00",
                    "2011-05-15T21:00:00",
                    "2011-05-15T22:00:00",
                    "2011-05-15T23:00:00",
                    "2011-05-16T00:00:00",
                    "2011-05-16T01:00:00",
                    "2011-05-16T02:00:00",
                    "2011-05-16T03:00:00",
                    "2011-05-16T04:00:00",
                    "2011-05-16T05:00:00",
                    "2011-05-16T06:00:00",
                    "2011-05-16T07:00:00",
                    "2011-05-16T08:00:00",
                    "2011-05-16T09:00:00",
                    "2011-05-16T10:00:00",
                    "2011-05-16T11:00:00",
                    "2011-05-16T12:00:00",
                    "2011-05-16T13:00:00",
                    "2011-05-16T14:00:00",
                    "2011-05-16T15:00:00",
                    "2011-05-16T16:00:00",
                    "2011-05-16T17:00:00",
                    "2011-05-16T18:00:00",
                    "2011-05-16T19:00:00",
                    "2011-05-16T20:00:00",
                    "2011-05-16T21:00:00",
                    "2011-05-16T22:00:00",
                    "2011-05-16T23:00:00",
                    "2011-05-17T00:00:00",
                    "2011-05-17T01:00:00",
                    "2011-05-17T02:00:00",
                    "2011-05-17T03:00:00",
                    "2011-05-17T04:00:00",
                    "2011-05-17T05:00:00",
                    "2011-05-17T06:00:00",
                    "2011-05-17T07:00:00",
                    "2011-05-17T08:00:00",
                    "2011-05-17T09:00:00",
                    "2011-05-17T10:00:00",
                    "2011-05-17T11:00:00",
                    "2011-05-17T12:00:00",
                    "2011-05-17T13:00:00",
                    "2011-05-17T14:00:00",
                    "2011-05-17T15:00:00",
                    "2011-05-17T16:00:00",
                    "2011-05-17T17:00:00",
                    "2011-05-17T18:00:00",
                    "2011-05-17T19:00:00",
                    "2011-05-17T20:00:00",
                    "2011-05-17T21:00:00",
                    "2011-05-17T22:00:00",
                    "2011-05-17T23:00:00",
                    "2011-05-18T00:00:00",
                    "2011-05-18T01:00:00",
                    "2011-05-18T02:00:00",
                    "2011-05-18T03:00:00",
                    "2011-05-18T04:00:00",
                    "2011-05-18T05:00:00",
                    "2011-05-18T06:00:00",
                    "2011-05-18T07:00:00",
                    "2011-05-18T08:00:00",
                    "2011-05-18T09:00:00",
                    "2011-05-18T10:00:00",
                    "2011-05-18T11:00:00",
                    "2011-05-18T12:00:00",
                    "2011-05-18T13:00:00",
                    "2011-05-18T14:00:00",
                    "2011-05-18T15:00:00",
                    "2011-05-18T16:00:00",
                    "2011-05-18T17:00:00",
                    "2011-05-18T18:00:00",
                    "2011-05-18T19:00:00",
                    "2011-05-18T20:00:00",
                    "2011-05-18T21:00:00",
                    "2011-05-18T22:00:00",
                    "2011-05-18T23:00:00",
                    "2011-05-19T00:00:00",
                    "2011-05-19T01:00:00",
                    "2011-05-19T02:00:00",
                    "2011-05-19T03:00:00",
                    "2011-05-19T04:00:00",
                    "2011-05-19T05:00:00",
                    "2011-05-19T06:00:00",
                    "2011-05-19T07:00:00",
                    "2011-05-19T08:00:00",
                    "2011-05-19T09:00:00",
                    "2011-05-19T10:00:00",
                    "2011-05-19T11:00:00",
                    "2011-05-19T12:00:00",
                    "2011-05-19T13:00:00",
                    "2011-05-19T14:00:00",
                    "2011-05-19T15:00:00",
                    "2011-05-19T16:00:00",
                    "2011-05-19T17:00:00",
                    "2011-05-19T18:00:00",
                    "2011-05-19T19:00:00",
                    "2011-05-19T20:00:00",
                    "2011-05-19T21:00:00",
                    "2011-05-19T22:00:00",
                    "2011-05-19T23:00:00",
                    "2011-05-20T00:00:00",
                    "2011-05-20T01:00:00",
                    "2011-05-20T02:00:00",
                    "2011-05-20T03:00:00",
                    "2011-05-20T04:00:00",
                    "2011-05-20T05:00:00",
                    "2011-05-20T06:00:00",
                    "2011-05-20T07:00:00",
                    "2011-05-20T08:00:00",
                    "2011-05-20T09:00:00",
                    "2011-05-20T10:00:00",
                    "2011-05-20T11:00:00",
                    "2011-05-20T12:00:00",
                    "2011-05-20T13:00:00",
                    "2011-05-20T14:00:00",
                    "2011-05-20T15:00:00",
                    "2011-05-20T16:00:00",
                    "2011-05-20T17:00:00",
                    "2011-05-20T18:00:00",
                    "2011-05-20T19:00:00",
                    "2011-05-20T20:00:00",
                    "2011-05-20T21:00:00",
                    "2011-05-20T22:00:00",
                    "2011-05-20T23:00:00"
                  ],
                  "xaxis": "x",
                  "y": [
                    1,
                    2,
                    0,
                    0,
                    0,
                    0,
                    1,
                    0,
                    1,
                    0,
                    0,
                    0,
                    2,
                    0,
                    0,
                    0,
                    1,
                    1,
                    1,
                    0,
                    1,
                    1,
                    0,
                    0,
                    0,
                    2,
                    1,
                    1,
                    0,
                    1,
                    2,
                    0,
                    0,
                    0,
                    1,
                    1,
                    0,
                    1,
                    1,
                    0,
                    1,
                    1,
                    0,
                    0,
                    0,
                    1,
                    3,
                    2,
                    1,
                    1,
                    0,
                    1,
                    1,
                    1,
                    0,
                    1,
                    2,
                    0,
                    1,
                    0,
                    1,
                    1,
                    1,
                    0,
                    2,
                    0,
                    0,
                    3,
                    1,
                    3,
                    2,
                    1,
                    1,
                    46,
                    35,
                    50,
                    53,
                    54,
                    57,
                    46,
                    158,
                    144,
                    176,
                    174,
                    166,
                    163,
                    178,
                    153,
                    163,
                    147,
                    345,
                    217,
                    203,
                    194,
                    223,
                    203,
                    64,
                    60,
                    95,
                    101,
                    116,
                    95,
                    98,
                    101,
                    152,
                    126,
                    135,
                    140,
                    133,
                    129,
                    152,
                    134,
                    147,
                    113,
                    143,
                    126,
                    140,
                    152,
                    129,
                    164,
                    67,
                    42,
                    48,
                    57,
                    57,
                    43,
                    40,
                    46,
                    50,
                    61,
                    59,
                    47,
                    44,
                    37,
                    44,
                    55,
                    38,
                    46,
                    53,
                    54,
                    68,
                    65,
                    55,
                    45
                  ],
                  "yaxis": "y"
                }
              ],
              "layout": {
                "legend": {
                  "tracegroupgap": 0
                },
                "template": {
                  "data": {
                    "bar": [
                      {
                        "error_x": {
                          "color": "#2a3f5f"
                        },
                        "error_y": {
                          "color": "#2a3f5f"
                        },
                        "marker": {
                          "line": {
                            "color": "#E5ECF6",
                            "width": 0.5
                          },
                          "pattern": {
                            "fillmode": "overlay",
                            "size": 10,
                            "solidity": 0.2
                          }
                        },
                        "type": "bar"
                      }
                    ],
                    "barpolar": [
                      {
                        "marker": {
                          "line": {
                            "color": "#E5ECF6",
                            "width": 0.5
                          },
                          "pattern": {
                            "fillmode": "overlay",
                            "size": 10,
                            "solidity": 0.2
                          }
                        },
                        "type": "barpolar"
                      }
                    ],
                    "carpet": [
                      {
                        "aaxis": {
                          "endlinecolor": "#2a3f5f",
                          "gridcolor": "white",
                          "linecolor": "white",
                          "minorgridcolor": "white",
                          "startlinecolor": "#2a3f5f"
                        },
                        "baxis": {
                          "endlinecolor": "#2a3f5f",
                          "gridcolor": "white",
                          "linecolor": "white",
                          "minorgridcolor": "white",
                          "startlinecolor": "#2a3f5f"
                        },
                        "type": "carpet"
                      }
                    ],
                    "choropleth": [
                      {
                        "colorbar": {
                          "outlinewidth": 0,
                          "ticks": ""
                        },
                        "type": "choropleth"
                      }
                    ],
                    "contour": [
                      {
                        "colorbar": {
                          "outlinewidth": 0,
                          "ticks": ""
                        },
                        "colorscale": [
                          [
                            0,
                            "#0d0887"
                          ],
                          [
                            0.1111111111111111,
                            "#46039f"
                          ],
                          [
                            0.2222222222222222,
                            "#7201a8"
                          ],
                          [
                            0.3333333333333333,
                            "#9c179e"
                          ],
                          [
                            0.4444444444444444,
                            "#bd3786"
                          ],
                          [
                            0.5555555555555556,
                            "#d8576b"
                          ],
                          [
                            0.6666666666666666,
                            "#ed7953"
                          ],
                          [
                            0.7777777777777778,
                            "#fb9f3a"
                          ],
                          [
                            0.8888888888888888,
                            "#fdca26"
                          ],
                          [
                            1,
                            "#f0f921"
                          ]
                        ],
                        "type": "contour"
                      }
                    ],
                    "contourcarpet": [
                      {
                        "colorbar": {
                          "outlinewidth": 0,
                          "ticks": ""
                        },
                        "type": "contourcarpet"
                      }
                    ],
                    "heatmap": [
                      {
                        "colorbar": {
                          "outlinewidth": 0,
                          "ticks": ""
                        },
                        "colorscale": [
                          [
                            0,
                            "#0d0887"
                          ],
                          [
                            0.1111111111111111,
                            "#46039f"
                          ],
                          [
                            0.2222222222222222,
                            "#7201a8"
                          ],
                          [
                            0.3333333333333333,
                            "#9c179e"
                          ],
                          [
                            0.4444444444444444,
                            "#bd3786"
                          ],
                          [
                            0.5555555555555556,
                            "#d8576b"
                          ],
                          [
                            0.6666666666666666,
                            "#ed7953"
                          ],
                          [
                            0.7777777777777778,
                            "#fb9f3a"
                          ],
                          [
                            0.8888888888888888,
                            "#fdca26"
                          ],
                          [
                            1,
                            "#f0f921"
                          ]
                        ],
                        "type": "heatmap"
                      }
                    ],
                    "heatmapgl": [
                      {
                        "colorbar": {
                          "outlinewidth": 0,
                          "ticks": ""
                        },
                        "colorscale": [
                          [
                            0,
                            "#0d0887"
                          ],
                          [
                            0.1111111111111111,
                            "#46039f"
                          ],
                          [
                            0.2222222222222222,
                            "#7201a8"
                          ],
                          [
                            0.3333333333333333,
                            "#9c179e"
                          ],
                          [
                            0.4444444444444444,
                            "#bd3786"
                          ],
                          [
                            0.5555555555555556,
                            "#d8576b"
                          ],
                          [
                            0.6666666666666666,
                            "#ed7953"
                          ],
                          [
                            0.7777777777777778,
                            "#fb9f3a"
                          ],
                          [
                            0.8888888888888888,
                            "#fdca26"
                          ],
                          [
                            1,
                            "#f0f921"
                          ]
                        ],
                        "type": "heatmapgl"
                      }
                    ],
                    "histogram": [
                      {
                        "marker": {
                          "pattern": {
                            "fillmode": "overlay",
                            "size": 10,
                            "solidity": 0.2
                          }
                        },
                        "type": "histogram"
                      }
                    ],
                    "histogram2d": [
                      {
                        "colorbar": {
                          "outlinewidth": 0,
                          "ticks": ""
                        },
                        "colorscale": [
                          [
                            0,
                            "#0d0887"
                          ],
                          [
                            0.1111111111111111,
                            "#46039f"
                          ],
                          [
                            0.2222222222222222,
                            "#7201a8"
                          ],
                          [
                            0.3333333333333333,
                            "#9c179e"
                          ],
                          [
                            0.4444444444444444,
                            "#bd3786"
                          ],
                          [
                            0.5555555555555556,
                            "#d8576b"
                          ],
                          [
                            0.6666666666666666,
                            "#ed7953"
                          ],
                          [
                            0.7777777777777778,
                            "#fb9f3a"
                          ],
                          [
                            0.8888888888888888,
                            "#fdca26"
                          ],
                          [
                            1,
                            "#f0f921"
                          ]
                        ],
                        "type": "histogram2d"
                      }
                    ],
                    "histogram2dcontour": [
                      {
                        "colorbar": {
                          "outlinewidth": 0,
                          "ticks": ""
                        },
                        "colorscale": [
                          [
                            0,
                            "#0d0887"
                          ],
                          [
                            0.1111111111111111,
                            "#46039f"
                          ],
                          [
                            0.2222222222222222,
                            "#7201a8"
                          ],
                          [
                            0.3333333333333333,
                            "#9c179e"
                          ],
                          [
                            0.4444444444444444,
                            "#bd3786"
                          ],
                          [
                            0.5555555555555556,
                            "#d8576b"
                          ],
                          [
                            0.6666666666666666,
                            "#ed7953"
                          ],
                          [
                            0.7777777777777778,
                            "#fb9f3a"
                          ],
                          [
                            0.8888888888888888,
                            "#fdca26"
                          ],
                          [
                            1,
                            "#f0f921"
                          ]
                        ],
                        "type": "histogram2dcontour"
                      }
                    ],
                    "mesh3d": [
                      {
                        "colorbar": {
                          "outlinewidth": 0,
                          "ticks": ""
                        },
                        "type": "mesh3d"
                      }
                    ],
                    "parcoords": [
                      {
                        "line": {
                          "colorbar": {
                            "outlinewidth": 0,
                            "ticks": ""
                          }
                        },
                        "type": "parcoords"
                      }
                    ],
                    "pie": [
                      {
                        "automargin": true,
                        "type": "pie"
                      }
                    ],
                    "scatter": [
                      {
                        "fillpattern": {
                          "fillmode": "overlay",
                          "size": 10,
                          "solidity": 0.2
                        },
                        "type": "scatter"
                      }
                    ],
                    "scatter3d": [
                      {
                        "line": {
                          "colorbar": {
                            "outlinewidth": 0,
                            "ticks": ""
                          }
                        },
                        "marker": {
                          "colorbar": {
                            "outlinewidth": 0,
                            "ticks": ""
                          }
                        },
                        "type": "scatter3d"
                      }
                    ],
                    "scattercarpet": [
                      {
                        "marker": {
                          "colorbar": {
                            "outlinewidth": 0,
                            "ticks": ""
                          }
                        },
                        "type": "scattercarpet"
                      }
                    ],
                    "scattergeo": [
                      {
                        "marker": {
                          "colorbar": {
                            "outlinewidth": 0,
                            "ticks": ""
                          }
                        },
                        "type": "scattergeo"
                      }
                    ],
                    "scattergl": [
                      {
                        "marker": {
                          "colorbar": {
                            "outlinewidth": 0,
                            "ticks": ""
                          }
                        },
                        "type": "scattergl"
                      }
                    ],
                    "scattermapbox": [
                      {
                        "marker": {
                          "colorbar": {
                            "outlinewidth": 0,
                            "ticks": ""
                          }
                        },
                        "type": "scattermapbox"
                      }
                    ],
                    "scatterpolar": [
                      {
                        "marker": {
                          "colorbar": {
                            "outlinewidth": 0,
                            "ticks": ""
                          }
                        },
                        "type": "scatterpolar"
                      }
                    ],
                    "scatterpolargl": [
                      {
                        "marker": {
                          "colorbar": {
                            "outlinewidth": 0,
                            "ticks": ""
                          }
                        },
                        "type": "scatterpolargl"
                      }
                    ],
                    "scatterternary": [
                      {
                        "marker": {
                          "colorbar": {
                            "outlinewidth": 0,
                            "ticks": ""
                          }
                        },
                        "type": "scatterternary"
                      }
                    ],
                    "surface": [
                      {
                        "colorbar": {
                          "outlinewidth": 0,
                          "ticks": ""
                        },
                        "colorscale": [
                          [
                            0,
                            "#0d0887"
                          ],
                          [
                            0.1111111111111111,
                            "#46039f"
                          ],
                          [
                            0.2222222222222222,
                            "#7201a8"
                          ],
                          [
                            0.3333333333333333,
                            "#9c179e"
                          ],
                          [
                            0.4444444444444444,
                            "#bd3786"
                          ],
                          [
                            0.5555555555555556,
                            "#d8576b"
                          ],
                          [
                            0.6666666666666666,
                            "#ed7953"
                          ],
                          [
                            0.7777777777777778,
                            "#fb9f3a"
                          ],
                          [
                            0.8888888888888888,
                            "#fdca26"
                          ],
                          [
                            1,
                            "#f0f921"
                          ]
                        ],
                        "type": "surface"
                      }
                    ],
                    "table": [
                      {
                        "cells": {
                          "fill": {
                            "color": "#EBF0F8"
                          },
                          "line": {
                            "color": "white"
                          }
                        },
                        "header": {
                          "fill": {
                            "color": "#C8D4E3"
                          },
                          "line": {
                            "color": "white"
                          }
                        },
                        "type": "table"
                      }
                    ]
                  },
                  "layout": {
                    "annotationdefaults": {
                      "arrowcolor": "#2a3f5f",
                      "arrowhead": 0,
                      "arrowwidth": 1
                    },
                    "autotypenumbers": "strict",
                    "coloraxis": {
                      "colorbar": {
                        "outlinewidth": 0,
                        "ticks": ""
                      }
                    },
                    "colorscale": {
                      "diverging": [
                        [
                          0,
                          "#8e0152"
                        ],
                        [
                          0.1,
                          "#c51b7d"
                        ],
                        [
                          0.2,
                          "#de77ae"
                        ],
                        [
                          0.3,
                          "#f1b6da"
                        ],
                        [
                          0.4,
                          "#fde0ef"
                        ],
                        [
                          0.5,
                          "#f7f7f7"
                        ],
                        [
                          0.6,
                          "#e6f5d0"
                        ],
                        [
                          0.7,
                          "#b8e186"
                        ],
                        [
                          0.8,
                          "#7fbc41"
                        ],
                        [
                          0.9,
                          "#4d9221"
                        ],
                        [
                          1,
                          "#276419"
                        ]
                      ],
                      "sequential": [
                        [
                          0,
                          "#0d0887"
                        ],
                        [
                          0.1111111111111111,
                          "#46039f"
                        ],
                        [
                          0.2222222222222222,
                          "#7201a8"
                        ],
                        [
                          0.3333333333333333,
                          "#9c179e"
                        ],
                        [
                          0.4444444444444444,
                          "#bd3786"
                        ],
                        [
                          0.5555555555555556,
                          "#d8576b"
                        ],
                        [
                          0.6666666666666666,
                          "#ed7953"
                        ],
                        [
                          0.7777777777777778,
                          "#fb9f3a"
                        ],
                        [
                          0.8888888888888888,
                          "#fdca26"
                        ],
                        [
                          1,
                          "#f0f921"
                        ]
                      ],
                      "sequentialminus": [
                        [
                          0,
                          "#0d0887"
                        ],
                        [
                          0.1111111111111111,
                          "#46039f"
                        ],
                        [
                          0.2222222222222222,
                          "#7201a8"
                        ],
                        [
                          0.3333333333333333,
                          "#9c179e"
                        ],
                        [
                          0.4444444444444444,
                          "#bd3786"
                        ],
                        [
                          0.5555555555555556,
                          "#d8576b"
                        ],
                        [
                          0.6666666666666666,
                          "#ed7953"
                        ],
                        [
                          0.7777777777777778,
                          "#fb9f3a"
                        ],
                        [
                          0.8888888888888888,
                          "#fdca26"
                        ],
                        [
                          1,
                          "#f0f921"
                        ]
                      ]
                    },
                    "colorway": [
                      "#636efa",
                      "#EF553B",
                      "#00cc96",
                      "#ab63fa",
                      "#FFA15A",
                      "#19d3f3",
                      "#FF6692",
                      "#B6E880",
                      "#FF97FF",
                      "#FECB52"
                    ],
                    "font": {
                      "color": "#2a3f5f"
                    },
                    "geo": {
                      "bgcolor": "white",
                      "lakecolor": "white",
                      "landcolor": "#E5ECF6",
                      "showlakes": true,
                      "showland": true,
                      "subunitcolor": "white"
                    },
                    "hoverlabel": {
                      "align": "left"
                    },
                    "hovermode": "closest",
                    "mapbox": {
                      "style": "light"
                    },
                    "paper_bgcolor": "white",
                    "plot_bgcolor": "#E5ECF6",
                    "polar": {
                      "angularaxis": {
                        "gridcolor": "white",
                        "linecolor": "white",
                        "ticks": ""
                      },
                      "bgcolor": "#E5ECF6",
                      "radialaxis": {
                        "gridcolor": "white",
                        "linecolor": "white",
                        "ticks": ""
                      }
                    },
                    "scene": {
                      "xaxis": {
                        "backgroundcolor": "#E5ECF6",
                        "gridcolor": "white",
                        "gridwidth": 2,
                        "linecolor": "white",
                        "showbackground": true,
                        "ticks": "",
                        "zerolinecolor": "white"
                      },
                      "yaxis": {
                        "backgroundcolor": "#E5ECF6",
                        "gridcolor": "white",
                        "gridwidth": 2,
                        "linecolor": "white",
                        "showbackground": true,
                        "ticks": "",
                        "zerolinecolor": "white"
                      },
                      "zaxis": {
                        "backgroundcolor": "#E5ECF6",
                        "gridcolor": "white",
                        "gridwidth": 2,
                        "linecolor": "white",
                        "showbackground": true,
                        "ticks": "",
                        "zerolinecolor": "white"
                      }
                    },
                    "shapedefaults": {
                      "line": {
                        "color": "#2a3f5f"
                      }
                    },
                    "ternary": {
                      "aaxis": {
                        "gridcolor": "white",
                        "linecolor": "white",
                        "ticks": ""
                      },
                      "baxis": {
                        "gridcolor": "white",
                        "linecolor": "white",
                        "ticks": ""
                      },
                      "bgcolor": "#E5ECF6",
                      "caxis": {
                        "gridcolor": "white",
                        "linecolor": "white",
                        "ticks": ""
                      }
                    },
                    "title": {
                      "x": 0.05
                    },
                    "xaxis": {
                      "automargin": true,
                      "gridcolor": "white",
                      "linecolor": "white",
                      "ticks": "",
                      "title": {
                        "standoff": 15
                      },
                      "zerolinecolor": "white",
                      "zerolinewidth": 2
                    },
                    "yaxis": {
                      "automargin": true,
                      "gridcolor": "white",
                      "linecolor": "white",
                      "ticks": "",
                      "title": {
                        "standoff": 15
                      },
                      "zerolinecolor": "white",
                      "zerolinewidth": 2
                    }
                  }
                },
                "title": {
                  "text": "Trend of fever"
                },
                "xaxis": {
                  "anchor": "y",
                  "domain": [
                    0,
                    1
                  ],
                  "title": {
                    "text": "Date-Hour"
                  }
                },
                "yaxis": {
                  "anchor": "x",
                  "domain": [
                    0,
                    1
                  ],
                  "range": [
                    0,
                    379.50000000000006
                  ],
                  "title": {
                    "text": "Number of messages"
                  }
                }
              }
            }
          },
          "metadata": {},
          "output_type": "display_data"
        },
        {
          "data": {
            "application/vnd.plotly.v1+json": {
              "config": {
                "plotlyServerURL": "https://plot.ly"
              },
              "data": [
                {
                  "hovertemplate": "Date-Hour=%{x}<br>Number of messages=%{y}<extra></extra>",
                  "legendgroup": "",
                  "line": {
                    "color": "#636efa",
                    "dash": "solid"
                  },
                  "marker": {
                    "symbol": "circle"
                  },
                  "mode": "lines",
                  "name": "",
                  "orientation": "v",
                  "showlegend": false,
                  "type": "scatter",
                  "x": [
                    "2011-05-15T00:00:00",
                    "2011-05-15T01:00:00",
                    "2011-05-15T02:00:00",
                    "2011-05-15T03:00:00",
                    "2011-05-15T04:00:00",
                    "2011-05-15T05:00:00",
                    "2011-05-15T06:00:00",
                    "2011-05-15T07:00:00",
                    "2011-05-15T08:00:00",
                    "2011-05-15T09:00:00",
                    "2011-05-15T10:00:00",
                    "2011-05-15T11:00:00",
                    "2011-05-15T12:00:00",
                    "2011-05-15T13:00:00",
                    "2011-05-15T14:00:00",
                    "2011-05-15T15:00:00",
                    "2011-05-15T16:00:00",
                    "2011-05-15T17:00:00",
                    "2011-05-15T18:00:00",
                    "2011-05-15T19:00:00",
                    "2011-05-15T20:00:00",
                    "2011-05-15T21:00:00",
                    "2011-05-15T22:00:00",
                    "2011-05-15T23:00:00",
                    "2011-05-16T00:00:00",
                    "2011-05-16T01:00:00",
                    "2011-05-16T02:00:00",
                    "2011-05-16T03:00:00",
                    "2011-05-16T04:00:00",
                    "2011-05-16T05:00:00",
                    "2011-05-16T06:00:00",
                    "2011-05-16T07:00:00",
                    "2011-05-16T08:00:00",
                    "2011-05-16T09:00:00",
                    "2011-05-16T10:00:00",
                    "2011-05-16T11:00:00",
                    "2011-05-16T12:00:00",
                    "2011-05-16T13:00:00",
                    "2011-05-16T14:00:00",
                    "2011-05-16T15:00:00",
                    "2011-05-16T16:00:00",
                    "2011-05-16T17:00:00",
                    "2011-05-16T18:00:00",
                    "2011-05-16T19:00:00",
                    "2011-05-16T20:00:00",
                    "2011-05-16T21:00:00",
                    "2011-05-16T22:00:00",
                    "2011-05-16T23:00:00",
                    "2011-05-17T00:00:00",
                    "2011-05-17T01:00:00",
                    "2011-05-17T02:00:00",
                    "2011-05-17T03:00:00",
                    "2011-05-17T04:00:00",
                    "2011-05-17T05:00:00",
                    "2011-05-17T06:00:00",
                    "2011-05-17T07:00:00",
                    "2011-05-17T08:00:00",
                    "2011-05-17T09:00:00",
                    "2011-05-17T10:00:00",
                    "2011-05-17T11:00:00",
                    "2011-05-17T12:00:00",
                    "2011-05-17T13:00:00",
                    "2011-05-17T14:00:00",
                    "2011-05-17T15:00:00",
                    "2011-05-17T16:00:00",
                    "2011-05-17T17:00:00",
                    "2011-05-17T18:00:00",
                    "2011-05-17T19:00:00",
                    "2011-05-17T20:00:00",
                    "2011-05-17T21:00:00",
                    "2011-05-17T22:00:00",
                    "2011-05-17T23:00:00",
                    "2011-05-18T00:00:00",
                    "2011-05-18T01:00:00",
                    "2011-05-18T02:00:00",
                    "2011-05-18T03:00:00",
                    "2011-05-18T04:00:00",
                    "2011-05-18T05:00:00",
                    "2011-05-18T06:00:00",
                    "2011-05-18T07:00:00",
                    "2011-05-18T08:00:00",
                    "2011-05-18T09:00:00",
                    "2011-05-18T10:00:00",
                    "2011-05-18T11:00:00",
                    "2011-05-18T12:00:00",
                    "2011-05-18T13:00:00",
                    "2011-05-18T14:00:00",
                    "2011-05-18T15:00:00",
                    "2011-05-18T16:00:00",
                    "2011-05-18T17:00:00",
                    "2011-05-18T18:00:00",
                    "2011-05-18T19:00:00",
                    "2011-05-18T20:00:00",
                    "2011-05-18T21:00:00",
                    "2011-05-18T22:00:00",
                    "2011-05-18T23:00:00",
                    "2011-05-19T00:00:00",
                    "2011-05-19T01:00:00",
                    "2011-05-19T02:00:00",
                    "2011-05-19T03:00:00",
                    "2011-05-19T04:00:00",
                    "2011-05-19T05:00:00",
                    "2011-05-19T06:00:00",
                    "2011-05-19T07:00:00",
                    "2011-05-19T08:00:00",
                    "2011-05-19T09:00:00",
                    "2011-05-19T10:00:00",
                    "2011-05-19T11:00:00",
                    "2011-05-19T12:00:00",
                    "2011-05-19T13:00:00",
                    "2011-05-19T14:00:00",
                    "2011-05-19T15:00:00",
                    "2011-05-19T16:00:00",
                    "2011-05-19T17:00:00",
                    "2011-05-19T18:00:00",
                    "2011-05-19T19:00:00",
                    "2011-05-19T20:00:00",
                    "2011-05-19T21:00:00",
                    "2011-05-19T22:00:00",
                    "2011-05-19T23:00:00",
                    "2011-05-20T00:00:00",
                    "2011-05-20T01:00:00",
                    "2011-05-20T02:00:00",
                    "2011-05-20T03:00:00",
                    "2011-05-20T04:00:00",
                    "2011-05-20T05:00:00",
                    "2011-05-20T06:00:00",
                    "2011-05-20T07:00:00",
                    "2011-05-20T08:00:00",
                    "2011-05-20T09:00:00",
                    "2011-05-20T10:00:00",
                    "2011-05-20T11:00:00",
                    "2011-05-20T12:00:00",
                    "2011-05-20T13:00:00",
                    "2011-05-20T14:00:00",
                    "2011-05-20T15:00:00",
                    "2011-05-20T16:00:00",
                    "2011-05-20T17:00:00",
                    "2011-05-20T18:00:00",
                    "2011-05-20T19:00:00",
                    "2011-05-20T20:00:00",
                    "2011-05-20T21:00:00",
                    "2011-05-20T22:00:00",
                    "2011-05-20T23:00:00"
                  ],
                  "xaxis": "x",
                  "y": [
                    4,
                    2,
                    3,
                    7,
                    4,
                    3,
                    3,
                    6,
                    2,
                    3,
                    2,
                    2,
                    5,
                    7,
                    1,
                    3,
                    5,
                    3,
                    5,
                    1,
                    1,
                    11,
                    3,
                    2,
                    2,
                    4,
                    4,
                    7,
                    2,
                    1,
                    3,
                    2,
                    3,
                    2,
                    1,
                    0,
                    2,
                    5,
                    3,
                    1,
                    8,
                    2,
                    2,
                    3,
                    4,
                    8,
                    12,
                    4,
                    1,
                    5,
                    3,
                    6,
                    0,
                    2,
                    4,
                    2,
                    1,
                    4,
                    5,
                    3,
                    4,
                    3,
                    1,
                    2,
                    3,
                    6,
                    1,
                    6,
                    5,
                    8,
                    4,
                    4,
                    7,
                    6,
                    5,
                    4,
                    3,
                    2,
                    2,
                    1,
                    101,
                    98,
                    108,
                    131,
                    110,
                    86,
                    102,
                    96,
                    117,
                    102,
                    262,
                    112,
                    121,
                    106,
                    142,
                    120,
                    64,
                    60,
                    111,
                    95,
                    100,
                    96,
                    106,
                    102,
                    226,
                    239,
                    200,
                    230,
                    210,
                    220,
                    197,
                    201,
                    208,
                    200,
                    185,
                    231,
                    219,
                    238,
                    202,
                    248,
                    105,
                    91,
                    207,
                    221,
                    222,
                    227,
                    208,
                    177,
                    181,
                    186,
                    199,
                    192,
                    188,
                    195,
                    194,
                    190,
                    171,
                    177,
                    202,
                    210,
                    168,
                    213,
                    201,
                    186
                  ],
                  "yaxis": "y"
                }
              ],
              "layout": {
                "legend": {
                  "tracegroupgap": 0
                },
                "template": {
                  "data": {
                    "bar": [
                      {
                        "error_x": {
                          "color": "#2a3f5f"
                        },
                        "error_y": {
                          "color": "#2a3f5f"
                        },
                        "marker": {
                          "line": {
                            "color": "#E5ECF6",
                            "width": 0.5
                          },
                          "pattern": {
                            "fillmode": "overlay",
                            "size": 10,
                            "solidity": 0.2
                          }
                        },
                        "type": "bar"
                      }
                    ],
                    "barpolar": [
                      {
                        "marker": {
                          "line": {
                            "color": "#E5ECF6",
                            "width": 0.5
                          },
                          "pattern": {
                            "fillmode": "overlay",
                            "size": 10,
                            "solidity": 0.2
                          }
                        },
                        "type": "barpolar"
                      }
                    ],
                    "carpet": [
                      {
                        "aaxis": {
                          "endlinecolor": "#2a3f5f",
                          "gridcolor": "white",
                          "linecolor": "white",
                          "minorgridcolor": "white",
                          "startlinecolor": "#2a3f5f"
                        },
                        "baxis": {
                          "endlinecolor": "#2a3f5f",
                          "gridcolor": "white",
                          "linecolor": "white",
                          "minorgridcolor": "white",
                          "startlinecolor": "#2a3f5f"
                        },
                        "type": "carpet"
                      }
                    ],
                    "choropleth": [
                      {
                        "colorbar": {
                          "outlinewidth": 0,
                          "ticks": ""
                        },
                        "type": "choropleth"
                      }
                    ],
                    "contour": [
                      {
                        "colorbar": {
                          "outlinewidth": 0,
                          "ticks": ""
                        },
                        "colorscale": [
                          [
                            0,
                            "#0d0887"
                          ],
                          [
                            0.1111111111111111,
                            "#46039f"
                          ],
                          [
                            0.2222222222222222,
                            "#7201a8"
                          ],
                          [
                            0.3333333333333333,
                            "#9c179e"
                          ],
                          [
                            0.4444444444444444,
                            "#bd3786"
                          ],
                          [
                            0.5555555555555556,
                            "#d8576b"
                          ],
                          [
                            0.6666666666666666,
                            "#ed7953"
                          ],
                          [
                            0.7777777777777778,
                            "#fb9f3a"
                          ],
                          [
                            0.8888888888888888,
                            "#fdca26"
                          ],
                          [
                            1,
                            "#f0f921"
                          ]
                        ],
                        "type": "contour"
                      }
                    ],
                    "contourcarpet": [
                      {
                        "colorbar": {
                          "outlinewidth": 0,
                          "ticks": ""
                        },
                        "type": "contourcarpet"
                      }
                    ],
                    "heatmap": [
                      {
                        "colorbar": {
                          "outlinewidth": 0,
                          "ticks": ""
                        },
                        "colorscale": [
                          [
                            0,
                            "#0d0887"
                          ],
                          [
                            0.1111111111111111,
                            "#46039f"
                          ],
                          [
                            0.2222222222222222,
                            "#7201a8"
                          ],
                          [
                            0.3333333333333333,
                            "#9c179e"
                          ],
                          [
                            0.4444444444444444,
                            "#bd3786"
                          ],
                          [
                            0.5555555555555556,
                            "#d8576b"
                          ],
                          [
                            0.6666666666666666,
                            "#ed7953"
                          ],
                          [
                            0.7777777777777778,
                            "#fb9f3a"
                          ],
                          [
                            0.8888888888888888,
                            "#fdca26"
                          ],
                          [
                            1,
                            "#f0f921"
                          ]
                        ],
                        "type": "heatmap"
                      }
                    ],
                    "heatmapgl": [
                      {
                        "colorbar": {
                          "outlinewidth": 0,
                          "ticks": ""
                        },
                        "colorscale": [
                          [
                            0,
                            "#0d0887"
                          ],
                          [
                            0.1111111111111111,
                            "#46039f"
                          ],
                          [
                            0.2222222222222222,
                            "#7201a8"
                          ],
                          [
                            0.3333333333333333,
                            "#9c179e"
                          ],
                          [
                            0.4444444444444444,
                            "#bd3786"
                          ],
                          [
                            0.5555555555555556,
                            "#d8576b"
                          ],
                          [
                            0.6666666666666666,
                            "#ed7953"
                          ],
                          [
                            0.7777777777777778,
                            "#fb9f3a"
                          ],
                          [
                            0.8888888888888888,
                            "#fdca26"
                          ],
                          [
                            1,
                            "#f0f921"
                          ]
                        ],
                        "type": "heatmapgl"
                      }
                    ],
                    "histogram": [
                      {
                        "marker": {
                          "pattern": {
                            "fillmode": "overlay",
                            "size": 10,
                            "solidity": 0.2
                          }
                        },
                        "type": "histogram"
                      }
                    ],
                    "histogram2d": [
                      {
                        "colorbar": {
                          "outlinewidth": 0,
                          "ticks": ""
                        },
                        "colorscale": [
                          [
                            0,
                            "#0d0887"
                          ],
                          [
                            0.1111111111111111,
                            "#46039f"
                          ],
                          [
                            0.2222222222222222,
                            "#7201a8"
                          ],
                          [
                            0.3333333333333333,
                            "#9c179e"
                          ],
                          [
                            0.4444444444444444,
                            "#bd3786"
                          ],
                          [
                            0.5555555555555556,
                            "#d8576b"
                          ],
                          [
                            0.6666666666666666,
                            "#ed7953"
                          ],
                          [
                            0.7777777777777778,
                            "#fb9f3a"
                          ],
                          [
                            0.8888888888888888,
                            "#fdca26"
                          ],
                          [
                            1,
                            "#f0f921"
                          ]
                        ],
                        "type": "histogram2d"
                      }
                    ],
                    "histogram2dcontour": [
                      {
                        "colorbar": {
                          "outlinewidth": 0,
                          "ticks": ""
                        },
                        "colorscale": [
                          [
                            0,
                            "#0d0887"
                          ],
                          [
                            0.1111111111111111,
                            "#46039f"
                          ],
                          [
                            0.2222222222222222,
                            "#7201a8"
                          ],
                          [
                            0.3333333333333333,
                            "#9c179e"
                          ],
                          [
                            0.4444444444444444,
                            "#bd3786"
                          ],
                          [
                            0.5555555555555556,
                            "#d8576b"
                          ],
                          [
                            0.6666666666666666,
                            "#ed7953"
                          ],
                          [
                            0.7777777777777778,
                            "#fb9f3a"
                          ],
                          [
                            0.8888888888888888,
                            "#fdca26"
                          ],
                          [
                            1,
                            "#f0f921"
                          ]
                        ],
                        "type": "histogram2dcontour"
                      }
                    ],
                    "mesh3d": [
                      {
                        "colorbar": {
                          "outlinewidth": 0,
                          "ticks": ""
                        },
                        "type": "mesh3d"
                      }
                    ],
                    "parcoords": [
                      {
                        "line": {
                          "colorbar": {
                            "outlinewidth": 0,
                            "ticks": ""
                          }
                        },
                        "type": "parcoords"
                      }
                    ],
                    "pie": [
                      {
                        "automargin": true,
                        "type": "pie"
                      }
                    ],
                    "scatter": [
                      {
                        "fillpattern": {
                          "fillmode": "overlay",
                          "size": 10,
                          "solidity": 0.2
                        },
                        "type": "scatter"
                      }
                    ],
                    "scatter3d": [
                      {
                        "line": {
                          "colorbar": {
                            "outlinewidth": 0,
                            "ticks": ""
                          }
                        },
                        "marker": {
                          "colorbar": {
                            "outlinewidth": 0,
                            "ticks": ""
                          }
                        },
                        "type": "scatter3d"
                      }
                    ],
                    "scattercarpet": [
                      {
                        "marker": {
                          "colorbar": {
                            "outlinewidth": 0,
                            "ticks": ""
                          }
                        },
                        "type": "scattercarpet"
                      }
                    ],
                    "scattergeo": [
                      {
                        "marker": {
                          "colorbar": {
                            "outlinewidth": 0,
                            "ticks": ""
                          }
                        },
                        "type": "scattergeo"
                      }
                    ],
                    "scattergl": [
                      {
                        "marker": {
                          "colorbar": {
                            "outlinewidth": 0,
                            "ticks": ""
                          }
                        },
                        "type": "scattergl"
                      }
                    ],
                    "scattermapbox": [
                      {
                        "marker": {
                          "colorbar": {
                            "outlinewidth": 0,
                            "ticks": ""
                          }
                        },
                        "type": "scattermapbox"
                      }
                    ],
                    "scatterpolar": [
                      {
                        "marker": {
                          "colorbar": {
                            "outlinewidth": 0,
                            "ticks": ""
                          }
                        },
                        "type": "scatterpolar"
                      }
                    ],
                    "scatterpolargl": [
                      {
                        "marker": {
                          "colorbar": {
                            "outlinewidth": 0,
                            "ticks": ""
                          }
                        },
                        "type": "scatterpolargl"
                      }
                    ],
                    "scatterternary": [
                      {
                        "marker": {
                          "colorbar": {
                            "outlinewidth": 0,
                            "ticks": ""
                          }
                        },
                        "type": "scatterternary"
                      }
                    ],
                    "surface": [
                      {
                        "colorbar": {
                          "outlinewidth": 0,
                          "ticks": ""
                        },
                        "colorscale": [
                          [
                            0,
                            "#0d0887"
                          ],
                          [
                            0.1111111111111111,
                            "#46039f"
                          ],
                          [
                            0.2222222222222222,
                            "#7201a8"
                          ],
                          [
                            0.3333333333333333,
                            "#9c179e"
                          ],
                          [
                            0.4444444444444444,
                            "#bd3786"
                          ],
                          [
                            0.5555555555555556,
                            "#d8576b"
                          ],
                          [
                            0.6666666666666666,
                            "#ed7953"
                          ],
                          [
                            0.7777777777777778,
                            "#fb9f3a"
                          ],
                          [
                            0.8888888888888888,
                            "#fdca26"
                          ],
                          [
                            1,
                            "#f0f921"
                          ]
                        ],
                        "type": "surface"
                      }
                    ],
                    "table": [
                      {
                        "cells": {
                          "fill": {
                            "color": "#EBF0F8"
                          },
                          "line": {
                            "color": "white"
                          }
                        },
                        "header": {
                          "fill": {
                            "color": "#C8D4E3"
                          },
                          "line": {
                            "color": "white"
                          }
                        },
                        "type": "table"
                      }
                    ]
                  },
                  "layout": {
                    "annotationdefaults": {
                      "arrowcolor": "#2a3f5f",
                      "arrowhead": 0,
                      "arrowwidth": 1
                    },
                    "autotypenumbers": "strict",
                    "coloraxis": {
                      "colorbar": {
                        "outlinewidth": 0,
                        "ticks": ""
                      }
                    },
                    "colorscale": {
                      "diverging": [
                        [
                          0,
                          "#8e0152"
                        ],
                        [
                          0.1,
                          "#c51b7d"
                        ],
                        [
                          0.2,
                          "#de77ae"
                        ],
                        [
                          0.3,
                          "#f1b6da"
                        ],
                        [
                          0.4,
                          "#fde0ef"
                        ],
                        [
                          0.5,
                          "#f7f7f7"
                        ],
                        [
                          0.6,
                          "#e6f5d0"
                        ],
                        [
                          0.7,
                          "#b8e186"
                        ],
                        [
                          0.8,
                          "#7fbc41"
                        ],
                        [
                          0.9,
                          "#4d9221"
                        ],
                        [
                          1,
                          "#276419"
                        ]
                      ],
                      "sequential": [
                        [
                          0,
                          "#0d0887"
                        ],
                        [
                          0.1111111111111111,
                          "#46039f"
                        ],
                        [
                          0.2222222222222222,
                          "#7201a8"
                        ],
                        [
                          0.3333333333333333,
                          "#9c179e"
                        ],
                        [
                          0.4444444444444444,
                          "#bd3786"
                        ],
                        [
                          0.5555555555555556,
                          "#d8576b"
                        ],
                        [
                          0.6666666666666666,
                          "#ed7953"
                        ],
                        [
                          0.7777777777777778,
                          "#fb9f3a"
                        ],
                        [
                          0.8888888888888888,
                          "#fdca26"
                        ],
                        [
                          1,
                          "#f0f921"
                        ]
                      ],
                      "sequentialminus": [
                        [
                          0,
                          "#0d0887"
                        ],
                        [
                          0.1111111111111111,
                          "#46039f"
                        ],
                        [
                          0.2222222222222222,
                          "#7201a8"
                        ],
                        [
                          0.3333333333333333,
                          "#9c179e"
                        ],
                        [
                          0.4444444444444444,
                          "#bd3786"
                        ],
                        [
                          0.5555555555555556,
                          "#d8576b"
                        ],
                        [
                          0.6666666666666666,
                          "#ed7953"
                        ],
                        [
                          0.7777777777777778,
                          "#fb9f3a"
                        ],
                        [
                          0.8888888888888888,
                          "#fdca26"
                        ],
                        [
                          1,
                          "#f0f921"
                        ]
                      ]
                    },
                    "colorway": [
                      "#636efa",
                      "#EF553B",
                      "#00cc96",
                      "#ab63fa",
                      "#FFA15A",
                      "#19d3f3",
                      "#FF6692",
                      "#B6E880",
                      "#FF97FF",
                      "#FECB52"
                    ],
                    "font": {
                      "color": "#2a3f5f"
                    },
                    "geo": {
                      "bgcolor": "white",
                      "lakecolor": "white",
                      "landcolor": "#E5ECF6",
                      "showlakes": true,
                      "showland": true,
                      "subunitcolor": "white"
                    },
                    "hoverlabel": {
                      "align": "left"
                    },
                    "hovermode": "closest",
                    "mapbox": {
                      "style": "light"
                    },
                    "paper_bgcolor": "white",
                    "plot_bgcolor": "#E5ECF6",
                    "polar": {
                      "angularaxis": {
                        "gridcolor": "white",
                        "linecolor": "white",
                        "ticks": ""
                      },
                      "bgcolor": "#E5ECF6",
                      "radialaxis": {
                        "gridcolor": "white",
                        "linecolor": "white",
                        "ticks": ""
                      }
                    },
                    "scene": {
                      "xaxis": {
                        "backgroundcolor": "#E5ECF6",
                        "gridcolor": "white",
                        "gridwidth": 2,
                        "linecolor": "white",
                        "showbackground": true,
                        "ticks": "",
                        "zerolinecolor": "white"
                      },
                      "yaxis": {
                        "backgroundcolor": "#E5ECF6",
                        "gridcolor": "white",
                        "gridwidth": 2,
                        "linecolor": "white",
                        "showbackground": true,
                        "ticks": "",
                        "zerolinecolor": "white"
                      },
                      "zaxis": {
                        "backgroundcolor": "#E5ECF6",
                        "gridcolor": "white",
                        "gridwidth": 2,
                        "linecolor": "white",
                        "showbackground": true,
                        "ticks": "",
                        "zerolinecolor": "white"
                      }
                    },
                    "shapedefaults": {
                      "line": {
                        "color": "#2a3f5f"
                      }
                    },
                    "ternary": {
                      "aaxis": {
                        "gridcolor": "white",
                        "linecolor": "white",
                        "ticks": ""
                      },
                      "baxis": {
                        "gridcolor": "white",
                        "linecolor": "white",
                        "ticks": ""
                      },
                      "bgcolor": "#E5ECF6",
                      "caxis": {
                        "gridcolor": "white",
                        "linecolor": "white",
                        "ticks": ""
                      }
                    },
                    "title": {
                      "x": 0.05
                    },
                    "xaxis": {
                      "automargin": true,
                      "gridcolor": "white",
                      "linecolor": "white",
                      "ticks": "",
                      "title": {
                        "standoff": 15
                      },
                      "zerolinecolor": "white",
                      "zerolinewidth": 2
                    },
                    "yaxis": {
                      "automargin": true,
                      "gridcolor": "white",
                      "linecolor": "white",
                      "ticks": "",
                      "title": {
                        "standoff": 15
                      },
                      "zerolinecolor": "white",
                      "zerolinewidth": 2
                    }
                  }
                },
                "title": {
                  "text": "Trend of chill"
                },
                "xaxis": {
                  "anchor": "y",
                  "domain": [
                    0,
                    1
                  ],
                  "title": {
                    "text": "Date-Hour"
                  }
                },
                "yaxis": {
                  "anchor": "x",
                  "domain": [
                    0,
                    1
                  ],
                  "range": [
                    0,
                    288.20000000000005
                  ],
                  "title": {
                    "text": "Number of messages"
                  }
                }
              }
            }
          },
          "metadata": {},
          "output_type": "display_data"
        },
        {
          "data": {
            "application/vnd.plotly.v1+json": {
              "config": {
                "plotlyServerURL": "https://plot.ly"
              },
              "data": [
                {
                  "hovertemplate": "Date-Hour=%{x}<br>Number of messages=%{y}<extra></extra>",
                  "legendgroup": "",
                  "line": {
                    "color": "#636efa",
                    "dash": "solid"
                  },
                  "marker": {
                    "symbol": "circle"
                  },
                  "mode": "lines",
                  "name": "",
                  "orientation": "v",
                  "showlegend": false,
                  "type": "scatter",
                  "x": [
                    "2011-05-15T00:00:00",
                    "2011-05-15T01:00:00",
                    "2011-05-15T02:00:00",
                    "2011-05-15T03:00:00",
                    "2011-05-15T04:00:00",
                    "2011-05-15T05:00:00",
                    "2011-05-15T06:00:00",
                    "2011-05-15T07:00:00",
                    "2011-05-15T08:00:00",
                    "2011-05-15T09:00:00",
                    "2011-05-15T10:00:00",
                    "2011-05-15T11:00:00",
                    "2011-05-15T12:00:00",
                    "2011-05-15T13:00:00",
                    "2011-05-15T14:00:00",
                    "2011-05-15T15:00:00",
                    "2011-05-15T16:00:00",
                    "2011-05-15T17:00:00",
                    "2011-05-15T18:00:00",
                    "2011-05-15T19:00:00",
                    "2011-05-15T20:00:00",
                    "2011-05-15T21:00:00",
                    "2011-05-15T22:00:00",
                    "2011-05-15T23:00:00",
                    "2011-05-16T00:00:00",
                    "2011-05-16T01:00:00",
                    "2011-05-16T02:00:00",
                    "2011-05-16T03:00:00",
                    "2011-05-16T04:00:00",
                    "2011-05-16T05:00:00",
                    "2011-05-16T06:00:00",
                    "2011-05-16T07:00:00",
                    "2011-05-16T08:00:00",
                    "2011-05-16T09:00:00",
                    "2011-05-16T10:00:00",
                    "2011-05-16T11:00:00",
                    "2011-05-16T12:00:00",
                    "2011-05-16T13:00:00",
                    "2011-05-16T14:00:00",
                    "2011-05-16T15:00:00",
                    "2011-05-16T16:00:00",
                    "2011-05-16T17:00:00",
                    "2011-05-16T18:00:00",
                    "2011-05-16T19:00:00",
                    "2011-05-16T20:00:00",
                    "2011-05-16T21:00:00",
                    "2011-05-16T22:00:00",
                    "2011-05-16T23:00:00",
                    "2011-05-17T00:00:00",
                    "2011-05-17T01:00:00",
                    "2011-05-17T02:00:00",
                    "2011-05-17T03:00:00",
                    "2011-05-17T04:00:00",
                    "2011-05-17T05:00:00",
                    "2011-05-17T06:00:00",
                    "2011-05-17T07:00:00",
                    "2011-05-17T08:00:00",
                    "2011-05-17T09:00:00",
                    "2011-05-17T10:00:00",
                    "2011-05-17T11:00:00",
                    "2011-05-17T12:00:00",
                    "2011-05-17T13:00:00",
                    "2011-05-17T14:00:00",
                    "2011-05-17T15:00:00",
                    "2011-05-17T16:00:00",
                    "2011-05-17T17:00:00",
                    "2011-05-17T18:00:00",
                    "2011-05-17T19:00:00",
                    "2011-05-17T20:00:00",
                    "2011-05-17T21:00:00",
                    "2011-05-17T22:00:00",
                    "2011-05-17T23:00:00",
                    "2011-05-18T00:00:00",
                    "2011-05-18T01:00:00",
                    "2011-05-18T02:00:00",
                    "2011-05-18T03:00:00",
                    "2011-05-18T04:00:00",
                    "2011-05-18T05:00:00",
                    "2011-05-18T06:00:00",
                    "2011-05-18T07:00:00",
                    "2011-05-18T08:00:00",
                    "2011-05-18T09:00:00",
                    "2011-05-18T10:00:00",
                    "2011-05-18T11:00:00",
                    "2011-05-18T12:00:00",
                    "2011-05-18T13:00:00",
                    "2011-05-18T14:00:00",
                    "2011-05-18T15:00:00",
                    "2011-05-18T16:00:00",
                    "2011-05-18T17:00:00",
                    "2011-05-18T18:00:00",
                    "2011-05-18T19:00:00",
                    "2011-05-18T20:00:00",
                    "2011-05-18T21:00:00",
                    "2011-05-18T22:00:00",
                    "2011-05-18T23:00:00",
                    "2011-05-19T00:00:00",
                    "2011-05-19T01:00:00",
                    "2011-05-19T02:00:00",
                    "2011-05-19T03:00:00",
                    "2011-05-19T04:00:00",
                    "2011-05-19T05:00:00",
                    "2011-05-19T06:00:00",
                    "2011-05-19T07:00:00",
                    "2011-05-19T08:00:00",
                    "2011-05-19T09:00:00",
                    "2011-05-19T10:00:00",
                    "2011-05-19T11:00:00",
                    "2011-05-19T12:00:00",
                    "2011-05-19T13:00:00",
                    "2011-05-19T14:00:00",
                    "2011-05-19T15:00:00",
                    "2011-05-19T16:00:00",
                    "2011-05-19T17:00:00",
                    "2011-05-19T18:00:00",
                    "2011-05-19T19:00:00",
                    "2011-05-19T20:00:00",
                    "2011-05-19T21:00:00",
                    "2011-05-19T22:00:00",
                    "2011-05-19T23:00:00",
                    "2011-05-20T00:00:00",
                    "2011-05-20T01:00:00",
                    "2011-05-20T02:00:00",
                    "2011-05-20T03:00:00",
                    "2011-05-20T04:00:00",
                    "2011-05-20T05:00:00",
                    "2011-05-20T06:00:00",
                    "2011-05-20T07:00:00",
                    "2011-05-20T08:00:00",
                    "2011-05-20T09:00:00",
                    "2011-05-20T10:00:00",
                    "2011-05-20T11:00:00",
                    "2011-05-20T12:00:00",
                    "2011-05-20T13:00:00",
                    "2011-05-20T14:00:00",
                    "2011-05-20T15:00:00",
                    "2011-05-20T16:00:00",
                    "2011-05-20T17:00:00",
                    "2011-05-20T18:00:00",
                    "2011-05-20T19:00:00",
                    "2011-05-20T20:00:00",
                    "2011-05-20T21:00:00"
                  ],
                  "xaxis": "x",
                  "y": [
                    2,
                    1,
                    2,
                    2,
                    3,
                    2,
                    1,
                    1,
                    0,
                    1,
                    2,
                    2,
                    1,
                    1,
                    0,
                    3,
                    4,
                    3,
                    0,
                    2,
                    6,
                    2,
                    2,
                    1,
                    4,
                    1,
                    0,
                    4,
                    1,
                    1,
                    0,
                    2,
                    0,
                    3,
                    0,
                    1,
                    3,
                    3,
                    1,
                    2,
                    3,
                    3,
                    0,
                    0,
                    2,
                    5,
                    5,
                    1,
                    4,
                    3,
                    0,
                    2,
                    2,
                    3,
                    0,
                    1,
                    2,
                    1,
                    1,
                    2,
                    1,
                    1,
                    3,
                    2,
                    3,
                    2,
                    2,
                    0,
                    4,
                    1,
                    1,
                    4,
                    1,
                    3,
                    0,
                    1,
                    4,
                    4,
                    0,
                    2,
                    116,
                    111,
                    95,
                    117,
                    92,
                    89,
                    107,
                    105,
                    105,
                    92,
                    223,
                    118,
                    113,
                    130,
                    130,
                    126,
                    62,
                    51,
                    93,
                    89,
                    103,
                    108,
                    105,
                    79,
                    43,
                    62,
                    55,
                    53,
                    51,
                    62,
                    47,
                    57,
                    57,
                    49,
                    62,
                    44,
                    60,
                    49,
                    47,
                    51,
                    2,
                    2,
                    10,
                    4,
                    10,
                    7,
                    8,
                    0,
                    1,
                    1,
                    0,
                    2,
                    1,
                    1,
                    2,
                    1,
                    2,
                    3,
                    3,
                    1,
                    0,
                    4
                  ],
                  "yaxis": "y"
                }
              ],
              "layout": {
                "legend": {
                  "tracegroupgap": 0
                },
                "template": {
                  "data": {
                    "bar": [
                      {
                        "error_x": {
                          "color": "#2a3f5f"
                        },
                        "error_y": {
                          "color": "#2a3f5f"
                        },
                        "marker": {
                          "line": {
                            "color": "#E5ECF6",
                            "width": 0.5
                          },
                          "pattern": {
                            "fillmode": "overlay",
                            "size": 10,
                            "solidity": 0.2
                          }
                        },
                        "type": "bar"
                      }
                    ],
                    "barpolar": [
                      {
                        "marker": {
                          "line": {
                            "color": "#E5ECF6",
                            "width": 0.5
                          },
                          "pattern": {
                            "fillmode": "overlay",
                            "size": 10,
                            "solidity": 0.2
                          }
                        },
                        "type": "barpolar"
                      }
                    ],
                    "carpet": [
                      {
                        "aaxis": {
                          "endlinecolor": "#2a3f5f",
                          "gridcolor": "white",
                          "linecolor": "white",
                          "minorgridcolor": "white",
                          "startlinecolor": "#2a3f5f"
                        },
                        "baxis": {
                          "endlinecolor": "#2a3f5f",
                          "gridcolor": "white",
                          "linecolor": "white",
                          "minorgridcolor": "white",
                          "startlinecolor": "#2a3f5f"
                        },
                        "type": "carpet"
                      }
                    ],
                    "choropleth": [
                      {
                        "colorbar": {
                          "outlinewidth": 0,
                          "ticks": ""
                        },
                        "type": "choropleth"
                      }
                    ],
                    "contour": [
                      {
                        "colorbar": {
                          "outlinewidth": 0,
                          "ticks": ""
                        },
                        "colorscale": [
                          [
                            0,
                            "#0d0887"
                          ],
                          [
                            0.1111111111111111,
                            "#46039f"
                          ],
                          [
                            0.2222222222222222,
                            "#7201a8"
                          ],
                          [
                            0.3333333333333333,
                            "#9c179e"
                          ],
                          [
                            0.4444444444444444,
                            "#bd3786"
                          ],
                          [
                            0.5555555555555556,
                            "#d8576b"
                          ],
                          [
                            0.6666666666666666,
                            "#ed7953"
                          ],
                          [
                            0.7777777777777778,
                            "#fb9f3a"
                          ],
                          [
                            0.8888888888888888,
                            "#fdca26"
                          ],
                          [
                            1,
                            "#f0f921"
                          ]
                        ],
                        "type": "contour"
                      }
                    ],
                    "contourcarpet": [
                      {
                        "colorbar": {
                          "outlinewidth": 0,
                          "ticks": ""
                        },
                        "type": "contourcarpet"
                      }
                    ],
                    "heatmap": [
                      {
                        "colorbar": {
                          "outlinewidth": 0,
                          "ticks": ""
                        },
                        "colorscale": [
                          [
                            0,
                            "#0d0887"
                          ],
                          [
                            0.1111111111111111,
                            "#46039f"
                          ],
                          [
                            0.2222222222222222,
                            "#7201a8"
                          ],
                          [
                            0.3333333333333333,
                            "#9c179e"
                          ],
                          [
                            0.4444444444444444,
                            "#bd3786"
                          ],
                          [
                            0.5555555555555556,
                            "#d8576b"
                          ],
                          [
                            0.6666666666666666,
                            "#ed7953"
                          ],
                          [
                            0.7777777777777778,
                            "#fb9f3a"
                          ],
                          [
                            0.8888888888888888,
                            "#fdca26"
                          ],
                          [
                            1,
                            "#f0f921"
                          ]
                        ],
                        "type": "heatmap"
                      }
                    ],
                    "heatmapgl": [
                      {
                        "colorbar": {
                          "outlinewidth": 0,
                          "ticks": ""
                        },
                        "colorscale": [
                          [
                            0,
                            "#0d0887"
                          ],
                          [
                            0.1111111111111111,
                            "#46039f"
                          ],
                          [
                            0.2222222222222222,
                            "#7201a8"
                          ],
                          [
                            0.3333333333333333,
                            "#9c179e"
                          ],
                          [
                            0.4444444444444444,
                            "#bd3786"
                          ],
                          [
                            0.5555555555555556,
                            "#d8576b"
                          ],
                          [
                            0.6666666666666666,
                            "#ed7953"
                          ],
                          [
                            0.7777777777777778,
                            "#fb9f3a"
                          ],
                          [
                            0.8888888888888888,
                            "#fdca26"
                          ],
                          [
                            1,
                            "#f0f921"
                          ]
                        ],
                        "type": "heatmapgl"
                      }
                    ],
                    "histogram": [
                      {
                        "marker": {
                          "pattern": {
                            "fillmode": "overlay",
                            "size": 10,
                            "solidity": 0.2
                          }
                        },
                        "type": "histogram"
                      }
                    ],
                    "histogram2d": [
                      {
                        "colorbar": {
                          "outlinewidth": 0,
                          "ticks": ""
                        },
                        "colorscale": [
                          [
                            0,
                            "#0d0887"
                          ],
                          [
                            0.1111111111111111,
                            "#46039f"
                          ],
                          [
                            0.2222222222222222,
                            "#7201a8"
                          ],
                          [
                            0.3333333333333333,
                            "#9c179e"
                          ],
                          [
                            0.4444444444444444,
                            "#bd3786"
                          ],
                          [
                            0.5555555555555556,
                            "#d8576b"
                          ],
                          [
                            0.6666666666666666,
                            "#ed7953"
                          ],
                          [
                            0.7777777777777778,
                            "#fb9f3a"
                          ],
                          [
                            0.8888888888888888,
                            "#fdca26"
                          ],
                          [
                            1,
                            "#f0f921"
                          ]
                        ],
                        "type": "histogram2d"
                      }
                    ],
                    "histogram2dcontour": [
                      {
                        "colorbar": {
                          "outlinewidth": 0,
                          "ticks": ""
                        },
                        "colorscale": [
                          [
                            0,
                            "#0d0887"
                          ],
                          [
                            0.1111111111111111,
                            "#46039f"
                          ],
                          [
                            0.2222222222222222,
                            "#7201a8"
                          ],
                          [
                            0.3333333333333333,
                            "#9c179e"
                          ],
                          [
                            0.4444444444444444,
                            "#bd3786"
                          ],
                          [
                            0.5555555555555556,
                            "#d8576b"
                          ],
                          [
                            0.6666666666666666,
                            "#ed7953"
                          ],
                          [
                            0.7777777777777778,
                            "#fb9f3a"
                          ],
                          [
                            0.8888888888888888,
                            "#fdca26"
                          ],
                          [
                            1,
                            "#f0f921"
                          ]
                        ],
                        "type": "histogram2dcontour"
                      }
                    ],
                    "mesh3d": [
                      {
                        "colorbar": {
                          "outlinewidth": 0,
                          "ticks": ""
                        },
                        "type": "mesh3d"
                      }
                    ],
                    "parcoords": [
                      {
                        "line": {
                          "colorbar": {
                            "outlinewidth": 0,
                            "ticks": ""
                          }
                        },
                        "type": "parcoords"
                      }
                    ],
                    "pie": [
                      {
                        "automargin": true,
                        "type": "pie"
                      }
                    ],
                    "scatter": [
                      {
                        "fillpattern": {
                          "fillmode": "overlay",
                          "size": 10,
                          "solidity": 0.2
                        },
                        "type": "scatter"
                      }
                    ],
                    "scatter3d": [
                      {
                        "line": {
                          "colorbar": {
                            "outlinewidth": 0,
                            "ticks": ""
                          }
                        },
                        "marker": {
                          "colorbar": {
                            "outlinewidth": 0,
                            "ticks": ""
                          }
                        },
                        "type": "scatter3d"
                      }
                    ],
                    "scattercarpet": [
                      {
                        "marker": {
                          "colorbar": {
                            "outlinewidth": 0,
                            "ticks": ""
                          }
                        },
                        "type": "scattercarpet"
                      }
                    ],
                    "scattergeo": [
                      {
                        "marker": {
                          "colorbar": {
                            "outlinewidth": 0,
                            "ticks": ""
                          }
                        },
                        "type": "scattergeo"
                      }
                    ],
                    "scattergl": [
                      {
                        "marker": {
                          "colorbar": {
                            "outlinewidth": 0,
                            "ticks": ""
                          }
                        },
                        "type": "scattergl"
                      }
                    ],
                    "scattermapbox": [
                      {
                        "marker": {
                          "colorbar": {
                            "outlinewidth": 0,
                            "ticks": ""
                          }
                        },
                        "type": "scattermapbox"
                      }
                    ],
                    "scatterpolar": [
                      {
                        "marker": {
                          "colorbar": {
                            "outlinewidth": 0,
                            "ticks": ""
                          }
                        },
                        "type": "scatterpolar"
                      }
                    ],
                    "scatterpolargl": [
                      {
                        "marker": {
                          "colorbar": {
                            "outlinewidth": 0,
                            "ticks": ""
                          }
                        },
                        "type": "scatterpolargl"
                      }
                    ],
                    "scatterternary": [
                      {
                        "marker": {
                          "colorbar": {
                            "outlinewidth": 0,
                            "ticks": ""
                          }
                        },
                        "type": "scatterternary"
                      }
                    ],
                    "surface": [
                      {
                        "colorbar": {
                          "outlinewidth": 0,
                          "ticks": ""
                        },
                        "colorscale": [
                          [
                            0,
                            "#0d0887"
                          ],
                          [
                            0.1111111111111111,
                            "#46039f"
                          ],
                          [
                            0.2222222222222222,
                            "#7201a8"
                          ],
                          [
                            0.3333333333333333,
                            "#9c179e"
                          ],
                          [
                            0.4444444444444444,
                            "#bd3786"
                          ],
                          [
                            0.5555555555555556,
                            "#d8576b"
                          ],
                          [
                            0.6666666666666666,
                            "#ed7953"
                          ],
                          [
                            0.7777777777777778,
                            "#fb9f3a"
                          ],
                          [
                            0.8888888888888888,
                            "#fdca26"
                          ],
                          [
                            1,
                            "#f0f921"
                          ]
                        ],
                        "type": "surface"
                      }
                    ],
                    "table": [
                      {
                        "cells": {
                          "fill": {
                            "color": "#EBF0F8"
                          },
                          "line": {
                            "color": "white"
                          }
                        },
                        "header": {
                          "fill": {
                            "color": "#C8D4E3"
                          },
                          "line": {
                            "color": "white"
                          }
                        },
                        "type": "table"
                      }
                    ]
                  },
                  "layout": {
                    "annotationdefaults": {
                      "arrowcolor": "#2a3f5f",
                      "arrowhead": 0,
                      "arrowwidth": 1
                    },
                    "autotypenumbers": "strict",
                    "coloraxis": {
                      "colorbar": {
                        "outlinewidth": 0,
                        "ticks": ""
                      }
                    },
                    "colorscale": {
                      "diverging": [
                        [
                          0,
                          "#8e0152"
                        ],
                        [
                          0.1,
                          "#c51b7d"
                        ],
                        [
                          0.2,
                          "#de77ae"
                        ],
                        [
                          0.3,
                          "#f1b6da"
                        ],
                        [
                          0.4,
                          "#fde0ef"
                        ],
                        [
                          0.5,
                          "#f7f7f7"
                        ],
                        [
                          0.6,
                          "#e6f5d0"
                        ],
                        [
                          0.7,
                          "#b8e186"
                        ],
                        [
                          0.8,
                          "#7fbc41"
                        ],
                        [
                          0.9,
                          "#4d9221"
                        ],
                        [
                          1,
                          "#276419"
                        ]
                      ],
                      "sequential": [
                        [
                          0,
                          "#0d0887"
                        ],
                        [
                          0.1111111111111111,
                          "#46039f"
                        ],
                        [
                          0.2222222222222222,
                          "#7201a8"
                        ],
                        [
                          0.3333333333333333,
                          "#9c179e"
                        ],
                        [
                          0.4444444444444444,
                          "#bd3786"
                        ],
                        [
                          0.5555555555555556,
                          "#d8576b"
                        ],
                        [
                          0.6666666666666666,
                          "#ed7953"
                        ],
                        [
                          0.7777777777777778,
                          "#fb9f3a"
                        ],
                        [
                          0.8888888888888888,
                          "#fdca26"
                        ],
                        [
                          1,
                          "#f0f921"
                        ]
                      ],
                      "sequentialminus": [
                        [
                          0,
                          "#0d0887"
                        ],
                        [
                          0.1111111111111111,
                          "#46039f"
                        ],
                        [
                          0.2222222222222222,
                          "#7201a8"
                        ],
                        [
                          0.3333333333333333,
                          "#9c179e"
                        ],
                        [
                          0.4444444444444444,
                          "#bd3786"
                        ],
                        [
                          0.5555555555555556,
                          "#d8576b"
                        ],
                        [
                          0.6666666666666666,
                          "#ed7953"
                        ],
                        [
                          0.7777777777777778,
                          "#fb9f3a"
                        ],
                        [
                          0.8888888888888888,
                          "#fdca26"
                        ],
                        [
                          1,
                          "#f0f921"
                        ]
                      ]
                    },
                    "colorway": [
                      "#636efa",
                      "#EF553B",
                      "#00cc96",
                      "#ab63fa",
                      "#FFA15A",
                      "#19d3f3",
                      "#FF6692",
                      "#B6E880",
                      "#FF97FF",
                      "#FECB52"
                    ],
                    "font": {
                      "color": "#2a3f5f"
                    },
                    "geo": {
                      "bgcolor": "white",
                      "lakecolor": "white",
                      "landcolor": "#E5ECF6",
                      "showlakes": true,
                      "showland": true,
                      "subunitcolor": "white"
                    },
                    "hoverlabel": {
                      "align": "left"
                    },
                    "hovermode": "closest",
                    "mapbox": {
                      "style": "light"
                    },
                    "paper_bgcolor": "white",
                    "plot_bgcolor": "#E5ECF6",
                    "polar": {
                      "angularaxis": {
                        "gridcolor": "white",
                        "linecolor": "white",
                        "ticks": ""
                      },
                      "bgcolor": "#E5ECF6",
                      "radialaxis": {
                        "gridcolor": "white",
                        "linecolor": "white",
                        "ticks": ""
                      }
                    },
                    "scene": {
                      "xaxis": {
                        "backgroundcolor": "#E5ECF6",
                        "gridcolor": "white",
                        "gridwidth": 2,
                        "linecolor": "white",
                        "showbackground": true,
                        "ticks": "",
                        "zerolinecolor": "white"
                      },
                      "yaxis": {
                        "backgroundcolor": "#E5ECF6",
                        "gridcolor": "white",
                        "gridwidth": 2,
                        "linecolor": "white",
                        "showbackground": true,
                        "ticks": "",
                        "zerolinecolor": "white"
                      },
                      "zaxis": {
                        "backgroundcolor": "#E5ECF6",
                        "gridcolor": "white",
                        "gridwidth": 2,
                        "linecolor": "white",
                        "showbackground": true,
                        "ticks": "",
                        "zerolinecolor": "white"
                      }
                    },
                    "shapedefaults": {
                      "line": {
                        "color": "#2a3f5f"
                      }
                    },
                    "ternary": {
                      "aaxis": {
                        "gridcolor": "white",
                        "linecolor": "white",
                        "ticks": ""
                      },
                      "baxis": {
                        "gridcolor": "white",
                        "linecolor": "white",
                        "ticks": ""
                      },
                      "bgcolor": "#E5ECF6",
                      "caxis": {
                        "gridcolor": "white",
                        "linecolor": "white",
                        "ticks": ""
                      }
                    },
                    "title": {
                      "x": 0.05
                    },
                    "xaxis": {
                      "automargin": true,
                      "gridcolor": "white",
                      "linecolor": "white",
                      "ticks": "",
                      "title": {
                        "standoff": 15
                      },
                      "zerolinecolor": "white",
                      "zerolinewidth": 2
                    },
                    "yaxis": {
                      "automargin": true,
                      "gridcolor": "white",
                      "linecolor": "white",
                      "ticks": "",
                      "title": {
                        "standoff": 15
                      },
                      "zerolinecolor": "white",
                      "zerolinewidth": 2
                    }
                  }
                },
                "title": {
                  "text": "Trend of sweat"
                },
                "xaxis": {
                  "anchor": "y",
                  "domain": [
                    0,
                    1
                  ],
                  "title": {
                    "text": "Date-Hour"
                  }
                },
                "yaxis": {
                  "anchor": "x",
                  "domain": [
                    0,
                    1
                  ],
                  "range": [
                    0,
                    245.3
                  ],
                  "title": {
                    "text": "Number of messages"
                  }
                }
              }
            }
          },
          "metadata": {},
          "output_type": "display_data"
        }
      ],
      "source": [
        "for symptom in  Symptoms[:3]:  # only the first three symptoms are shown\n",
        "    trend_of_symptom(symptom)"
      ]
    },
    {
      "cell_type": "markdown",
      "metadata": {},
      "source": [
        "len(Symptoms)"
      ]
    },
    {
      "cell_type": "code",
      "execution_count": 162,
      "metadata": {},
      "outputs": [
        {
          "data": {
            "application/vnd.plotly.v1+json": {
              "config": {
                "plotlyServerURL": "https://plot.ly"
              },
              "data": [
                {
                  "mode": "lines",
                  "name": "fever",
                  "type": "scatter",
                  "x": [
                    "2011-05-17T00:00:00",
                    "2011-05-17T01:00:00",
                    "2011-05-17T02:00:00",
                    "2011-05-17T03:00:00",
                    "2011-05-17T04:00:00",
                    "2011-05-17T05:00:00",
                    "2011-05-17T06:00:00",
                    "2011-05-17T07:00:00",
                    "2011-05-17T08:00:00",
                    "2011-05-17T09:00:00",
                    "2011-05-17T10:00:00",
                    "2011-05-17T11:00:00",
                    "2011-05-17T12:00:00",
                    "2011-05-17T13:00:00",
                    "2011-05-17T14:00:00",
                    "2011-05-17T15:00:00",
                    "2011-05-17T16:00:00",
                    "2011-05-17T17:00:00",
                    "2011-05-17T18:00:00",
                    "2011-05-17T19:00:00",
                    "2011-05-17T20:00:00",
                    "2011-05-17T21:00:00",
                    "2011-05-17T22:00:00",
                    "2011-05-17T23:00:00",
                    "2011-05-18T00:00:00",
                    "2011-05-18T01:00:00",
                    "2011-05-18T02:00:00",
                    "2011-05-18T03:00:00",
                    "2011-05-18T04:00:00",
                    "2011-05-18T05:00:00",
                    "2011-05-18T06:00:00",
                    "2011-05-18T07:00:00",
                    "2011-05-18T08:00:00",
                    "2011-05-18T09:00:00",
                    "2011-05-18T10:00:00",
                    "2011-05-18T11:00:00",
                    "2011-05-18T12:00:00",
                    "2011-05-18T13:00:00",
                    "2011-05-18T14:00:00",
                    "2011-05-18T15:00:00",
                    "2011-05-18T16:00:00",
                    "2011-05-18T17:00:00",
                    "2011-05-18T18:00:00",
                    "2011-05-18T19:00:00",
                    "2011-05-18T20:00:00",
                    "2011-05-18T21:00:00",
                    "2011-05-18T22:00:00",
                    "2011-05-18T23:00:00",
                    "2011-05-19T00:00:00",
                    "2011-05-19T01:00:00",
                    "2011-05-19T02:00:00",
                    "2011-05-19T03:00:00",
                    "2011-05-19T04:00:00",
                    "2011-05-19T05:00:00",
                    "2011-05-19T06:00:00",
                    "2011-05-19T07:00:00",
                    "2011-05-19T08:00:00",
                    "2011-05-19T09:00:00",
                    "2011-05-19T10:00:00",
                    "2011-05-19T11:00:00",
                    "2011-05-19T12:00:00",
                    "2011-05-19T13:00:00",
                    "2011-05-19T14:00:00",
                    "2011-05-19T15:00:00",
                    "2011-05-19T16:00:00",
                    "2011-05-19T17:00:00",
                    "2011-05-19T18:00:00",
                    "2011-05-19T19:00:00",
                    "2011-05-19T20:00:00",
                    "2011-05-19T21:00:00",
                    "2011-05-19T22:00:00",
                    "2011-05-19T23:00:00",
                    "2011-05-20T00:00:00",
                    "2011-05-20T01:00:00",
                    "2011-05-20T02:00:00",
                    "2011-05-20T03:00:00",
                    "2011-05-20T04:00:00",
                    "2011-05-20T05:00:00",
                    "2011-05-20T06:00:00",
                    "2011-05-20T07:00:00",
                    "2011-05-20T08:00:00",
                    "2011-05-20T09:00:00",
                    "2011-05-20T10:00:00",
                    "2011-05-20T11:00:00",
                    "2011-05-20T12:00:00",
                    "2011-05-20T13:00:00",
                    "2011-05-20T14:00:00",
                    "2011-05-20T15:00:00",
                    "2011-05-20T16:00:00",
                    "2011-05-20T17:00:00",
                    "2011-05-20T18:00:00",
                    "2011-05-20T19:00:00",
                    "2011-05-20T20:00:00",
                    "2011-05-20T21:00:00",
                    "2011-05-20T22:00:00",
                    "2011-05-20T23:00:00"
                  ],
                  "y": [
                    1,
                    1,
                    0,
                    1,
                    1,
                    1,
                    0,
                    1,
                    2,
                    0,
                    1,
                    0,
                    1,
                    1,
                    1,
                    0,
                    2,
                    0,
                    0,
                    3,
                    1,
                    3,
                    2,
                    1,
                    1,
                    46,
                    35,
                    50,
                    53,
                    54,
                    57,
                    46,
                    158,
                    144,
                    176,
                    174,
                    166,
                    163,
                    178,
                    153,
                    163,
                    147,
                    345,
                    217,
                    203,
                    194,
                    223,
                    203,
                    64,
                    60,
                    95,
                    101,
                    116,
                    95,
                    98,
                    101,
                    152,
                    126,
                    135,
                    140,
                    133,
                    129,
                    152,
                    134,
                    147,
                    113,
                    143,
                    126,
                    140,
                    152,
                    129,
                    164,
                    67,
                    42,
                    48,
                    57,
                    57,
                    43,
                    40,
                    46,
                    50,
                    61,
                    59,
                    47,
                    44,
                    37,
                    44,
                    55,
                    38,
                    46,
                    53,
                    54,
                    68,
                    65,
                    55,
                    45
                  ]
                },
                {
                  "mode": "lines",
                  "name": "chill",
                  "type": "scatter",
                  "x": [
                    "2011-05-17T00:00:00",
                    "2011-05-17T01:00:00",
                    "2011-05-17T02:00:00",
                    "2011-05-17T03:00:00",
                    "2011-05-17T04:00:00",
                    "2011-05-17T05:00:00",
                    "2011-05-17T06:00:00",
                    "2011-05-17T07:00:00",
                    "2011-05-17T08:00:00",
                    "2011-05-17T09:00:00",
                    "2011-05-17T10:00:00",
                    "2011-05-17T11:00:00",
                    "2011-05-17T12:00:00",
                    "2011-05-17T13:00:00",
                    "2011-05-17T14:00:00",
                    "2011-05-17T15:00:00",
                    "2011-05-17T16:00:00",
                    "2011-05-17T17:00:00",
                    "2011-05-17T18:00:00",
                    "2011-05-17T19:00:00",
                    "2011-05-17T20:00:00",
                    "2011-05-17T21:00:00",
                    "2011-05-17T22:00:00",
                    "2011-05-17T23:00:00",
                    "2011-05-18T00:00:00",
                    "2011-05-18T01:00:00",
                    "2011-05-18T02:00:00",
                    "2011-05-18T03:00:00",
                    "2011-05-18T04:00:00",
                    "2011-05-18T05:00:00",
                    "2011-05-18T06:00:00",
                    "2011-05-18T07:00:00",
                    "2011-05-18T08:00:00",
                    "2011-05-18T09:00:00",
                    "2011-05-18T10:00:00",
                    "2011-05-18T11:00:00",
                    "2011-05-18T12:00:00",
                    "2011-05-18T13:00:00",
                    "2011-05-18T14:00:00",
                    "2011-05-18T15:00:00",
                    "2011-05-18T16:00:00",
                    "2011-05-18T17:00:00",
                    "2011-05-18T18:00:00",
                    "2011-05-18T19:00:00",
                    "2011-05-18T20:00:00",
                    "2011-05-18T21:00:00",
                    "2011-05-18T22:00:00",
                    "2011-05-18T23:00:00",
                    "2011-05-19T00:00:00",
                    "2011-05-19T01:00:00",
                    "2011-05-19T02:00:00",
                    "2011-05-19T03:00:00",
                    "2011-05-19T04:00:00",
                    "2011-05-19T05:00:00",
                    "2011-05-19T06:00:00",
                    "2011-05-19T07:00:00",
                    "2011-05-19T08:00:00",
                    "2011-05-19T09:00:00",
                    "2011-05-19T10:00:00",
                    "2011-05-19T11:00:00",
                    "2011-05-19T12:00:00",
                    "2011-05-19T13:00:00",
                    "2011-05-19T14:00:00",
                    "2011-05-19T15:00:00",
                    "2011-05-19T16:00:00",
                    "2011-05-19T17:00:00",
                    "2011-05-19T18:00:00",
                    "2011-05-19T19:00:00",
                    "2011-05-19T20:00:00",
                    "2011-05-19T21:00:00",
                    "2011-05-19T22:00:00",
                    "2011-05-19T23:00:00",
                    "2011-05-20T00:00:00",
                    "2011-05-20T01:00:00",
                    "2011-05-20T02:00:00",
                    "2011-05-20T03:00:00",
                    "2011-05-20T04:00:00",
                    "2011-05-20T05:00:00",
                    "2011-05-20T06:00:00",
                    "2011-05-20T07:00:00",
                    "2011-05-20T08:00:00",
                    "2011-05-20T09:00:00",
                    "2011-05-20T10:00:00",
                    "2011-05-20T11:00:00",
                    "2011-05-20T12:00:00",
                    "2011-05-20T13:00:00",
                    "2011-05-20T14:00:00",
                    "2011-05-20T15:00:00",
                    "2011-05-20T16:00:00",
                    "2011-05-20T17:00:00",
                    "2011-05-20T18:00:00",
                    "2011-05-20T19:00:00",
                    "2011-05-20T20:00:00",
                    "2011-05-20T21:00:00",
                    "2011-05-20T22:00:00",
                    "2011-05-20T23:00:00"
                  ],
                  "y": [
                    1,
                    5,
                    3,
                    6,
                    0,
                    2,
                    4,
                    2,
                    1,
                    4,
                    5,
                    3,
                    4,
                    3,
                    1,
                    2,
                    3,
                    6,
                    1,
                    6,
                    5,
                    8,
                    4,
                    4,
                    7,
                    6,
                    5,
                    4,
                    3,
                    2,
                    2,
                    1,
                    101,
                    98,
                    108,
                    131,
                    110,
                    86,
                    102,
                    96,
                    117,
                    102,
                    262,
                    112,
                    121,
                    106,
                    142,
                    120,
                    64,
                    60,
                    111,
                    95,
                    100,
                    96,
                    106,
                    102,
                    226,
                    239,
                    200,
                    230,
                    210,
                    220,
                    197,
                    201,
                    208,
                    200,
                    185,
                    231,
                    219,
                    238,
                    202,
                    248,
                    105,
                    91,
                    207,
                    221,
                    222,
                    227,
                    208,
                    177,
                    181,
                    186,
                    199,
                    192,
                    188,
                    195,
                    194,
                    190,
                    171,
                    177,
                    202,
                    210,
                    168,
                    213,
                    201,
                    186
                  ]
                },
                {
                  "mode": "lines",
                  "name": "sweat",
                  "type": "scatter",
                  "x": [
                    "2011-05-17T00:00:00",
                    "2011-05-17T01:00:00",
                    "2011-05-17T02:00:00",
                    "2011-05-17T03:00:00",
                    "2011-05-17T04:00:00",
                    "2011-05-17T05:00:00",
                    "2011-05-17T06:00:00",
                    "2011-05-17T07:00:00",
                    "2011-05-17T08:00:00",
                    "2011-05-17T09:00:00",
                    "2011-05-17T10:00:00",
                    "2011-05-17T11:00:00",
                    "2011-05-17T12:00:00",
                    "2011-05-17T13:00:00",
                    "2011-05-17T14:00:00",
                    "2011-05-17T15:00:00",
                    "2011-05-17T16:00:00",
                    "2011-05-17T17:00:00",
                    "2011-05-17T18:00:00",
                    "2011-05-17T19:00:00",
                    "2011-05-17T20:00:00",
                    "2011-05-17T21:00:00",
                    "2011-05-17T22:00:00",
                    "2011-05-17T23:00:00",
                    "2011-05-18T00:00:00",
                    "2011-05-18T01:00:00",
                    "2011-05-18T02:00:00",
                    "2011-05-18T03:00:00",
                    "2011-05-18T04:00:00",
                    "2011-05-18T05:00:00",
                    "2011-05-18T06:00:00",
                    "2011-05-18T07:00:00",
                    "2011-05-18T08:00:00",
                    "2011-05-18T09:00:00",
                    "2011-05-18T10:00:00",
                    "2011-05-18T11:00:00",
                    "2011-05-18T12:00:00",
                    "2011-05-18T13:00:00",
                    "2011-05-18T14:00:00",
                    "2011-05-18T15:00:00",
                    "2011-05-18T16:00:00",
                    "2011-05-18T17:00:00",
                    "2011-05-18T18:00:00",
                    "2011-05-18T19:00:00",
                    "2011-05-18T20:00:00",
                    "2011-05-18T21:00:00",
                    "2011-05-18T22:00:00",
                    "2011-05-18T23:00:00",
                    "2011-05-19T00:00:00",
                    "2011-05-19T01:00:00",
                    "2011-05-19T02:00:00",
                    "2011-05-19T03:00:00",
                    "2011-05-19T04:00:00",
                    "2011-05-19T05:00:00",
                    "2011-05-19T06:00:00",
                    "2011-05-19T07:00:00",
                    "2011-05-19T08:00:00",
                    "2011-05-19T09:00:00",
                    "2011-05-19T10:00:00",
                    "2011-05-19T11:00:00",
                    "2011-05-19T12:00:00",
                    "2011-05-19T13:00:00",
                    "2011-05-19T14:00:00",
                    "2011-05-19T15:00:00",
                    "2011-05-19T16:00:00",
                    "2011-05-19T17:00:00",
                    "2011-05-19T18:00:00",
                    "2011-05-19T19:00:00",
                    "2011-05-19T20:00:00",
                    "2011-05-19T21:00:00",
                    "2011-05-19T22:00:00",
                    "2011-05-19T23:00:00",
                    "2011-05-20T00:00:00",
                    "2011-05-20T01:00:00",
                    "2011-05-20T02:00:00",
                    "2011-05-20T03:00:00",
                    "2011-05-20T04:00:00",
                    "2011-05-20T05:00:00",
                    "2011-05-20T06:00:00",
                    "2011-05-20T07:00:00",
                    "2011-05-20T08:00:00",
                    "2011-05-20T09:00:00",
                    "2011-05-20T10:00:00",
                    "2011-05-20T11:00:00",
                    "2011-05-20T12:00:00",
                    "2011-05-20T13:00:00",
                    "2011-05-20T14:00:00",
                    "2011-05-20T15:00:00",
                    "2011-05-20T16:00:00",
                    "2011-05-20T17:00:00",
                    "2011-05-20T18:00:00",
                    "2011-05-20T19:00:00",
                    "2011-05-20T20:00:00",
                    "2011-05-20T21:00:00"
                  ],
                  "y": [
                    4,
                    3,
                    0,
                    2,
                    2,
                    3,
                    0,
                    1,
                    2,
                    1,
                    1,
                    2,
                    1,
                    1,
                    3,
                    2,
                    3,
                    2,
                    2,
                    0,
                    4,
                    1,
                    1,
                    4,
                    1,
                    3,
                    0,
                    1,
                    4,
                    4,
                    0,
                    2,
                    116,
                    111,
                    95,
                    117,
                    92,
                    89,
                    107,
                    105,
                    105,
                    92,
                    223,
                    118,
                    113,
                    130,
                    130,
                    126,
                    62,
                    51,
                    93,
                    89,
                    103,
                    108,
                    105,
                    79,
                    43,
                    62,
                    55,
                    53,
                    51,
                    62,
                    47,
                    57,
                    57,
                    49,
                    62,
                    44,
                    60,
                    49,
                    47,
                    51,
                    2,
                    2,
                    10,
                    4,
                    10,
                    7,
                    8,
                    0,
                    1,
                    1,
                    0,
                    2,
                    1,
                    1,
                    2,
                    1,
                    2,
                    3,
                    3,
                    1,
                    0,
                    4
                  ]
                },
                {
                  "mode": "lines",
                  "name": "ache",
                  "type": "scatter",
                  "x": [
                    "2011-05-17T00:00:00",
                    "2011-05-17T01:00:00",
                    "2011-05-17T02:00:00",
                    "2011-05-17T03:00:00",
                    "2011-05-17T04:00:00",
                    "2011-05-17T05:00:00",
                    "2011-05-17T06:00:00",
                    "2011-05-17T07:00:00",
                    "2011-05-17T08:00:00",
                    "2011-05-17T09:00:00",
                    "2011-05-17T10:00:00",
                    "2011-05-17T11:00:00",
                    "2011-05-17T12:00:00",
                    "2011-05-17T13:00:00",
                    "2011-05-17T14:00:00",
                    "2011-05-17T15:00:00",
                    "2011-05-17T16:00:00",
                    "2011-05-17T17:00:00",
                    "2011-05-17T18:00:00",
                    "2011-05-17T19:00:00",
                    "2011-05-17T20:00:00",
                    "2011-05-17T21:00:00",
                    "2011-05-17T22:00:00",
                    "2011-05-17T23:00:00",
                    "2011-05-18T00:00:00",
                    "2011-05-18T01:00:00",
                    "2011-05-18T02:00:00",
                    "2011-05-18T03:00:00",
                    "2011-05-18T04:00:00",
                    "2011-05-18T05:00:00",
                    "2011-05-18T06:00:00",
                    "2011-05-18T07:00:00",
                    "2011-05-18T08:00:00",
                    "2011-05-18T09:00:00",
                    "2011-05-18T10:00:00",
                    "2011-05-18T11:00:00",
                    "2011-05-18T12:00:00",
                    "2011-05-18T13:00:00",
                    "2011-05-18T14:00:00",
                    "2011-05-18T15:00:00",
                    "2011-05-18T16:00:00",
                    "2011-05-18T17:00:00",
                    "2011-05-18T18:00:00",
                    "2011-05-18T19:00:00",
                    "2011-05-18T20:00:00",
                    "2011-05-18T21:00:00",
                    "2011-05-18T22:00:00",
                    "2011-05-18T23:00:00",
                    "2011-05-19T00:00:00",
                    "2011-05-19T01:00:00",
                    "2011-05-19T02:00:00",
                    "2011-05-19T03:00:00",
                    "2011-05-19T04:00:00",
                    "2011-05-19T05:00:00",
                    "2011-05-19T06:00:00",
                    "2011-05-19T07:00:00",
                    "2011-05-19T08:00:00",
                    "2011-05-19T09:00:00",
                    "2011-05-19T10:00:00",
                    "2011-05-19T11:00:00",
                    "2011-05-19T12:00:00",
                    "2011-05-19T13:00:00",
                    "2011-05-19T14:00:00",
                    "2011-05-19T15:00:00",
                    "2011-05-19T16:00:00",
                    "2011-05-19T17:00:00",
                    "2011-05-19T18:00:00",
                    "2011-05-19T19:00:00",
                    "2011-05-19T20:00:00",
                    "2011-05-19T21:00:00",
                    "2011-05-19T22:00:00",
                    "2011-05-19T23:00:00",
                    "2011-05-20T00:00:00",
                    "2011-05-20T01:00:00",
                    "2011-05-20T02:00:00",
                    "2011-05-20T03:00:00",
                    "2011-05-20T04:00:00",
                    "2011-05-20T05:00:00",
                    "2011-05-20T06:00:00",
                    "2011-05-20T07:00:00",
                    "2011-05-20T08:00:00",
                    "2011-05-20T09:00:00",
                    "2011-05-20T10:00:00",
                    "2011-05-20T11:00:00",
                    "2011-05-20T12:00:00",
                    "2011-05-20T13:00:00",
                    "2011-05-20T14:00:00",
                    "2011-05-20T15:00:00",
                    "2011-05-20T16:00:00",
                    "2011-05-20T17:00:00",
                    "2011-05-20T18:00:00",
                    "2011-05-20T19:00:00",
                    "2011-05-20T20:00:00",
                    "2011-05-20T21:00:00",
                    "2011-05-20T22:00:00",
                    "2011-05-20T23:00:00"
                  ],
                  "y": [
                    8,
                    19,
                    12,
                    8,
                    10,
                    13,
                    9,
                    11,
                    9,
                    3,
                    6,
                    8,
                    14,
                    8,
                    6,
                    11,
                    16,
                    16,
                    9,
                    17,
                    13,
                    29,
                    14,
                    14,
                    10,
                    36,
                    31,
                    36,
                    19,
                    36,
                    24,
                    22,
                    129,
                    135,
                    134,
                    125,
                    168,
                    135,
                    118,
                    140,
                    133,
                    125,
                    276,
                    180,
                    149,
                    154,
                    164,
                    141,
                    59,
                    54,
                    85,
                    90,
                    103,
                    95,
                    101,
                    103,
                    102,
                    118,
                    121,
                    127,
                    130,
                    114,
                    117,
                    110,
                    114,
                    114,
                    124,
                    103,
                    111,
                    136,
                    113,
                    67,
                    42,
                    53,
                    73,
                    50,
                    54,
                    51,
                    38,
                    12,
                    7,
                    4,
                    6,
                    5,
                    9,
                    4,
                    4,
                    10,
                    9,
                    13,
                    7,
                    11,
                    7,
                    23,
                    11,
                    11
                  ]
                },
                {
                  "mode": "lines",
                  "name": "pain",
                  "type": "scatter",
                  "x": [
                    "2011-05-17T00:00:00",
                    "2011-05-17T01:00:00",
                    "2011-05-17T02:00:00",
                    "2011-05-17T03:00:00",
                    "2011-05-17T04:00:00",
                    "2011-05-17T05:00:00",
                    "2011-05-17T06:00:00",
                    "2011-05-17T07:00:00",
                    "2011-05-17T08:00:00",
                    "2011-05-17T09:00:00",
                    "2011-05-17T10:00:00",
                    "2011-05-17T11:00:00",
                    "2011-05-17T12:00:00",
                    "2011-05-17T13:00:00",
                    "2011-05-17T14:00:00",
                    "2011-05-17T15:00:00",
                    "2011-05-17T16:00:00",
                    "2011-05-17T17:00:00",
                    "2011-05-17T18:00:00",
                    "2011-05-17T19:00:00",
                    "2011-05-17T20:00:00",
                    "2011-05-17T21:00:00",
                    "2011-05-17T22:00:00",
                    "2011-05-17T23:00:00",
                    "2011-05-18T00:00:00",
                    "2011-05-18T01:00:00",
                    "2011-05-18T02:00:00",
                    "2011-05-18T03:00:00",
                    "2011-05-18T04:00:00",
                    "2011-05-18T05:00:00",
                    "2011-05-18T06:00:00",
                    "2011-05-18T07:00:00",
                    "2011-05-18T08:00:00",
                    "2011-05-18T09:00:00",
                    "2011-05-18T10:00:00",
                    "2011-05-18T11:00:00",
                    "2011-05-18T12:00:00",
                    "2011-05-18T13:00:00",
                    "2011-05-18T14:00:00",
                    "2011-05-18T15:00:00",
                    "2011-05-18T16:00:00",
                    "2011-05-18T17:00:00",
                    "2011-05-18T18:00:00",
                    "2011-05-18T19:00:00",
                    "2011-05-18T20:00:00",
                    "2011-05-18T21:00:00",
                    "2011-05-18T22:00:00",
                    "2011-05-18T23:00:00",
                    "2011-05-19T00:00:00",
                    "2011-05-19T01:00:00",
                    "2011-05-19T02:00:00",
                    "2011-05-19T03:00:00",
                    "2011-05-19T04:00:00",
                    "2011-05-19T05:00:00",
                    "2011-05-19T06:00:00",
                    "2011-05-19T07:00:00",
                    "2011-05-19T08:00:00",
                    "2011-05-19T09:00:00",
                    "2011-05-19T10:00:00",
                    "2011-05-19T11:00:00",
                    "2011-05-19T12:00:00",
                    "2011-05-19T13:00:00",
                    "2011-05-19T14:00:00",
                    "2011-05-19T15:00:00",
                    "2011-05-19T16:00:00",
                    "2011-05-19T17:00:00",
                    "2011-05-19T18:00:00",
                    "2011-05-19T19:00:00",
                    "2011-05-19T20:00:00",
                    "2011-05-19T21:00:00",
                    "2011-05-19T22:00:00",
                    "2011-05-19T23:00:00",
                    "2011-05-20T00:00:00",
                    "2011-05-20T01:00:00",
                    "2011-05-20T02:00:00",
                    "2011-05-20T03:00:00",
                    "2011-05-20T04:00:00",
                    "2011-05-20T05:00:00",
                    "2011-05-20T06:00:00",
                    "2011-05-20T07:00:00",
                    "2011-05-20T08:00:00",
                    "2011-05-20T09:00:00",
                    "2011-05-20T10:00:00",
                    "2011-05-20T11:00:00",
                    "2011-05-20T12:00:00",
                    "2011-05-20T13:00:00",
                    "2011-05-20T14:00:00",
                    "2011-05-20T15:00:00",
                    "2011-05-20T16:00:00",
                    "2011-05-20T17:00:00",
                    "2011-05-20T18:00:00",
                    "2011-05-20T19:00:00",
                    "2011-05-20T20:00:00",
                    "2011-05-20T21:00:00",
                    "2011-05-20T22:00:00",
                    "2011-05-20T23:00:00"
                  ],
                  "y": [
                    6,
                    13,
                    1,
                    7,
                    9,
                    9,
                    10,
                    4,
                    3,
                    2,
                    2,
                    2,
                    8,
                    8,
                    7,
                    7,
                    8,
                    6,
                    3,
                    7,
                    9,
                    15,
                    10,
                    9,
                    7,
                    9,
                    8,
                    7,
                    6,
                    6,
                    5,
                    8,
                    5,
                    5,
                    5,
                    7,
                    3,
                    6,
                    6,
                    7,
                    12,
                    14,
                    3,
                    6,
                    10,
                    13,
                    9,
                    6,
                    7,
                    13,
                    48,
                    24,
                    35,
                    41,
                    30,
                    28,
                    27,
                    34,
                    35,
                    35,
                    27,
                    40,
                    27,
                    35,
                    32,
                    44,
                    36,
                    41,
                    31,
                    33,
                    33,
                    4,
                    27,
                    38,
                    32,
                    37,
                    39,
                    32,
                    30,
                    79,
                    84,
                    79,
                    75,
                    73,
                    96,
                    102,
                    93,
                    93,
                    92,
                    77,
                    103,
                    79,
                    87,
                    89,
                    87,
                    67
                  ]
                },
                {
                  "mode": "lines",
                  "name": "fatigue",
                  "type": "scatter",
                  "x": [
                    "2011-05-17T02:00:00",
                    "2011-05-17T03:00:00",
                    "2011-05-17T04:00:00",
                    "2011-05-17T05:00:00",
                    "2011-05-17T06:00:00",
                    "2011-05-17T07:00:00",
                    "2011-05-17T08:00:00",
                    "2011-05-17T09:00:00",
                    "2011-05-17T10:00:00",
                    "2011-05-17T11:00:00",
                    "2011-05-17T12:00:00",
                    "2011-05-17T13:00:00",
                    "2011-05-17T14:00:00",
                    "2011-05-17T15:00:00",
                    "2011-05-17T16:00:00",
                    "2011-05-17T17:00:00",
                    "2011-05-17T18:00:00",
                    "2011-05-17T19:00:00",
                    "2011-05-17T20:00:00",
                    "2011-05-17T21:00:00",
                    "2011-05-17T22:00:00",
                    "2011-05-17T23:00:00",
                    "2011-05-18T00:00:00",
                    "2011-05-18T01:00:00",
                    "2011-05-18T02:00:00",
                    "2011-05-18T03:00:00",
                    "2011-05-18T04:00:00",
                    "2011-05-18T05:00:00",
                    "2011-05-18T06:00:00",
                    "2011-05-18T07:00:00",
                    "2011-05-18T08:00:00",
                    "2011-05-18T09:00:00",
                    "2011-05-18T10:00:00",
                    "2011-05-18T11:00:00",
                    "2011-05-18T12:00:00",
                    "2011-05-18T13:00:00",
                    "2011-05-18T14:00:00",
                    "2011-05-18T15:00:00",
                    "2011-05-18T16:00:00",
                    "2011-05-18T17:00:00",
                    "2011-05-18T18:00:00",
                    "2011-05-18T19:00:00",
                    "2011-05-18T20:00:00",
                    "2011-05-18T21:00:00",
                    "2011-05-18T22:00:00",
                    "2011-05-18T23:00:00",
                    "2011-05-19T00:00:00",
                    "2011-05-19T01:00:00",
                    "2011-05-19T02:00:00",
                    "2011-05-19T03:00:00",
                    "2011-05-19T04:00:00",
                    "2011-05-19T05:00:00",
                    "2011-05-19T06:00:00",
                    "2011-05-19T07:00:00",
                    "2011-05-19T08:00:00",
                    "2011-05-19T09:00:00",
                    "2011-05-19T10:00:00",
                    "2011-05-19T11:00:00",
                    "2011-05-19T12:00:00",
                    "2011-05-19T13:00:00",
                    "2011-05-19T14:00:00",
                    "2011-05-19T15:00:00",
                    "2011-05-19T16:00:00",
                    "2011-05-19T17:00:00",
                    "2011-05-19T18:00:00",
                    "2011-05-19T19:00:00",
                    "2011-05-19T20:00:00",
                    "2011-05-19T21:00:00",
                    "2011-05-19T22:00:00",
                    "2011-05-19T23:00:00",
                    "2011-05-20T00:00:00",
                    "2011-05-20T01:00:00",
                    "2011-05-20T02:00:00",
                    "2011-05-20T03:00:00",
                    "2011-05-20T04:00:00",
                    "2011-05-20T05:00:00",
                    "2011-05-20T06:00:00"
                  ],
                  "y": [
                    1,
                    0,
                    0,
                    0,
                    1,
                    0,
                    1,
                    0,
                    0,
                    0,
                    0,
                    0,
                    0,
                    0,
                    0,
                    0,
                    0,
                    0,
                    0,
                    0,
                    0,
                    0,
                    0,
                    0,
                    0,
                    0,
                    0,
                    0,
                    0,
                    0,
                    91,
                    107,
                    116,
                    103,
                    109,
                    96,
                    94,
                    106,
                    110,
                    126,
                    259,
                    118,
                    107,
                    115,
                    138,
                    112,
                    48,
                    53,
                    115,
                    89,
                    102,
                    101,
                    101,
                    85,
                    46,
                    45,
                    52,
                    58,
                    52,
                    50,
                    52,
                    45,
                    37,
                    53,
                    53,
                    47,
                    35,
                    55,
                    57,
                    33,
                    3,
                    3,
                    2,
                    2,
                    3,
                    2,
                    2
                  ]
                },
                {
                  "mode": "lines",
                  "name": "cough",
                  "type": "scatter",
                  "x": [
                    "2011-05-17T00:00:00",
                    "2011-05-17T01:00:00",
                    "2011-05-17T02:00:00",
                    "2011-05-17T03:00:00",
                    "2011-05-17T04:00:00",
                    "2011-05-17T05:00:00",
                    "2011-05-17T06:00:00",
                    "2011-05-17T07:00:00",
                    "2011-05-17T08:00:00",
                    "2011-05-17T09:00:00",
                    "2011-05-17T10:00:00",
                    "2011-05-17T11:00:00",
                    "2011-05-17T12:00:00",
                    "2011-05-17T13:00:00",
                    "2011-05-17T14:00:00",
                    "2011-05-17T15:00:00",
                    "2011-05-17T16:00:00",
                    "2011-05-17T17:00:00",
                    "2011-05-17T18:00:00",
                    "2011-05-17T19:00:00",
                    "2011-05-17T20:00:00",
                    "2011-05-17T21:00:00",
                    "2011-05-17T22:00:00",
                    "2011-05-17T23:00:00",
                    "2011-05-18T00:00:00",
                    "2011-05-18T01:00:00",
                    "2011-05-18T02:00:00",
                    "2011-05-18T03:00:00",
                    "2011-05-18T04:00:00",
                    "2011-05-18T05:00:00",
                    "2011-05-18T06:00:00",
                    "2011-05-18T07:00:00",
                    "2011-05-18T08:00:00",
                    "2011-05-18T09:00:00",
                    "2011-05-18T10:00:00",
                    "2011-05-18T11:00:00",
                    "2011-05-18T12:00:00",
                    "2011-05-18T13:00:00",
                    "2011-05-18T14:00:00",
                    "2011-05-18T15:00:00",
                    "2011-05-18T16:00:00",
                    "2011-05-18T17:00:00",
                    "2011-05-18T18:00:00",
                    "2011-05-18T19:00:00",
                    "2011-05-18T20:00:00",
                    "2011-05-18T21:00:00",
                    "2011-05-18T22:00:00",
                    "2011-05-18T23:00:00",
                    "2011-05-19T00:00:00",
                    "2011-05-19T01:00:00",
                    "2011-05-19T02:00:00",
                    "2011-05-19T03:00:00",
                    "2011-05-19T04:00:00",
                    "2011-05-19T05:00:00",
                    "2011-05-19T06:00:00",
                    "2011-05-19T07:00:00",
                    "2011-05-19T08:00:00",
                    "2011-05-19T09:00:00",
                    "2011-05-19T10:00:00",
                    "2011-05-19T11:00:00",
                    "2011-05-19T12:00:00",
                    "2011-05-19T13:00:00",
                    "2011-05-19T14:00:00",
                    "2011-05-19T15:00:00",
                    "2011-05-19T16:00:00",
                    "2011-05-19T17:00:00",
                    "2011-05-19T18:00:00",
                    "2011-05-19T19:00:00",
                    "2011-05-19T20:00:00",
                    "2011-05-19T21:00:00",
                    "2011-05-19T22:00:00",
                    "2011-05-19T23:00:00",
                    "2011-05-20T00:00:00",
                    "2011-05-20T01:00:00",
                    "2011-05-20T02:00:00",
                    "2011-05-20T03:00:00",
                    "2011-05-20T04:00:00",
                    "2011-05-20T05:00:00",
                    "2011-05-20T06:00:00",
                    "2011-05-20T07:00:00",
                    "2011-05-20T08:00:00",
                    "2011-05-20T09:00:00",
                    "2011-05-20T10:00:00",
                    "2011-05-20T11:00:00",
                    "2011-05-20T12:00:00",
                    "2011-05-20T13:00:00",
                    "2011-05-20T14:00:00",
                    "2011-05-20T15:00:00",
                    "2011-05-20T16:00:00",
                    "2011-05-20T17:00:00",
                    "2011-05-20T18:00:00",
                    "2011-05-20T19:00:00",
                    "2011-05-20T20:00:00",
                    "2011-05-20T21:00:00",
                    "2011-05-20T22:00:00",
                    "2011-05-20T23:00:00"
                  ],
                  "y": [
                    1,
                    0,
                    0,
                    2,
                    0,
                    1,
                    0,
                    1,
                    0,
                    0,
                    0,
                    0,
                    2,
                    1,
                    1,
                    0,
                    1,
                    0,
                    1,
                    1,
                    0,
                    1,
                    0,
                    0,
                    0,
                    6,
                    7,
                    9,
                    14,
                    5,
                    11,
                    3,
                    14,
                    19,
                    16,
                    19,
                    16,
                    18,
                    14,
                    12,
                    22,
                    21,
                    30,
                    30,
                    28,
                    22,
                    28,
                    26,
                    0,
                    2,
                    11,
                    20,
                    9,
                    16,
                    16,
                    20,
                    80,
                    107,
                    82,
                    89,
                    100,
                    88,
                    95,
                    99,
                    84,
                    76,
                    83,
                    89,
                    78,
                    117,
                    75,
                    90,
                    41,
                    50,
                    45,
                    48,
                    53,
                    36,
                    50,
                    49,
                    43,
                    55,
                    46,
                    43,
                    53,
                    58,
                    49,
                    62,
                    46,
                    61,
                    52,
                    56,
                    51,
                    53,
                    50,
                    67
                  ]
                },
                {
                  "mode": "lines",
                  "name": "breath",
                  "type": "scatter",
                  "x": [
                    "2011-05-17T00:00:00",
                    "2011-05-17T01:00:00",
                    "2011-05-17T02:00:00",
                    "2011-05-17T03:00:00",
                    "2011-05-17T04:00:00",
                    "2011-05-17T05:00:00",
                    "2011-05-17T06:00:00",
                    "2011-05-17T07:00:00",
                    "2011-05-17T08:00:00",
                    "2011-05-17T09:00:00",
                    "2011-05-17T10:00:00",
                    "2011-05-17T11:00:00",
                    "2011-05-17T12:00:00",
                    "2011-05-17T13:00:00",
                    "2011-05-17T14:00:00",
                    "2011-05-17T15:00:00",
                    "2011-05-17T16:00:00",
                    "2011-05-17T17:00:00",
                    "2011-05-17T18:00:00",
                    "2011-05-17T19:00:00",
                    "2011-05-17T20:00:00",
                    "2011-05-17T21:00:00",
                    "2011-05-17T22:00:00",
                    "2011-05-17T23:00:00",
                    "2011-05-18T00:00:00",
                    "2011-05-18T01:00:00",
                    "2011-05-18T02:00:00",
                    "2011-05-18T03:00:00",
                    "2011-05-18T04:00:00",
                    "2011-05-18T05:00:00",
                    "2011-05-18T06:00:00",
                    "2011-05-18T07:00:00",
                    "2011-05-18T08:00:00",
                    "2011-05-18T09:00:00",
                    "2011-05-18T10:00:00",
                    "2011-05-18T11:00:00",
                    "2011-05-18T12:00:00",
                    "2011-05-18T13:00:00",
                    "2011-05-18T14:00:00",
                    "2011-05-18T15:00:00",
                    "2011-05-18T16:00:00",
                    "2011-05-18T17:00:00",
                    "2011-05-18T18:00:00",
                    "2011-05-18T19:00:00",
                    "2011-05-18T20:00:00",
                    "2011-05-18T21:00:00",
                    "2011-05-18T22:00:00",
                    "2011-05-18T23:00:00",
                    "2011-05-19T00:00:00",
                    "2011-05-19T01:00:00",
                    "2011-05-19T02:00:00",
                    "2011-05-19T03:00:00",
                    "2011-05-19T04:00:00",
                    "2011-05-19T05:00:00",
                    "2011-05-19T06:00:00",
                    "2011-05-19T07:00:00",
                    "2011-05-19T08:00:00",
                    "2011-05-19T09:00:00",
                    "2011-05-19T10:00:00",
                    "2011-05-19T11:00:00",
                    "2011-05-19T12:00:00",
                    "2011-05-19T13:00:00",
                    "2011-05-19T14:00:00",
                    "2011-05-19T15:00:00",
                    "2011-05-19T16:00:00",
                    "2011-05-19T17:00:00",
                    "2011-05-19T18:00:00",
                    "2011-05-19T19:00:00",
                    "2011-05-19T20:00:00",
                    "2011-05-19T21:00:00",
                    "2011-05-19T22:00:00",
                    "2011-05-19T23:00:00",
                    "2011-05-20T00:00:00",
                    "2011-05-20T01:00:00",
                    "2011-05-20T02:00:00",
                    "2011-05-20T03:00:00",
                    "2011-05-20T04:00:00",
                    "2011-05-20T05:00:00",
                    "2011-05-20T06:00:00",
                    "2011-05-20T07:00:00",
                    "2011-05-20T08:00:00",
                    "2011-05-20T09:00:00",
                    "2011-05-20T10:00:00",
                    "2011-05-20T11:00:00",
                    "2011-05-20T12:00:00",
                    "2011-05-20T13:00:00",
                    "2011-05-20T14:00:00",
                    "2011-05-20T15:00:00",
                    "2011-05-20T16:00:00",
                    "2011-05-20T17:00:00",
                    "2011-05-20T18:00:00",
                    "2011-05-20T19:00:00",
                    "2011-05-20T20:00:00",
                    "2011-05-20T21:00:00",
                    "2011-05-20T22:00:00",
                    "2011-05-20T23:00:00"
                  ],
                  "y": [
                    4,
                    3,
                    3,
                    5,
                    0,
                    6,
                    0,
                    6,
                    0,
                    7,
                    6,
                    9,
                    10,
                    11,
                    8,
                    7,
                    9,
                    7,
                    12,
                    5,
                    6,
                    10,
                    11,
                    1,
                    1,
                    2,
                    4,
                    2,
                    1,
                    1,
                    2,
                    2,
                    129,
                    114,
                    83,
                    111,
                    104,
                    107,
                    84,
                    118,
                    118,
                    121,
                    238,
                    124,
                    117,
                    139,
                    131,
                    133,
                    61,
                    57,
                    59,
                    54,
                    41,
                    37,
                    67,
                    60,
                    67,
                    79,
                    75,
                    85,
                    88,
                    75,
                    79,
                    83,
                    77,
                    72,
                    70,
                    69,
                    77,
                    69,
                    75,
                    87,
                    44,
                    49,
                    86,
                    67,
                    58,
                    81,
                    63,
                    86,
                    78,
                    80,
                    73,
                    76,
                    77,
                    72,
                    79,
                    86,
                    76,
                    89,
                    78,
                    89,
                    89,
                    79,
                    71,
                    79
                  ]
                },
                {
                  "mode": "lines",
                  "name": "nausea",
                  "type": "scatter",
                  "x": [
                    "2011-05-17T15:00:00",
                    "2011-05-17T16:00:00",
                    "2011-05-17T17:00:00",
                    "2011-05-17T18:00:00",
                    "2011-05-17T19:00:00",
                    "2011-05-17T20:00:00",
                    "2011-05-17T21:00:00",
                    "2011-05-17T22:00:00",
                    "2011-05-17T23:00:00",
                    "2011-05-18T00:00:00",
                    "2011-05-18T01:00:00",
                    "2011-05-18T02:00:00",
                    "2011-05-18T03:00:00",
                    "2011-05-18T04:00:00",
                    "2011-05-18T05:00:00",
                    "2011-05-18T06:00:00",
                    "2011-05-18T07:00:00",
                    "2011-05-18T08:00:00",
                    "2011-05-18T09:00:00",
                    "2011-05-18T10:00:00",
                    "2011-05-18T11:00:00",
                    "2011-05-18T12:00:00",
                    "2011-05-18T13:00:00",
                    "2011-05-18T14:00:00",
                    "2011-05-18T15:00:00",
                    "2011-05-18T16:00:00",
                    "2011-05-18T17:00:00",
                    "2011-05-18T18:00:00",
                    "2011-05-18T19:00:00",
                    "2011-05-18T20:00:00",
                    "2011-05-18T21:00:00",
                    "2011-05-18T22:00:00",
                    "2011-05-18T23:00:00",
                    "2011-05-19T00:00:00",
                    "2011-05-19T01:00:00",
                    "2011-05-19T02:00:00",
                    "2011-05-19T03:00:00",
                    "2011-05-19T04:00:00",
                    "2011-05-19T05:00:00",
                    "2011-05-19T06:00:00",
                    "2011-05-19T07:00:00",
                    "2011-05-19T08:00:00",
                    "2011-05-19T09:00:00",
                    "2011-05-19T10:00:00",
                    "2011-05-19T11:00:00",
                    "2011-05-19T12:00:00",
                    "2011-05-19T13:00:00",
                    "2011-05-19T14:00:00",
                    "2011-05-19T15:00:00",
                    "2011-05-19T16:00:00",
                    "2011-05-19T17:00:00",
                    "2011-05-19T18:00:00",
                    "2011-05-19T19:00:00",
                    "2011-05-19T20:00:00",
                    "2011-05-19T21:00:00",
                    "2011-05-19T22:00:00",
                    "2011-05-19T23:00:00",
                    "2011-05-20T00:00:00",
                    "2011-05-20T01:00:00",
                    "2011-05-20T02:00:00",
                    "2011-05-20T03:00:00",
                    "2011-05-20T04:00:00",
                    "2011-05-20T05:00:00",
                    "2011-05-20T06:00:00",
                    "2011-05-20T07:00:00",
                    "2011-05-20T08:00:00",
                    "2011-05-20T09:00:00",
                    "2011-05-20T10:00:00",
                    "2011-05-20T11:00:00",
                    "2011-05-20T12:00:00",
                    "2011-05-20T13:00:00",
                    "2011-05-20T14:00:00",
                    "2011-05-20T15:00:00",
                    "2011-05-20T16:00:00",
                    "2011-05-20T17:00:00",
                    "2011-05-20T18:00:00",
                    "2011-05-20T19:00:00",
                    "2011-05-20T20:00:00",
                    "2011-05-20T21:00:00",
                    "2011-05-20T22:00:00",
                    "2011-05-20T23:00:00"
                  ],
                  "y": [
                    1,
                    0,
                    0,
                    0,
                    0,
                    0,
                    0,
                    0,
                    0,
                    0,
                    0,
                    0,
                    1,
                    0,
                    0,
                    0,
                    0,
                    0,
                    0,
                    0,
                    0,
                    0,
                    0,
                    0,
                    0,
                    0,
                    0,
                    0,
                    0,
                    0,
                    1,
                    0,
                    0,
                    0,
                    0,
                    42,
                    50,
                    39,
                    42,
                    33,
                    40,
                    39,
                    36,
                    39,
                    28,
                    34,
                    35,
                    33,
                    26,
                    37,
                    26,
                    37,
                    26,
                    44,
                    34,
                    42,
                    0,
                    0,
                    0,
                    1,
                    0,
                    0,
                    0,
                    0,
                    1,
                    0,
                    0,
                    1,
                    0,
                    1,
                    0,
                    0,
                    1,
                    0,
                    1,
                    0,
                    1,
                    2,
                    0,
                    0,
                    1
                  ]
                },
                {
                  "mode": "lines",
                  "name": "vomit",
                  "type": "scatter",
                  "x": [
                    "2011-05-17T01:00:00",
                    "2011-05-17T02:00:00",
                    "2011-05-17T03:00:00",
                    "2011-05-17T04:00:00",
                    "2011-05-17T05:00:00",
                    "2011-05-17T06:00:00",
                    "2011-05-17T07:00:00",
                    "2011-05-17T08:00:00",
                    "2011-05-17T09:00:00",
                    "2011-05-17T10:00:00",
                    "2011-05-17T11:00:00",
                    "2011-05-17T12:00:00",
                    "2011-05-17T13:00:00",
                    "2011-05-17T14:00:00",
                    "2011-05-17T15:00:00",
                    "2011-05-17T16:00:00",
                    "2011-05-17T17:00:00",
                    "2011-05-17T18:00:00",
                    "2011-05-17T19:00:00",
                    "2011-05-17T20:00:00",
                    "2011-05-17T21:00:00",
                    "2011-05-17T22:00:00",
                    "2011-05-17T23:00:00",
                    "2011-05-18T00:00:00",
                    "2011-05-18T01:00:00",
                    "2011-05-18T02:00:00",
                    "2011-05-18T03:00:00",
                    "2011-05-18T04:00:00",
                    "2011-05-18T05:00:00",
                    "2011-05-18T06:00:00",
                    "2011-05-18T07:00:00",
                    "2011-05-18T08:00:00",
                    "2011-05-18T09:00:00",
                    "2011-05-18T10:00:00",
                    "2011-05-18T11:00:00",
                    "2011-05-18T12:00:00",
                    "2011-05-18T13:00:00",
                    "2011-05-18T14:00:00",
                    "2011-05-18T15:00:00",
                    "2011-05-18T16:00:00",
                    "2011-05-18T17:00:00",
                    "2011-05-18T18:00:00",
                    "2011-05-18T19:00:00",
                    "2011-05-18T20:00:00",
                    "2011-05-18T21:00:00",
                    "2011-05-18T22:00:00",
                    "2011-05-18T23:00:00",
                    "2011-05-19T00:00:00",
                    "2011-05-19T01:00:00",
                    "2011-05-19T02:00:00",
                    "2011-05-19T03:00:00",
                    "2011-05-19T04:00:00",
                    "2011-05-19T05:00:00",
                    "2011-05-19T06:00:00",
                    "2011-05-19T07:00:00",
                    "2011-05-19T08:00:00",
                    "2011-05-19T09:00:00",
                    "2011-05-19T10:00:00",
                    "2011-05-19T11:00:00",
                    "2011-05-19T12:00:00",
                    "2011-05-19T13:00:00",
                    "2011-05-19T14:00:00",
                    "2011-05-19T15:00:00",
                    "2011-05-19T16:00:00",
                    "2011-05-19T17:00:00",
                    "2011-05-19T18:00:00",
                    "2011-05-19T19:00:00",
                    "2011-05-19T20:00:00",
                    "2011-05-19T21:00:00",
                    "2011-05-19T22:00:00",
                    "2011-05-19T23:00:00",
                    "2011-05-20T00:00:00",
                    "2011-05-20T01:00:00",
                    "2011-05-20T02:00:00",
                    "2011-05-20T03:00:00",
                    "2011-05-20T04:00:00",
                    "2011-05-20T05:00:00",
                    "2011-05-20T06:00:00",
                    "2011-05-20T07:00:00",
                    "2011-05-20T08:00:00",
                    "2011-05-20T09:00:00",
                    "2011-05-20T10:00:00",
                    "2011-05-20T11:00:00",
                    "2011-05-20T12:00:00",
                    "2011-05-20T13:00:00",
                    "2011-05-20T14:00:00",
                    "2011-05-20T15:00:00",
                    "2011-05-20T16:00:00",
                    "2011-05-20T17:00:00",
                    "2011-05-20T18:00:00",
                    "2011-05-20T19:00:00",
                    "2011-05-20T20:00:00",
                    "2011-05-20T21:00:00",
                    "2011-05-20T22:00:00",
                    "2011-05-20T23:00:00"
                  ],
                  "y": [
                    1,
                    0,
                    0,
                    0,
                    0,
                    0,
                    0,
                    0,
                    0,
                    0,
                    0,
                    0,
                    0,
                    0,
                    1,
                    0,
                    0,
                    1,
                    0,
                    0,
                    1,
                    1,
                    1,
                    0,
                    0,
                    1,
                    1,
                    0,
                    0,
                    0,
                    1,
                    1,
                    0,
                    0,
                    1,
                    0,
                    0,
                    0,
                    1,
                    1,
                    0,
                    1,
                    0,
                    0,
                    0,
                    0,
                    0,
                    0,
                    0,
                    0,
                    0,
                    1,
                    1,
                    0,
                    0,
                    0,
                    0,
                    0,
                    1,
                    0,
                    0,
                    0,
                    1,
                    2,
                    0,
                    1,
                    0,
                    1,
                    1,
                    0,
                    1,
                    26,
                    20,
                    20,
                    21,
                    18,
                    25,
                    18,
                    26,
                    20,
                    15,
                    26,
                    19,
                    17,
                    34,
                    23,
                    13,
                    15,
                    26,
                    23,
                    13,
                    24,
                    20,
                    20,
                    24
                  ]
                }
              ],
              "layout": {
                "height": 1000,
                "template": {
                  "data": {
                    "bar": [
                      {
                        "error_x": {
                          "color": "#2a3f5f"
                        },
                        "error_y": {
                          "color": "#2a3f5f"
                        },
                        "marker": {
                          "line": {
                            "color": "#E5ECF6",
                            "width": 0.5
                          },
                          "pattern": {
                            "fillmode": "overlay",
                            "size": 10,
                            "solidity": 0.2
                          }
                        },
                        "type": "bar"
                      }
                    ],
                    "barpolar": [
                      {
                        "marker": {
                          "line": {
                            "color": "#E5ECF6",
                            "width": 0.5
                          },
                          "pattern": {
                            "fillmode": "overlay",
                            "size": 10,
                            "solidity": 0.2
                          }
                        },
                        "type": "barpolar"
                      }
                    ],
                    "carpet": [
                      {
                        "aaxis": {
                          "endlinecolor": "#2a3f5f",
                          "gridcolor": "white",
                          "linecolor": "white",
                          "minorgridcolor": "white",
                          "startlinecolor": "#2a3f5f"
                        },
                        "baxis": {
                          "endlinecolor": "#2a3f5f",
                          "gridcolor": "white",
                          "linecolor": "white",
                          "minorgridcolor": "white",
                          "startlinecolor": "#2a3f5f"
                        },
                        "type": "carpet"
                      }
                    ],
                    "choropleth": [
                      {
                        "colorbar": {
                          "outlinewidth": 0,
                          "ticks": ""
                        },
                        "type": "choropleth"
                      }
                    ],
                    "contour": [
                      {
                        "colorbar": {
                          "outlinewidth": 0,
                          "ticks": ""
                        },
                        "colorscale": [
                          [
                            0,
                            "#0d0887"
                          ],
                          [
                            0.1111111111111111,
                            "#46039f"
                          ],
                          [
                            0.2222222222222222,
                            "#7201a8"
                          ],
                          [
                            0.3333333333333333,
                            "#9c179e"
                          ],
                          [
                            0.4444444444444444,
                            "#bd3786"
                          ],
                          [
                            0.5555555555555556,
                            "#d8576b"
                          ],
                          [
                            0.6666666666666666,
                            "#ed7953"
                          ],
                          [
                            0.7777777777777778,
                            "#fb9f3a"
                          ],
                          [
                            0.8888888888888888,
                            "#fdca26"
                          ],
                          [
                            1,
                            "#f0f921"
                          ]
                        ],
                        "type": "contour"
                      }
                    ],
                    "contourcarpet": [
                      {
                        "colorbar": {
                          "outlinewidth": 0,
                          "ticks": ""
                        },
                        "type": "contourcarpet"
                      }
                    ],
                    "heatmap": [
                      {
                        "colorbar": {
                          "outlinewidth": 0,
                          "ticks": ""
                        },
                        "colorscale": [
                          [
                            0,
                            "#0d0887"
                          ],
                          [
                            0.1111111111111111,
                            "#46039f"
                          ],
                          [
                            0.2222222222222222,
                            "#7201a8"
                          ],
                          [
                            0.3333333333333333,
                            "#9c179e"
                          ],
                          [
                            0.4444444444444444,
                            "#bd3786"
                          ],
                          [
                            0.5555555555555556,
                            "#d8576b"
                          ],
                          [
                            0.6666666666666666,
                            "#ed7953"
                          ],
                          [
                            0.7777777777777778,
                            "#fb9f3a"
                          ],
                          [
                            0.8888888888888888,
                            "#fdca26"
                          ],
                          [
                            1,
                            "#f0f921"
                          ]
                        ],
                        "type": "heatmap"
                      }
                    ],
                    "heatmapgl": [
                      {
                        "colorbar": {
                          "outlinewidth": 0,
                          "ticks": ""
                        },
                        "colorscale": [
                          [
                            0,
                            "#0d0887"
                          ],
                          [
                            0.1111111111111111,
                            "#46039f"
                          ],
                          [
                            0.2222222222222222,
                            "#7201a8"
                          ],
                          [
                            0.3333333333333333,
                            "#9c179e"
                          ],
                          [
                            0.4444444444444444,
                            "#bd3786"
                          ],
                          [
                            0.5555555555555556,
                            "#d8576b"
                          ],
                          [
                            0.6666666666666666,
                            "#ed7953"
                          ],
                          [
                            0.7777777777777778,
                            "#fb9f3a"
                          ],
                          [
                            0.8888888888888888,
                            "#fdca26"
                          ],
                          [
                            1,
                            "#f0f921"
                          ]
                        ],
                        "type": "heatmapgl"
                      }
                    ],
                    "histogram": [
                      {
                        "marker": {
                          "pattern": {
                            "fillmode": "overlay",
                            "size": 10,
                            "solidity": 0.2
                          }
                        },
                        "type": "histogram"
                      }
                    ],
                    "histogram2d": [
                      {
                        "colorbar": {
                          "outlinewidth": 0,
                          "ticks": ""
                        },
                        "colorscale": [
                          [
                            0,
                            "#0d0887"
                          ],
                          [
                            0.1111111111111111,
                            "#46039f"
                          ],
                          [
                            0.2222222222222222,
                            "#7201a8"
                          ],
                          [
                            0.3333333333333333,
                            "#9c179e"
                          ],
                          [
                            0.4444444444444444,
                            "#bd3786"
                          ],
                          [
                            0.5555555555555556,
                            "#d8576b"
                          ],
                          [
                            0.6666666666666666,
                            "#ed7953"
                          ],
                          [
                            0.7777777777777778,
                            "#fb9f3a"
                          ],
                          [
                            0.8888888888888888,
                            "#fdca26"
                          ],
                          [
                            1,
                            "#f0f921"
                          ]
                        ],
                        "type": "histogram2d"
                      }
                    ],
                    "histogram2dcontour": [
                      {
                        "colorbar": {
                          "outlinewidth": 0,
                          "ticks": ""
                        },
                        "colorscale": [
                          [
                            0,
                            "#0d0887"
                          ],
                          [
                            0.1111111111111111,
                            "#46039f"
                          ],
                          [
                            0.2222222222222222,
                            "#7201a8"
                          ],
                          [
                            0.3333333333333333,
                            "#9c179e"
                          ],
                          [
                            0.4444444444444444,
                            "#bd3786"
                          ],
                          [
                            0.5555555555555556,
                            "#d8576b"
                          ],
                          [
                            0.6666666666666666,
                            "#ed7953"
                          ],
                          [
                            0.7777777777777778,
                            "#fb9f3a"
                          ],
                          [
                            0.8888888888888888,
                            "#fdca26"
                          ],
                          [
                            1,
                            "#f0f921"
                          ]
                        ],
                        "type": "histogram2dcontour"
                      }
                    ],
                    "mesh3d": [
                      {
                        "colorbar": {
                          "outlinewidth": 0,
                          "ticks": ""
                        },
                        "type": "mesh3d"
                      }
                    ],
                    "parcoords": [
                      {
                        "line": {
                          "colorbar": {
                            "outlinewidth": 0,
                            "ticks": ""
                          }
                        },
                        "type": "parcoords"
                      }
                    ],
                    "pie": [
                      {
                        "automargin": true,
                        "type": "pie"
                      }
                    ],
                    "scatter": [
                      {
                        "fillpattern": {
                          "fillmode": "overlay",
                          "size": 10,
                          "solidity": 0.2
                        },
                        "type": "scatter"
                      }
                    ],
                    "scatter3d": [
                      {
                        "line": {
                          "colorbar": {
                            "outlinewidth": 0,
                            "ticks": ""
                          }
                        },
                        "marker": {
                          "colorbar": {
                            "outlinewidth": 0,
                            "ticks": ""
                          }
                        },
                        "type": "scatter3d"
                      }
                    ],
                    "scattercarpet": [
                      {
                        "marker": {
                          "colorbar": {
                            "outlinewidth": 0,
                            "ticks": ""
                          }
                        },
                        "type": "scattercarpet"
                      }
                    ],
                    "scattergeo": [
                      {
                        "marker": {
                          "colorbar": {
                            "outlinewidth": 0,
                            "ticks": ""
                          }
                        },
                        "type": "scattergeo"
                      }
                    ],
                    "scattergl": [
                      {
                        "marker": {
                          "colorbar": {
                            "outlinewidth": 0,
                            "ticks": ""
                          }
                        },
                        "type": "scattergl"
                      }
                    ],
                    "scattermapbox": [
                      {
                        "marker": {
                          "colorbar": {
                            "outlinewidth": 0,
                            "ticks": ""
                          }
                        },
                        "type": "scattermapbox"
                      }
                    ],
                    "scatterpolar": [
                      {
                        "marker": {
                          "colorbar": {
                            "outlinewidth": 0,
                            "ticks": ""
                          }
                        },
                        "type": "scatterpolar"
                      }
                    ],
                    "scatterpolargl": [
                      {
                        "marker": {
                          "colorbar": {
                            "outlinewidth": 0,
                            "ticks": ""
                          }
                        },
                        "type": "scatterpolargl"
                      }
                    ],
                    "scatterternary": [
                      {
                        "marker": {
                          "colorbar": {
                            "outlinewidth": 0,
                            "ticks": ""
                          }
                        },
                        "type": "scatterternary"
                      }
                    ],
                    "surface": [
                      {
                        "colorbar": {
                          "outlinewidth": 0,
                          "ticks": ""
                        },
                        "colorscale": [
                          [
                            0,
                            "#0d0887"
                          ],
                          [
                            0.1111111111111111,
                            "#46039f"
                          ],
                          [
                            0.2222222222222222,
                            "#7201a8"
                          ],
                          [
                            0.3333333333333333,
                            "#9c179e"
                          ],
                          [
                            0.4444444444444444,
                            "#bd3786"
                          ],
                          [
                            0.5555555555555556,
                            "#d8576b"
                          ],
                          [
                            0.6666666666666666,
                            "#ed7953"
                          ],
                          [
                            0.7777777777777778,
                            "#fb9f3a"
                          ],
                          [
                            0.8888888888888888,
                            "#fdca26"
                          ],
                          [
                            1,
                            "#f0f921"
                          ]
                        ],
                        "type": "surface"
                      }
                    ],
                    "table": [
                      {
                        "cells": {
                          "fill": {
                            "color": "#EBF0F8"
                          },
                          "line": {
                            "color": "white"
                          }
                        },
                        "header": {
                          "fill": {
                            "color": "#C8D4E3"
                          },
                          "line": {
                            "color": "white"
                          }
                        },
                        "type": "table"
                      }
                    ]
                  },
                  "layout": {
                    "annotationdefaults": {
                      "arrowcolor": "#2a3f5f",
                      "arrowhead": 0,
                      "arrowwidth": 1
                    },
                    "autotypenumbers": "strict",
                    "coloraxis": {
                      "colorbar": {
                        "outlinewidth": 0,
                        "ticks": ""
                      }
                    },
                    "colorscale": {
                      "diverging": [
                        [
                          0,
                          "#8e0152"
                        ],
                        [
                          0.1,
                          "#c51b7d"
                        ],
                        [
                          0.2,
                          "#de77ae"
                        ],
                        [
                          0.3,
                          "#f1b6da"
                        ],
                        [
                          0.4,
                          "#fde0ef"
                        ],
                        [
                          0.5,
                          "#f7f7f7"
                        ],
                        [
                          0.6,
                          "#e6f5d0"
                        ],
                        [
                          0.7,
                          "#b8e186"
                        ],
                        [
                          0.8,
                          "#7fbc41"
                        ],
                        [
                          0.9,
                          "#4d9221"
                        ],
                        [
                          1,
                          "#276419"
                        ]
                      ],
                      "sequential": [
                        [
                          0,
                          "#0d0887"
                        ],
                        [
                          0.1111111111111111,
                          "#46039f"
                        ],
                        [
                          0.2222222222222222,
                          "#7201a8"
                        ],
                        [
                          0.3333333333333333,
                          "#9c179e"
                        ],
                        [
                          0.4444444444444444,
                          "#bd3786"
                        ],
                        [
                          0.5555555555555556,
                          "#d8576b"
                        ],
                        [
                          0.6666666666666666,
                          "#ed7953"
                        ],
                        [
                          0.7777777777777778,
                          "#fb9f3a"
                        ],
                        [
                          0.8888888888888888,
                          "#fdca26"
                        ],
                        [
                          1,
                          "#f0f921"
                        ]
                      ],
                      "sequentialminus": [
                        [
                          0,
                          "#0d0887"
                        ],
                        [
                          0.1111111111111111,
                          "#46039f"
                        ],
                        [
                          0.2222222222222222,
                          "#7201a8"
                        ],
                        [
                          0.3333333333333333,
                          "#9c179e"
                        ],
                        [
                          0.4444444444444444,
                          "#bd3786"
                        ],
                        [
                          0.5555555555555556,
                          "#d8576b"
                        ],
                        [
                          0.6666666666666666,
                          "#ed7953"
                        ],
                        [
                          0.7777777777777778,
                          "#fb9f3a"
                        ],
                        [
                          0.8888888888888888,
                          "#fdca26"
                        ],
                        [
                          1,
                          "#f0f921"
                        ]
                      ]
                    },
                    "colorway": [
                      "#636efa",
                      "#EF553B",
                      "#00cc96",
                      "#ab63fa",
                      "#FFA15A",
                      "#19d3f3",
                      "#FF6692",
                      "#B6E880",
                      "#FF97FF",
                      "#FECB52"
                    ],
                    "font": {
                      "color": "#2a3f5f"
                    },
                    "geo": {
                      "bgcolor": "white",
                      "lakecolor": "white",
                      "landcolor": "#E5ECF6",
                      "showlakes": true,
                      "showland": true,
                      "subunitcolor": "white"
                    },
                    "hoverlabel": {
                      "align": "left"
                    },
                    "hovermode": "closest",
                    "mapbox": {
                      "style": "light"
                    },
                    "paper_bgcolor": "white",
                    "plot_bgcolor": "#E5ECF6",
                    "polar": {
                      "angularaxis": {
                        "gridcolor": "white",
                        "linecolor": "white",
                        "ticks": ""
                      },
                      "bgcolor": "#E5ECF6",
                      "radialaxis": {
                        "gridcolor": "white",
                        "linecolor": "white",
                        "ticks": ""
                      }
                    },
                    "scene": {
                      "xaxis": {
                        "backgroundcolor": "#E5ECF6",
                        "gridcolor": "white",
                        "gridwidth": 2,
                        "linecolor": "white",
                        "showbackground": true,
                        "ticks": "",
                        "zerolinecolor": "white"
                      },
                      "yaxis": {
                        "backgroundcolor": "#E5ECF6",
                        "gridcolor": "white",
                        "gridwidth": 2,
                        "linecolor": "white",
                        "showbackground": true,
                        "ticks": "",
                        "zerolinecolor": "white"
                      },
                      "zaxis": {
                        "backgroundcolor": "#E5ECF6",
                        "gridcolor": "white",
                        "gridwidth": 2,
                        "linecolor": "white",
                        "showbackground": true,
                        "ticks": "",
                        "zerolinecolor": "white"
                      }
                    },
                    "shapedefaults": {
                      "line": {
                        "color": "#2a3f5f"
                      }
                    },
                    "ternary": {
                      "aaxis": {
                        "gridcolor": "white",
                        "linecolor": "white",
                        "ticks": ""
                      },
                      "baxis": {
                        "gridcolor": "white",
                        "linecolor": "white",
                        "ticks": ""
                      },
                      "bgcolor": "#E5ECF6",
                      "caxis": {
                        "gridcolor": "white",
                        "linecolor": "white",
                        "ticks": ""
                      }
                    },
                    "title": {
                      "x": 0.05
                    },
                    "xaxis": {
                      "automargin": true,
                      "gridcolor": "white",
                      "linecolor": "white",
                      "ticks": "",
                      "title": {
                        "standoff": 15
                      },
                      "zerolinecolor": "white",
                      "zerolinewidth": 2
                    },
                    "yaxis": {
                      "automargin": true,
                      "gridcolor": "white",
                      "linecolor": "white",
                      "ticks": "",
                      "title": {
                        "standoff": 15
                      },
                      "zerolinecolor": "white",
                      "zerolinewidth": 2
                    }
                  }
                },
                "title": {
                  "text": "Trend of symptoms"
                },
                "width": 1600,
                "xaxis": {
                  "title": {
                    "text": "Date-Hour"
                  }
                },
                "yaxis": {
                  "title": {
                    "text": "Symptoms"
                  }
                }
              }
            }
          },
          "metadata": {},
          "output_type": "display_data"
        }
      ],
      "source": [
        "import plotly.graph_objects as go\n",
        "\n",
        "def _(symptoms):\n",
        "    messages = Messages.loc['2011-05-17':].query('symptoms == True')\n",
        "\n",
        "    fig = go.Figure(layout=go.Layout(title='Trend of symptoms', xaxis={'title': 'Date-Hour'}, yaxis={'title': 'Symptoms'}, width=1600, height=1000))\n",
        "\n",
        "    for symptom in Symptoms:\n",
        "        counts = messages.query(f'{symptom} == True').groupby(pd.Grouper(key='Created_at', freq='H')).size()\n",
        "        fig.add_trace(go.Scatter(x=counts.index, y=counts.values, mode='lines', name=symptom))\n",
        "\n",
        "    fig.show()\n",
        "\n",
        "_(Symptoms)"
      ]
    },
    {
      "cell_type": "code",
      "execution_count": 165,
      "metadata": {},
      "outputs": [
        {
          "data": {
            "application/vnd.plotly.v1+json": {
              "config": {
                "plotlyServerURL": "https://plot.ly"
              },
              "data": [
                {
                  "mode": "lines",
                  "name": "fever",
                  "type": "scatter",
                  "x": [
                    "2011-05-17T00:00:00",
                    "2011-05-17T01:00:00",
                    "2011-05-17T02:00:00",
                    "2011-05-17T03:00:00",
                    "2011-05-17T04:00:00",
                    "2011-05-17T05:00:00",
                    "2011-05-17T06:00:00",
                    "2011-05-17T07:00:00",
                    "2011-05-17T08:00:00",
                    "2011-05-17T09:00:00",
                    "2011-05-17T10:00:00",
                    "2011-05-17T11:00:00",
                    "2011-05-17T12:00:00",
                    "2011-05-17T13:00:00",
                    "2011-05-17T14:00:00",
                    "2011-05-17T15:00:00",
                    "2011-05-17T16:00:00",
                    "2011-05-17T17:00:00",
                    "2011-05-17T18:00:00",
                    "2011-05-17T19:00:00",
                    "2011-05-17T20:00:00",
                    "2011-05-17T21:00:00",
                    "2011-05-17T22:00:00",
                    "2011-05-17T23:00:00",
                    "2011-05-18T00:00:00",
                    "2011-05-18T01:00:00",
                    "2011-05-18T02:00:00",
                    "2011-05-18T03:00:00",
                    "2011-05-18T04:00:00",
                    "2011-05-18T05:00:00",
                    "2011-05-18T06:00:00",
                    "2011-05-18T07:00:00",
                    "2011-05-18T08:00:00",
                    "2011-05-18T09:00:00",
                    "2011-05-18T10:00:00",
                    "2011-05-18T11:00:00",
                    "2011-05-18T12:00:00",
                    "2011-05-18T13:00:00",
                    "2011-05-18T14:00:00",
                    "2011-05-18T15:00:00",
                    "2011-05-18T16:00:00",
                    "2011-05-18T17:00:00",
                    "2011-05-18T18:00:00",
                    "2011-05-18T19:00:00",
                    "2011-05-18T20:00:00",
                    "2011-05-18T21:00:00",
                    "2011-05-18T22:00:00",
                    "2011-05-18T23:00:00",
                    "2011-05-19T00:00:00",
                    "2011-05-19T01:00:00",
                    "2011-05-19T02:00:00",
                    "2011-05-19T03:00:00",
                    "2011-05-19T04:00:00",
                    "2011-05-19T05:00:00",
                    "2011-05-19T06:00:00",
                    "2011-05-19T07:00:00",
                    "2011-05-19T08:00:00",
                    "2011-05-19T09:00:00",
                    "2011-05-19T10:00:00",
                    "2011-05-19T11:00:00",
                    "2011-05-19T12:00:00",
                    "2011-05-19T13:00:00",
                    "2011-05-19T14:00:00",
                    "2011-05-19T15:00:00",
                    "2011-05-19T16:00:00",
                    "2011-05-19T17:00:00",
                    "2011-05-19T18:00:00",
                    "2011-05-19T19:00:00",
                    "2011-05-19T20:00:00",
                    "2011-05-19T21:00:00",
                    "2011-05-19T22:00:00",
                    "2011-05-19T23:00:00",
                    "2011-05-20T00:00:00",
                    "2011-05-20T01:00:00",
                    "2011-05-20T02:00:00",
                    "2011-05-20T03:00:00",
                    "2011-05-20T04:00:00",
                    "2011-05-20T05:00:00",
                    "2011-05-20T06:00:00",
                    "2011-05-20T07:00:00",
                    "2011-05-20T08:00:00",
                    "2011-05-20T09:00:00",
                    "2011-05-20T10:00:00",
                    "2011-05-20T11:00:00",
                    "2011-05-20T12:00:00",
                    "2011-05-20T13:00:00",
                    "2011-05-20T14:00:00",
                    "2011-05-20T15:00:00",
                    "2011-05-20T16:00:00",
                    "2011-05-20T17:00:00",
                    "2011-05-20T18:00:00",
                    "2011-05-20T19:00:00",
                    "2011-05-20T20:00:00",
                    "2011-05-20T21:00:00",
                    "2011-05-20T22:00:00",
                    "2011-05-20T23:00:00"
                  ],
                  "y": [
                    0.002898550724637681,
                    0.002898550724637681,
                    0,
                    0.002898550724637681,
                    0.002898550724637681,
                    0.002898550724637681,
                    0,
                    0.002898550724637681,
                    0.005797101449275362,
                    0,
                    0.002898550724637681,
                    0,
                    0.002898550724637681,
                    0.002898550724637681,
                    0.002898550724637681,
                    0,
                    0.005797101449275362,
                    0,
                    0,
                    0.008695652173913044,
                    0.002898550724637681,
                    0.008695652173913044,
                    0.005797101449275362,
                    0.002898550724637681,
                    0.002898550724637681,
                    0.13333333333333333,
                    0.10144927536231885,
                    0.14492753623188406,
                    0.1536231884057971,
                    0.1565217391304348,
                    0.16521739130434782,
                    0.13333333333333333,
                    0.4579710144927536,
                    0.41739130434782606,
                    0.5101449275362319,
                    0.5043478260869565,
                    0.4811594202898551,
                    0.47246376811594204,
                    0.5159420289855072,
                    0.4434782608695652,
                    0.47246376811594204,
                    0.4260869565217391,
                    1,
                    0.6289855072463768,
                    0.5884057971014492,
                    0.5623188405797102,
                    0.6463768115942029,
                    0.5884057971014492,
                    0.1855072463768116,
                    0.17391304347826086,
                    0.2753623188405797,
                    0.2927536231884058,
                    0.336231884057971,
                    0.2753623188405797,
                    0.28405797101449276,
                    0.2927536231884058,
                    0.4405797101449275,
                    0.3652173913043478,
                    0.391304347826087,
                    0.4057971014492754,
                    0.3855072463768116,
                    0.3739130434782609,
                    0.4405797101449275,
                    0.3884057971014493,
                    0.4260869565217391,
                    0.32753623188405795,
                    0.4144927536231884,
                    0.3652173913043478,
                    0.4057971014492754,
                    0.4405797101449275,
                    0.3739130434782609,
                    0.4753623188405797,
                    0.19420289855072465,
                    0.12173913043478261,
                    0.1391304347826087,
                    0.16521739130434782,
                    0.16521739130434782,
                    0.1246376811594203,
                    0.11594202898550725,
                    0.13333333333333333,
                    0.14492753623188406,
                    0.17681159420289855,
                    0.17101449275362318,
                    0.13623188405797101,
                    0.12753623188405797,
                    0.1072463768115942,
                    0.12753623188405797,
                    0.15942028985507245,
                    0.11014492753623188,
                    0.13333333333333333,
                    0.1536231884057971,
                    0.1565217391304348,
                    0.19710144927536233,
                    0.18840579710144928,
                    0.15942028985507245,
                    0.13043478260869565
                  ]
                },
                {
                  "mode": "lines",
                  "name": "chill",
                  "type": "scatter",
                  "x": [
                    "2011-05-17T00:00:00",
                    "2011-05-17T01:00:00",
                    "2011-05-17T02:00:00",
                    "2011-05-17T03:00:00",
                    "2011-05-17T04:00:00",
                    "2011-05-17T05:00:00",
                    "2011-05-17T06:00:00",
                    "2011-05-17T07:00:00",
                    "2011-05-17T08:00:00",
                    "2011-05-17T09:00:00",
                    "2011-05-17T10:00:00",
                    "2011-05-17T11:00:00",
                    "2011-05-17T12:00:00",
                    "2011-05-17T13:00:00",
                    "2011-05-17T14:00:00",
                    "2011-05-17T15:00:00",
                    "2011-05-17T16:00:00",
                    "2011-05-17T17:00:00",
                    "2011-05-17T18:00:00",
                    "2011-05-17T19:00:00",
                    "2011-05-17T20:00:00",
                    "2011-05-17T21:00:00",
                    "2011-05-17T22:00:00",
                    "2011-05-17T23:00:00",
                    "2011-05-18T00:00:00",
                    "2011-05-18T01:00:00",
                    "2011-05-18T02:00:00",
                    "2011-05-18T03:00:00",
                    "2011-05-18T04:00:00",
                    "2011-05-18T05:00:00",
                    "2011-05-18T06:00:00",
                    "2011-05-18T07:00:00",
                    "2011-05-18T08:00:00",
                    "2011-05-18T09:00:00",
                    "2011-05-18T10:00:00",
                    "2011-05-18T11:00:00",
                    "2011-05-18T12:00:00",
                    "2011-05-18T13:00:00",
                    "2011-05-18T14:00:00",
                    "2011-05-18T15:00:00",
                    "2011-05-18T16:00:00",
                    "2011-05-18T17:00:00",
                    "2011-05-18T18:00:00",
                    "2011-05-18T19:00:00",
                    "2011-05-18T20:00:00",
                    "2011-05-18T21:00:00",
                    "2011-05-18T22:00:00",
                    "2011-05-18T23:00:00",
                    "2011-05-19T00:00:00",
                    "2011-05-19T01:00:00",
                    "2011-05-19T02:00:00",
                    "2011-05-19T03:00:00",
                    "2011-05-19T04:00:00",
                    "2011-05-19T05:00:00",
                    "2011-05-19T06:00:00",
                    "2011-05-19T07:00:00",
                    "2011-05-19T08:00:00",
                    "2011-05-19T09:00:00",
                    "2011-05-19T10:00:00",
                    "2011-05-19T11:00:00",
                    "2011-05-19T12:00:00",
                    "2011-05-19T13:00:00",
                    "2011-05-19T14:00:00",
                    "2011-05-19T15:00:00",
                    "2011-05-19T16:00:00",
                    "2011-05-19T17:00:00",
                    "2011-05-19T18:00:00",
                    "2011-05-19T19:00:00",
                    "2011-05-19T20:00:00",
                    "2011-05-19T21:00:00",
                    "2011-05-19T22:00:00",
                    "2011-05-19T23:00:00",
                    "2011-05-20T00:00:00",
                    "2011-05-20T01:00:00",
                    "2011-05-20T02:00:00",
                    "2011-05-20T03:00:00",
                    "2011-05-20T04:00:00",
                    "2011-05-20T05:00:00",
                    "2011-05-20T06:00:00",
                    "2011-05-20T07:00:00",
                    "2011-05-20T08:00:00",
                    "2011-05-20T09:00:00",
                    "2011-05-20T10:00:00",
                    "2011-05-20T11:00:00",
                    "2011-05-20T12:00:00",
                    "2011-05-20T13:00:00",
                    "2011-05-20T14:00:00",
                    "2011-05-20T15:00:00",
                    "2011-05-20T16:00:00",
                    "2011-05-20T17:00:00",
                    "2011-05-20T18:00:00",
                    "2011-05-20T19:00:00",
                    "2011-05-20T20:00:00",
                    "2011-05-20T21:00:00",
                    "2011-05-20T22:00:00",
                    "2011-05-20T23:00:00"
                  ],
                  "y": [
                    0.003816793893129771,
                    0.019083969465648856,
                    0.011450381679389313,
                    0.022900763358778626,
                    0,
                    0.007633587786259542,
                    0.015267175572519083,
                    0.007633587786259542,
                    0.003816793893129771,
                    0.015267175572519083,
                    0.019083969465648856,
                    0.011450381679389313,
                    0.015267175572519083,
                    0.011450381679389313,
                    0.003816793893129771,
                    0.007633587786259542,
                    0.011450381679389313,
                    0.022900763358778626,
                    0.003816793893129771,
                    0.022900763358778626,
                    0.019083969465648856,
                    0.030534351145038167,
                    0.015267175572519083,
                    0.015267175572519083,
                    0.026717557251908396,
                    0.022900763358778626,
                    0.019083969465648856,
                    0.015267175572519083,
                    0.011450381679389313,
                    0.007633587786259542,
                    0.007633587786259542,
                    0.003816793893129771,
                    0.38549618320610685,
                    0.37404580152671757,
                    0.4122137404580153,
                    0.5,
                    0.4198473282442748,
                    0.3282442748091603,
                    0.3893129770992366,
                    0.366412213740458,
                    0.44656488549618323,
                    0.3893129770992366,
                    1,
                    0.42748091603053434,
                    0.4618320610687023,
                    0.40458015267175573,
                    0.5419847328244275,
                    0.4580152671755725,
                    0.24427480916030533,
                    0.22900763358778625,
                    0.42366412213740456,
                    0.36259541984732824,
                    0.3816793893129771,
                    0.366412213740458,
                    0.40458015267175573,
                    0.3893129770992366,
                    0.8625954198473282,
                    0.9122137404580153,
                    0.7633587786259542,
                    0.8778625954198473,
                    0.8015267175572519,
                    0.8396946564885496,
                    0.7519083969465649,
                    0.767175572519084,
                    0.7938931297709924,
                    0.7633587786259542,
                    0.7061068702290076,
                    0.8816793893129771,
                    0.8358778625954199,
                    0.9083969465648855,
                    0.7709923664122137,
                    0.9465648854961832,
                    0.40076335877862596,
                    0.3473282442748092,
                    0.7900763358778626,
                    0.8435114503816794,
                    0.8473282442748091,
                    0.8664122137404581,
                    0.7938931297709924,
                    0.6755725190839694,
                    0.6908396946564885,
                    0.7099236641221374,
                    0.7595419847328244,
                    0.732824427480916,
                    0.7175572519083969,
                    0.7442748091603053,
                    0.7404580152671756,
                    0.7251908396946565,
                    0.6526717557251909,
                    0.6755725190839694,
                    0.7709923664122137,
                    0.8015267175572519,
                    0.6412213740458015,
                    0.8129770992366412,
                    0.767175572519084,
                    0.7099236641221374
                  ]
                },
                {
                  "mode": "lines",
                  "name": "sweat",
                  "type": "scatter",
                  "x": [
                    "2011-05-17T00:00:00",
                    "2011-05-17T01:00:00",
                    "2011-05-17T02:00:00",
                    "2011-05-17T03:00:00",
                    "2011-05-17T04:00:00",
                    "2011-05-17T05:00:00",
                    "2011-05-17T06:00:00",
                    "2011-05-17T07:00:00",
                    "2011-05-17T08:00:00",
                    "2011-05-17T09:00:00",
                    "2011-05-17T10:00:00",
                    "2011-05-17T11:00:00",
                    "2011-05-17T12:00:00",
                    "2011-05-17T13:00:00",
                    "2011-05-17T14:00:00",
                    "2011-05-17T15:00:00",
                    "2011-05-17T16:00:00",
                    "2011-05-17T17:00:00",
                    "2011-05-17T18:00:00",
                    "2011-05-17T19:00:00",
                    "2011-05-17T20:00:00",
                    "2011-05-17T21:00:00",
                    "2011-05-17T22:00:00",
                    "2011-05-17T23:00:00",
                    "2011-05-18T00:00:00",
                    "2011-05-18T01:00:00",
                    "2011-05-18T02:00:00",
                    "2011-05-18T03:00:00",
                    "2011-05-18T04:00:00",
                    "2011-05-18T05:00:00",
                    "2011-05-18T06:00:00",
                    "2011-05-18T07:00:00",
                    "2011-05-18T08:00:00",
                    "2011-05-18T09:00:00",
                    "2011-05-18T10:00:00",
                    "2011-05-18T11:00:00",
                    "2011-05-18T12:00:00",
                    "2011-05-18T13:00:00",
                    "2011-05-18T14:00:00",
                    "2011-05-18T15:00:00",
                    "2011-05-18T16:00:00",
                    "2011-05-18T17:00:00",
                    "2011-05-18T18:00:00",
                    "2011-05-18T19:00:00",
                    "2011-05-18T20:00:00",
                    "2011-05-18T21:00:00",
                    "2011-05-18T22:00:00",
                    "2011-05-18T23:00:00",
                    "2011-05-19T00:00:00",
                    "2011-05-19T01:00:00",
                    "2011-05-19T02:00:00",
                    "2011-05-19T03:00:00",
                    "2011-05-19T04:00:00",
                    "2011-05-19T05:00:00",
                    "2011-05-19T06:00:00",
                    "2011-05-19T07:00:00",
                    "2011-05-19T08:00:00",
                    "2011-05-19T09:00:00",
                    "2011-05-19T10:00:00",
                    "2011-05-19T11:00:00",
                    "2011-05-19T12:00:00",
                    "2011-05-19T13:00:00",
                    "2011-05-19T14:00:00",
                    "2011-05-19T15:00:00",
                    "2011-05-19T16:00:00",
                    "2011-05-19T17:00:00",
                    "2011-05-19T18:00:00",
                    "2011-05-19T19:00:00",
                    "2011-05-19T20:00:00",
                    "2011-05-19T21:00:00",
                    "2011-05-19T22:00:00",
                    "2011-05-19T23:00:00",
                    "2011-05-20T00:00:00",
                    "2011-05-20T01:00:00",
                    "2011-05-20T02:00:00",
                    "2011-05-20T03:00:00",
                    "2011-05-20T04:00:00",
                    "2011-05-20T05:00:00",
                    "2011-05-20T06:00:00",
                    "2011-05-20T07:00:00",
                    "2011-05-20T08:00:00",
                    "2011-05-20T09:00:00",
                    "2011-05-20T10:00:00",
                    "2011-05-20T11:00:00",
                    "2011-05-20T12:00:00",
                    "2011-05-20T13:00:00",
                    "2011-05-20T14:00:00",
                    "2011-05-20T15:00:00",
                    "2011-05-20T16:00:00",
                    "2011-05-20T17:00:00",
                    "2011-05-20T18:00:00",
                    "2011-05-20T19:00:00",
                    "2011-05-20T20:00:00",
                    "2011-05-20T21:00:00"
                  ],
                  "y": [
                    0.017937219730941704,
                    0.013452914798206279,
                    0,
                    0.008968609865470852,
                    0.008968609865470852,
                    0.013452914798206279,
                    0,
                    0.004484304932735426,
                    0.008968609865470852,
                    0.004484304932735426,
                    0.004484304932735426,
                    0.008968609865470852,
                    0.004484304932735426,
                    0.004484304932735426,
                    0.013452914798206279,
                    0.008968609865470852,
                    0.013452914798206279,
                    0.008968609865470852,
                    0.008968609865470852,
                    0,
                    0.017937219730941704,
                    0.004484304932735426,
                    0.004484304932735426,
                    0.017937219730941704,
                    0.004484304932735426,
                    0.013452914798206279,
                    0,
                    0.004484304932735426,
                    0.017937219730941704,
                    0.017937219730941704,
                    0,
                    0.008968609865470852,
                    0.5201793721973094,
                    0.4977578475336323,
                    0.4260089686098655,
                    0.5246636771300448,
                    0.4125560538116592,
                    0.3991031390134529,
                    0.4798206278026906,
                    0.47085201793721976,
                    0.47085201793721976,
                    0.4125560538116592,
                    1,
                    0.5291479820627802,
                    0.5067264573991032,
                    0.5829596412556054,
                    0.5829596412556054,
                    0.5650224215246636,
                    0.27802690582959644,
                    0.22869955156950672,
                    0.4170403587443946,
                    0.3991031390134529,
                    0.4618834080717489,
                    0.484304932735426,
                    0.47085201793721976,
                    0.3542600896860987,
                    0.19282511210762332,
                    0.27802690582959644,
                    0.24663677130044842,
                    0.23766816143497757,
                    0.22869955156950672,
                    0.27802690582959644,
                    0.21076233183856502,
                    0.2556053811659193,
                    0.2556053811659193,
                    0.21973094170403587,
                    0.27802690582959644,
                    0.19730941704035873,
                    0.26905829596412556,
                    0.21973094170403587,
                    0.21076233183856502,
                    0.22869955156950672,
                    0.008968609865470852,
                    0.008968609865470852,
                    0.04484304932735426,
                    0.017937219730941704,
                    0.04484304932735426,
                    0.03139013452914798,
                    0.03587443946188341,
                    0,
                    0.004484304932735426,
                    0.004484304932735426,
                    0,
                    0.008968609865470852,
                    0.004484304932735426,
                    0.004484304932735426,
                    0.008968609865470852,
                    0.004484304932735426,
                    0.008968609865470852,
                    0.013452914798206279,
                    0.013452914798206279,
                    0.004484304932735426,
                    0,
                    0.017937219730941704
                  ]
                },
                {
                  "mode": "lines",
                  "name": "ache",
                  "type": "scatter",
                  "x": [
                    "2011-05-17T00:00:00",
                    "2011-05-17T01:00:00",
                    "2011-05-17T02:00:00",
                    "2011-05-17T03:00:00",
                    "2011-05-17T04:00:00",
                    "2011-05-17T05:00:00",
                    "2011-05-17T06:00:00",
                    "2011-05-17T07:00:00",
                    "2011-05-17T08:00:00",
                    "2011-05-17T09:00:00",
                    "2011-05-17T10:00:00",
                    "2011-05-17T11:00:00",
                    "2011-05-17T12:00:00",
                    "2011-05-17T13:00:00",
                    "2011-05-17T14:00:00",
                    "2011-05-17T15:00:00",
                    "2011-05-17T16:00:00",
                    "2011-05-17T17:00:00",
                    "2011-05-17T18:00:00",
                    "2011-05-17T19:00:00",
                    "2011-05-17T20:00:00",
                    "2011-05-17T21:00:00",
                    "2011-05-17T22:00:00",
                    "2011-05-17T23:00:00",
                    "2011-05-18T00:00:00",
                    "2011-05-18T01:00:00",
                    "2011-05-18T02:00:00",
                    "2011-05-18T03:00:00",
                    "2011-05-18T04:00:00",
                    "2011-05-18T05:00:00",
                    "2011-05-18T06:00:00",
                    "2011-05-18T07:00:00",
                    "2011-05-18T08:00:00",
                    "2011-05-18T09:00:00",
                    "2011-05-18T10:00:00",
                    "2011-05-18T11:00:00",
                    "2011-05-18T12:00:00",
                    "2011-05-18T13:00:00",
                    "2011-05-18T14:00:00",
                    "2011-05-18T15:00:00",
                    "2011-05-18T16:00:00",
                    "2011-05-18T17:00:00",
                    "2011-05-18T18:00:00",
                    "2011-05-18T19:00:00",
                    "2011-05-18T20:00:00",
                    "2011-05-18T21:00:00",
                    "2011-05-18T22:00:00",
                    "2011-05-18T23:00:00",
                    "2011-05-19T00:00:00",
                    "2011-05-19T01:00:00",
                    "2011-05-19T02:00:00",
                    "2011-05-19T03:00:00",
                    "2011-05-19T04:00:00",
                    "2011-05-19T05:00:00",
                    "2011-05-19T06:00:00",
                    "2011-05-19T07:00:00",
                    "2011-05-19T08:00:00",
                    "2011-05-19T09:00:00",
                    "2011-05-19T10:00:00",
                    "2011-05-19T11:00:00",
                    "2011-05-19T12:00:00",
                    "2011-05-19T13:00:00",
                    "2011-05-19T14:00:00",
                    "2011-05-19T15:00:00",
                    "2011-05-19T16:00:00",
                    "2011-05-19T17:00:00",
                    "2011-05-19T18:00:00",
                    "2011-05-19T19:00:00",
                    "2011-05-19T20:00:00",
                    "2011-05-19T21:00:00",
                    "2011-05-19T22:00:00",
                    "2011-05-19T23:00:00",
                    "2011-05-20T00:00:00",
                    "2011-05-20T01:00:00",
                    "2011-05-20T02:00:00",
                    "2011-05-20T03:00:00",
                    "2011-05-20T04:00:00",
                    "2011-05-20T05:00:00",
                    "2011-05-20T06:00:00",
                    "2011-05-20T07:00:00",
                    "2011-05-20T08:00:00",
                    "2011-05-20T09:00:00",
                    "2011-05-20T10:00:00",
                    "2011-05-20T11:00:00",
                    "2011-05-20T12:00:00",
                    "2011-05-20T13:00:00",
                    "2011-05-20T14:00:00",
                    "2011-05-20T15:00:00",
                    "2011-05-20T16:00:00",
                    "2011-05-20T17:00:00",
                    "2011-05-20T18:00:00",
                    "2011-05-20T19:00:00",
                    "2011-05-20T20:00:00",
                    "2011-05-20T21:00:00",
                    "2011-05-20T22:00:00",
                    "2011-05-20T23:00:00"
                  ],
                  "y": [
                    0.028985507246376812,
                    0.06884057971014493,
                    0.043478260869565216,
                    0.028985507246376812,
                    0.036231884057971016,
                    0.04710144927536232,
                    0.03260869565217391,
                    0.03985507246376811,
                    0.03260869565217391,
                    0.010869565217391304,
                    0.021739130434782608,
                    0.028985507246376812,
                    0.050724637681159424,
                    0.028985507246376812,
                    0.021739130434782608,
                    0.03985507246376811,
                    0.057971014492753624,
                    0.057971014492753624,
                    0.03260869565217391,
                    0.06159420289855073,
                    0.04710144927536232,
                    0.10507246376811594,
                    0.050724637681159424,
                    0.050724637681159424,
                    0.036231884057971016,
                    0.13043478260869565,
                    0.11231884057971014,
                    0.13043478260869565,
                    0.06884057971014493,
                    0.13043478260869565,
                    0.08695652173913043,
                    0.07971014492753623,
                    0.4673913043478261,
                    0.4891304347826087,
                    0.4855072463768116,
                    0.4528985507246377,
                    0.6086956521739131,
                    0.4891304347826087,
                    0.427536231884058,
                    0.5072463768115942,
                    0.48188405797101447,
                    0.4528985507246377,
                    1,
                    0.6521739130434783,
                    0.5398550724637681,
                    0.5579710144927537,
                    0.5942028985507246,
                    0.5108695652173914,
                    0.213768115942029,
                    0.1956521739130435,
                    0.3079710144927536,
                    0.32608695652173914,
                    0.37318840579710144,
                    0.3442028985507246,
                    0.36594202898550726,
                    0.37318840579710144,
                    0.3695652173913043,
                    0.427536231884058,
                    0.4384057971014493,
                    0.4601449275362319,
                    0.47101449275362317,
                    0.41304347826086957,
                    0.42391304347826086,
                    0.39855072463768115,
                    0.41304347826086957,
                    0.41304347826086957,
                    0.4492753623188406,
                    0.37318840579710144,
                    0.40217391304347827,
                    0.4927536231884058,
                    0.40942028985507245,
                    0.2427536231884058,
                    0.15217391304347827,
                    0.19202898550724637,
                    0.2644927536231884,
                    0.18115942028985507,
                    0.1956521739130435,
                    0.18478260869565216,
                    0.13768115942028986,
                    0.043478260869565216,
                    0.025362318840579712,
                    0.014492753623188406,
                    0.021739130434782608,
                    0.018115942028985508,
                    0.03260869565217391,
                    0.014492753623188406,
                    0.014492753623188406,
                    0.036231884057971016,
                    0.03260869565217391,
                    0.04710144927536232,
                    0.025362318840579712,
                    0.03985507246376811,
                    0.025362318840579712,
                    0.08333333333333333,
                    0.03985507246376811,
                    0.03985507246376811
                  ]
                },
                {
                  "mode": "lines",
                  "name": "pain",
                  "type": "scatter",
                  "x": [
                    "2011-05-17T00:00:00",
                    "2011-05-17T01:00:00",
                    "2011-05-17T02:00:00",
                    "2011-05-17T03:00:00",
                    "2011-05-17T04:00:00",
                    "2011-05-17T05:00:00",
                    "2011-05-17T06:00:00",
                    "2011-05-17T07:00:00",
                    "2011-05-17T08:00:00",
                    "2011-05-17T09:00:00",
                    "2011-05-17T10:00:00",
                    "2011-05-17T11:00:00",
                    "2011-05-17T12:00:00",
                    "2011-05-17T13:00:00",
                    "2011-05-17T14:00:00",
                    "2011-05-17T15:00:00",
                    "2011-05-17T16:00:00",
                    "2011-05-17T17:00:00",
                    "2011-05-17T18:00:00",
                    "2011-05-17T19:00:00",
                    "2011-05-17T20:00:00",
                    "2011-05-17T21:00:00",
                    "2011-05-17T22:00:00",
                    "2011-05-17T23:00:00",
                    "2011-05-18T00:00:00",
                    "2011-05-18T01:00:00",
                    "2011-05-18T02:00:00",
                    "2011-05-18T03:00:00",
                    "2011-05-18T04:00:00",
                    "2011-05-18T05:00:00",
                    "2011-05-18T06:00:00",
                    "2011-05-18T07:00:00",
                    "2011-05-18T08:00:00",
                    "2011-05-18T09:00:00",
                    "2011-05-18T10:00:00",
                    "2011-05-18T11:00:00",
                    "2011-05-18T12:00:00",
                    "2011-05-18T13:00:00",
                    "2011-05-18T14:00:00",
                    "2011-05-18T15:00:00",
                    "2011-05-18T16:00:00",
                    "2011-05-18T17:00:00",
                    "2011-05-18T18:00:00",
                    "2011-05-18T19:00:00",
                    "2011-05-18T20:00:00",
                    "2011-05-18T21:00:00",
                    "2011-05-18T22:00:00",
                    "2011-05-18T23:00:00",
                    "2011-05-19T00:00:00",
                    "2011-05-19T01:00:00",
                    "2011-05-19T02:00:00",
                    "2011-05-19T03:00:00",
                    "2011-05-19T04:00:00",
                    "2011-05-19T05:00:00",
                    "2011-05-19T06:00:00",
                    "2011-05-19T07:00:00",
                    "2011-05-19T08:00:00",
                    "2011-05-19T09:00:00",
                    "2011-05-19T10:00:00",
                    "2011-05-19T11:00:00",
                    "2011-05-19T12:00:00",
                    "2011-05-19T13:00:00",
                    "2011-05-19T14:00:00",
                    "2011-05-19T15:00:00",
                    "2011-05-19T16:00:00",
                    "2011-05-19T17:00:00",
                    "2011-05-19T18:00:00",
                    "2011-05-19T19:00:00",
                    "2011-05-19T20:00:00",
                    "2011-05-19T21:00:00",
                    "2011-05-19T22:00:00",
                    "2011-05-19T23:00:00",
                    "2011-05-20T00:00:00",
                    "2011-05-20T01:00:00",
                    "2011-05-20T02:00:00",
                    "2011-05-20T03:00:00",
                    "2011-05-20T04:00:00",
                    "2011-05-20T05:00:00",
                    "2011-05-20T06:00:00",
                    "2011-05-20T07:00:00",
                    "2011-05-20T08:00:00",
                    "2011-05-20T09:00:00",
                    "2011-05-20T10:00:00",
                    "2011-05-20T11:00:00",
                    "2011-05-20T12:00:00",
                    "2011-05-20T13:00:00",
                    "2011-05-20T14:00:00",
                    "2011-05-20T15:00:00",
                    "2011-05-20T16:00:00",
                    "2011-05-20T17:00:00",
                    "2011-05-20T18:00:00",
                    "2011-05-20T19:00:00",
                    "2011-05-20T20:00:00",
                    "2011-05-20T21:00:00",
                    "2011-05-20T22:00:00",
                    "2011-05-20T23:00:00"
                  ],
                  "y": [
                    0.05825242718446602,
                    0.1262135922330097,
                    0.009708737864077669,
                    0.06796116504854369,
                    0.08737864077669903,
                    0.08737864077669903,
                    0.0970873786407767,
                    0.038834951456310676,
                    0.02912621359223301,
                    0.019417475728155338,
                    0.019417475728155338,
                    0.019417475728155338,
                    0.07766990291262135,
                    0.07766990291262135,
                    0.06796116504854369,
                    0.06796116504854369,
                    0.07766990291262135,
                    0.05825242718446602,
                    0.02912621359223301,
                    0.06796116504854369,
                    0.08737864077669903,
                    0.14563106796116504,
                    0.0970873786407767,
                    0.08737864077669903,
                    0.06796116504854369,
                    0.08737864077669903,
                    0.07766990291262135,
                    0.06796116504854369,
                    0.05825242718446602,
                    0.05825242718446602,
                    0.04854368932038835,
                    0.07766990291262135,
                    0.04854368932038835,
                    0.04854368932038835,
                    0.04854368932038835,
                    0.06796116504854369,
                    0.02912621359223301,
                    0.05825242718446602,
                    0.05825242718446602,
                    0.06796116504854369,
                    0.11650485436893204,
                    0.13592233009708737,
                    0.02912621359223301,
                    0.05825242718446602,
                    0.0970873786407767,
                    0.1262135922330097,
                    0.08737864077669903,
                    0.05825242718446602,
                    0.06796116504854369,
                    0.1262135922330097,
                    0.46601941747572817,
                    0.23300970873786409,
                    0.33980582524271846,
                    0.39805825242718446,
                    0.2912621359223301,
                    0.27184466019417475,
                    0.2621359223300971,
                    0.3300970873786408,
                    0.33980582524271846,
                    0.33980582524271846,
                    0.2621359223300971,
                    0.3883495145631068,
                    0.2621359223300971,
                    0.33980582524271846,
                    0.3106796116504854,
                    0.42718446601941745,
                    0.34951456310679613,
                    0.39805825242718446,
                    0.30097087378640774,
                    0.32038834951456313,
                    0.32038834951456313,
                    0.038834951456310676,
                    0.2621359223300971,
                    0.36893203883495146,
                    0.3106796116504854,
                    0.3592233009708738,
                    0.3786407766990291,
                    0.3106796116504854,
                    0.2912621359223301,
                    0.7669902912621359,
                    0.8155339805825242,
                    0.7669902912621359,
                    0.7281553398058253,
                    0.7087378640776699,
                    0.9320388349514563,
                    0.9902912621359223,
                    0.9029126213592233,
                    0.9029126213592233,
                    0.8932038834951457,
                    0.7475728155339806,
                    1,
                    0.7669902912621359,
                    0.8446601941747572,
                    0.8640776699029126,
                    0.8446601941747572,
                    0.6504854368932039
                  ]
                },
                {
                  "mode": "lines",
                  "name": "fatigue",
                  "type": "scatter",
                  "x": [
                    "2011-05-17T02:00:00",
                    "2011-05-17T03:00:00",
                    "2011-05-17T04:00:00",
                    "2011-05-17T05:00:00",
                    "2011-05-17T06:00:00",
                    "2011-05-17T07:00:00",
                    "2011-05-17T08:00:00",
                    "2011-05-17T09:00:00",
                    "2011-05-17T10:00:00",
                    "2011-05-17T11:00:00",
                    "2011-05-17T12:00:00",
                    "2011-05-17T13:00:00",
                    "2011-05-17T14:00:00",
                    "2011-05-17T15:00:00",
                    "2011-05-17T16:00:00",
                    "2011-05-17T17:00:00",
                    "2011-05-17T18:00:00",
                    "2011-05-17T19:00:00",
                    "2011-05-17T20:00:00",
                    "2011-05-17T21:00:00",
                    "2011-05-17T22:00:00",
                    "2011-05-17T23:00:00",
                    "2011-05-18T00:00:00",
                    "2011-05-18T01:00:00",
                    "2011-05-18T02:00:00",
                    "2011-05-18T03:00:00",
                    "2011-05-18T04:00:00",
                    "2011-05-18T05:00:00",
                    "2011-05-18T06:00:00",
                    "2011-05-18T07:00:00",
                    "2011-05-18T08:00:00",
                    "2011-05-18T09:00:00",
                    "2011-05-18T10:00:00",
                    "2011-05-18T11:00:00",
                    "2011-05-18T12:00:00",
                    "2011-05-18T13:00:00",
                    "2011-05-18T14:00:00",
                    "2011-05-18T15:00:00",
                    "2011-05-18T16:00:00",
                    "2011-05-18T17:00:00",
                    "2011-05-18T18:00:00",
                    "2011-05-18T19:00:00",
                    "2011-05-18T20:00:00",
                    "2011-05-18T21:00:00",
                    "2011-05-18T22:00:00",
                    "2011-05-18T23:00:00",
                    "2011-05-19T00:00:00",
                    "2011-05-19T01:00:00",
                    "2011-05-19T02:00:00",
                    "2011-05-19T03:00:00",
                    "2011-05-19T04:00:00",
                    "2011-05-19T05:00:00",
                    "2011-05-19T06:00:00",
                    "2011-05-19T07:00:00",
                    "2011-05-19T08:00:00",
                    "2011-05-19T09:00:00",
                    "2011-05-19T10:00:00",
                    "2011-05-19T11:00:00",
                    "2011-05-19T12:00:00",
                    "2011-05-19T13:00:00",
                    "2011-05-19T14:00:00",
                    "2011-05-19T15:00:00",
                    "2011-05-19T16:00:00",
                    "2011-05-19T17:00:00",
                    "2011-05-19T18:00:00",
                    "2011-05-19T19:00:00",
                    "2011-05-19T20:00:00",
                    "2011-05-19T21:00:00",
                    "2011-05-19T22:00:00",
                    "2011-05-19T23:00:00",
                    "2011-05-20T00:00:00",
                    "2011-05-20T01:00:00",
                    "2011-05-20T02:00:00",
                    "2011-05-20T03:00:00",
                    "2011-05-20T04:00:00",
                    "2011-05-20T05:00:00",
                    "2011-05-20T06:00:00"
                  ],
                  "y": [
                    0.003861003861003861,
                    0,
                    0,
                    0,
                    0.003861003861003861,
                    0,
                    0.003861003861003861,
                    0,
                    0,
                    0,
                    0,
                    0,
                    0,
                    0,
                    0,
                    0,
                    0,
                    0,
                    0,
                    0,
                    0,
                    0,
                    0,
                    0,
                    0,
                    0,
                    0,
                    0,
                    0,
                    0,
                    0.35135135135135137,
                    0.41312741312741313,
                    0.44787644787644787,
                    0.39768339768339767,
                    0.42084942084942084,
                    0.37065637065637064,
                    0.36293436293436293,
                    0.4092664092664093,
                    0.4247104247104247,
                    0.4864864864864865,
                    1,
                    0.4555984555984556,
                    0.41312741312741313,
                    0.444015444015444,
                    0.5328185328185329,
                    0.43243243243243246,
                    0.18532818532818532,
                    0.20463320463320464,
                    0.444015444015444,
                    0.3436293436293436,
                    0.3938223938223938,
                    0.38996138996138996,
                    0.38996138996138996,
                    0.3281853281853282,
                    0.1776061776061776,
                    0.17374517374517376,
                    0.20077220077220076,
                    0.22393822393822393,
                    0.20077220077220076,
                    0.19305019305019305,
                    0.20077220077220076,
                    0.17374517374517376,
                    0.14285714285714285,
                    0.20463320463320464,
                    0.20463320463320464,
                    0.18146718146718147,
                    0.13513513513513514,
                    0.21235521235521235,
                    0.22007722007722008,
                    0.1274131274131274,
                    0.011583011583011582,
                    0.011583011583011582,
                    0.007722007722007722,
                    0.007722007722007722,
                    0.011583011583011582,
                    0.007722007722007722,
                    0.007722007722007722
                  ]
                },
                {
                  "mode": "lines",
                  "name": "cough",
                  "type": "scatter",
                  "x": [
                    "2011-05-17T00:00:00",
                    "2011-05-17T01:00:00",
                    "2011-05-17T02:00:00",
                    "2011-05-17T03:00:00",
                    "2011-05-17T04:00:00",
                    "2011-05-17T05:00:00",
                    "2011-05-17T06:00:00",
                    "2011-05-17T07:00:00",
                    "2011-05-17T08:00:00",
                    "2011-05-17T09:00:00",
                    "2011-05-17T10:00:00",
                    "2011-05-17T11:00:00",
                    "2011-05-17T12:00:00",
                    "2011-05-17T13:00:00",
                    "2011-05-17T14:00:00",
                    "2011-05-17T15:00:00",
                    "2011-05-17T16:00:00",
                    "2011-05-17T17:00:00",
                    "2011-05-17T18:00:00",
                    "2011-05-17T19:00:00",
                    "2011-05-17T20:00:00",
                    "2011-05-17T21:00:00",
                    "2011-05-17T22:00:00",
                    "2011-05-17T23:00:00",
                    "2011-05-18T00:00:00",
                    "2011-05-18T01:00:00",
                    "2011-05-18T02:00:00",
                    "2011-05-18T03:00:00",
                    "2011-05-18T04:00:00",
                    "2011-05-18T05:00:00",
                    "2011-05-18T06:00:00",
                    "2011-05-18T07:00:00",
                    "2011-05-18T08:00:00",
                    "2011-05-18T09:00:00",
                    "2011-05-18T10:00:00",
                    "2011-05-18T11:00:00",
                    "2011-05-18T12:00:00",
                    "2011-05-18T13:00:00",
                    "2011-05-18T14:00:00",
                    "2011-05-18T15:00:00",
                    "2011-05-18T16:00:00",
                    "2011-05-18T17:00:00",
                    "2011-05-18T18:00:00",
                    "2011-05-18T19:00:00",
                    "2011-05-18T20:00:00",
                    "2011-05-18T21:00:00",
                    "2011-05-18T22:00:00",
                    "2011-05-18T23:00:00",
                    "2011-05-19T00:00:00",
                    "2011-05-19T01:00:00",
                    "2011-05-19T02:00:00",
                    "2011-05-19T03:00:00",
                    "2011-05-19T04:00:00",
                    "2011-05-19T05:00:00",
                    "2011-05-19T06:00:00",
                    "2011-05-19T07:00:00",
                    "2011-05-19T08:00:00",
                    "2011-05-19T09:00:00",
                    "2011-05-19T10:00:00",
                    "2011-05-19T11:00:00",
                    "2011-05-19T12:00:00",
                    "2011-05-19T13:00:00",
                    "2011-05-19T14:00:00",
                    "2011-05-19T15:00:00",
                    "2011-05-19T16:00:00",
                    "2011-05-19T17:00:00",
                    "2011-05-19T18:00:00",
                    "2011-05-19T19:00:00",
                    "2011-05-19T20:00:00",
                    "2011-05-19T21:00:00",
                    "2011-05-19T22:00:00",
                    "2011-05-19T23:00:00",
                    "2011-05-20T00:00:00",
                    "2011-05-20T01:00:00",
                    "2011-05-20T02:00:00",
                    "2011-05-20T03:00:00",
                    "2011-05-20T04:00:00",
                    "2011-05-20T05:00:00",
                    "2011-05-20T06:00:00",
                    "2011-05-20T07:00:00",
                    "2011-05-20T08:00:00",
                    "2011-05-20T09:00:00",
                    "2011-05-20T10:00:00",
                    "2011-05-20T11:00:00",
                    "2011-05-20T12:00:00",
                    "2011-05-20T13:00:00",
                    "2011-05-20T14:00:00",
                    "2011-05-20T15:00:00",
                    "2011-05-20T16:00:00",
                    "2011-05-20T17:00:00",
                    "2011-05-20T18:00:00",
                    "2011-05-20T19:00:00",
                    "2011-05-20T20:00:00",
                    "2011-05-20T21:00:00",
                    "2011-05-20T22:00:00",
                    "2011-05-20T23:00:00"
                  ],
                  "y": [
                    0.008547008547008548,
                    0,
                    0,
                    0.017094017094017096,
                    0,
                    0.008547008547008548,
                    0,
                    0.008547008547008548,
                    0,
                    0,
                    0,
                    0,
                    0.017094017094017096,
                    0.008547008547008548,
                    0.008547008547008548,
                    0,
                    0.008547008547008548,
                    0,
                    0.008547008547008548,
                    0.008547008547008548,
                    0,
                    0.008547008547008548,
                    0,
                    0,
                    0,
                    0.05128205128205128,
                    0.05982905982905983,
                    0.07692307692307693,
                    0.11965811965811966,
                    0.042735042735042736,
                    0.09401709401709402,
                    0.02564102564102564,
                    0.11965811965811966,
                    0.1623931623931624,
                    0.13675213675213677,
                    0.1623931623931624,
                    0.13675213675213677,
                    0.15384615384615385,
                    0.11965811965811966,
                    0.10256410256410256,
                    0.18803418803418803,
                    0.1794871794871795,
                    0.2564102564102564,
                    0.2564102564102564,
                    0.23931623931623933,
                    0.18803418803418803,
                    0.23931623931623933,
                    0.2222222222222222,
                    0,
                    0.017094017094017096,
                    0.09401709401709402,
                    0.17094017094017094,
                    0.07692307692307693,
                    0.13675213675213677,
                    0.13675213675213677,
                    0.17094017094017094,
                    0.6837606837606838,
                    0.9145299145299145,
                    0.7008547008547008,
                    0.7606837606837606,
                    0.8547008547008547,
                    0.7521367521367521,
                    0.811965811965812,
                    0.8461538461538461,
                    0.717948717948718,
                    0.6495726495726496,
                    0.7094017094017094,
                    0.7606837606837606,
                    0.6666666666666666,
                    1,
                    0.6410256410256411,
                    0.7692307692307693,
                    0.3504273504273504,
                    0.42735042735042733,
                    0.38461538461538464,
                    0.41025641025641024,
                    0.452991452991453,
                    0.3076923076923077,
                    0.42735042735042733,
                    0.4188034188034188,
                    0.36752136752136755,
                    0.4700854700854701,
                    0.39316239316239315,
                    0.36752136752136755,
                    0.452991452991453,
                    0.49572649572649574,
                    0.4188034188034188,
                    0.5299145299145299,
                    0.39316239316239315,
                    0.5213675213675214,
                    0.4444444444444444,
                    0.47863247863247865,
                    0.4358974358974359,
                    0.452991452991453,
                    0.42735042735042733,
                    0.5726495726495726
                  ]
                },
                {
                  "mode": "lines",
                  "name": "breath",
                  "type": "scatter",
                  "x": [
                    "2011-05-17T00:00:00",
                    "2011-05-17T01:00:00",
                    "2011-05-17T02:00:00",
                    "2011-05-17T03:00:00",
                    "2011-05-17T04:00:00",
                    "2011-05-17T05:00:00",
                    "2011-05-17T06:00:00",
                    "2011-05-17T07:00:00",
                    "2011-05-17T08:00:00",
                    "2011-05-17T09:00:00",
                    "2011-05-17T10:00:00",
                    "2011-05-17T11:00:00",
                    "2011-05-17T12:00:00",
                    "2011-05-17T13:00:00",
                    "2011-05-17T14:00:00",
                    "2011-05-17T15:00:00",
                    "2011-05-17T16:00:00",
                    "2011-05-17T17:00:00",
                    "2011-05-17T18:00:00",
                    "2011-05-17T19:00:00",
                    "2011-05-17T20:00:00",
                    "2011-05-17T21:00:00",
                    "2011-05-17T22:00:00",
                    "2011-05-17T23:00:00",
                    "2011-05-18T00:00:00",
                    "2011-05-18T01:00:00",
                    "2011-05-18T02:00:00",
                    "2011-05-18T03:00:00",
                    "2011-05-18T04:00:00",
                    "2011-05-18T05:00:00",
                    "2011-05-18T06:00:00",
                    "2011-05-18T07:00:00",
                    "2011-05-18T08:00:00",
                    "2011-05-18T09:00:00",
                    "2011-05-18T10:00:00",
                    "2011-05-18T11:00:00",
                    "2011-05-18T12:00:00",
                    "2011-05-18T13:00:00",
                    "2011-05-18T14:00:00",
                    "2011-05-18T15:00:00",
                    "2011-05-18T16:00:00",
                    "2011-05-18T17:00:00",
                    "2011-05-18T18:00:00",
                    "2011-05-18T19:00:00",
                    "2011-05-18T20:00:00",
                    "2011-05-18T21:00:00",
                    "2011-05-18T22:00:00",
                    "2011-05-18T23:00:00",
                    "2011-05-19T00:00:00",
                    "2011-05-19T01:00:00",
                    "2011-05-19T02:00:00",
                    "2011-05-19T03:00:00",
                    "2011-05-19T04:00:00",
                    "2011-05-19T05:00:00",
                    "2011-05-19T06:00:00",
                    "2011-05-19T07:00:00",
                    "2011-05-19T08:00:00",
                    "2011-05-19T09:00:00",
                    "2011-05-19T10:00:00",
                    "2011-05-19T11:00:00",
                    "2011-05-19T12:00:00",
                    "2011-05-19T13:00:00",
                    "2011-05-19T14:00:00",
                    "2011-05-19T15:00:00",
                    "2011-05-19T16:00:00",
                    "2011-05-19T17:00:00",
                    "2011-05-19T18:00:00",
                    "2011-05-19T19:00:00",
                    "2011-05-19T20:00:00",
                    "2011-05-19T21:00:00",
                    "2011-05-19T22:00:00",
                    "2011-05-19T23:00:00",
                    "2011-05-20T00:00:00",
                    "2011-05-20T01:00:00",
                    "2011-05-20T02:00:00",
                    "2011-05-20T03:00:00",
                    "2011-05-20T04:00:00",
                    "2011-05-20T05:00:00",
                    "2011-05-20T06:00:00",
                    "2011-05-20T07:00:00",
                    "2011-05-20T08:00:00",
                    "2011-05-20T09:00:00",
                    "2011-05-20T10:00:00",
                    "2011-05-20T11:00:00",
                    "2011-05-20T12:00:00",
                    "2011-05-20T13:00:00",
                    "2011-05-20T14:00:00",
                    "2011-05-20T15:00:00",
                    "2011-05-20T16:00:00",
                    "2011-05-20T17:00:00",
                    "2011-05-20T18:00:00",
                    "2011-05-20T19:00:00",
                    "2011-05-20T20:00:00",
                    "2011-05-20T21:00:00",
                    "2011-05-20T22:00:00",
                    "2011-05-20T23:00:00"
                  ],
                  "y": [
                    0.01680672268907563,
                    0.012605042016806723,
                    0.012605042016806723,
                    0.02100840336134454,
                    0,
                    0.025210084033613446,
                    0,
                    0.025210084033613446,
                    0,
                    0.029411764705882353,
                    0.025210084033613446,
                    0.037815126050420166,
                    0.04201680672268908,
                    0.046218487394957986,
                    0.03361344537815126,
                    0.029411764705882353,
                    0.037815126050420166,
                    0.029411764705882353,
                    0.05042016806722689,
                    0.02100840336134454,
                    0.025210084033613446,
                    0.04201680672268908,
                    0.046218487394957986,
                    0.004201680672268907,
                    0.004201680672268907,
                    0.008403361344537815,
                    0.01680672268907563,
                    0.008403361344537815,
                    0.004201680672268907,
                    0.004201680672268907,
                    0.008403361344537815,
                    0.008403361344537815,
                    0.542016806722689,
                    0.4789915966386555,
                    0.3487394957983193,
                    0.46638655462184875,
                    0.4369747899159664,
                    0.4495798319327731,
                    0.35294117647058826,
                    0.4957983193277311,
                    0.4957983193277311,
                    0.5084033613445378,
                    1,
                    0.5210084033613446,
                    0.49159663865546216,
                    0.5840336134453782,
                    0.5504201680672269,
                    0.5588235294117647,
                    0.25630252100840334,
                    0.23949579831932774,
                    0.24789915966386555,
                    0.226890756302521,
                    0.1722689075630252,
                    0.15546218487394958,
                    0.2815126050420168,
                    0.25210084033613445,
                    0.2815126050420168,
                    0.3319327731092437,
                    0.31512605042016806,
                    0.35714285714285715,
                    0.3697478991596639,
                    0.31512605042016806,
                    0.3319327731092437,
                    0.3487394957983193,
                    0.3235294117647059,
                    0.3025210084033613,
                    0.29411764705882354,
                    0.28991596638655465,
                    0.3235294117647059,
                    0.28991596638655465,
                    0.31512605042016806,
                    0.36554621848739494,
                    0.18487394957983194,
                    0.20588235294117646,
                    0.36134453781512604,
                    0.2815126050420168,
                    0.24369747899159663,
                    0.3403361344537815,
                    0.2647058823529412,
                    0.36134453781512604,
                    0.3277310924369748,
                    0.33613445378151263,
                    0.3067226890756303,
                    0.31932773109243695,
                    0.3235294117647059,
                    0.3025210084033613,
                    0.3319327731092437,
                    0.36134453781512604,
                    0.31932773109243695,
                    0.3739495798319328,
                    0.3277310924369748,
                    0.3739495798319328,
                    0.3739495798319328,
                    0.3319327731092437,
                    0.29831932773109243,
                    0.3319327731092437
                  ]
                },
                {
                  "mode": "lines",
                  "name": "nausea",
                  "type": "scatter",
                  "x": [
                    "2011-05-17T15:00:00",
                    "2011-05-17T16:00:00",
                    "2011-05-17T17:00:00",
                    "2011-05-17T18:00:00",
                    "2011-05-17T19:00:00",
                    "2011-05-17T20:00:00",
                    "2011-05-17T21:00:00",
                    "2011-05-17T22:00:00",
                    "2011-05-17T23:00:00",
                    "2011-05-18T00:00:00",
                    "2011-05-18T01:00:00",
                    "2011-05-18T02:00:00",
                    "2011-05-18T03:00:00",
                    "2011-05-18T04:00:00",
                    "2011-05-18T05:00:00",
                    "2011-05-18T06:00:00",
                    "2011-05-18T07:00:00",
                    "2011-05-18T08:00:00",
                    "2011-05-18T09:00:00",
                    "2011-05-18T10:00:00",
                    "2011-05-18T11:00:00",
                    "2011-05-18T12:00:00",
                    "2011-05-18T13:00:00",
                    "2011-05-18T14:00:00",
                    "2011-05-18T15:00:00",
                    "2011-05-18T16:00:00",
                    "2011-05-18T17:00:00",
                    "2011-05-18T18:00:00",
                    "2011-05-18T19:00:00",
                    "2011-05-18T20:00:00",
                    "2011-05-18T21:00:00",
                    "2011-05-18T22:00:00",
                    "2011-05-18T23:00:00",
                    "2011-05-19T00:00:00",
                    "2011-05-19T01:00:00",
                    "2011-05-19T02:00:00",
                    "2011-05-19T03:00:00",
                    "2011-05-19T04:00:00",
                    "2011-05-19T05:00:00",
                    "2011-05-19T06:00:00",
                    "2011-05-19T07:00:00",
                    "2011-05-19T08:00:00",
                    "2011-05-19T09:00:00",
                    "2011-05-19T10:00:00",
                    "2011-05-19T11:00:00",
                    "2011-05-19T12:00:00",
                    "2011-05-19T13:00:00",
                    "2011-05-19T14:00:00",
                    "2011-05-19T15:00:00",
                    "2011-05-19T16:00:00",
                    "2011-05-19T17:00:00",
                    "2011-05-19T18:00:00",
                    "2011-05-19T19:00:00",
                    "2011-05-19T20:00:00",
                    "2011-05-19T21:00:00",
                    "2011-05-19T22:00:00",
                    "2011-05-19T23:00:00",
                    "2011-05-20T00:00:00",
                    "2011-05-20T01:00:00",
                    "2011-05-20T02:00:00",
                    "2011-05-20T03:00:00",
                    "2011-05-20T04:00:00",
                    "2011-05-20T05:00:00",
                    "2011-05-20T06:00:00",
                    "2011-05-20T07:00:00",
                    "2011-05-20T08:00:00",
                    "2011-05-20T09:00:00",
                    "2011-05-20T10:00:00",
                    "2011-05-20T11:00:00",
                    "2011-05-20T12:00:00",
                    "2011-05-20T13:00:00",
                    "2011-05-20T14:00:00",
                    "2011-05-20T15:00:00",
                    "2011-05-20T16:00:00",
                    "2011-05-20T17:00:00",
                    "2011-05-20T18:00:00",
                    "2011-05-20T19:00:00",
                    "2011-05-20T20:00:00",
                    "2011-05-20T21:00:00",
                    "2011-05-20T22:00:00",
                    "2011-05-20T23:00:00"
                  ],
                  "y": [
                    0.02,
                    0,
                    0,
                    0,
                    0,
                    0,
                    0,
                    0,
                    0,
                    0,
                    0,
                    0,
                    0.02,
                    0,
                    0,
                    0,
                    0,
                    0,
                    0,
                    0,
                    0,
                    0,
                    0,
                    0,
                    0,
                    0,
                    0,
                    0,
                    0,
                    0,
                    0.02,
                    0,
                    0,
                    0,
                    0,
                    0.84,
                    1,
                    0.78,
                    0.84,
                    0.66,
                    0.8,
                    0.78,
                    0.72,
                    0.78,
                    0.56,
                    0.68,
                    0.7,
                    0.66,
                    0.52,
                    0.74,
                    0.52,
                    0.74,
                    0.52,
                    0.88,
                    0.68,
                    0.84,
                    0,
                    0,
                    0,
                    0.02,
                    0,
                    0,
                    0,
                    0,
                    0.02,
                    0,
                    0,
                    0.02,
                    0,
                    0.02,
                    0,
                    0,
                    0.02,
                    0,
                    0.02,
                    0,
                    0.02,
                    0.04,
                    0,
                    0,
                    0.02
                  ]
                },
                {
                  "mode": "lines",
                  "name": "vomit",
                  "type": "scatter",
                  "x": [
                    "2011-05-17T01:00:00",
                    "2011-05-17T02:00:00",
                    "2011-05-17T03:00:00",
                    "2011-05-17T04:00:00",
                    "2011-05-17T05:00:00",
                    "2011-05-17T06:00:00",
                    "2011-05-17T07:00:00",
                    "2011-05-17T08:00:00",
                    "2011-05-17T09:00:00",
                    "2011-05-17T10:00:00",
                    "2011-05-17T11:00:00",
                    "2011-05-17T12:00:00",
                    "2011-05-17T13:00:00",
                    "2011-05-17T14:00:00",
                    "2011-05-17T15:00:00",
                    "2011-05-17T16:00:00",
                    "2011-05-17T17:00:00",
                    "2011-05-17T18:00:00",
                    "2011-05-17T19:00:00",
                    "2011-05-17T20:00:00",
                    "2011-05-17T21:00:00",
                    "2011-05-17T22:00:00",
                    "2011-05-17T23:00:00",
                    "2011-05-18T00:00:00",
                    "2011-05-18T01:00:00",
                    "2011-05-18T02:00:00",
                    "2011-05-18T03:00:00",
                    "2011-05-18T04:00:00",
                    "2011-05-18T05:00:00",
                    "2011-05-18T06:00:00",
                    "2011-05-18T07:00:00",
                    "2011-05-18T08:00:00",
                    "2011-05-18T09:00:00",
                    "2011-05-18T10:00:00",
                    "2011-05-18T11:00:00",
                    "2011-05-18T12:00:00",
                    "2011-05-18T13:00:00",
                    "2011-05-18T14:00:00",
                    "2011-05-18T15:00:00",
                    "2011-05-18T16:00:00",
                    "2011-05-18T17:00:00",
                    "2011-05-18T18:00:00",
                    "2011-05-18T19:00:00",
                    "2011-05-18T20:00:00",
                    "2011-05-18T21:00:00",
                    "2011-05-18T22:00:00",
                    "2011-05-18T23:00:00",
                    "2011-05-19T00:00:00",
                    "2011-05-19T01:00:00",
                    "2011-05-19T02:00:00",
                    "2011-05-19T03:00:00",
                    "2011-05-19T04:00:00",
                    "2011-05-19T05:00:00",
                    "2011-05-19T06:00:00",
                    "2011-05-19T07:00:00",
                    "2011-05-19T08:00:00",
                    "2011-05-19T09:00:00",
                    "2011-05-19T10:00:00",
                    "2011-05-19T11:00:00",
                    "2011-05-19T12:00:00",
                    "2011-05-19T13:00:00",
                    "2011-05-19T14:00:00",
                    "2011-05-19T15:00:00",
                    "2011-05-19T16:00:00",
                    "2011-05-19T17:00:00",
                    "2011-05-19T18:00:00",
                    "2011-05-19T19:00:00",
                    "2011-05-19T20:00:00",
                    "2011-05-19T21:00:00",
                    "2011-05-19T22:00:00",
                    "2011-05-19T23:00:00",
                    "2011-05-20T00:00:00",
                    "2011-05-20T01:00:00",
                    "2011-05-20T02:00:00",
                    "2011-05-20T03:00:00",
                    "2011-05-20T04:00:00",
                    "2011-05-20T05:00:00",
                    "2011-05-20T06:00:00",
                    "2011-05-20T07:00:00",
                    "2011-05-20T08:00:00",
                    "2011-05-20T09:00:00",
                    "2011-05-20T10:00:00",
                    "2011-05-20T11:00:00",
                    "2011-05-20T12:00:00",
                    "2011-05-20T13:00:00",
                    "2011-05-20T14:00:00",
                    "2011-05-20T15:00:00",
                    "2011-05-20T16:00:00",
                    "2011-05-20T17:00:00",
                    "2011-05-20T18:00:00",
                    "2011-05-20T19:00:00",
                    "2011-05-20T20:00:00",
                    "2011-05-20T21:00:00",
                    "2011-05-20T22:00:00",
                    "2011-05-20T23:00:00"
                  ],
                  "y": [
                    0.029411764705882353,
                    0,
                    0,
                    0,
                    0,
                    0,
                    0,
                    0,
                    0,
                    0,
                    0,
                    0,
                    0,
                    0,
                    0.029411764705882353,
                    0,
                    0,
                    0.029411764705882353,
                    0,
                    0,
                    0.029411764705882353,
                    0.029411764705882353,
                    0.029411764705882353,
                    0,
                    0,
                    0.029411764705882353,
                    0.029411764705882353,
                    0,
                    0,
                    0,
                    0.029411764705882353,
                    0.029411764705882353,
                    0,
                    0,
                    0.029411764705882353,
                    0,
                    0,
                    0,
                    0.029411764705882353,
                    0.029411764705882353,
                    0,
                    0.029411764705882353,
                    0,
                    0,
                    0,
                    0,
                    0,
                    0,
                    0,
                    0,
                    0,
                    0.029411764705882353,
                    0.029411764705882353,
                    0,
                    0,
                    0,
                    0,
                    0,
                    0.029411764705882353,
                    0,
                    0,
                    0,
                    0.029411764705882353,
                    0.058823529411764705,
                    0,
                    0.029411764705882353,
                    0,
                    0.029411764705882353,
                    0.029411764705882353,
                    0,
                    0.029411764705882353,
                    0.7647058823529411,
                    0.5882352941176471,
                    0.5882352941176471,
                    0.6176470588235294,
                    0.5294117647058824,
                    0.7352941176470589,
                    0.5294117647058824,
                    0.7647058823529411,
                    0.5882352941176471,
                    0.4411764705882353,
                    0.7647058823529411,
                    0.5588235294117647,
                    0.5,
                    1,
                    0.6764705882352942,
                    0.38235294117647056,
                    0.4411764705882353,
                    0.7647058823529411,
                    0.6764705882352942,
                    0.38235294117647056,
                    0.7058823529411765,
                    0.5882352941176471,
                    0.5882352941176471,
                    0.7058823529411765
                  ]
                }
              ],
              "layout": {
                "height": 1000,
                "legend": {
                  "title": {
                    "text": "Symptoms"
                  }
                },
                "template": {
                  "data": {
                    "bar": [
                      {
                        "error_x": {
                          "color": "#2a3f5f"
                        },
                        "error_y": {
                          "color": "#2a3f5f"
                        },
                        "marker": {
                          "line": {
                            "color": "#E5ECF6",
                            "width": 0.5
                          },
                          "pattern": {
                            "fillmode": "overlay",
                            "size": 10,
                            "solidity": 0.2
                          }
                        },
                        "type": "bar"
                      }
                    ],
                    "barpolar": [
                      {
                        "marker": {
                          "line": {
                            "color": "#E5ECF6",
                            "width": 0.5
                          },
                          "pattern": {
                            "fillmode": "overlay",
                            "size": 10,
                            "solidity": 0.2
                          }
                        },
                        "type": "barpolar"
                      }
                    ],
                    "carpet": [
                      {
                        "aaxis": {
                          "endlinecolor": "#2a3f5f",
                          "gridcolor": "white",
                          "linecolor": "white",
                          "minorgridcolor": "white",
                          "startlinecolor": "#2a3f5f"
                        },
                        "baxis": {
                          "endlinecolor": "#2a3f5f",
                          "gridcolor": "white",
                          "linecolor": "white",
                          "minorgridcolor": "white",
                          "startlinecolor": "#2a3f5f"
                        },
                        "type": "carpet"
                      }
                    ],
                    "choropleth": [
                      {
                        "colorbar": {
                          "outlinewidth": 0,
                          "ticks": ""
                        },
                        "type": "choropleth"
                      }
                    ],
                    "contour": [
                      {
                        "colorbar": {
                          "outlinewidth": 0,
                          "ticks": ""
                        },
                        "colorscale": [
                          [
                            0,
                            "#0d0887"
                          ],
                          [
                            0.1111111111111111,
                            "#46039f"
                          ],
                          [
                            0.2222222222222222,
                            "#7201a8"
                          ],
                          [
                            0.3333333333333333,
                            "#9c179e"
                          ],
                          [
                            0.4444444444444444,
                            "#bd3786"
                          ],
                          [
                            0.5555555555555556,
                            "#d8576b"
                          ],
                          [
                            0.6666666666666666,
                            "#ed7953"
                          ],
                          [
                            0.7777777777777778,
                            "#fb9f3a"
                          ],
                          [
                            0.8888888888888888,
                            "#fdca26"
                          ],
                          [
                            1,
                            "#f0f921"
                          ]
                        ],
                        "type": "contour"
                      }
                    ],
                    "contourcarpet": [
                      {
                        "colorbar": {
                          "outlinewidth": 0,
                          "ticks": ""
                        },
                        "type": "contourcarpet"
                      }
                    ],
                    "heatmap": [
                      {
                        "colorbar": {
                          "outlinewidth": 0,
                          "ticks": ""
                        },
                        "colorscale": [
                          [
                            0,
                            "#0d0887"
                          ],
                          [
                            0.1111111111111111,
                            "#46039f"
                          ],
                          [
                            0.2222222222222222,
                            "#7201a8"
                          ],
                          [
                            0.3333333333333333,
                            "#9c179e"
                          ],
                          [
                            0.4444444444444444,
                            "#bd3786"
                          ],
                          [
                            0.5555555555555556,
                            "#d8576b"
                          ],
                          [
                            0.6666666666666666,
                            "#ed7953"
                          ],
                          [
                            0.7777777777777778,
                            "#fb9f3a"
                          ],
                          [
                            0.8888888888888888,
                            "#fdca26"
                          ],
                          [
                            1,
                            "#f0f921"
                          ]
                        ],
                        "type": "heatmap"
                      }
                    ],
                    "heatmapgl": [
                      {
                        "colorbar": {
                          "outlinewidth": 0,
                          "ticks": ""
                        },
                        "colorscale": [
                          [
                            0,
                            "#0d0887"
                          ],
                          [
                            0.1111111111111111,
                            "#46039f"
                          ],
                          [
                            0.2222222222222222,
                            "#7201a8"
                          ],
                          [
                            0.3333333333333333,
                            "#9c179e"
                          ],
                          [
                            0.4444444444444444,
                            "#bd3786"
                          ],
                          [
                            0.5555555555555556,
                            "#d8576b"
                          ],
                          [
                            0.6666666666666666,
                            "#ed7953"
                          ],
                          [
                            0.7777777777777778,
                            "#fb9f3a"
                          ],
                          [
                            0.8888888888888888,
                            "#fdca26"
                          ],
                          [
                            1,
                            "#f0f921"
                          ]
                        ],
                        "type": "heatmapgl"
                      }
                    ],
                    "histogram": [
                      {
                        "marker": {
                          "pattern": {
                            "fillmode": "overlay",
                            "size": 10,
                            "solidity": 0.2
                          }
                        },
                        "type": "histogram"
                      }
                    ],
                    "histogram2d": [
                      {
                        "colorbar": {
                          "outlinewidth": 0,
                          "ticks": ""
                        },
                        "colorscale": [
                          [
                            0,
                            "#0d0887"
                          ],
                          [
                            0.1111111111111111,
                            "#46039f"
                          ],
                          [
                            0.2222222222222222,
                            "#7201a8"
                          ],
                          [
                            0.3333333333333333,
                            "#9c179e"
                          ],
                          [
                            0.4444444444444444,
                            "#bd3786"
                          ],
                          [
                            0.5555555555555556,
                            "#d8576b"
                          ],
                          [
                            0.6666666666666666,
                            "#ed7953"
                          ],
                          [
                            0.7777777777777778,
                            "#fb9f3a"
                          ],
                          [
                            0.8888888888888888,
                            "#fdca26"
                          ],
                          [
                            1,
                            "#f0f921"
                          ]
                        ],
                        "type": "histogram2d"
                      }
                    ],
                    "histogram2dcontour": [
                      {
                        "colorbar": {
                          "outlinewidth": 0,
                          "ticks": ""
                        },
                        "colorscale": [
                          [
                            0,
                            "#0d0887"
                          ],
                          [
                            0.1111111111111111,
                            "#46039f"
                          ],
                          [
                            0.2222222222222222,
                            "#7201a8"
                          ],
                          [
                            0.3333333333333333,
                            "#9c179e"
                          ],
                          [
                            0.4444444444444444,
                            "#bd3786"
                          ],
                          [
                            0.5555555555555556,
                            "#d8576b"
                          ],
                          [
                            0.6666666666666666,
                            "#ed7953"
                          ],
                          [
                            0.7777777777777778,
                            "#fb9f3a"
                          ],
                          [
                            0.8888888888888888,
                            "#fdca26"
                          ],
                          [
                            1,
                            "#f0f921"
                          ]
                        ],
                        "type": "histogram2dcontour"
                      }
                    ],
                    "mesh3d": [
                      {
                        "colorbar": {
                          "outlinewidth": 0,
                          "ticks": ""
                        },
                        "type": "mesh3d"
                      }
                    ],
                    "parcoords": [
                      {
                        "line": {
                          "colorbar": {
                            "outlinewidth": 0,
                            "ticks": ""
                          }
                        },
                        "type": "parcoords"
                      }
                    ],
                    "pie": [
                      {
                        "automargin": true,
                        "type": "pie"
                      }
                    ],
                    "scatter": [
                      {
                        "fillpattern": {
                          "fillmode": "overlay",
                          "size": 10,
                          "solidity": 0.2
                        },
                        "type": "scatter"
                      }
                    ],
                    "scatter3d": [
                      {
                        "line": {
                          "colorbar": {
                            "outlinewidth": 0,
                            "ticks": ""
                          }
                        },
                        "marker": {
                          "colorbar": {
                            "outlinewidth": 0,
                            "ticks": ""
                          }
                        },
                        "type": "scatter3d"
                      }
                    ],
                    "scattercarpet": [
                      {
                        "marker": {
                          "colorbar": {
                            "outlinewidth": 0,
                            "ticks": ""
                          }
                        },
                        "type": "scattercarpet"
                      }
                    ],
                    "scattergeo": [
                      {
                        "marker": {
                          "colorbar": {
                            "outlinewidth": 0,
                            "ticks": ""
                          }
                        },
                        "type": "scattergeo"
                      }
                    ],
                    "scattergl": [
                      {
                        "marker": {
                          "colorbar": {
                            "outlinewidth": 0,
                            "ticks": ""
                          }
                        },
                        "type": "scattergl"
                      }
                    ],
                    "scattermapbox": [
                      {
                        "marker": {
                          "colorbar": {
                            "outlinewidth": 0,
                            "ticks": ""
                          }
                        },
                        "type": "scattermapbox"
                      }
                    ],
                    "scatterpolar": [
                      {
                        "marker": {
                          "colorbar": {
                            "outlinewidth": 0,
                            "ticks": ""
                          }
                        },
                        "type": "scatterpolar"
                      }
                    ],
                    "scatterpolargl": [
                      {
                        "marker": {
                          "colorbar": {
                            "outlinewidth": 0,
                            "ticks": ""
                          }
                        },
                        "type": "scatterpolargl"
                      }
                    ],
                    "scatterternary": [
                      {
                        "marker": {
                          "colorbar": {
                            "outlinewidth": 0,
                            "ticks": ""
                          }
                        },
                        "type": "scatterternary"
                      }
                    ],
                    "surface": [
                      {
                        "colorbar": {
                          "outlinewidth": 0,
                          "ticks": ""
                        },
                        "colorscale": [
                          [
                            0,
                            "#0d0887"
                          ],
                          [
                            0.1111111111111111,
                            "#46039f"
                          ],
                          [
                            0.2222222222222222,
                            "#7201a8"
                          ],
                          [
                            0.3333333333333333,
                            "#9c179e"
                          ],
                          [
                            0.4444444444444444,
                            "#bd3786"
                          ],
                          [
                            0.5555555555555556,
                            "#d8576b"
                          ],
                          [
                            0.6666666666666666,
                            "#ed7953"
                          ],
                          [
                            0.7777777777777778,
                            "#fb9f3a"
                          ],
                          [
                            0.8888888888888888,
                            "#fdca26"
                          ],
                          [
                            1,
                            "#f0f921"
                          ]
                        ],
                        "type": "surface"
                      }
                    ],
                    "table": [
                      {
                        "cells": {
                          "fill": {
                            "color": "#EBF0F8"
                          },
                          "line": {
                            "color": "white"
                          }
                        },
                        "header": {
                          "fill": {
                            "color": "#C8D4E3"
                          },
                          "line": {
                            "color": "white"
                          }
                        },
                        "type": "table"
                      }
                    ]
                  },
                  "layout": {
                    "annotationdefaults": {
                      "arrowcolor": "#2a3f5f",
                      "arrowhead": 0,
                      "arrowwidth": 1
                    },
                    "autotypenumbers": "strict",
                    "coloraxis": {
                      "colorbar": {
                        "outlinewidth": 0,
                        "ticks": ""
                      }
                    },
                    "colorscale": {
                      "diverging": [
                        [
                          0,
                          "#8e0152"
                        ],
                        [
                          0.1,
                          "#c51b7d"
                        ],
                        [
                          0.2,
                          "#de77ae"
                        ],
                        [
                          0.3,
                          "#f1b6da"
                        ],
                        [
                          0.4,
                          "#fde0ef"
                        ],
                        [
                          0.5,
                          "#f7f7f7"
                        ],
                        [
                          0.6,
                          "#e6f5d0"
                        ],
                        [
                          0.7,
                          "#b8e186"
                        ],
                        [
                          0.8,
                          "#7fbc41"
                        ],
                        [
                          0.9,
                          "#4d9221"
                        ],
                        [
                          1,
                          "#276419"
                        ]
                      ],
                      "sequential": [
                        [
                          0,
                          "#0d0887"
                        ],
                        [
                          0.1111111111111111,
                          "#46039f"
                        ],
                        [
                          0.2222222222222222,
                          "#7201a8"
                        ],
                        [
                          0.3333333333333333,
                          "#9c179e"
                        ],
                        [
                          0.4444444444444444,
                          "#bd3786"
                        ],
                        [
                          0.5555555555555556,
                          "#d8576b"
                        ],
                        [
                          0.6666666666666666,
                          "#ed7953"
                        ],
                        [
                          0.7777777777777778,
                          "#fb9f3a"
                        ],
                        [
                          0.8888888888888888,
                          "#fdca26"
                        ],
                        [
                          1,
                          "#f0f921"
                        ]
                      ],
                      "sequentialminus": [
                        [
                          0,
                          "#0d0887"
                        ],
                        [
                          0.1111111111111111,
                          "#46039f"
                        ],
                        [
                          0.2222222222222222,
                          "#7201a8"
                        ],
                        [
                          0.3333333333333333,
                          "#9c179e"
                        ],
                        [
                          0.4444444444444444,
                          "#bd3786"
                        ],
                        [
                          0.5555555555555556,
                          "#d8576b"
                        ],
                        [
                          0.6666666666666666,
                          "#ed7953"
                        ],
                        [
                          0.7777777777777778,
                          "#fb9f3a"
                        ],
                        [
                          0.8888888888888888,
                          "#fdca26"
                        ],
                        [
                          1,
                          "#f0f921"
                        ]
                      ]
                    },
                    "colorway": [
                      "#636efa",
                      "#EF553B",
                      "#00cc96",
                      "#ab63fa",
                      "#FFA15A",
                      "#19d3f3",
                      "#FF6692",
                      "#B6E880",
                      "#FF97FF",
                      "#FECB52"
                    ],
                    "font": {
                      "color": "#2a3f5f"
                    },
                    "geo": {
                      "bgcolor": "white",
                      "lakecolor": "white",
                      "landcolor": "#E5ECF6",
                      "showlakes": true,
                      "showland": true,
                      "subunitcolor": "white"
                    },
                    "hoverlabel": {
                      "align": "left"
                    },
                    "hovermode": "closest",
                    "mapbox": {
                      "style": "light"
                    },
                    "paper_bgcolor": "white",
                    "plot_bgcolor": "#E5ECF6",
                    "polar": {
                      "angularaxis": {
                        "gridcolor": "white",
                        "linecolor": "white",
                        "ticks": ""
                      },
                      "bgcolor": "#E5ECF6",
                      "radialaxis": {
                        "gridcolor": "white",
                        "linecolor": "white",
                        "ticks": ""
                      }
                    },
                    "scene": {
                      "xaxis": {
                        "backgroundcolor": "#E5ECF6",
                        "gridcolor": "white",
                        "gridwidth": 2,
                        "linecolor": "white",
                        "showbackground": true,
                        "ticks": "",
                        "zerolinecolor": "white"
                      },
                      "yaxis": {
                        "backgroundcolor": "#E5ECF6",
                        "gridcolor": "white",
                        "gridwidth": 2,
                        "linecolor": "white",
                        "showbackground": true,
                        "ticks": "",
                        "zerolinecolor": "white"
                      },
                      "zaxis": {
                        "backgroundcolor": "#E5ECF6",
                        "gridcolor": "white",
                        "gridwidth": 2,
                        "linecolor": "white",
                        "showbackground": true,
                        "ticks": "",
                        "zerolinecolor": "white"
                      }
                    },
                    "shapedefaults": {
                      "line": {
                        "color": "#2a3f5f"
                      }
                    },
                    "ternary": {
                      "aaxis": {
                        "gridcolor": "white",
                        "linecolor": "white",
                        "ticks": ""
                      },
                      "baxis": {
                        "gridcolor": "white",
                        "linecolor": "white",
                        "ticks": ""
                      },
                      "bgcolor": "#E5ECF6",
                      "caxis": {
                        "gridcolor": "white",
                        "linecolor": "white",
                        "ticks": ""
                      }
                    },
                    "title": {
                      "x": 0.05
                    },
                    "xaxis": {
                      "automargin": true,
                      "gridcolor": "white",
                      "linecolor": "white",
                      "ticks": "",
                      "title": {
                        "standoff": 15
                      },
                      "zerolinecolor": "white",
                      "zerolinewidth": 2
                    },
                    "yaxis": {
                      "automargin": true,
                      "gridcolor": "white",
                      "linecolor": "white",
                      "ticks": "",
                      "title": {
                        "standoff": 15
                      },
                      "zerolinecolor": "white",
                      "zerolinewidth": 2
                    }
                  }
                },
                "title": {
                  "text": "Trend of symptoms"
                },
                "width": 1600,
                "xaxis": {
                  "title": {
                    "text": "Date-Hour"
                  }
                },
                "yaxis": {
                  "title": {
                    "text": "Symptoms"
                  }
                }
              }
            }
          },
          "metadata": {},
          "output_type": "display_data"
        }
      ],
      "source": [
        "import plotly.graph_objects as go\n",
        "\n",
        "def _(symptoms):\n",
        "    messages = Messages.loc['2011-05-17':].query('symptoms == True')\n",
        "\n",
        "    fig = go.Figure(layout=go.Layout(title='Trend of symptoms', legend_title_text='Symptoms', xaxis={'title': 'Date-Hour'}, yaxis={'title': 'Symptoms'}, width=1600, height=1000))\n",
        "\n",
        "    for symptom in Symptoms:\n",
        "        counts = messages.query(f'{symptom} == True').groupby(pd.Grouper(key='Created_at', freq='H')).size()\n",
        "        fig.add_trace(go.Scatter(x=counts.index, y=counts.values / counts.values.max(), mode='lines', name=symptom))\n",
        "\n",
        "    fig.show()\n",
        "\n",
        "_(Symptoms)"
      ]
    },
    {
      "cell_type": "markdown",
      "metadata": {},
      "source": [
        "Looking at the patterns for each symptom, it seems that there are groups of symptoms.\n",
        "\n",
        "Let's observe the groups that increase in frequency during the daytime on May 18th. To do this, by toggling the legend, four types of symptoms (pain, cough, nausea, vomit) that are less frequent on this day will be hidden. As a result, fever, chill, sweat, ache, fatigue, breath will remain. While fever becomes more serious after May 19th, the other symptoms are on a decreasing trend.\n",
        "\n",
        "From this analysis, we obtained two clusters of symptoms: {fever} and {chill, sweat, ache, fatigue, breath}. We will call them *Fever* and *Chill*:\n",
        "\n",
        "Now let's display the symptoms hidden earlier: pain, cough, nausea, and vomit. From this result, it seems that nausea starts to decrease from May 20th, but other symptoms are getting worse. We introduce two more symptom types {pain,cough,vomit} and {nausea} and name them Pain and Nausea, respectively:\n",
        "\n",
        "(Isn't it strange that the incidence of nausea is low, while vomiting is still high?  Also strange is that the trends of fever and chill are not aligned...)"
      ]
    },
    {
      "cell_type": "code",
      "execution_count": 166,
      "metadata": {},
      "outputs": [],
      "source": [
        "ST_Fever = ['fever']\n",
        "ST_Chill = 'chill, sweat, ache, fatigue, breath'.split(', ')\n",
        "ST_Pain = 'pain, cough,v omit'.split(', ')\n",
        "ST_Nausea = ['nausea']"
      ]
    },
    {
      "cell_type": "code",
      "execution_count": null,
      "metadata": {},
      "outputs": [],
      "source": []
    }
  ],
  "metadata": {
    "colab": {
      "private_outputs": true,
      "provenance": []
    },
    "kernelspec": {
      "display_name": "Python 3",
      "name": "python3"
    },
    "language_info": {
      "codemirror_mode": {
        "name": "ipython",
        "version": 3
      },
      "file_extension": ".py",
      "mimetype": "text/x-python",
      "name": "python",
      "nbconvert_exporter": "python",
      "pygments_lexer": "ipython3",
      "version": "3.11.9"
    }
  },
  "nbformat": 4,
  "nbformat_minor": 0
}
