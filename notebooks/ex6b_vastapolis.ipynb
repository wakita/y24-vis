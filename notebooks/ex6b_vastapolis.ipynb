{
 "cells": [
  {
   "cell_type": "markdown",
   "metadata": {},
   "source": [
    "# References\n",
    "\n",
    "- [`ipywidgets` List](https://ipywidgets.readthedocs.io/en/stable/examples/Widget%20List.html)\n",
    "\n",
    "- [Add custom interactivity with Jupyter Widgets](https://plotly.com/python/chart-events/)\n",
    "    - Plotly FigureWidget Overview\n",
    "    - Jupyter Lab with FigureWidget\n",
    "    - Interactive data analysis with FigureWidget ipywidgets\n",
    "    - Click events"
   ]
  },
  {
   "cell_type": "code",
   "execution_count": 2,
   "metadata": {},
   "outputs": [],
   "source": [
    "MAX_POSTS = 10000"
   ]
  },
  {
   "cell_type": "markdown",
   "metadata": {},
   "source": [
    "# Imports"
   ]
  },
  {
   "cell_type": "code",
   "execution_count": 3,
   "metadata": {},
   "outputs": [],
   "source": [
    "from datetime import datetime\n",
    "import io\n",
    "import math\n",
    "import re\n",
    "\n",
    "import numpy as np\n",
    "np.set_printoptions(precision=2)\n",
    "\n",
    "from sklearn.decomposition import PCA\n",
    "from sklearn.feature_extraction.text import TfidfVectorizer\n",
    "\n",
    "import pandas as pd\n",
    "pd.options.display.max_rows = 6\n",
    "pd.set_option('display.precision', 2)\n",
    "\n",
    "from ipywidgets import widgets\n",
    "from IPython.display import display, clear_output, HTML, Markdown\n",
    "def markdown(md): display(Markdown(md))\n",
    "\n",
    "import plotly.express as px\n",
    "import plotly.graph_objects as go\n",
    "\n",
    "import plotly.io as pio\n",
    "pio.templates.default = 'plotly_white'"
   ]
  },
  {
   "cell_type": "markdown",
   "metadata": {},
   "source": [
    "# Load Data"
   ]
  },
  {
   "cell_type": "code",
   "execution_count": 4,
   "metadata": {},
   "outputs": [],
   "source": [
    "try:\n",
    "    pd.read_csv('data/vast challenge 2011/Microblogs.csv')\n",
    "except FileNotFoundError:\n",
    "    VASTOPOLIS_URL = 'https://drive.google.com/file/d/1Y5xWPRKk8D_TNYmZ0ny4cQ83shGM5YqI/view?usp=sharing'\n",
    "    VASTOPOLIS_URL = 'https://drive.usercontent.google.com/download?id={}&export=download&authuser=0&confirm=t'.format(VASTOPOLIS_URL.split('/')[-2])\n",
    "\n",
    "    Posts = pd.read_csv(VASTOPOLIS_URL, encoding='latin', on_bad_lines='skip')\n",
    "\n",
    "# Convert, sort, and index the messages by the date/time of creation\n",
    "Posts.Created_at = pd.to_datetime(Posts.Created_at, format='%m/%d/%Y %H:%M', errors='coerce')\n",
    "Posts.dropna(inplace=True)  # Drop items that have N/A values\n",
    "Posts.sort_values(by=['Created_at', 'ID'], inplace=True)\n",
    "Posts.index = Posts.Created_at\n",
    "\n",
    "# Extract the latitude and longitude from the Location column\n",
    "Posts[['Latitude', 'Longitude']] = Posts.Location.str.split(' ', n=1, expand=True).astype('float')\n",
    "Posts.drop('Location', axis='columns', inplace=True)\n",
    "Posts.Longitude = -Posts.Longitude\n",
    "\n",
    "# Create a grid of cells and assign each message to a cell\n",
    "Bounds = dict(east=Posts.Longitude.max(), west=Posts.Longitude.min(), north=Posts.Latitude.max(), south=Posts.Latitude.min())\n",
    "\n",
    "N_C = 12\n",
    "N_R = int(N_C * (Bounds['north'] - Bounds['south']) / (Bounds['east'] - Bounds['west']))\n",
    "Posts['R'] = ((Posts.Latitude - Bounds['south']) / (Bounds['north'] - Bounds['south']) * N_R).astype('int').astype('str')\n",
    "Posts['C'] = ((Posts.Longitude - Bounds['west']) / (Bounds['east'] - Bounds['west']) * N_C).astype('int').map(lambda x: chr(ord('A') + x))\n",
    "\n",
    "# Symptoms\n",
    "\n",
    "Symptoms = 'fever chill sweat ache fatigue breath pain cough vomit nausea'.split(' ')\n",
    "\n",
    "for symptom in Symptoms:\n",
    "    Posts[symptom] = Posts.text.str.contains(symptom)\n",
    "Posts['symptoms'] = Posts[Symptoms].any(axis='columns')\n",
    "Posts['symptom'] = 'none'\n",
    "for symptom in Symptoms:\n",
    "    Posts.loc[Posts[symptom], 'symptom'] = symptom"
   ]
  },
  {
   "cell_type": "markdown",
   "metadata": {},
   "source": [
    "# Functions"
   ]
  },
  {
   "cell_type": "markdown",
   "metadata": {},
   "source": [
    "## `query_posts`"
   ]
  },
  {
   "cell_type": "code",
   "execution_count": 5,
   "metadata": {},
   "outputs": [],
   "source": [
    "def query_posts(posts=Posts, start_date=None, end_date=None, area=None, symptoms=None, keywords=None, people=None):\n",
    "    if start_date is not None:\n",
    "        posts = posts.loc[start_date:end_date] if end_date is not None else posts.loc[start_date]\n",
    "\n",
    "    q_area = None\n",
    "    try:\n",
    "        c1, r1 = re.match(r'([A-M])(\\d+)', area.upper()).groups()\n",
    "        q_area = f'(\"{r1}\" == R) and (\"{c1}\" == C)'\n",
    "    except: pass\n",
    "    try:\n",
    "        c1, r1, c2, r2 = re.match(r'([A-M])(\\d+):([A-M])(\\d+)', area.upper()).groups()\n",
    "        q_area = f'(\"{r1}\" <= R < \"{r2}\") and (\"{c1}\" <= C < \"{c2}\")'\n",
    "    except: pass\n",
    "\n",
    "    q_symptoms = None if len(symptoms) == 0 else f'({\" | \".join(symptoms)})'\n",
    "\n",
    "    q = list(filter(None, [q_area, q_symptoms]))\n",
    "    if len(q) > 0:\n",
    "        # print(q)\n",
    "        posts = posts.query(' & '.join(q))\n",
    "\n",
    "    if type(keywords) == list and len(keywords) > 0:\n",
    "        pattern = re.compile('|'.join(map(re.escape, keywords)))\n",
    "        # print(pattern)\n",
    "        posts = posts[posts.text.str.contains(pattern)]\n",
    "    \n",
    "    if people is not None:    posts = posts[posts.ID.isin(people)]\n",
    "\n",
    "    return posts.copy()"
   ]
  },
  {
   "cell_type": "markdown",
   "metadata": {},
   "source": [
    "## `label_posts`"
   ]
  },
  {
   "cell_type": "code",
   "execution_count": 6,
   "metadata": {},
   "outputs": [],
   "source": [
    "def label_posts_with_keywords(posts, keywords):\n",
    "    posts['keyword'] = ''\n",
    "    for kwd in keywords:\n",
    "        posts.loc[posts.text.str.contains(kwd), 'keyword'] = kwd\n",
    "    return posts"
   ]
  },
  {
   "cell_type": "markdown",
   "metadata": {},
   "source": [
    "# TF-IDF"
   ]
  },
  {
   "cell_type": "code",
   "execution_count": 7,
   "metadata": {},
   "outputs": [],
   "source": [
    "Vectorizer = TfidfVectorizer(min_df=10, max_df=0.5, stop_words='english')\n",
    "Vectorizer.fit(Posts.text.values)\n",
    "Words = Vectorizer.get_feature_names_out()    # The words in the vocabulary\n",
    "\n",
    "def tfidf(documents):\n",
    "    return Vectorizer.transform(documents)\n",
    "\n",
    "CorpusNormalDays = ' '.join(Posts.loc[:'2011-05-15'].text.values)\n",
    "normal_tfidf = tfidf([CorpusNormalDays])"
   ]
  },
  {
   "cell_type": "markdown",
   "metadata": {},
   "source": [
    "## `topics`"
   ]
  },
  {
   "cell_type": "code",
   "execution_count": 8,
   "metadata": {},
   "outputs": [],
   "source": [
    "def topics(posts, title=None, format='txt'):\n",
    "    tfidf_values = tfidf([' '.join(posts.text.values)])\n",
    "    notable_words = [(tfidf_values[0, i], Words[i]) for i in tfidf_values.nonzero()[1]\n",
    "                    if tfidf_values[0, i] - normal_tfidf[0, i] > 0.01]\n",
    "    notable_words = sorted(notable_words, reverse=True)\n",
    "\n",
    "    if format == 'html':\n",
    "        title = f'<h3>{title} ({len(posts)} messages)</h3>\\n\\n' if title else ''\n",
    "        html = '<blockquote>' + ' '.join([f'<span style=\"font-size: {max(int(math.log(v * 200) * 6), 10)}px\">{word}</span>' for v, word in notable_words]) + '</blockquote>'\n",
    "        return title + html\n",
    "    \n",
    "    summary = ' '.join([word for v, word in notable_words])\n",
    "    return summary if len(summary) < 200 else summary[:200]"
   ]
  },
  {
   "cell_type": "markdown",
   "metadata": {},
   "source": [
    "## `sample_posts`"
   ]
  },
  {
   "cell_type": "code",
   "execution_count": 9,
   "metadata": {},
   "outputs": [],
   "source": [
    "def sample_posts(posts, N=15):\n",
    "    if len(posts) > N:\n",
    "        posts = posts.sample(N).sort_index()\n",
    "    html = '<ul>' + '\\n\\n'.join([f'<li>{t}: {text.text}</li>' for t, text in posts.iterrows()]) + '</ul>'\n",
    "    return html"
   ]
  },
  {
   "cell_type": "markdown",
   "metadata": {},
   "source": [
    "# Visualization"
   ]
  },
  {
   "cell_type": "markdown",
   "metadata": {},
   "source": [
    "## `create_map`"
   ]
  },
  {
   "cell_type": "code",
   "execution_count": 10,
   "metadata": {},
   "outputs": [],
   "source": [
    "WIDTH = 1600  # Adjust the width of the map to fit your display size\n",
    "HEIGHT = int(WIDTH * (Bounds['north'] - Bounds['south']) / (Bounds['east'] - Bounds['west']))\n",
    "IMAGE_URL = 'https://wakita.github.io/smartnova/assets/images/Vastopolis_Map.png'\n",
    "\n",
    "MapTicktextX = [chr(ord('A') + n) for n in range(N_C + 1)]\n",
    "MapTicktextY = list(range(N_R+1))\n",
    "MapTickvalsX = np.linspace(Bounds['west'], Bounds['east'], N_C + 1).tolist()\n",
    "MapTickvalsY = np.linspace(Bounds['south'], Bounds['north'], N_R + 1).tolist()\n",
    "\n",
    "def create_map(posts, **extraargs):\n",
    "    fig = px.scatter(posts, x='Longitude', y='Latitude', width=WIDTH, height=HEIGHT, hover_name='ID', hover_data=['Created_at', 'R', 'C', 'text'], **extraargs)\n",
    "    fig.update_traces(marker={'size': 4})\n",
    "\n",
    "    fig.add_layout_image(\n",
    "            dict(\n",
    "                source=IMAGE_URL,\n",
    "                xref='x', yref='y', x=Bounds['west'], y=Bounds['north'],\n",
    "                sizex=Bounds['east'] - Bounds['west'], sizey=Bounds['north'] - Bounds['south'],  sizing='stretch',\n",
    "                layer='below', opacity=0.5))\n",
    "\n",
    "    fig.update_xaxes(range=[Bounds['west'], Bounds['east']],\n",
    "                     tickmode='array', ticktext=MapTicktextX, tickvals=MapTickvalsX)\n",
    "    fig.update_yaxes(scaleanchor='x', scaleratio = 1,\n",
    "                     range=[Bounds['south'], Bounds['north']],\n",
    "                     tickmode='array', ticktext=MapTicktextY, tickvals=MapTickvalsY)\n",
    "\n",
    "    return fig"
   ]
  },
  {
   "cell_type": "markdown",
   "metadata": {},
   "source": [
    "## `trend`"
   ]
  },
  {
   "cell_type": "code",
   "execution_count": 11,
   "metadata": {},
   "outputs": [],
   "source": [
    "def trend(posts):\n",
    "    date = posts.iloc[0].Created_at.strftime('%Y-%m-%d')\n",
    "\n",
    "    def topics(posts):\n",
    "        tfidf_values = tfidf([' '.join(posts.text.values)])\n",
    "        notable_words = [(tfidf_values[0, i], Words[i]) for i in tfidf_values.nonzero()[1]\n",
    "                        if tfidf_values[0, i] - normal_tfidf[0, i] > 0.01]\n",
    "        notable_words = sorted(notable_words, reverse=True)\n",
    "        summary = ' '.join([word for v, word in notable_words])\n",
    "        return summary if len(summary) < 200 else summary[:200]\n",
    "\n",
    "    counts = posts.Created_at.dt.hour.value_counts().sort_index()\n",
    "    Trend = pd.DataFrame(dict(hour=counts.index, count=counts.values,\n",
    "                              topic=[topics(posts.loc[f'{date} {hr-1}:00':f'{date} {hr}:00'])\n",
    "                                     for hr in counts.index]))\n",
    "    #display(Trend)\n",
    "    fig = px.bar(Trend, x='hour', y='count', labels={'x': 'Hour', 'y': '#Posts'}, custom_data=['topic'])\n",
    "    fig.update_traces(hovertemplate='%{customdata[0]}')\n",
    "    return fig"
   ]
  },
  {
   "cell_type": "markdown",
   "metadata": {},
   "source": [
    "# User Interface"
   ]
  },
  {
   "cell_type": "code",
   "execution_count": 12,
   "metadata": {},
   "outputs": [],
   "source": [
    "Dates = Posts.Created_at.dt.strftime('%m/%d').unique()\n",
    "DatesSelector = widgets.SelectionRangeSlider(options=Dates, index=(0, len(Dates)-1), continuous_update=False, description='Date:', orientation='horizontal')\n",
    "SymptomsSelector = widgets.SelectMultiple(options=Symptoms, value=[], description='Symptoms:', disabled=False)\n",
    "AreaSelector = widgets.Text(value='', continuous_update=False, description='Area:', disabled=False, placeholder='a3 or a3:b5')\n",
    "KeywordsInput = widgets.Text(value='', continuous_update=False, description='Keywords:', disabled=False)\n",
    "PostersInput = widgets.Checkbox(value=False, description='Posters', disabled=False, tooltip='Focus on the posters of the saved queries')\n",
    "\n",
    "InitialPosts = Posts.sample(MAX_POSTS).sort_index()\n",
    "\n",
    "g_map = go.FigureWidget(create_map(InitialPosts, color='symptom'))\n",
    "\n",
    "debug_output  = widgets.Output(layout={'border': '1px solid black'})\n",
    "\n",
    "topics_output = widgets.HTML(layout={'border': '1px solid black'})\n",
    "\n",
    "g_trend = go.FigureWidget(trend(InitialPosts))\n",
    "\n",
    "Hours = [9, 17]\n",
    "post_texts_header = '<h3>Sampled texts for the posts on the first day of the selection</h3><hr>'\n",
    "post_texts = widgets.HTML(value=post_texts_header, layout={'border': '1px solid black'})\n",
    "#HoursSelector = widgets.IntRangeSlider(value=Hours, min=0, max=23, step=1, description='Hour:', orientation='horizontal')\n",
    "\n",
    "dashboard = widgets.VBox([DatesSelector, AreaSelector, SymptomsSelector, KeywordsInput, g_map, topics_output, g_trend, post_texts, debug_output])\n",
    "with debug_output:\n",
    "    print('Debug output:\\n')"
   ]
  },
  {
   "cell_type": "markdown",
   "metadata": {},
   "source": [
    "## Actions"
   ]
  },
  {
   "cell_type": "code",
   "execution_count": 13,
   "metadata": {},
   "outputs": [],
   "source": [
    "query = { 'start_date': '2011-04-30', 'end_date': '2011-05-20', 'area': '', 'symptoms': [], 'keywords': [] }\n",
    "\n",
    "def update_query(change):\n",
    "    if change.owner == DatesSelector:\n",
    "        query['start_date'] = datetime.strptime('2011/' + DatesSelector.value[0], '%Y/%m/%d').strftime('%Y-%m-%d')\n",
    "        query['end_date']   = datetime.strptime('2011/' + DatesSelector.value[1], '%Y/%m/%d').strftime('%Y-%m-%d')\n",
    "        Hours = [9, 17]\n",
    "\n",
    "    if change.owner == AreaSelector:     query['area']     = AreaSelector.value\n",
    "    if change.owner == SymptomsSelector: query['symptoms'] = list(SymptomsSelector.value)\n",
    "    if change.owner == KeywordsInput:    query['keywords'] = KeywordsInput.value.split(' ')\n",
    "\n",
    "    with debug_output:\n",
    "        clear_output()\n",
    "        display(query)\n",
    "        posts = query_posts(**query)\n",
    "        if len(posts) > MAX_POSTS: posts = posts.sample(MAX_POSTS).sort_index()\n",
    "        \n",
    "        topics_output.value = topics(posts, title='Topic keywords of the selection', format='html')\n",
    "        post_texts.value = post_texts_header + sample_posts(posts)\n",
    "        \n",
    "        n_map = create_map(posts, color='symptom')\n",
    "        n_trend = trend(posts)\n",
    "        with g_map.batch_update():\n",
    "            for i in range(len(n_map.data)):\n",
    "                for k in 'x y hovertext customdata'.split(): g_map.data[i][k] = n_map.data[i][k]\n",
    "            for i in range(len(n_map.data), len(g_map.data)):\n",
    "                for k in 'x y hovertext customdata'.split(): g_map.data[i][k] = []\n",
    "            for k in 'x y customdata'.split():               g_trend.data[0][k] = n_trend.data[0][k]\n",
    "\n",
    "DatesSelector.observe   (update_query, names='value')\n",
    "AreaSelector.observe    (update_query, names='value')\n",
    "SymptomsSelector.observe(update_query, names='value')\n",
    "KeywordsInput.observe   (update_query, names='value')\n",
    "\n",
    "# def update_hours(change):\n",
    "#     if change.owner == HoursSelector:\n",
    "#         Hours = HoursSelector.value\n",
    "\n",
    "# HoursSelector.observe(update_query, names='value')\n",
    "\n",
    "from traitlets.utils.bunch import Bunch\n",
    "update_query(Bunch(owner=None))"
   ]
  },
  {
   "cell_type": "code",
   "execution_count": 14,
   "metadata": {},
   "outputs": [
    {
     "data": {
      "application/vnd.jupyter.widget-view+json": {
       "model_id": "83c003707ef047aeb8677cd1797842df",
       "version_major": 2,
       "version_minor": 0
      },
      "text/plain": [
       "VBox(children=(SelectionRangeSlider(continuous_update=False, description='Date:', index=(0, 20), options=('04/…"
      ]
     },
     "execution_count": 14,
     "metadata": {},
     "output_type": "execute_result"
    }
   ],
   "source": [
    "dashboard"
   ]
  },
  {
   "cell_type": "code",
   "execution_count": 18,
   "metadata": {},
   "outputs": [
    {
     "data": {
      "text/plain": [
       "(Scattergl({\n",
       "     'customdata': array([[Timestamp('2011-05-17 01:38:00'), '0', 'A',\n",
       "                           'I wish Marisa Miller was my girlfriend.'],\n",
       "                          [Timestamp('2011-05-17 01:51:00'), '0', 'A',\n",
       "                           'Friendships Day is just one of those days where people choose to express what they feel about their friends throughout the year.......Ch'],\n",
       "                          [Timestamp('2011-05-17 03:12:00'), '0', 'A', \"I'm full smoke\"],\n",
       "                          ...,\n",
       "                          [Timestamp('2011-05-17 20:58:00'), '0', 'A',\n",
       "                           'My friend felt  the ground shake hope noone got hurt'],\n",
       "                          [Timestamp('2011-05-17 22:33:00'), '0', 'A',\n",
       "                           'The best enemy is a friend.'],\n",
       "                          [Timestamp('2011-05-17 23:46:00'), '0', 'A',\n",
       "                           \"Margaret's boyfriend is makig her a samitch. Whiiiiiiiipppppeeeeeedd.\"]],\n",
       "                         dtype=object),\n",
       "     'hovertemplate': ('<b>%{hovertext}</b><br><br>sym' ... '{customdata[3]}<extra></extra>'),\n",
       "     'hovertext': array([173316.,  52370., 164065., ..., 147771.,  66126., 155466.]),\n",
       "     'legendgroup': 'none',\n",
       "     'marker': {'color': '#636efa', 'size': 4, 'symbol': 'circle'},\n",
       "     'mode': 'markers',\n",
       "     'name': 'none',\n",
       "     'showlegend': True,\n",
       "     'uid': '1451e40b-8467-48a5-8c11-958ab321a515',\n",
       "     'x': array([-93.54, -93.55, -93.55, ..., -93.55, -93.55, -93.54]),\n",
       "     'xaxis': 'x',\n",
       "     'y': array([42.19, 42.17, 42.17, ..., 42.18, 42.16, 42.19]),\n",
       "     'yaxis': 'y'\n",
       " }),\n",
       " Scattergl({\n",
       "     'customdata': array([[Timestamp('2011-05-17 09:03:00'), '0', 'A',\n",
       "                           'gonna be breathing in tons of dust... My friend heard from a friend an explosion'],\n",
       "                          [Timestamp('2011-05-17 09:16:00'), '0', 'A',\n",
       "                           'I saw Smog town had an explosion gonna be breathing in tons of dust...'],\n",
       "                          [Timestamp('2011-05-17 09:30:00'), '0', 'A',\n",
       "                           'My friend felt an explosion gonna be breathing in tons of dust...'],\n",
       "                          ...,\n",
       "                          [Timestamp('2011-05-17 20:26:00'), '0', 'A',\n",
       "                           'My friend saw that there is a huge smoke cloud in Smog Town gonna be breathing in tons of dust...'],\n",
       "                          [Timestamp('2011-05-17 20:39:00'), '0', 'A',\n",
       "                           'gonna be breathing in tons of dust... I felt an explosion'],\n",
       "                          [Timestamp('2011-05-17 20:55:00'), '0', 'A',\n",
       "                           'My friend heard  the ground shake gonna be breathing in tons of dust...']],\n",
       "                         dtype=object),\n",
       "     'hovertemplate': ('<b>%{hovertext}</b><br><br>sym' ... '{customdata[3]}<extra></extra>'),\n",
       "     'hovertext': array([159979.,  61615.,  26842., 135107., 165093., 157370., 142066.,  31938.,\n",
       "                         129551., 177456., 125605., 108109., 141440., 170515.,  23696.,  21986.,\n",
       "                         118988., 169683., 171010.,   1629., 137902.,  39988.,  29418.,  61404.,\n",
       "                         171861.,   8688.,  66147.,  20885.,  26456.,  83969., 171765., 118730.,\n",
       "                          37677., 149838.,  73071., 115333., 124331., 170824.,  49385.,  43419.,\n",
       "                          34478.,  11538., 119056., 148510.,  44687., 176831.,  94258., 175397.,\n",
       "                         178938., 130448., 148000.,   6081.]),\n",
       "     'legendgroup': 'ache',\n",
       "     'marker': {'color': '#EF553B', 'size': 4, 'symbol': 'circle'},\n",
       "     'mode': 'markers',\n",
       "     'name': 'ache',\n",
       "     'showlegend': True,\n",
       "     'uid': 'e7b2f15b-4971-4002-97fc-b06f41883dbe',\n",
       "     'x': array([-93.55, -93.54, -93.55, -93.55, -93.55, -93.54, -93.55, -93.55, -93.55,\n",
       "                 -93.55, -93.55, -93.55, -93.55, -93.55, -93.55, -93.55, -93.55, -93.55,\n",
       "                 -93.55, -93.55, -93.55, -93.54, -93.55, -93.55, -93.55, -93.55, -93.55,\n",
       "                 -93.55, -93.55, -93.55, -93.55, -93.55, -93.54, -93.56, -93.55, -93.55,\n",
       "                 -93.55, -93.54, -93.55, -93.55, -93.54, -93.55, -93.55, -93.54, -93.55,\n",
       "                 -93.54, -93.55, -93.55, -93.55, -93.55, -93.55, -93.55]),\n",
       "     'xaxis': 'x',\n",
       "     'y': array([42.18, 42.17, 42.17, 42.18, 42.17, 42.17, 42.17, 42.17, 42.17, 42.18,\n",
       "                 42.19, 42.18, 42.18, 42.17, 42.17, 42.17, 42.17, 42.18, 42.19, 42.18,\n",
       "                 42.17, 42.17, 42.17, 42.18, 42.17, 42.17, 42.18, 42.18, 42.18, 42.17,\n",
       "                 42.18, 42.17, 42.19, 42.18, 42.19, 42.18, 42.18, 42.18, 42.17, 42.17,\n",
       "                 42.17, 42.17, 42.17, 42.18, 42.17, 42.17, 42.17, 42.18, 42.18, 42.17,\n",
       "                 42.17, 42.17]),\n",
       "     'yaxis': 'y'\n",
       " }),\n",
       " Scattergl({\n",
       "     'customdata': [],\n",
       "     'hovertemplate': ('<b>%{hovertext}</b><br><br>sym' ... '{customdata[3]}<extra></extra>'),\n",
       "     'hovertext': [],\n",
       "     'legendgroup': 'sweat',\n",
       "     'marker': {'color': '#00cc96', 'size': 4, 'symbol': 'circle'},\n",
       "     'mode': 'markers',\n",
       "     'name': 'sweat',\n",
       "     'showlegend': True,\n",
       "     'uid': 'f3a0f642-630f-4229-9355-a3b0cb009bc2',\n",
       "     'x': [],\n",
       "     'xaxis': 'x',\n",
       "     'y': [],\n",
       "     'yaxis': 'y'\n",
       " }),\n",
       " Scattergl({\n",
       "     'customdata': [],\n",
       "     'hovertemplate': ('<b>%{hovertext}</b><br><br>sym' ... '{customdata[3]}<extra></extra>'),\n",
       "     'hovertext': [],\n",
       "     'legendgroup': 'fever',\n",
       "     'marker': {'color': '#ab63fa', 'size': 4, 'symbol': 'circle'},\n",
       "     'mode': 'markers',\n",
       "     'name': 'fever',\n",
       "     'showlegend': True,\n",
       "     'uid': 'bb27a638-7e8d-4c57-bbf4-b26c72ea26c5',\n",
       "     'x': [],\n",
       "     'xaxis': 'x',\n",
       "     'y': [],\n",
       "     'yaxis': 'y'\n",
       " }),\n",
       " Scattergl({\n",
       "     'customdata': [],\n",
       "     'hovertemplate': ('<b>%{hovertext}</b><br><br>sym' ... '{customdata[3]}<extra></extra>'),\n",
       "     'hovertext': [],\n",
       "     'legendgroup': 'pain',\n",
       "     'marker': {'color': '#FFA15A', 'size': 4, 'symbol': 'circle'},\n",
       "     'mode': 'markers',\n",
       "     'name': 'pain',\n",
       "     'showlegend': True,\n",
       "     'uid': 'a0c1b2f7-8b2a-4966-8c04-54605bc71927',\n",
       "     'x': [],\n",
       "     'xaxis': 'x',\n",
       "     'y': [],\n",
       "     'yaxis': 'y'\n",
       " }),\n",
       " Scattergl({\n",
       "     'customdata': [],\n",
       "     'hovertemplate': ('<b>%{hovertext}</b><br><br>sym' ... '{customdata[3]}<extra></extra>'),\n",
       "     'hovertext': [],\n",
       "     'legendgroup': 'breath',\n",
       "     'marker': {'color': '#19d3f3', 'size': 4, 'symbol': 'circle'},\n",
       "     'mode': 'markers',\n",
       "     'name': 'breath',\n",
       "     'showlegend': True,\n",
       "     'uid': '6f3ab52d-8950-47b1-a69f-06869dd933c3',\n",
       "     'x': [],\n",
       "     'xaxis': 'x',\n",
       "     'y': [],\n",
       "     'yaxis': 'y'\n",
       " }),\n",
       " Scattergl({\n",
       "     'customdata': [],\n",
       "     'hovertemplate': ('<b>%{hovertext}</b><br><br>sym' ... '{customdata[3]}<extra></extra>'),\n",
       "     'hovertext': [],\n",
       "     'legendgroup': 'cough',\n",
       "     'marker': {'color': '#FF6692', 'size': 4, 'symbol': 'circle'},\n",
       "     'mode': 'markers',\n",
       "     'name': 'cough',\n",
       "     'showlegend': True,\n",
       "     'uid': '17e222bd-2754-416c-95e5-cefde1043a60',\n",
       "     'x': [],\n",
       "     'xaxis': 'x',\n",
       "     'y': [],\n",
       "     'yaxis': 'y'\n",
       " }),\n",
       " Scattergl({\n",
       "     'customdata': [],\n",
       "     'hovertemplate': ('<b>%{hovertext}</b><br><br>sym' ... '{customdata[3]}<extra></extra>'),\n",
       "     'hovertext': [],\n",
       "     'legendgroup': 'chill',\n",
       "     'marker': {'color': '#B6E880', 'size': 4, 'symbol': 'circle'},\n",
       "     'mode': 'markers',\n",
       "     'name': 'chill',\n",
       "     'showlegend': True,\n",
       "     'uid': 'aba374e1-3083-4d38-b2aa-4aa39b23aa2d',\n",
       "     'x': [],\n",
       "     'xaxis': 'x',\n",
       "     'y': [],\n",
       "     'yaxis': 'y'\n",
       " }),\n",
       " Scattergl({\n",
       "     'customdata': [],\n",
       "     'hovertemplate': ('<b>%{hovertext}</b><br><br>sym' ... '{customdata[3]}<extra></extra>'),\n",
       "     'hovertext': [],\n",
       "     'legendgroup': 'fatigue',\n",
       "     'marker': {'color': '#FF97FF', 'size': 4, 'symbol': 'circle'},\n",
       "     'mode': 'markers',\n",
       "     'name': 'fatigue',\n",
       "     'showlegend': True,\n",
       "     'uid': 'bedae8f7-50cb-4ab5-96f7-5bb0927fa09b',\n",
       "     'x': [],\n",
       "     'xaxis': 'x',\n",
       "     'y': [],\n",
       "     'yaxis': 'y'\n",
       " }),\n",
       " Scattergl({\n",
       "     'customdata': [],\n",
       "     'hovertemplate': ('<b>%{hovertext}</b><br><br>sym' ... '{customdata[3]}<extra></extra>'),\n",
       "     'hovertext': [],\n",
       "     'legendgroup': 'nausea',\n",
       "     'marker': {'color': '#FECB52', 'size': 4, 'symbol': 'circle'},\n",
       "     'mode': 'markers',\n",
       "     'name': 'nausea',\n",
       "     'showlegend': True,\n",
       "     'uid': 'eb17ddd5-6281-4bc7-bc9d-076007f83d55',\n",
       "     'x': [],\n",
       "     'xaxis': 'x',\n",
       "     'y': [],\n",
       "     'yaxis': 'y'\n",
       " }),\n",
       " Scattergl({\n",
       "     'customdata': [],\n",
       "     'hovertemplate': ('<b>%{hovertext}</b><br><br>sym' ... '{customdata[3]}<extra></extra>'),\n",
       "     'hovertext': [],\n",
       "     'legendgroup': 'vomit',\n",
       "     'marker': {'color': '#636efa', 'size': 4, 'symbol': 'circle'},\n",
       "     'mode': 'markers',\n",
       "     'name': 'vomit',\n",
       "     'showlegend': True,\n",
       "     'uid': 'ad6a7b58-10ad-405f-b4cf-30fa8ad89f02',\n",
       "     'x': [],\n",
       "     'xaxis': 'x',\n",
       "     'y': [],\n",
       "     'yaxis': 'y'\n",
       " }))"
      ]
     },
     "execution_count": 18,
     "metadata": {},
     "output_type": "execute_result"
    }
   ],
   "source": [
    "g_map.data"
   ]
  },
  {
   "cell_type": "code",
   "execution_count": null,
   "metadata": {},
   "outputs": [],
   "source": []
  }
 ],
 "metadata": {
  "kernelspec": {
   "display_name": "vis23",
   "language": "python",
   "name": "python3"
  },
  "language_info": {
   "codemirror_mode": {
    "name": "ipython",
    "version": 3
   },
   "file_extension": ".py",
   "mimetype": "text/x-python",
   "name": "python",
   "nbconvert_exporter": "python",
   "pygments_lexer": "ipython3",
   "version": "3.9.6"
  }
 },
 "nbformat": 4,
 "nbformat_minor": 2
}
