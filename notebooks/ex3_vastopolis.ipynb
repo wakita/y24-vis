{
  "cells": [
    {
      "cell_type": "code",
      "execution_count": null,
      "metadata": {
        "id": "EQMbo0j9UI_y"
      },
      "outputs": [],
      "source": [
        "import re\n",
        "\n",
        "import pandas as pd\n",
        "pd.options.display.max_rows = 6\n",
        "pd.set_option('display.precision', 2)\n",
        "\n",
        "from IPython.display import display, Markdown\n",
        "\n",
        "import plotly.express as px\n",
        "import plotly.io as pio\n",
        "pio.templates.default = 'plotly_white'"
      ]
    },
    {
      "cell_type": "code",
      "execution_count": null,
      "metadata": {
        "id": "r4F6WyRvOG7-"
      },
      "outputs": [],
      "source": [
        "try:\n",
        "    pd.read_csv('data/vast challenge 2011/Microblogs.csv')\n",
        "except FileNotFoundError:\n",
        "    VASTOPOLIS_URL = 'https://drive.google.com/file/d/1Y5xWPRKk8D_TNYmZ0ny4cQ83shGM5YqI/view?usp=sharing'\n",
        "    VASTOPOLIS_URL = 'https://drive.usercontent.google.com/download?id={}&export=download&authuser=0&confirm=t'.format(VASTOPOLIS_URL.split('/')[-2])\n",
        "\n",
        "    Messages = pd.read_csv(VASTOPOLIS_URL, encoding='latin', on_bad_lines='skip')\n",
        "\n",
        "Messages.Created_at = pd.to_datetime(Messages.Created_at, format='%m/%d/%Y %H:%M', errors='coerce')\n",
        "\n",
        "Messages.dropna(inplace=True)  # Created_at でエラーを生じるデータを捨てる\n",
        "Messages.sort_values(by=['Created_at', 'ID'], inplace=True)\n",
        "\n",
        "Messages[['latitude', 'longitude']] = Messages.Location.str.split(' ', n=1, expand=True).astype('float')\n",
        "Messages.drop('Location', axis='columns', inplace=True)\n",
        "Messages.longitude = -Messages.longitude\n",
        "\n",
        "# Indexing the messages by the date/time of creation\n",
        "Messages.index = Messages.Created_at\n",
        "\n",
        "Messages"
      ]
    },
    {
      "cell_type": "markdown",
      "metadata": {},
      "source": [
        "# Symptom-related Message Counts"
      ]
    },
    {
      "cell_type": "code",
      "execution_count": null,
      "metadata": {},
      "outputs": [],
      "source": [
        "Symptoms = ['fever', 'chill', 'sweat', 'ache', 'pain', 'fatigue', 'cough', 'breath', 'nausea', 'vomit']\n",
        "\n",
        "for symptom in Symptoms:\n",
        "    Messages[symptom] = Messages.text.str.contains(symptom)\n",
        "Messages['symptoms'] = Messages[Symptoms].any(axis='columns')\n",
        "Messages"
      ]
    },
    {
      "cell_type": "code",
      "execution_count": null,
      "metadata": {},
      "outputs": [],
      "source": [
        "ST_Fever = ['fever']\n",
        "ST_Chill = 'chill, sweat, ache, fatigue, breath'.split(', ')\n",
        "ST_Pain = 'pain, cough,v omit'.split(', ')\n",
        "ST_Nausea = ['nausea']"
      ]
    },
    {
      "cell_type": "code",
      "execution_count": null,
      "metadata": {},
      "outputs": [],
      "source": [
        "import plotly.graph_objects as go\n",
        "\n",
        "def symptom_trend(symptoms, startdate='2011-05-15'):\n",
        "    messages = Messages.loc[startdate:].query('symptoms == True')\n",
        "\n",
        "    fig = go.Figure(layout=go.Layout(title='Trend of symptoms', legend_title_text='Symptoms', xaxis={'title': 'Date-Hour'}, yaxis={'title': 'Symptoms'}, width=1600, height=1000))\n",
        "\n",
        "    for symptom in symptoms:\n",
        "        counts = messages.query(f'{symptom} == True').groupby(pd.Grouper(key='Created_at', freq='h')).size()\n",
        "        fig.add_trace(go.Scatter(x=counts.index, y=counts.values / counts.values.max(), mode='lines', name=symptom))\n",
        "\n",
        "    fig.show()\n",
        "\n",
        "symptom_trend(Symptoms)"
      ]
    },
    {
      "cell_type": "markdown",
      "metadata": {},
      "source": [
        "The first spike of fever, pain, ache is found on May 18.  However in comparison with previous days the counts of pain and ache are not that noticeable.\n",
        "\n",
        "Fever and cough seem to be the right words to search for the first signs of the outbreak."
      ]
    },
    {
      "cell_type": "code",
      "execution_count": null,
      "metadata": {},
      "outputs": [],
      "source": [
        "symptom_trend(['fever', 'cough'], startdate='2011-05-17')"
      ]
    },
    {
      "cell_type": "markdown",
      "metadata": {},
      "source": [
        "# Analysis of the Geographic Distribution"
      ]
    },
    {
      "cell_type": "code",
      "execution_count": null,
      "metadata": {},
      "outputs": [],
      "source": [
        "Messages"
      ]
    },
    {
      "cell_type": "code",
      "execution_count": null,
      "metadata": {},
      "outputs": [],
      "source": [
        "FeverCough = Messages.loc['2011-05-18':].query('fever | cough').copy()\n",
        "#FeverCough['time'] = FeverCough.Created_at.dt.time\n",
        "\n",
        "bounds = dict(east=Messages.longitude.max(), west=Messages.longitude.min(), north=Messages.latitude.max(), south=Messages.latitude.min())\n",
        "\n",
        "fig = px.scatter_mapbox(FeverCough, lat='latitude', lon='longitude')\n",
        "fig.update_mapboxes(bounds=bounds)\n",
        "fig.update_layout(mapbox_style='white-bg')\n",
        "fig.show()"
      ]
    },
    {
      "cell_type": "code",
      "execution_count": null,
      "metadata": {},
      "outputs": [],
      "source": [
        "import datetime\n",
        "origin = datetime.datetime(2011, 5, 18, 0, 0, 0)\n",
        "\n",
        "FeverCough['hours'] = (FeverCough.Created_at - origin).dt.days * 24 + (FeverCough.Created_at - origin).dt.seconds // 3600\n",
        "fig = px.scatter_mapbox(FeverCough, lat='latitude', lon='longitude', color='hours')\n",
        "fig.update_mapboxes(bounds=bounds)\n",
        "fig.update_layout(mapbox_style='white-bg')\n",
        "fig.show()"
      ]
    },
    {
      "cell_type": "code",
      "execution_count": null,
      "metadata": {},
      "outputs": [],
      "source": [
        "FeverCough18 = Messages.loc['2011-05-18 00:00:00':].query('fever | cough').copy()\n",
        "\n",
        "FeverCough18['hours'] = (FeverCough18.Created_at - origin).dt.seconds // 3600\n",
        "fig = px.scatter_mapbox(FeverCough18.iloc[::-1], lat='latitude', lon='longitude', color='hours')\n",
        "fig.update_mapboxes(bounds=bounds)\n",
        "fig.update_layout(mapbox_style='white-bg')\n",
        "fig.show()"
      ]
    },
    {
      "cell_type": "code",
      "execution_count": null,
      "metadata": {},
      "outputs": [],
      "source": [
        "def show_map(symptoms, start='2011-05-18 00:00:00', end='2011-05-20 23:59:59'):\n",
        "    origin = datetime.datetime(2011, 5, 18, 0, 0, 0)\n",
        "\n",
        "    symptoms = ' | '.join(symptoms)\n",
        "    messages = Messages.loc[start:end].query(symptoms).copy()\n",
        "\n",
        "    messages['hours'] = (messages.Created_at - origin).dt.days * 24 + (messages.Created_at - origin).dt.seconds // 3600\n",
        "    fig = px.scatter_mapbox(messages.iloc[::-1], lat='latitude', lon='longitude', color='hours',\n",
        "                            hover_name='ID', hover_data=['ID', 'text', 'hours'])\n",
        "    print(fig.data[0].hovertemplate)\n",
        "    fig.update_traces(hovertemplate='Hour %{customdata[2]} (ID: %{customdata[0]}):<br>%{customdata[1]}')\n",
        "    fig.update_mapboxes(bounds=bounds)\n",
        "    fig.update_layout(mapbox_style='white-bg')\n",
        "    fig.show()"
      ]
    },
    {
      "cell_type": "code",
      "execution_count": null,
      "metadata": {},
      "outputs": [],
      "source": [
        "show_map(['fever', 'cough'], end='2011-05-18 09:00:00')"
      ]
    },
    {
      "cell_type": "code",
      "execution_count": null,
      "metadata": {},
      "outputs": [],
      "source": [
        "show_map(['vomit'])"
      ]
    },
    {
      "cell_type": "code",
      "execution_count": null,
      "metadata": {},
      "outputs": [],
      "source": [
        "def animate_map(symptoms, start='2011-05-18 00:00:00', end='2011-05-20 23:59:59'):\n",
        "    origin = datetime.datetime(2011, 5, 18, 0, 0, 0)\n",
        "\n",
        "    symptoms = ' | '.join(symptoms)\n",
        "    messages = Messages.loc[start:end].query(symptoms).copy()\n",
        "\n",
        "    messages['hours'] = (messages.Created_at - origin).dt.days * 24 + (messages.Created_at - origin).dt.seconds // 3600\n",
        "    fig = px.scatter_mapbox(messages, lat='latitude', lon='longitude', #color='hours',\n",
        "                            hover_name='ID', hover_data=['text', 'Created_at'],\n",
        "                            animation_frame='hours')\n",
        "    fig.update_mapboxes(bounds=bounds)\n",
        "    fig.update_layout(mapbox_style='white-bg')\n",
        "    # Adjustment of animation speed\n",
        "    duration = 2000\n",
        "    fig.layout.updatemenus[0].buttons[0].args[1]['frame']['duration'] = duration\n",
        "    fig.layout.updatemenus[0].buttons[0].args[1]['transition']['duration'] = duration\n",
        "    fig.show()"
      ]
    },
    {
      "cell_type": "code",
      "execution_count": null,
      "metadata": {},
      "outputs": [],
      "source": [
        "animate_map(['fever', 'cough'], end='2011-05-18 12:00:00')"
      ]
    },
    {
      "cell_type": "markdown",
      "metadata": {},
      "source": [
        "Plotly mapbox layer not displaying image\n",
        "\n",
        "https://stackoverflow.com/questions/78166289/plotly-mapbox-layer-not-displaying-image"
      ]
    },
    {
      "cell_type": "code",
      "execution_count": null,
      "metadata": {},
      "outputs": [],
      "source": [
        "animate_map(['vomit'], start='2011-05-19 18:00')"
      ]
    },
    {
      "cell_type": "code",
      "execution_count": null,
      "metadata": {},
      "outputs": [],
      "source": []
    }
  ],
  "metadata": {
    "colab": {
      "private_outputs": true,
      "provenance": []
    },
    "kernelspec": {
      "display_name": "Python 3",
      "name": "python3"
    },
    "language_info": {
      "codemirror_mode": {
        "name": "ipython",
        "version": 3
      },
      "file_extension": ".py",
      "mimetype": "text/x-python",
      "name": "python",
      "nbconvert_exporter": "python",
      "pygments_lexer": "ipython3",
      "version": "3.11.9"
    }
  },
  "nbformat": 4,
  "nbformat_minor": 0
}
